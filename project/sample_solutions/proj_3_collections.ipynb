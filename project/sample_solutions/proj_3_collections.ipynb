{
 "cells": [
  {
   "cell_type": "markdown",
   "id": "c4ce8d5d",
   "metadata": {},
   "source": [
    "# Survey analysis\n",
    "Analyse the results from the [languages survey](https://forms.gle/5b3mZRVcgAsoNG1FA)"
   ]
  },
  {
   "cell_type": "code",
   "execution_count": 1,
   "id": "dbdcda8a",
   "metadata": {},
   "outputs": [],
   "source": [
    "all_langs = ['Python', 'Java', 'JavaScript', 'TypeScript', 'PHP', 'SQL', 'C', 'C++', 'C#',\n",
    "             'Ruby', 'R', 'Matlab', 'Go', 'Rust', 'Objective-C', 'Swift', 'Visual Basic',\n",
    "             'Perl', 'Cobol', 'Fortran', 'Lisp', 'Assembly', 'Kotlin', 'Dart', 'Scala',\n",
    "             'Lua', 'Delphi', 'Haskell', 'Julia', 'Clojure', 'Elixir', 'Pascal']"
   ]
  },
  {
   "cell_type": "markdown",
   "id": "4cd6ff36",
   "metadata": {},
   "source": [
    "## Load data"
   ]
  },
  {
   "cell_type": "code",
   "execution_count": 2,
   "id": "3777a962",
   "metadata": {
    "lines_to_end_of_cell_marker": 2
   },
   "outputs": [
    {
     "name": "stdout",
     "output_type": "stream",
     "text": [
      "22\n"
     ]
    }
   ],
   "source": [
    "import csv\n",
    "from pprint import pprint\n",
    "from collections import Counter\n",
    "\n",
    "langs_known_counter = Counter()\n",
    "num_responses = 0\n",
    "with open('../data/Survey-2024-Mar.csv') as file:\n",
    "    file.readline()  # Ignore first line (header)\n",
    "    reader = csv.DictReader(file, fieldnames=('timestamp', 'languages', 'years'))  # list of dicts with keys passed into fieldnames\n",
    "    for line in reader:\n",
    "        langs_known_counter.update(line['languages'].split(';'))\n",
    "        num_responses += 1\n",
    "\n",
    "print(num_responses)\n",
    "print(langs_known_counter)"
   ]
  },
  {
   "cell_type": "markdown",
   "id": "359f16df",
   "metadata": {},
   "source": [
    "## Find number of languages known\n",
    "Print `\"{# known by class} / {# in list} languages known by this class (as %)\"`.\n",
    "\n",
    "E.g. **12/21 languages known by this class (57%)**"
   ]
  },
  {
   "cell_type": "code",
   "execution_count": 3,
   "id": "e6f6ac48",
   "metadata": {},
   "outputs": [
    {
     "name": "stdout",
     "output_type": "stream",
     "text": [
      "25 / 32 languages known by this class (78%)\n"
     ]
    }
   ],
   "source": [
    "languages_known = langs_known_counter.keys()\n",
    "\n",
    "num_known = len(languages_known)\n",
    "num_all = len(all_langs)\n",
    "print(f\"{num_known} / {num_all} languages known by this class ({round(num_known / num_all * 100)}%)\")"
   ]
  },
  {
   "cell_type": "markdown",
   "id": "1337ca41",
   "metadata": {},
   "source": [
    "## List languages not known by anyone in the class"
   ]
  },
  {
   "cell_type": "code",
   "execution_count": 4,
   "id": "33f65e70",
   "metadata": {},
   "outputs": [
    {
     "name": "stdout",
     "output_type": "stream",
     "text": [
      "{'Julia', 'Rust', 'Dart', 'Swift', 'Kotlin', 'Delphi', 'Clojure'}\n"
     ]
    }
   ],
   "source": [
    "not_known = set(all_langs) - languages_known\n",
    "for lang in sorted(not_known):\n",
    "    print(lang)"
   ]
  },
  {
   "cell_type": "markdown",
   "id": "a503589b",
   "metadata": {},
   "source": [
    "## Rank languages by most commonly known\n",
    "Print each language as `\"{position}: {language} ({percent_known}%)\"`, in order from most to least known\n",
    "\n",
    "e.g. **1: Python (93%)**"
   ]
  },
  {
   "cell_type": "code",
   "execution_count": 5,
   "id": "5d8d72a7",
   "metadata": {},
   "outputs": [
    {
     "name": "stdout",
     "output_type": "stream",
     "text": [
      "[('Python', 18),\n",
      " ('Java', 10),\n",
      " ('SQL', 9),\n",
      " ('JavaScript', 8),\n",
      " ('C', 7),\n",
      " ('C++', 5),\n",
      " ('R', 4),\n",
      " ('Go', 4),\n",
      " ('Perl', 4),\n",
      " ('Matlab', 3),\n",
      " ('Lisp', 3),\n",
      " ('Assembly', 3),\n",
      " ('Fortran', 3),\n",
      " ('Ruby', 2),\n",
      " ('Visual Basic', 2),\n",
      " ('Lua', 2),\n",
      " ('Pascal', 2),\n",
      " ('C#', 2),\n",
      " ('Objective-C', 1),\n",
      " ('Elixir', 1),\n",
      " ('PHP', 1),\n",
      " ('TypeScript', 1),\n",
      " ('Haskell', 1),\n",
      " ('Scala', 1),\n",
      " ('Cobol', 1)]\n"
     ]
    }
   ],
   "source": [
    "for i, (lang, count) in enumerate(langs_known_counter.most_common()):\n",
    "    print(f\"{i + 1}: {lang} ({round(count / num_responses * 100)}%)\")"
   ]
  }
 ],
 "metadata": {
  "jupytext": {
   "cell_metadata_filter": "-all",
   "formats": "auto:light,ipynb",
   "main_language": "python",
   "notebook_metadata_filter": "-all"
  },
  "kernelspec": {
   "display_name": "Python 3 (ipykernel)",
   "language": "python",
   "name": "python3"
  },
  "language_info": {
   "codemirror_mode": {
    "name": "ipython",
    "version": 3
   },
   "file_extension": ".py",
   "mimetype": "text/x-python",
   "name": "python",
   "nbconvert_exporter": "python",
   "pygments_lexer": "ipython3",
   "version": "3.11.4"
  }
 },
 "nbformat": 4,
 "nbformat_minor": 5
}
