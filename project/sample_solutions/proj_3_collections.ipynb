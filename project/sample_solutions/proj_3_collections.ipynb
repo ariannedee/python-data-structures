{
 "cells": [
  {
   "cell_type": "markdown",
   "id": "57cb35c4",
   "metadata": {},
   "source": [
    "# Survey analysis\n",
    "Analyse the results from the [languages survey](https://forms.gle/5b3mZRVcgAsoNG1FA)"
   ]
  },
  {
   "cell_type": "code",
   "id": "beb28a4b",
   "metadata": {
    "ExecuteTime": {
     "end_time": "2025-10-21T18:11:28.298617Z",
     "start_time": "2025-10-21T18:11:28.294166Z"
    }
   },
   "source": [
    "all_langs = ['Python', 'Java', 'JavaScript', 'TypeScript', 'PHP', 'SQL', 'C', 'C++', 'C#',\n",
    "             'Ruby', 'R', 'Matlab', 'Go', 'Rust', 'Objective-C', 'Swift', 'Visual Basic',\n",
    "             'Perl', 'Cobol', 'Fortran', 'Lisp', 'Assembly', 'Kotlin', 'Dart', 'Scala',\n",
    "             'Lua', 'Delphi', 'Haskell', 'Julia', 'Clojure', 'Elixir', 'Pascal']"
   ],
   "outputs": [],
   "execution_count": 1
  },
  {
   "cell_type": "markdown",
   "id": "bcc1c3f1",
   "metadata": {},
   "source": [
    "## Load data"
   ]
  },
  {
   "cell_type": "code",
   "id": "44b83567",
   "metadata": {
    "ExecuteTime": {
     "end_time": "2025-10-21T20:10:32.375166Z",
     "start_time": "2025-10-21T20:10:32.371135Z"
    }
   },
   "source": [
    "import csv\n",
    "from collections import defaultdict\n",
    "from pprint import pprint\n",
    "\n",
    "lang_counts = defaultdict(int)\n",
    "num_responses = 0\n",
    "with open('data/Survey-2024-Jan.csv') as file:\n",
    "    file.readline()  # Ignore first line (header)\n",
    "    reader = csv.DictReader(file, fieldnames=('timestamp', 'languages', 'years'))  # list of dicts with keys passed into fieldnames\n",
    "    for response in reader:\n",
    "        num_responses += 1\n",
    "        for lang in response['languages'].split(';'):\n",
    "            lang_counts[lang] += 1\n",
    "\n",
    "pprint(lang_counts)\n",
    "print(num_responses)\n"
   ],
   "outputs": [
    {
     "name": "stdout",
     "output_type": "stream",
     "text": [
      "defaultdict(<class 'int'>,\n",
      "            {'Assembly': 2,\n",
      "             'C': 7,\n",
      "             'C#': 2,\n",
      "             'C++': 7,\n",
      "             'Cobol': 3,\n",
      "             'Dart': 1,\n",
      "             'Fortran': 3,\n",
      "             'Java': 13,\n",
      "             'JavaScript': 10,\n",
      "             'Kotlin': 1,\n",
      "             'Lisp': 1,\n",
      "             'Matlab': 1,\n",
      "             'Objective-C': 1,\n",
      "             'PHP': 2,\n",
      "             'Pascal': 2,\n",
      "             'Perl': 6,\n",
      "             'Python': 17,\n",
      "             'R': 3,\n",
      "             'Ruby': 3,\n",
      "             'Rust': 1,\n",
      "             'SQL': 12,\n",
      "             'Swift': 1,\n",
      "             'TypeScript': 2,\n",
      "             'Visual Basic': 4})\n",
      "25\n"
     ]
    }
   ],
   "execution_count": 31
  },
  {
   "cell_type": "markdown",
   "id": "b7ecbf4b",
   "metadata": {},
   "source": [
    "## Find number of languages known\n",
    "Print `\"{# known by class} / {# in list} languages known by this class\"`.\n",
    "\n",
    "E.g. **12/21 languages known by this class**"
   ]
  },
  {
   "cell_type": "code",
   "id": "535c48b5",
   "metadata": {
    "ExecuteTime": {
     "end_time": "2025-10-21T20:11:36.347991Z",
     "start_time": "2025-10-21T20:11:36.342435Z"
    }
   },
   "source": [
    "langs_known = set(lang_counts.keys())\n",
    "\n",
    "print(f\"{len(langs_known)} / {len(all_langs)} languages known by this class\")"
   ],
   "outputs": [
    {
     "name": "stdout",
     "output_type": "stream",
     "text": [
      "24 / 32 languages known by this class\n"
     ]
    }
   ],
   "execution_count": 32
  },
  {
   "cell_type": "markdown",
   "id": "8854f96e",
   "metadata": {},
   "source": [
    "## List languages not known by anyone in the class"
   ]
  },
  {
   "cell_type": "code",
   "id": "88f7d084",
   "metadata": {
    "ExecuteTime": {
     "end_time": "2025-10-21T20:12:09.527552Z",
     "start_time": "2025-10-21T20:12:09.503913Z"
    }
   },
   "source": [
    "not_known = set(all_langs) - langs_known\n",
    "\n",
    "print(sorted(not_known))\n",
    "print(len(not_known))"
   ],
   "outputs": [
    {
     "name": "stdout",
     "output_type": "stream",
     "text": [
      "['Clojure', 'Delphi', 'Elixir', 'Go', 'Haskell', 'Julia', 'Lua', 'Scala']\n",
      "8\n"
     ]
    }
   ],
   "execution_count": 33
  },
  {
   "cell_type": "markdown",
   "id": "4e6d082d",
   "metadata": {},
   "source": [
    "## Rank languages by most commonly known\n",
    "Print each language as `\"{position}: {language} ({percent_known}%)\"`, in order from most to least known\n",
    "\n",
    "e.g. **1: Python (93%)**"
   ]
  },
  {
   "cell_type": "code",
   "id": "b4f73f17",
   "metadata": {
    "ExecuteTime": {
     "end_time": "2025-10-21T20:13:08.070623Z",
     "start_time": "2025-10-21T20:13:08.056837Z"
    }
   },
   "source": [
    "from collections import Counter\n",
    "\n",
    "langs_counter = Counter(lang_counts)\n",
    "langs_counter"
   ],
   "outputs": [
    {
     "data": {
      "text/plain": [
       "Counter({'Python': 17,\n",
       "         'Java': 13,\n",
       "         'SQL': 12,\n",
       "         'JavaScript': 10,\n",
       "         'C': 7,\n",
       "         'C++': 7,\n",
       "         'Perl': 6,\n",
       "         'Visual Basic': 4,\n",
       "         'Cobol': 3,\n",
       "         'Fortran': 3,\n",
       "         'Ruby': 3,\n",
       "         'R': 3,\n",
       "         'Assembly': 2,\n",
       "         'Pascal': 2,\n",
       "         'TypeScript': 2,\n",
       "         'PHP': 2,\n",
       "         'C#': 2,\n",
       "         'Objective-C': 1,\n",
       "         'Swift': 1,\n",
       "         'Kotlin': 1,\n",
       "         'Dart': 1,\n",
       "         'Matlab': 1,\n",
       "         'Lisp': 1,\n",
       "         'Rust': 1})"
      ]
     },
     "execution_count": 34,
     "metadata": {},
     "output_type": "execute_result"
    }
   ],
   "execution_count": 34
  },
  {
   "metadata": {
    "ExecuteTime": {
     "end_time": "2025-10-21T20:13:46.879737Z",
     "start_time": "2025-10-21T20:13:46.874456Z"
    }
   },
   "cell_type": "code",
   "source": [
    "for pos, (lang, count) in enumerate(langs_counter.most_common(), start=1):\n",
    "    print(f\"{pos}: {lang} ({round(count / num_responses * 100)}%)\")"
   ],
   "id": "41d9a88cc48569e8",
   "outputs": [
    {
     "name": "stdout",
     "output_type": "stream",
     "text": [
      "1: Python (68%)\n",
      "2: Java (52%)\n",
      "3: SQL (48%)\n",
      "4: JavaScript (40%)\n",
      "5: C (28%)\n",
      "6: C++ (28%)\n",
      "7: Perl (24%)\n",
      "8: Visual Basic (16%)\n",
      "9: Cobol (12%)\n",
      "10: Fortran (12%)\n",
      "11: Ruby (12%)\n",
      "12: R (12%)\n",
      "13: Assembly (8%)\n",
      "14: Pascal (8%)\n",
      "15: TypeScript (8%)\n",
      "16: PHP (8%)\n",
      "17: C# (8%)\n",
      "18: Objective-C (4%)\n",
      "19: Swift (4%)\n",
      "20: Kotlin (4%)\n",
      "21: Dart (4%)\n",
      "22: Matlab (4%)\n",
      "23: Lisp (4%)\n",
      "24: Rust (4%)\n"
     ]
    }
   ],
   "execution_count": 35
  }
 ],
 "metadata": {
  "jupytext": {
   "cell_metadata_filter": "-all",
   "formats": "auto:light,ipynb",
   "main_language": "python",
   "notebook_metadata_filter": "-all"
  },
  "kernelspec": {
   "display_name": "Python 3 (ipykernel)",
   "language": "python",
   "name": "python3"
  },
  "language_info": {
   "codemirror_mode": {
    "name": "ipython",
    "version": 3
   },
   "file_extension": ".py",
   "mimetype": "text/x-python",
   "name": "python",
   "nbconvert_exporter": "python",
   "pygments_lexer": "ipython3",
   "version": "3.11.4"
  }
 },
 "nbformat": 4,
 "nbformat_minor": 5
}
