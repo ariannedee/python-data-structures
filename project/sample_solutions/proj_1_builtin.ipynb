{
 "cells": [
  {
   "cell_type": "markdown",
   "id": "57cb35c4",
   "metadata": {},
   "source": [
    "# Survey analysis\n",
    "Analyse the results from the [languages survey](https://forms.gle/5b3mZRVcgAsoNG1FA)"
   ]
  },
  {
   "cell_type": "code",
   "id": "beb28a4b",
   "metadata": {
    "ExecuteTime": {
     "end_time": "2025-06-09T18:13:43.546524Z",
     "start_time": "2025-06-09T18:13:43.542724Z"
    }
   },
   "source": [
    "all_langs = ['Python', 'Java', 'JavaScript', 'TypeScript', 'PHP', 'SQL', 'C', 'C++', 'C#',\n",
    "             'Ruby', 'R', 'Matlab', 'Go', 'Rust', 'Objective-C', 'Swift', 'Visual Basic',\n",
    "             'Perl', 'Cobol', 'Fortran', 'Lisp', 'Assembly', 'Kotlin', 'Dart', 'Scala',\n",
    "             'Lua', 'Delphi', 'Haskell', 'Julia', 'Clojure', 'Elixir', 'Pascal']"
   ],
   "outputs": [],
   "execution_count": 1
  },
  {
   "cell_type": "markdown",
   "id": "bcc1c3f1",
   "metadata": {},
   "source": [
    "## Load data"
   ]
  },
  {
   "cell_type": "code",
   "id": "44b83567",
   "metadata": {
    "ExecuteTime": {
     "end_time": "2025-06-09T18:13:43.588528Z",
     "start_time": "2025-06-09T18:13:43.585898Z"
    }
   },
   "source": [
    "import csv\n",
    "from pprint import pprint\n",
    "\n",
    "responses: list[list[str]] = []\n",
    "\n",
    "with open('../data/Survey-2024-Jul.csv') as file:\n",
    "    file.readline()  # Ignore first line (header)\n",
    "    reader = csv.DictReader(file, fieldnames=('timestamp', 'languages', 'years'))\n",
    "    # list of dicts with keys passed into fieldnames\n",
    "    for response in reader:\n",
    "        langs = response['languages'].split(';')\n",
    "        responses.append(langs)\n",
    "\n",
    "print(len(responses))"
   ],
   "outputs": [
    {
     "name": "stdout",
     "output_type": "stream",
     "text": [
      "22\n"
     ]
    }
   ],
   "execution_count": 2
  },
  {
   "cell_type": "markdown",
   "id": "b7ecbf4b",
   "metadata": {},
   "source": [
    "## Find number of languages known\n",
    "Print `\"{# known by class} / {# in list} languages known by this class (as %)\"`.\n",
    "\n",
    "E.g. **12/21 languages known by this class (57%)**"
   ]
  },
  {
   "cell_type": "code",
   "id": "535c48b5",
   "metadata": {
    "ExecuteTime": {
     "end_time": "2025-06-09T18:13:43.598973Z",
     "start_time": "2025-06-09T18:13:43.596699Z"
    }
   },
   "source": [
    "langs_known = set()\n",
    "for response in responses:\n",
    "    langs_known.update(response)\n",
    "\n",
    "print(f\"{len(langs_known)} / {len(all_langs)} languages known by this class (\"\n",
    "      f\"{round(len(langs_known) / len(all_langs) * 100)}%)\")\n"
   ],
   "outputs": [
    {
     "name": "stdout",
     "output_type": "stream",
     "text": [
      "25 / 32 languages known by this class (78%)\n"
     ]
    }
   ],
   "execution_count": 3
  },
  {
   "cell_type": "markdown",
   "id": "8854f96e",
   "metadata": {},
   "source": [
    "## List languages not known by anyone in the class"
   ]
  },
  {
   "cell_type": "code",
   "id": "88f7d084",
   "metadata": {
    "ExecuteTime": {
     "end_time": "2025-06-09T18:13:43.610416Z",
     "start_time": "2025-06-09T18:13:43.607269Z"
    }
   },
   "source": [
    "not_known = set(all_langs) - langs_known\n",
    "not_known"
   ],
   "outputs": [
    {
     "data": {
      "text/plain": [
       "{'Clojure', 'Dart', 'Delphi', 'Julia', 'Kotlin', 'Rust', 'Swift'}"
      ]
     },
     "execution_count": 4,
     "metadata": {},
     "output_type": "execute_result"
    }
   ],
   "execution_count": 4
  },
  {
   "cell_type": "markdown",
   "id": "4e6d082d",
   "metadata": {},
   "source": [
    "## Rank languages by most commonly known\n",
    "Print each language as `\"{position}: {language} ({percent_known}%)\"`, in order from most to least known\n",
    "\n",
    "e.g. **1: Python (93%)**"
   ]
  },
  {
   "cell_type": "code",
   "id": "b4f73f17",
   "metadata": {
    "ExecuteTime": {
     "end_time": "2025-06-09T18:13:43.621613Z",
     "start_time": "2025-06-09T18:13:43.619372Z"
    }
   },
   "source": [
    "lang_counts: dict[str, int] = dict(zip(all_langs, [0] * len(all_langs)))\n",
    "\n",
    "for response in responses:\n",
    "    for lang in response:\n",
    "        lang_counts[lang] += 1\n",
    "\n",
    "pprint(lang_counts)"
   ],
   "outputs": [
    {
     "name": "stdout",
     "output_type": "stream",
     "text": [
      "{'Assembly': 3,\n",
      " 'C': 7,\n",
      " 'C#': 2,\n",
      " 'C++': 5,\n",
      " 'Clojure': 0,\n",
      " 'Cobol': 1,\n",
      " 'Dart': 0,\n",
      " 'Delphi': 0,\n",
      " 'Elixir': 1,\n",
      " 'Fortran': 3,\n",
      " 'Go': 4,\n",
      " 'Haskell': 1,\n",
      " 'Java': 10,\n",
      " 'JavaScript': 8,\n",
      " 'Julia': 0,\n",
      " 'Kotlin': 0,\n",
      " 'Lisp': 3,\n",
      " 'Lua': 2,\n",
      " 'Matlab': 3,\n",
      " 'Objective-C': 1,\n",
      " 'PHP': 1,\n",
      " 'Pascal': 2,\n",
      " 'Perl': 4,\n",
      " 'Python': 18,\n",
      " 'R': 4,\n",
      " 'Ruby': 2,\n",
      " 'Rust': 0,\n",
      " 'SQL': 9,\n",
      " 'Scala': 1,\n",
      " 'Swift': 0,\n",
      " 'TypeScript': 1,\n",
      " 'Visual Basic': 2}\n"
     ]
    }
   ],
   "execution_count": 5
  },
  {
   "metadata": {
    "ExecuteTime": {
     "end_time": "2025-06-09T18:13:43.630253Z",
     "start_time": "2025-06-09T18:13:43.628203Z"
    }
   },
   "cell_type": "code",
   "source": [
    "num_responses = len(responses)\n",
    "lang_counts_list = list(lang_counts.items())\n",
    "for pos, (lang, count)in enumerate(sorted(lang_counts_list, key=lambda t: t[1], reverse=True), start=1):\n",
    "    print(f\"{pos}: {lang} ({round(count / num_responses * 100)}%)\")"
   ],
   "id": "ee23f68b2b0fb876",
   "outputs": [
    {
     "name": "stdout",
     "output_type": "stream",
     "text": [
      "1: Python (82%)\n",
      "2: Java (45%)\n",
      "3: SQL (41%)\n",
      "4: JavaScript (36%)\n",
      "5: C (32%)\n",
      "6: C++ (23%)\n",
      "7: R (18%)\n",
      "8: Go (18%)\n",
      "9: Perl (18%)\n",
      "10: Matlab (14%)\n",
      "11: Fortran (14%)\n",
      "12: Lisp (14%)\n",
      "13: Assembly (14%)\n",
      "14: C# (9%)\n",
      "15: Ruby (9%)\n",
      "16: Visual Basic (9%)\n",
      "17: Lua (9%)\n",
      "18: Pascal (9%)\n",
      "19: TypeScript (5%)\n",
      "20: PHP (5%)\n",
      "21: Objective-C (5%)\n",
      "22: Cobol (5%)\n",
      "23: Scala (5%)\n",
      "24: Haskell (5%)\n",
      "25: Elixir (5%)\n",
      "26: Rust (0%)\n",
      "27: Swift (0%)\n",
      "28: Kotlin (0%)\n",
      "29: Dart (0%)\n",
      "30: Delphi (0%)\n",
      "31: Julia (0%)\n",
      "32: Clojure (0%)\n"
     ]
    }
   ],
   "execution_count": 6
  },
  {
   "metadata": {
    "ExecuteTime": {
     "end_time": "2025-06-09T18:13:43.641108Z",
     "start_time": "2025-06-09T18:13:43.639934Z"
    }
   },
   "cell_type": "code",
   "source": "",
   "id": "5ac928475aeeb465",
   "outputs": [],
   "execution_count": null
  }
 ],
 "metadata": {
  "jupytext": {
   "cell_metadata_filter": "-all",
   "formats": "auto:light,ipynb",
   "main_language": "python",
   "notebook_metadata_filter": "-all"
  },
  "kernelspec": {
   "display_name": "Python 3 (ipykernel)",
   "language": "python",
   "name": "python3"
  },
  "language_info": {
   "codemirror_mode": {
    "name": "ipython",
    "version": 3
   },
   "file_extension": ".py",
   "mimetype": "text/x-python",
   "name": "python",
   "nbconvert_exporter": "python",
   "pygments_lexer": "ipython3",
   "version": "3.11.4"
  }
 },
 "nbformat": 4,
 "nbformat_minor": 5
}
