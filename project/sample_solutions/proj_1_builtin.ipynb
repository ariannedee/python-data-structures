{
 "cells": [
  {
   "cell_type": "markdown",
   "id": "57cb35c4",
   "metadata": {},
   "source": [
    "# Survey analysis\n",
    "Analyse the results from the [languages survey](https://forms.gle/5b3mZRVcgAsoNG1FA)"
   ]
  },
  {
   "cell_type": "code",
   "id": "beb28a4b",
   "metadata": {
    "ExecuteTime": {
     "end_time": "2025-10-21T18:11:28.298617Z",
     "start_time": "2025-10-21T18:11:28.294166Z"
    }
   },
   "source": [
    "all_langs = ['Python', 'Java', 'JavaScript', 'TypeScript', 'PHP', 'SQL', 'C', 'C++', 'C#',\n",
    "             'Ruby', 'R', 'Matlab', 'Go', 'Rust', 'Objective-C', 'Swift', 'Visual Basic',\n",
    "             'Perl', 'Cobol', 'Fortran', 'Lisp', 'Assembly', 'Kotlin', 'Dart', 'Scala',\n",
    "             'Lua', 'Delphi', 'Haskell', 'Julia', 'Clojure', 'Elixir', 'Pascal']"
   ],
   "outputs": [],
   "execution_count": 1
  },
  {
   "cell_type": "markdown",
   "id": "bcc1c3f1",
   "metadata": {},
   "source": [
    "## Load data"
   ]
  },
  {
   "cell_type": "code",
   "id": "44b83567",
   "metadata": {
    "ExecuteTime": {
     "end_time": "2025-10-21T18:11:28.309222Z",
     "start_time": "2025-10-21T18:11:28.302711Z"
    }
   },
   "source": [
    "import csv\n",
    "from pprint import pprint\n",
    "\n",
    "lang_responses = []\n",
    "num_responses = 0\n",
    "with open('data/Survey-2024-Jan.csv') as file:\n",
    "    file.readline()  # Ignore first line (header)\n",
    "    reader = csv.DictReader(file, fieldnames=('timestamp', 'languages', 'years'))  # list of dicts with keys passed into fieldnames\n",
    "    for response in reader:\n",
    "        langs = response['languages'].split(';')\n",
    "        lang_responses += langs\n",
    "        num_responses += 1\n",
    "\n",
    "print(len(lang_responses))\n",
    "print(num_responses)\n"
   ],
   "outputs": [
    {
     "name": "stdout",
     "output_type": "stream",
     "text": [
      "105\n",
      "25\n"
     ]
    }
   ],
   "execution_count": 2
  },
  {
   "cell_type": "markdown",
   "id": "b7ecbf4b",
   "metadata": {},
   "source": [
    "## Find number of languages known\n",
    "Print `\"{# known by class} / {# in list} languages known by this class\"`.\n",
    "\n",
    "E.g. **12/21 languages known by this class**"
   ]
  },
  {
   "cell_type": "code",
   "id": "535c48b5",
   "metadata": {
    "ExecuteTime": {
     "end_time": "2025-10-21T18:11:28.317876Z",
     "start_time": "2025-10-21T18:11:28.315811Z"
    }
   },
   "source": [
    "langs_known = set(lang_responses)\n",
    "\n",
    "print(f\"{len(langs_known)} / {len(all_langs)} languages known by this class\")"
   ],
   "outputs": [
    {
     "name": "stdout",
     "output_type": "stream",
     "text": [
      "24 / 32 languages known by this class\n"
     ]
    }
   ],
   "execution_count": 3
  },
  {
   "cell_type": "markdown",
   "id": "8854f96e",
   "metadata": {},
   "source": [
    "## List languages not known by anyone in the class"
   ]
  },
  {
   "cell_type": "code",
   "id": "88f7d084",
   "metadata": {
    "ExecuteTime": {
     "end_time": "2025-10-21T18:11:28.324325Z",
     "start_time": "2025-10-21T18:11:28.322226Z"
    }
   },
   "source": [
    "not_known = set(all_langs) - langs_known\n",
    "\n",
    "print(sorted(not_known))\n",
    "print(len(not_known))"
   ],
   "outputs": [
    {
     "name": "stdout",
     "output_type": "stream",
     "text": [
      "['Clojure', 'Delphi', 'Elixir', 'Go', 'Haskell', 'Julia', 'Lua', 'Scala']\n",
      "8\n"
     ]
    }
   ],
   "execution_count": 4
  },
  {
   "cell_type": "markdown",
   "id": "4e6d082d",
   "metadata": {},
   "source": [
    "## Rank languages by most commonly known\n",
    "Print each language as `\"{position}: {language} ({percent_known}%)\"`, in order from most to least known\n",
    "\n",
    "e.g. **1: Python (93%)**"
   ]
  },
  {
   "cell_type": "code",
   "id": "b4f73f17",
   "metadata": {
    "ExecuteTime": {
     "end_time": "2025-10-21T18:11:28.333715Z",
     "start_time": "2025-10-21T18:11:28.329733Z"
    }
   },
   "source": [
    "lang_counts = {}\n",
    "\n",
    "for lang in sorted(all_langs):\n",
    "    lang_counts[lang] = 0\n",
    "\n",
    "lang_counts"
   ],
   "outputs": [
    {
     "data": {
      "text/plain": [
       "{'Assembly': 0,\n",
       " 'C': 0,\n",
       " 'C#': 0,\n",
       " 'C++': 0,\n",
       " 'Clojure': 0,\n",
       " 'Cobol': 0,\n",
       " 'Dart': 0,\n",
       " 'Delphi': 0,\n",
       " 'Elixir': 0,\n",
       " 'Fortran': 0,\n",
       " 'Go': 0,\n",
       " 'Haskell': 0,\n",
       " 'Java': 0,\n",
       " 'JavaScript': 0,\n",
       " 'Julia': 0,\n",
       " 'Kotlin': 0,\n",
       " 'Lisp': 0,\n",
       " 'Lua': 0,\n",
       " 'Matlab': 0,\n",
       " 'Objective-C': 0,\n",
       " 'PHP': 0,\n",
       " 'Pascal': 0,\n",
       " 'Perl': 0,\n",
       " 'Python': 0,\n",
       " 'R': 0,\n",
       " 'Ruby': 0,\n",
       " 'Rust': 0,\n",
       " 'SQL': 0,\n",
       " 'Scala': 0,\n",
       " 'Swift': 0,\n",
       " 'TypeScript': 0,\n",
       " 'Visual Basic': 0}"
      ]
     },
     "execution_count": 5,
     "metadata": {},
     "output_type": "execute_result"
    }
   ],
   "execution_count": 5
  },
  {
   "metadata": {
    "ExecuteTime": {
     "end_time": "2025-10-21T18:11:28.342994Z",
     "start_time": "2025-10-21T18:11:28.339753Z"
    }
   },
   "cell_type": "code",
   "source": [
    "for lang in lang_responses:\n",
    "    lang_counts[lang] += 1\n",
    "\n",
    "lang_counts"
   ],
   "id": "2e8e877a8c4e61ea",
   "outputs": [
    {
     "data": {
      "text/plain": [
       "{'Assembly': 2,\n",
       " 'C': 7,\n",
       " 'C#': 2,\n",
       " 'C++': 7,\n",
       " 'Clojure': 0,\n",
       " 'Cobol': 3,\n",
       " 'Dart': 1,\n",
       " 'Delphi': 0,\n",
       " 'Elixir': 0,\n",
       " 'Fortran': 3,\n",
       " 'Go': 0,\n",
       " 'Haskell': 0,\n",
       " 'Java': 13,\n",
       " 'JavaScript': 10,\n",
       " 'Julia': 0,\n",
       " 'Kotlin': 1,\n",
       " 'Lisp': 1,\n",
       " 'Lua': 0,\n",
       " 'Matlab': 1,\n",
       " 'Objective-C': 1,\n",
       " 'PHP': 2,\n",
       " 'Pascal': 2,\n",
       " 'Perl': 6,\n",
       " 'Python': 17,\n",
       " 'R': 3,\n",
       " 'Ruby': 3,\n",
       " 'Rust': 1,\n",
       " 'SQL': 12,\n",
       " 'Scala': 0,\n",
       " 'Swift': 1,\n",
       " 'TypeScript': 2,\n",
       " 'Visual Basic': 4}"
      ]
     },
     "execution_count": 6,
     "metadata": {},
     "output_type": "execute_result"
    }
   ],
   "execution_count": 6
  },
  {
   "metadata": {
    "ExecuteTime": {
     "end_time": "2025-10-21T18:11:28.348919Z",
     "start_time": "2025-10-21T18:11:28.346373Z"
    }
   },
   "cell_type": "code",
   "source": [
    "lang_counts_list = list(lang_counts.items())\n",
    "lang_counts_list.sort(key=lambda l_c: -l_c[1])"
   ],
   "id": "ea5fa98a99766edd",
   "outputs": [],
   "execution_count": 7
  },
  {
   "metadata": {
    "ExecuteTime": {
     "end_time": "2025-10-21T18:11:28.354914Z",
     "start_time": "2025-10-21T18:11:28.352803Z"
    }
   },
   "cell_type": "code",
   "source": [
    "for pos, (lang, count) in enumerate(lang_counts_list, start=1):\n",
    "    print(f\"{pos}: {lang} ({round(count / num_responses * 100)}%)\")"
   ],
   "id": "41d9a88cc48569e8",
   "outputs": [
    {
     "name": "stdout",
     "output_type": "stream",
     "text": [
      "1: Python (68%)\n",
      "2: Java (52%)\n",
      "3: SQL (48%)\n",
      "4: JavaScript (40%)\n",
      "5: C (28%)\n",
      "6: C++ (28%)\n",
      "7: Perl (24%)\n",
      "8: Visual Basic (16%)\n",
      "9: Cobol (12%)\n",
      "10: Fortran (12%)\n",
      "11: R (12%)\n",
      "12: Ruby (12%)\n",
      "13: Assembly (8%)\n",
      "14: C# (8%)\n",
      "15: PHP (8%)\n",
      "16: Pascal (8%)\n",
      "17: TypeScript (8%)\n",
      "18: Dart (4%)\n",
      "19: Kotlin (4%)\n",
      "20: Lisp (4%)\n",
      "21: Matlab (4%)\n",
      "22: Objective-C (4%)\n",
      "23: Rust (4%)\n",
      "24: Swift (4%)\n",
      "25: Clojure (0%)\n",
      "26: Delphi (0%)\n",
      "27: Elixir (0%)\n",
      "28: Go (0%)\n",
      "29: Haskell (0%)\n",
      "30: Julia (0%)\n",
      "31: Lua (0%)\n",
      "32: Scala (0%)\n"
     ]
    }
   ],
   "execution_count": 8
  },
  {
   "metadata": {
    "ExecuteTime": {
     "end_time": "2025-10-21T18:11:28.359329Z",
     "start_time": "2025-10-21T18:11:28.358154Z"
    }
   },
   "cell_type": "code",
   "source": "",
   "id": "6fdc86a969c058eb",
   "outputs": [],
   "execution_count": null
  }
 ],
 "metadata": {
  "jupytext": {
   "cell_metadata_filter": "-all",
   "formats": "auto:light,ipynb",
   "main_language": "python",
   "notebook_metadata_filter": "-all"
  },
  "kernelspec": {
   "display_name": "Python 3 (ipykernel)",
   "language": "python",
   "name": "python3"
  },
  "language_info": {
   "codemirror_mode": {
    "name": "ipython",
    "version": 3
   },
   "file_extension": ".py",
   "mimetype": "text/x-python",
   "name": "python",
   "nbconvert_exporter": "python",
   "pygments_lexer": "ipython3",
   "version": "3.11.4"
  }
 },
 "nbformat": 4,
 "nbformat_minor": 5
}
