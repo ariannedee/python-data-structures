{
 "cells": [
  {
   "cell_type": "markdown",
   "id": "57cb35c4",
   "metadata": {},
   "source": [
    "# Survey analysis\n",
    "Analyse the results from the [languages survey](https://forms.gle/5b3mZRVcgAsoNG1FA)"
   ]
  },
  {
   "cell_type": "code",
   "id": "beb28a4b",
   "metadata": {
    "ExecuteTime": {
     "end_time": "2025-08-15T18:08:06.734834Z",
     "start_time": "2025-08-15T18:08:06.731347Z"
    }
   },
   "source": [
    "all_langs = ['Python', 'Java', 'JavaScript', 'TypeScript', 'PHP', 'SQL', 'C', 'C++', 'C#',\n",
    "             'Ruby', 'R', 'Matlab', 'Go', 'Rust', 'Objective-C', 'Swift', 'Visual Basic',\n",
    "             'Perl', 'Cobol', 'Fortran', 'Lisp', 'Assembly', 'Kotlin', 'Dart', 'Scala',\n",
    "             'Lua', 'Delphi', 'Haskell', 'Julia', 'Clojure', 'Elixir', 'Pascal']"
   ],
   "outputs": [],
   "execution_count": 1
  },
  {
   "cell_type": "markdown",
   "id": "bcc1c3f1",
   "metadata": {},
   "source": [
    "## Load data"
   ]
  },
  {
   "cell_type": "code",
   "id": "44b83567",
   "metadata": {
    "ExecuteTime": {
     "end_time": "2025-08-15T18:08:06.748239Z",
     "start_time": "2025-08-15T18:08:06.741125Z"
    }
   },
   "source": [
    "import csv\n",
    "from pprint import pprint\n",
    "\n",
    "responses: list[list[str]] = []\n",
    "\n",
    "with open('../data/Survey-data.csv') as file:\n",
    "    file.readline()  # Ignore first line (header)\n",
    "    reader = csv.DictReader(file, fieldnames=('timestamp', 'languages', 'years'))  # list of dicts with keys passed into fieldnames\n",
    "    for response in reader:\n",
    "        langs = response['languages'].split(';')\n",
    "        if '' in langs:\n",
    "            langs.remove('')\n",
    "        responses.append(langs)\n",
    "\n",
    "print(len(responses))\n",
    "num_responses = len(responses)\n",
    "responses"
   ],
   "outputs": [
    {
     "name": "stdout",
     "output_type": "stream",
     "text": [
      "49\n"
     ]
    },
    {
     "data": {
      "text/plain": [
       "[['Python', 'Java', 'JavaScript', 'SQL', 'C', 'Ruby', 'R', 'Objective-C'],\n",
       " ['Python', 'JavaScript', 'SQL', 'R', 'Visual Basic'],\n",
       " ['Python', 'JavaScript', 'C', 'C++', 'Matlab'],\n",
       " ['Python'],\n",
       " ['Java'],\n",
       " ['Python', 'SQL'],\n",
       " ['Python', 'Java', 'Go', 'Perl', 'Elixir'],\n",
       " ['Python', 'Matlab', 'Perl', 'Lisp', 'Assembly'],\n",
       " ['Python', 'JavaScript', 'PHP', 'SQL', 'Go'],\n",
       " ['Python', 'Java', 'JavaScript', 'TypeScript'],\n",
       " ['Python'],\n",
       " ['Python', 'C', 'C++', 'Matlab'],\n",
       " ['Python',\n",
       "  'Java',\n",
       "  'JavaScript',\n",
       "  'C',\n",
       "  'C++',\n",
       "  'Ruby',\n",
       "  'R',\n",
       "  'Go',\n",
       "  'Perl',\n",
       "  'Fortran',\n",
       "  'Lisp',\n",
       "  'Assembly',\n",
       "  'Lua',\n",
       "  'Haskell',\n",
       "  'Pascal'],\n",
       " ['Python', 'Java', 'C++', 'C#', 'Go', 'Perl', 'Fortran', 'Assembly', 'Scala'],\n",
       " ['Python',\n",
       "  'Java',\n",
       "  'SQL',\n",
       "  'C',\n",
       "  'C++',\n",
       "  'C#',\n",
       "  'Visual Basic',\n",
       "  'Fortran',\n",
       "  'Lisp',\n",
       "  'Pascal'],\n",
       " ['SQL', 'Cobol'],\n",
       " ['Python', 'SQL', 'R'],\n",
       " ['Python', 'Java', 'C', 'Lua'],\n",
       " ['SQL'],\n",
       " ['JavaScript'],\n",
       " ['Python', 'Java'],\n",
       " ['Python', 'Java', 'JavaScript', 'SQL', 'C'],\n",
       " ['Python', 'Java', 'JavaScript', 'SQL', 'Go'],\n",
       " [],\n",
       " ['Python'],\n",
       " ['Python', 'JavaScript', 'Ruby', 'Go'],\n",
       " ['Python', 'C', 'C++', 'Matlab', 'Perl', 'Lisp'],\n",
       " ['Python'],\n",
       " ['Python', 'Java', 'SQL', 'C', 'Cobol'],\n",
       " ['Python', 'Java', 'TypeScript', 'C++', 'R', 'Perl', 'Haskell', 'Pascal'],\n",
       " ['Python', 'Java', 'JavaScript', 'SQL'],\n",
       " ['Python', 'Java', 'JavaScript', 'TypeScript', 'PHP', 'SQL'],\n",
       " ['Python', 'Java', 'SQL'],\n",
       " ['Python', 'Perl'],\n",
       " ['SQL'],\n",
       " ['Python',\n",
       "  'Java',\n",
       "  'JavaScript',\n",
       "  'PHP',\n",
       "  'SQL',\n",
       "  'C++',\n",
       "  'C#',\n",
       "  'Ruby',\n",
       "  'R',\n",
       "  'Visual Basic'],\n",
       " ['Python', 'PHP', 'Visual Basic', 'Delphi', 'Pascal'],\n",
       " ['Python', 'Java', 'JavaScript', 'SQL', 'C', 'C++'],\n",
       " ['Python', 'C', 'Perl'],\n",
       " [],\n",
       " ['Python', 'Java', 'SQL', 'C', 'C++'],\n",
       " ['Python',\n",
       "  'Java',\n",
       "  'JavaScript',\n",
       "  'TypeScript',\n",
       "  'PHP',\n",
       "  'SQL',\n",
       "  'C',\n",
       "  'C++',\n",
       "  'C#',\n",
       "  'Visual Basic',\n",
       "  'Perl',\n",
       "  'Fortran',\n",
       "  'Pascal'],\n",
       " ['C', 'C#'],\n",
       " ['Python', 'JavaScript', 'SQL', 'C', 'C++', 'C#', 'Pascal'],\n",
       " ['Python', 'C', 'R', 'Visual Basic', 'Perl'],\n",
       " ['Python'],\n",
       " ['Python', 'PHP', 'SQL', 'C++', 'Perl'],\n",
       " ['Python'],\n",
       " ['SQL', 'C', 'C++']]"
      ]
     },
     "execution_count": 2,
     "metadata": {},
     "output_type": "execute_result"
    }
   ],
   "execution_count": 2
  },
  {
   "cell_type": "markdown",
   "id": "b7ecbf4b",
   "metadata": {},
   "source": [
    "## Find number of languages known\n",
    "Print `\"{# known by class} / {# in list} languages known by this class (as %)\"`.\n",
    "\n",
    "E.g. **12/21 languages known by this class (57%)**"
   ]
  },
  {
   "cell_type": "code",
   "id": "535c48b5",
   "metadata": {
    "ExecuteTime": {
     "end_time": "2025-08-15T18:08:06.761172Z",
     "start_time": "2025-08-15T18:08:06.759231Z"
    }
   },
   "source": [
    "langs_known = set()\n",
    "\n",
    "for response in responses:\n",
    "    langs_known.update(response)\n",
    "\n",
    "print(f\"{len(langs_known)} / {len(all_langs)} languages known by this class ({len(langs_known)/len(all_langs) * 100:.0f}%)\")"
   ],
   "outputs": [
    {
     "name": "stdout",
     "output_type": "stream",
     "text": [
      "26 / 32 languages known by this class (81%)\n"
     ]
    }
   ],
   "execution_count": 3
  },
  {
   "cell_type": "markdown",
   "id": "8854f96e",
   "metadata": {},
   "source": [
    "## List languages not known by anyone in the class"
   ]
  },
  {
   "cell_type": "code",
   "id": "88f7d084",
   "metadata": {
    "ExecuteTime": {
     "end_time": "2025-08-15T18:08:06.768945Z",
     "start_time": "2025-08-15T18:08:06.766603Z"
    }
   },
   "source": [
    "not_known = set(all_langs) - langs_known\n",
    "not_known = list(not_known)\n",
    "not_known.sort()\n",
    "print(not_known)"
   ],
   "outputs": [
    {
     "name": "stdout",
     "output_type": "stream",
     "text": [
      "['Clojure', 'Dart', 'Julia', 'Kotlin', 'Rust', 'Swift']\n"
     ]
    }
   ],
   "execution_count": 4
  },
  {
   "cell_type": "markdown",
   "id": "4e6d082d",
   "metadata": {},
   "source": [
    "## Rank languages by most commonly known\n",
    "Print each language as `\"{position}: {language} ({percent_known}%)\"`, in order from most to least known\n",
    "\n",
    "e.g. **1: Python (93%)**"
   ]
  },
  {
   "cell_type": "code",
   "id": "b4f73f17",
   "metadata": {
    "ExecuteTime": {
     "end_time": "2025-08-15T18:08:06.774887Z",
     "start_time": "2025-08-15T18:08:06.772251Z"
    }
   },
   "source": [
    "# Initialize dictionary with language key and count of 0\n",
    "lang_counts: dict[str, int] = {}\n",
    "\n",
    "for lang in sorted(all_langs):\n",
    "    lang_counts[lang] = 0\n",
    "\n",
    "lang_counts"
   ],
   "outputs": [
    {
     "data": {
      "text/plain": [
       "{'Assembly': 0,\n",
       " 'C': 0,\n",
       " 'C#': 0,\n",
       " 'C++': 0,\n",
       " 'Clojure': 0,\n",
       " 'Cobol': 0,\n",
       " 'Dart': 0,\n",
       " 'Delphi': 0,\n",
       " 'Elixir': 0,\n",
       " 'Fortran': 0,\n",
       " 'Go': 0,\n",
       " 'Haskell': 0,\n",
       " 'Java': 0,\n",
       " 'JavaScript': 0,\n",
       " 'Julia': 0,\n",
       " 'Kotlin': 0,\n",
       " 'Lisp': 0,\n",
       " 'Lua': 0,\n",
       " 'Matlab': 0,\n",
       " 'Objective-C': 0,\n",
       " 'PHP': 0,\n",
       " 'Pascal': 0,\n",
       " 'Perl': 0,\n",
       " 'Python': 0,\n",
       " 'R': 0,\n",
       " 'Ruby': 0,\n",
       " 'Rust': 0,\n",
       " 'SQL': 0,\n",
       " 'Scala': 0,\n",
       " 'Swift': 0,\n",
       " 'TypeScript': 0,\n",
       " 'Visual Basic': 0}"
      ]
     },
     "execution_count": 5,
     "metadata": {},
     "output_type": "execute_result"
    }
   ],
   "execution_count": 5
  },
  {
   "metadata": {
    "ExecuteTime": {
     "end_time": "2025-08-15T18:08:06.782905Z",
     "start_time": "2025-08-15T18:08:06.780369Z"
    }
   },
   "cell_type": "code",
   "source": [
    "# Count responses\n",
    "for response in responses:\n",
    "    for lang in response:\n",
    "        lang_counts[lang] += 1\n",
    "\n",
    "lang_counts"
   ],
   "id": "2d8d56d02cecf09e",
   "outputs": [
    {
     "data": {
      "text/plain": [
       "{'Assembly': 3,\n",
       " 'C': 17,\n",
       " 'C#': 6,\n",
       " 'C++': 14,\n",
       " 'Clojure': 0,\n",
       " 'Cobol': 2,\n",
       " 'Dart': 0,\n",
       " 'Delphi': 1,\n",
       " 'Elixir': 1,\n",
       " 'Fortran': 4,\n",
       " 'Go': 6,\n",
       " 'Haskell': 2,\n",
       " 'Java': 20,\n",
       " 'JavaScript': 16,\n",
       " 'Julia': 0,\n",
       " 'Kotlin': 0,\n",
       " 'Lisp': 4,\n",
       " 'Lua': 2,\n",
       " 'Matlab': 4,\n",
       " 'Objective-C': 1,\n",
       " 'PHP': 6,\n",
       " 'Pascal': 6,\n",
       " 'Perl': 11,\n",
       " 'Python': 40,\n",
       " 'R': 7,\n",
       " 'Ruby': 4,\n",
       " 'Rust': 0,\n",
       " 'SQL': 22,\n",
       " 'Scala': 1,\n",
       " 'Swift': 0,\n",
       " 'TypeScript': 4,\n",
       " 'Visual Basic': 6}"
      ]
     },
     "execution_count": 6,
     "metadata": {},
     "output_type": "execute_result"
    }
   ],
   "execution_count": 6
  },
  {
   "metadata": {
    "ExecuteTime": {
     "end_time": "2025-08-15T18:08:06.788614Z",
     "start_time": "2025-08-15T18:08:06.785781Z"
    }
   },
   "cell_type": "code",
   "source": [
    "lang_counts_list: list[tuple[str, int]] = list(lang_counts.items())\n",
    "lang_counts_list.sort(key=lambda t: t[1], reverse=True)\n",
    "lang_counts_list"
   ],
   "id": "a8eae2ffb9122b3b",
   "outputs": [
    {
     "data": {
      "text/plain": [
       "[('Python', 40),\n",
       " ('SQL', 22),\n",
       " ('Java', 20),\n",
       " ('C', 17),\n",
       " ('JavaScript', 16),\n",
       " ('C++', 14),\n",
       " ('Perl', 11),\n",
       " ('R', 7),\n",
       " ('C#', 6),\n",
       " ('Go', 6),\n",
       " ('PHP', 6),\n",
       " ('Pascal', 6),\n",
       " ('Visual Basic', 6),\n",
       " ('Fortran', 4),\n",
       " ('Lisp', 4),\n",
       " ('Matlab', 4),\n",
       " ('Ruby', 4),\n",
       " ('TypeScript', 4),\n",
       " ('Assembly', 3),\n",
       " ('Cobol', 2),\n",
       " ('Haskell', 2),\n",
       " ('Lua', 2),\n",
       " ('Delphi', 1),\n",
       " ('Elixir', 1),\n",
       " ('Objective-C', 1),\n",
       " ('Scala', 1),\n",
       " ('Clojure', 0),\n",
       " ('Dart', 0),\n",
       " ('Julia', 0),\n",
       " ('Kotlin', 0),\n",
       " ('Rust', 0),\n",
       " ('Swift', 0)]"
      ]
     },
     "execution_count": 7,
     "metadata": {},
     "output_type": "execute_result"
    }
   ],
   "execution_count": 7
  },
  {
   "metadata": {
    "ExecuteTime": {
     "end_time": "2025-08-15T18:08:06.793954Z",
     "start_time": "2025-08-15T18:08:06.791130Z"
    }
   },
   "cell_type": "code",
   "source": [
    "lang_percent_list: list[tuple[str, float]] = []\n",
    "for lang, count in lang_counts_list:\n",
    "    percent = round(count / num_responses * 100, 1)\n",
    "    lang_percent_list.append((lang, percent))\n",
    "\n",
    "lang_percent_list"
   ],
   "id": "4ac45892217cbb1c",
   "outputs": [
    {
     "data": {
      "text/plain": [
       "[('Python', 81.6),\n",
       " ('SQL', 44.9),\n",
       " ('Java', 40.8),\n",
       " ('C', 34.7),\n",
       " ('JavaScript', 32.7),\n",
       " ('C++', 28.6),\n",
       " ('Perl', 22.4),\n",
       " ('R', 14.3),\n",
       " ('C#', 12.2),\n",
       " ('Go', 12.2),\n",
       " ('PHP', 12.2),\n",
       " ('Pascal', 12.2),\n",
       " ('Visual Basic', 12.2),\n",
       " ('Fortran', 8.2),\n",
       " ('Lisp', 8.2),\n",
       " ('Matlab', 8.2),\n",
       " ('Ruby', 8.2),\n",
       " ('TypeScript', 8.2),\n",
       " ('Assembly', 6.1),\n",
       " ('Cobol', 4.1),\n",
       " ('Haskell', 4.1),\n",
       " ('Lua', 4.1),\n",
       " ('Delphi', 2.0),\n",
       " ('Elixir', 2.0),\n",
       " ('Objective-C', 2.0),\n",
       " ('Scala', 2.0),\n",
       " ('Clojure', 0.0),\n",
       " ('Dart', 0.0),\n",
       " ('Julia', 0.0),\n",
       " ('Kotlin', 0.0),\n",
       " ('Rust', 0.0),\n",
       " ('Swift', 0.0)]"
      ]
     },
     "execution_count": 8,
     "metadata": {},
     "output_type": "execute_result"
    }
   ],
   "execution_count": 8
  },
  {
   "metadata": {
    "ExecuteTime": {
     "end_time": "2025-08-15T18:08:06.799307Z",
     "start_time": "2025-08-15T18:08:06.797462Z"
    }
   },
   "cell_type": "code",
   "source": [
    "for pos, (lang, percent) in enumerate(lang_percent_list, start=1):\n",
    "    print(f\"{pos}: {lang} ({percent:.0f}%)\")"
   ],
   "id": "e6dea2df199e862b",
   "outputs": [
    {
     "name": "stdout",
     "output_type": "stream",
     "text": [
      "1: Python (82%)\n",
      "2: SQL (45%)\n",
      "3: Java (41%)\n",
      "4: C (35%)\n",
      "5: JavaScript (33%)\n",
      "6: C++ (29%)\n",
      "7: Perl (22%)\n",
      "8: R (14%)\n",
      "9: C# (12%)\n",
      "10: Go (12%)\n",
      "11: PHP (12%)\n",
      "12: Pascal (12%)\n",
      "13: Visual Basic (12%)\n",
      "14: Fortran (8%)\n",
      "15: Lisp (8%)\n",
      "16: Matlab (8%)\n",
      "17: Ruby (8%)\n",
      "18: TypeScript (8%)\n",
      "19: Assembly (6%)\n",
      "20: Cobol (4%)\n",
      "21: Haskell (4%)\n",
      "22: Lua (4%)\n",
      "23: Delphi (2%)\n",
      "24: Elixir (2%)\n",
      "25: Objective-C (2%)\n",
      "26: Scala (2%)\n",
      "27: Clojure (0%)\n",
      "28: Dart (0%)\n",
      "29: Julia (0%)\n",
      "30: Kotlin (0%)\n",
      "31: Rust (0%)\n",
      "32: Swift (0%)\n"
     ]
    }
   ],
   "execution_count": 9
  }
 ],
 "metadata": {
  "jupytext": {
   "cell_metadata_filter": "-all",
   "formats": "auto:light,ipynb",
   "main_language": "python",
   "notebook_metadata_filter": "-all"
  },
  "kernelspec": {
   "display_name": "Python 3 (ipykernel)",
   "language": "python",
   "name": "python3"
  },
  "language_info": {
   "codemirror_mode": {
    "name": "ipython",
    "version": 3
   },
   "file_extension": ".py",
   "mimetype": "text/x-python",
   "name": "python",
   "nbconvert_exporter": "python",
   "pygments_lexer": "ipython3",
   "version": "3.11.4"
  }
 },
 "nbformat": 4,
 "nbformat_minor": 5
}
