{
 "cells": [
  {
   "cell_type": "markdown",
   "id": "9d86ef30",
   "metadata": {},
   "source": [
    "# Survey analysis\n",
    "Analyse the results from the [languages survey](https://forms.gle/5b3mZRVcgAsoNG1FA)"
   ]
  },
  {
   "cell_type": "code",
   "execution_count": 1,
   "id": "801ca19d",
   "metadata": {},
   "outputs": [],
   "source": [
    "all_langs = ['Python', 'Java', 'JavaScript', 'TypeScript', 'PHP', 'SQL', 'C', 'C++', 'C#',\n",
    "             'Ruby', 'R', 'Matlab', 'Go', 'Rust', 'Objective-C', 'Swift', 'Visual Basic',\n",
    "             'Perl', 'Cobol', 'Fortran', 'Lisp', 'Assembly', 'Kotlin', 'Dart', 'Scala',\n",
    "             'Lua', 'Delphi', 'Haskell', 'Julia', 'Clojure', 'Elixir', 'Pascal']"
   ]
  },
  {
   "cell_type": "markdown",
   "id": "868dd80b",
   "metadata": {},
   "source": [
    "## Load data"
   ]
  },
  {
   "cell_type": "code",
   "execution_count": 2,
   "id": "4ad9c4b4",
   "metadata": {
    "lines_to_end_of_cell_marker": 2
   },
   "outputs": [
    {
     "name": "stdout",
     "output_type": "stream",
     "text": [
      "27\n"
     ]
    }
   ],
   "source": [
    "import csv\n",
    "from pprint import pprint\n",
    "\n",
    "list_of_languages = []\n",
    "with open('../data/Survey-2024-Mar.csv') as file:\n",
    "    file.readline()  # Ignore first line (header)\n",
    "    reader = csv.DictReader(file, fieldnames=('timestamp', 'languages', 'years'))  # list of dicts with keys passed into fieldnames\n",
    "    for line in reader:\n",
    "        list_of_languages.append(line['languages'].split(';'))\n",
    "\n",
    "num_responses = len(list_of_languages)\n",
    "print(num_responses)"
   ]
  },
  {
   "cell_type": "markdown",
   "id": "fbd49e64",
   "metadata": {},
   "source": [
    "## Find number of languages known\n",
    "Print `\"{# known by class} / {# in list} languages known by this class (as %)\"`.\n",
    "\n",
    "E.g. **12/21 languages known by this class (57%)**"
   ]
  },
  {
   "cell_type": "code",
   "execution_count": 3,
   "id": "5734bef0",
   "metadata": {},
   "outputs": [
    {
     "name": "stdout",
     "output_type": "stream",
     "text": [
      "19 / 32 languages known by this class (59%)\n"
     ]
    }
   ],
   "source": [
    "languages_known = set()\n",
    "for langs in list_of_languages:\n",
    "    languages_known.update(langs)\n",
    "\n",
    "num_known = len(languages_known)\n",
    "num_all = len(all_langs)\n",
    "print(f\"{num_known} / {num_all} languages known by this class ({round(num_known / num_all * 100)}%)\")"
   ]
  },
  {
   "cell_type": "markdown",
   "id": "b9824b6a",
   "metadata": {},
   "source": [
    "## List languages not known by anyone in the class"
   ]
  },
  {
   "cell_type": "code",
   "execution_count": 4,
   "id": "d423f3bc",
   "metadata": {},
   "outputs": [
    {
     "name": "stdout",
     "output_type": "stream",
     "text": [
      "Clojure\n",
      "Dart\n",
      "Delphi\n",
      "Elixir\n",
      "Fortran\n",
      "Go\n",
      "Julia\n",
      "Lua\n",
      "Objective-C\n",
      "Ruby\n",
      "Rust\n",
      "Scala\n",
      "Swift\n"
     ]
    }
   ],
   "source": [
    "not_known = set(all_langs) - languages_known\n",
    "for lang in sorted(not_known):\n",
    "    print(lang)"
   ]
  },
  {
   "cell_type": "markdown",
   "id": "39f83d3b",
   "metadata": {},
   "source": [
    "## Rank languages by most commonly known\n",
    "Print each language as `\"{position}: {language} ({percent_known}%)\"`, in order from most to least known\n",
    "\n",
    "e.g. **1: Python (93%)**"
   ]
  },
  {
   "cell_type": "code",
   "execution_count": 5,
   "id": "e433e4bd",
   "metadata": {},
   "outputs": [
    {
     "name": "stdout",
     "output_type": "stream",
     "text": [
      "{'Assembly': 1,\n",
      " 'C': 13,\n",
      " 'C#': 4,\n",
      " 'C++': 10,\n",
      " 'Cobol': 1,\n",
      " 'Haskell': 1,\n",
      " 'Java': 9,\n",
      " 'JavaScript': 6,\n",
      " 'Kotlin': 2,\n",
      " 'Lisp': 1,\n",
      " 'Matlab': 2,\n",
      " 'PHP': 2,\n",
      " 'Pascal': 4,\n",
      " 'Perl': 7,\n",
      " 'Python': 20,\n",
      " 'R': 2,\n",
      " 'SQL': 17,\n",
      " 'TypeScript': 1,\n",
      " 'Visual Basic': 4}\n"
     ]
    }
   ],
   "source": [
    "lang_counts = {}\n",
    "for langs in list_of_languages:\n",
    "    for lang in langs:\n",
    "        lang_counts[lang] = lang_counts.get(lang, 0) + 1\n",
    "\n",
    "pprint(lang_counts)"
   ]
  },
  {
   "cell_type": "code",
   "execution_count": 6,
   "id": "4a331dfe",
   "metadata": {},
   "outputs": [
    {
     "name": "stdout",
     "output_type": "stream",
     "text": [
      "1: Python (74%)\n",
      "2: SQL (63%)\n",
      "3: C (48%)\n",
      "4: C++ (37%)\n",
      "5: Java (33%)\n",
      "6: Perl (26%)\n",
      "7: JavaScript (22%)\n",
      "8: Pascal (15%)\n",
      "9: Visual Basic (15%)\n",
      "10: C# (15%)\n",
      "11: Kotlin (7%)\n",
      "12: PHP (7%)\n",
      "13: R (7%)\n",
      "14: Matlab (7%)\n",
      "15: TypeScript (4%)\n",
      "16: Lisp (4%)\n",
      "17: Haskell (4%)\n",
      "18: Assembly (4%)\n",
      "19: Cobol (4%)\n"
     ]
    }
   ],
   "source": [
    "lang_counts_list = list(lang_counts.items())\n",
    "lang_counts_list.sort(key=lambda t: t[1], reverse=True)\n",
    "for position, (lang, count) in enumerate(lang_counts_list, start=1):\n",
    "    print(f\"{position}: {lang} ({round(count / num_responses * 100)}%)\")"
   ]
  }
 ],
 "metadata": {
  "jupytext": {
   "cell_metadata_filter": "-all",
   "formats": "auto:light,ipynb",
   "main_language": "python",
   "notebook_metadata_filter": "-all"
  },
  "kernelspec": {
   "display_name": "Python 3 (ipykernel)",
   "language": "python",
   "name": "python3"
  },
  "language_info": {
   "codemirror_mode": {
    "name": "ipython",
    "version": 3
   },
   "file_extension": ".py",
   "mimetype": "text/x-python",
   "name": "python",
   "nbconvert_exporter": "python",
   "pygments_lexer": "ipython3",
   "version": "3.11.4"
  }
 },
 "nbformat": 4,
 "nbformat_minor": 5
}
