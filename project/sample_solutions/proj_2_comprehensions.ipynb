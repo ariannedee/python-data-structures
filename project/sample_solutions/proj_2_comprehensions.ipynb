{
 "cells": [
  {
   "cell_type": "markdown",
   "id": "055c860b",
   "metadata": {},
   "source": [
    "# Survey analysis\n",
    "Analyse the results from the [languages survey](https://forms.gle/5b3mZRVcgAsoNG1FA)"
   ]
  },
  {
   "cell_type": "code",
   "execution_count": null,
   "id": "9d0908cf",
   "metadata": {},
   "outputs": [],
   "source": [
    "all_langs = ['Python', 'Java', 'JavaScript', 'TypeScript', 'PHP', 'SQL', 'C', 'C++', 'C#',\n",
    "             'Ruby', 'R', 'Matlab', 'Go', 'Rust', 'Objective-C', 'Swift', 'Visual Basic',\n",
    "             'Perl', 'Cobol', 'Fortran', 'Lisp', 'Assembly', 'Kotlin', 'Dart', 'Scala',\n",
    "             'Lua', 'Delphi', 'Haskell', 'Julia', 'Clojure', 'Elixir', 'Pascal']"
   ]
  },
  {
   "cell_type": "markdown",
   "id": "b6e4473c",
   "metadata": {},
   "source": [
    "## Load data"
   ]
  },
  {
   "cell_type": "code",
   "execution_count": null,
   "id": "7175f462",
   "metadata": {
    "lines_to_end_of_cell_marker": 2
   },
   "outputs": [],
   "source": [
    "import csv\n",
    "from pprint import pprint\n",
    "\n",
    "with open('..data/Survey-2024-Mar.csv') as file:\n",
    "    file.readline()  # Ignore first line (header)\n",
    "    reader = csv.DictReader(file, fieldnames=('timestamp', 'languages', 'years'))  # list of dicts with keys passed into fieldnames\n",
    "    list_of_languages = [line['languages'].split(';') for line in reader]\n",
    "\n",
    "num_responses = len(list_of_languages)\n",
    "print(num_responses)"
   ]
  },
  {
   "cell_type": "markdown",
   "id": "58290b58",
   "metadata": {},
   "source": [
    "## Find number of languages known\n",
    "Print `\"{# known by class} / {# in list} languages known by this class (as %)\"`.\n",
    "\n",
    "E.g. **12/21 languages known by this class (57%)**"
   ]
  },
  {
   "cell_type": "code",
   "execution_count": null,
   "id": "33126e76",
   "metadata": {},
   "outputs": [],
   "source": [
    "languages_known = {lang for langs in list_of_languages for lang in langs}\n",
    "\n",
    "num_known = len(languages_known)\n",
    "num_all = len(all_langs)\n",
    "print(f\"{num_known} / {num_all} languages known by this class ({round(num_known / num_all * 100)}%)\")"
   ]
  },
  {
   "cell_type": "markdown",
   "id": "55fc2064",
   "metadata": {},
   "source": [
    "## List languages not known by anyone in the class"
   ]
  },
  {
   "cell_type": "code",
   "execution_count": null,
   "id": "026956bf",
   "metadata": {},
   "outputs": [],
   "source": [
    "not_known = set(all_langs) - languages_known\n",
    "for lang in sorted(not_known):\n",
    "    print(lang)"
   ]
  },
  {
   "cell_type": "markdown",
   "id": "2db4a188",
   "metadata": {},
   "source": [
    "## Rank languages by most commonly known\n",
    "Print each language as `\"{position}: {language} ({percent_known}%)\"`, in order from most to least known\n",
    "\n",
    "e.g. **1: Python (93%)**"
   ]
  },
  {
   "cell_type": "code",
   "execution_count": null,
   "id": "90695a5c",
   "metadata": {},
   "outputs": [],
   "source": [
    "lang_counts = {lang: 0 for lang in all_langs}\n",
    "for langs in list_of_languages:\n",
    "    for lang in langs:\n",
    "        lang_counts[lang] += 1\n",
    "\n",
    "pprint(lang_counts)"
   ]
  },
  {
   "cell_type": "code",
   "execution_count": null,
   "id": "25a6fa96",
   "metadata": {},
   "outputs": [],
   "source": [
    "lang_counts_list = [(lang, lang_counts[lang]) for lang in lang_counts]\n",
    "\n",
    "lang_counts_list.sort(key=lambda t: t[1], reverse=True)\n",
    "for position, (lang, count) in enumerate(lang_counts_list, start=1):\n",
    "    print(f\"{position}: {lang} ({round(count / num_responses * 100)}%)\")"
   ]
  }
 ],
 "metadata": {
  "jupytext": {
   "cell_metadata_filter": "-all",
   "formats": "auto:light,ipynb",
   "main_language": "python",
   "notebook_metadata_filter": "-all"
  },
  "kernelspec": {
   "display_name": "Python 3 (ipykernel)",
   "language": "python",
   "name": "python3"
  },
  "language_info": {
   "codemirror_mode": {
    "name": "ipython",
    "version": 3
   },
   "file_extension": ".py",
   "mimetype": "text/x-python",
   "name": "python",
   "nbconvert_exporter": "python",
   "pygments_lexer": "ipython3",
   "version": "3.11.4"
  }
 },
 "nbformat": 4,
 "nbformat_minor": 5
}
