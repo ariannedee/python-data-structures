{
 "cells": [
  {
   "cell_type": "markdown",
   "id": "57cb35c4",
   "metadata": {},
   "source": [
    "# Survey analysis\n",
    "Analyse the results from the [languages survey](https://forms.gle/5b3mZRVcgAsoNG1FA)"
   ]
  },
  {
   "cell_type": "code",
   "id": "beb28a4b",
   "metadata": {
    "ExecuteTime": {
     "end_time": "2025-10-21T18:11:28.298617Z",
     "start_time": "2025-10-21T18:11:28.294166Z"
    }
   },
   "source": [
    "all_langs = ['Python', 'Java', 'JavaScript', 'TypeScript', 'PHP', 'SQL', 'C', 'C++', 'C#',\n",
    "             'Ruby', 'R', 'Matlab', 'Go', 'Rust', 'Objective-C', 'Swift', 'Visual Basic',\n",
    "             'Perl', 'Cobol', 'Fortran', 'Lisp', 'Assembly', 'Kotlin', 'Dart', 'Scala',\n",
    "             'Lua', 'Delphi', 'Haskell', 'Julia', 'Clojure', 'Elixir', 'Pascal']"
   ],
   "outputs": [],
   "execution_count": 1
  },
  {
   "cell_type": "markdown",
   "id": "bcc1c3f1",
   "metadata": {},
   "source": [
    "## Load data"
   ]
  },
  {
   "cell_type": "code",
   "id": "44b83567",
   "metadata": {
    "ExecuteTime": {
     "end_time": "2025-10-21T18:58:10.337662Z",
     "start_time": "2025-10-21T18:58:10.332391Z"
    }
   },
   "source": [
    "import csv\n",
    "from pprint import pprint\n",
    "\n",
    "with open('data/Survey-2024-Jan.csv') as file:\n",
    "    file.readline()  # Ignore first line (header)\n",
    "    reader = csv.DictReader(file, fieldnames=('timestamp', 'languages', 'years'))  # list of dicts with keys passed into fieldnames\n",
    "    lang_responses = [\n",
    "        response['languages'].split(';')\n",
    "        for response in reader\n",
    "    ]\n",
    "\n",
    "pprint(lang_responses)\n",
    "num_responses = len(lang_responses)\n",
    "print(num_responses)\n"
   ],
   "outputs": [
    {
     "name": "stdout",
     "output_type": "stream",
     "text": [
      "[['Python', 'SQL'],\n",
      " ['Python'],\n",
      " ['Python'],\n",
      " ['Java',\n",
      "  'JavaScript',\n",
      "  'SQL',\n",
      "  'C',\n",
      "  'C++',\n",
      "  'Visual Basic',\n",
      "  'Perl',\n",
      "  'Cobol',\n",
      "  'Fortran',\n",
      "  'Assembly',\n",
      "  'Pascal'],\n",
      " ['Python', 'Perl'],\n",
      " ['JavaScript', 'TypeScript', 'PHP', 'SQL', 'C++', 'Visual Basic', 'Perl'],\n",
      " ['Python', 'Java', 'C++', 'Perl'],\n",
      " ['Python',\n",
      "  'Java',\n",
      "  'JavaScript',\n",
      "  'TypeScript',\n",
      "  'PHP',\n",
      "  'SQL',\n",
      "  'Ruby',\n",
      "  'R',\n",
      "  'Objective-C',\n",
      "  'Swift',\n",
      "  'Perl',\n",
      "  'Kotlin',\n",
      "  'Dart'],\n",
      " ['Python',\n",
      "  'Java',\n",
      "  'JavaScript',\n",
      "  'SQL',\n",
      "  'C',\n",
      "  'C++',\n",
      "  'Matlab',\n",
      "  'Visual Basic',\n",
      "  'Cobol',\n",
      "  'Fortran',\n",
      "  'Assembly'],\n",
      " ['Java', 'JavaScript'],\n",
      " ['Python', 'Java', 'JavaScript', 'SQL', 'C', 'C++'],\n",
      " ['Python', 'SQL', 'C', 'R'],\n",
      " ['Java', 'C++'],\n",
      " ['SQL', 'R'],\n",
      " ['Python', 'Java'],\n",
      " ['Ruby', 'Fortran', 'Lisp'],\n",
      " ['Python', 'Java', 'C#', 'Ruby', 'Visual Basic', 'Cobol', 'Pascal'],\n",
      " ['SQL'],\n",
      " ['Python', 'Java', 'JavaScript', 'C', 'Rust'],\n",
      " ['Python', 'JavaScript', 'Perl'],\n",
      " ['Java', 'SQL', 'C#'],\n",
      " ['Python', 'Java'],\n",
      " ['Python', 'JavaScript', 'SQL', 'C'],\n",
      " ['Python', 'SQL', 'C', 'C++'],\n",
      " ['Python', 'Java', 'JavaScript']]\n",
      "25\n"
     ]
    }
   ],
   "execution_count": 15
  },
  {
   "cell_type": "markdown",
   "id": "b7ecbf4b",
   "metadata": {},
   "source": [
    "## Find number of languages known\n",
    "Print `\"{# known by class} / {# in list} languages known by this class\"`.\n",
    "\n",
    "E.g. **12/21 languages known by this class**"
   ]
  },
  {
   "cell_type": "code",
   "id": "535c48b5",
   "metadata": {
    "ExecuteTime": {
     "end_time": "2025-10-21T18:58:56.642770Z",
     "start_time": "2025-10-21T18:58:56.630082Z"
    }
   },
   "source": [
    "langs_known = {lang for langs in lang_responses for lang in langs}\n",
    "\n",
    "print(f\"{len(langs_known)} / {len(all_langs)} languages known by this class\")"
   ],
   "outputs": [
    {
     "name": "stdout",
     "output_type": "stream",
     "text": [
      "24 / 32 languages known by this class\n"
     ]
    }
   ],
   "execution_count": 16
  },
  {
   "cell_type": "markdown",
   "id": "8854f96e",
   "metadata": {},
   "source": [
    "## List languages not known by anyone in the class"
   ]
  },
  {
   "cell_type": "code",
   "id": "88f7d084",
   "metadata": {
    "ExecuteTime": {
     "end_time": "2025-10-21T19:00:12.169472Z",
     "start_time": "2025-10-21T19:00:12.159735Z"
    }
   },
   "source": [
    "not_known = [lang for lang in all_langs if lang not in langs_known]\n",
    "\n",
    "print(sorted(not_known))\n",
    "print(len(not_known))"
   ],
   "outputs": [
    {
     "name": "stdout",
     "output_type": "stream",
     "text": [
      "['Clojure', 'Delphi', 'Elixir', 'Go', 'Haskell', 'Julia', 'Lua', 'Scala']\n",
      "8\n"
     ]
    }
   ],
   "execution_count": 18
  },
  {
   "cell_type": "markdown",
   "id": "4e6d082d",
   "metadata": {},
   "source": [
    "## Rank languages by most commonly known\n",
    "Print each language as `\"{position}: {language} ({percent_known}%)\"`, in order from most to least known\n",
    "\n",
    "e.g. **1: Python (93%)**"
   ]
  },
  {
   "cell_type": "code",
   "id": "b4f73f17",
   "metadata": {
    "ExecuteTime": {
     "end_time": "2025-10-21T19:05:00.780274Z",
     "start_time": "2025-10-21T19:05:00.773515Z"
    }
   },
   "source": [
    "langs_flat = [lang for langs in lang_responses for lang in langs]\n",
    "lang_counts = [(langs_flat.count(lang), lang) for lang in all_langs]\n",
    "lang_counts"
   ],
   "outputs": [
    {
     "data": {
      "text/plain": [
       "[(17, 'Python'),\n",
       " (13, 'Java'),\n",
       " (10, 'JavaScript'),\n",
       " (2, 'TypeScript'),\n",
       " (2, 'PHP'),\n",
       " (12, 'SQL'),\n",
       " (7, 'C'),\n",
       " (7, 'C++'),\n",
       " (2, 'C#'),\n",
       " (3, 'Ruby'),\n",
       " (3, 'R'),\n",
       " (1, 'Matlab'),\n",
       " (0, 'Go'),\n",
       " (1, 'Rust'),\n",
       " (1, 'Objective-C'),\n",
       " (1, 'Swift'),\n",
       " (4, 'Visual Basic'),\n",
       " (6, 'Perl'),\n",
       " (3, 'Cobol'),\n",
       " (3, 'Fortran'),\n",
       " (1, 'Lisp'),\n",
       " (2, 'Assembly'),\n",
       " (1, 'Kotlin'),\n",
       " (1, 'Dart'),\n",
       " (0, 'Scala'),\n",
       " (0, 'Lua'),\n",
       " (0, 'Delphi'),\n",
       " (0, 'Haskell'),\n",
       " (0, 'Julia'),\n",
       " (0, 'Clojure'),\n",
       " (0, 'Elixir'),\n",
       " (2, 'Pascal')]"
      ]
     },
     "execution_count": 25,
     "metadata": {},
     "output_type": "execute_result"
    }
   ],
   "execution_count": 25
  },
  {
   "metadata": {
    "ExecuteTime": {
     "end_time": "2025-10-21T19:05:24.930646Z",
     "start_time": "2025-10-21T19:05:24.928676Z"
    }
   },
   "cell_type": "code",
   "source": "lang_counts.sort(reverse=True)",
   "id": "ea5fa98a99766edd",
   "outputs": [],
   "execution_count": 28
  },
  {
   "metadata": {
    "ExecuteTime": {
     "end_time": "2025-10-21T19:05:26.106681Z",
     "start_time": "2025-10-21T19:05:26.104376Z"
    }
   },
   "cell_type": "code",
   "source": [
    "for pos, (count, lang) in enumerate(lang_counts, start=1):\n",
    "    print(f\"{pos}: {lang} ({round(count / num_responses * 100)}%)\")"
   ],
   "id": "41d9a88cc48569e8",
   "outputs": [
    {
     "name": "stdout",
     "output_type": "stream",
     "text": [
      "1: Python (68%)\n",
      "2: Java (52%)\n",
      "3: SQL (48%)\n",
      "4: JavaScript (40%)\n",
      "5: C++ (28%)\n",
      "6: C (28%)\n",
      "7: Perl (24%)\n",
      "8: Visual Basic (16%)\n",
      "9: Ruby (12%)\n",
      "10: R (12%)\n",
      "11: Fortran (12%)\n",
      "12: Cobol (12%)\n",
      "13: TypeScript (8%)\n",
      "14: Pascal (8%)\n",
      "15: PHP (8%)\n",
      "16: C# (8%)\n",
      "17: Assembly (8%)\n",
      "18: Swift (4%)\n",
      "19: Rust (4%)\n",
      "20: Objective-C (4%)\n",
      "21: Matlab (4%)\n",
      "22: Lisp (4%)\n",
      "23: Kotlin (4%)\n",
      "24: Dart (4%)\n",
      "25: Scala (0%)\n",
      "26: Lua (0%)\n",
      "27: Julia (0%)\n",
      "28: Haskell (0%)\n",
      "29: Go (0%)\n",
      "30: Elixir (0%)\n",
      "31: Delphi (0%)\n",
      "32: Clojure (0%)\n"
     ]
    }
   ],
   "execution_count": 29
  },
  {
   "metadata": {
    "ExecuteTime": {
     "end_time": "2025-10-21T18:11:28.359329Z",
     "start_time": "2025-10-21T18:11:28.358154Z"
    }
   },
   "cell_type": "code",
   "source": "",
   "id": "6fdc86a969c058eb",
   "outputs": [],
   "execution_count": null
  }
 ],
 "metadata": {
  "jupytext": {
   "cell_metadata_filter": "-all",
   "formats": "auto:light,ipynb",
   "main_language": "python",
   "notebook_metadata_filter": "-all"
  },
  "kernelspec": {
   "display_name": "Python 3 (ipykernel)",
   "language": "python",
   "name": "python3"
  },
  "language_info": {
   "codemirror_mode": {
    "name": "ipython",
    "version": 3
   },
   "file_extension": ".py",
   "mimetype": "text/x-python",
   "name": "python",
   "nbconvert_exporter": "python",
   "pygments_lexer": "ipython3",
   "version": "3.11.4"
  }
 },
 "nbformat": 4,
 "nbformat_minor": 5
}
