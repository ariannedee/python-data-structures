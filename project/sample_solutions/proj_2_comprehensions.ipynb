{
 "cells": [
  {
   "cell_type": "markdown",
   "id": "57cb35c4",
   "metadata": {},
   "source": [
    "# Survey analysis\n",
    "Analyse the results from the [languages survey](https://forms.gle/5b3mZRVcgAsoNG1FA)"
   ]
  },
  {
   "cell_type": "code",
   "id": "beb28a4b",
   "metadata": {
    "ExecuteTime": {
     "end_time": "2025-08-15T18:53:30.323469Z",
     "start_time": "2025-08-15T18:53:30.320118Z"
    }
   },
   "source": [
    "all_langs = ['Python', 'Java', 'JavaScript', 'TypeScript', 'PHP', 'SQL', 'C', 'C++', 'C#',\n",
    "             'Ruby', 'R', 'Matlab', 'Go', 'Rust', 'Objective-C', 'Swift', 'Visual Basic',\n",
    "             'Perl', 'Cobol', 'Fortran', 'Lisp', 'Assembly', 'Kotlin', 'Dart', 'Scala',\n",
    "             'Lua', 'Delphi', 'Haskell', 'Julia', 'Clojure', 'Elixir', 'Pascal']"
   ],
   "outputs": [],
   "execution_count": 62
  },
  {
   "cell_type": "markdown",
   "id": "bcc1c3f1",
   "metadata": {},
   "source": [
    "## Load data"
   ]
  },
  {
   "cell_type": "code",
   "id": "44b83567",
   "metadata": {
    "ExecuteTime": {
     "end_time": "2025-08-15T18:53:30.340207Z",
     "start_time": "2025-08-15T18:53:30.334412Z"
    }
   },
   "source": [
    "import csv\n",
    "from pprint import pprint\n",
    "\n",
    "with open('../data/Survey-data.csv') as file:\n",
    "    file.readline()  # Ignore first line (header)\n",
    "    reader = csv.DictReader(file, fieldnames=('timestamp', 'languages', 'years'))  # list of dicts with keys passed into fieldnames\n",
    "    responses: list[list[str]] = [\n",
    "        [lang for lang in response['languages'].split(';') if lang]\n",
    "        for response in reader\n",
    "    ]\n",
    "\n",
    "print(len(responses))\n",
    "num_responses = len(responses)\n",
    "responses"
   ],
   "outputs": [
    {
     "name": "stdout",
     "output_type": "stream",
     "text": [
      "49\n"
     ]
    },
    {
     "data": {
      "text/plain": [
       "[['Python', 'Java', 'JavaScript', 'SQL', 'C', 'Ruby', 'R', 'Objective-C'],\n",
       " ['Python', 'JavaScript', 'SQL', 'R', 'Visual Basic'],\n",
       " ['Python', 'JavaScript', 'C', 'C++', 'Matlab'],\n",
       " ['Python'],\n",
       " ['Java'],\n",
       " ['Python', 'SQL'],\n",
       " ['Python', 'Java', 'Go', 'Perl', 'Elixir'],\n",
       " ['Python', 'Matlab', 'Perl', 'Lisp', 'Assembly'],\n",
       " ['Python', 'JavaScript', 'PHP', 'SQL', 'Go'],\n",
       " ['Python', 'Java', 'JavaScript', 'TypeScript'],\n",
       " ['Python'],\n",
       " ['Python', 'C', 'C++', 'Matlab'],\n",
       " ['Python',\n",
       "  'Java',\n",
       "  'JavaScript',\n",
       "  'C',\n",
       "  'C++',\n",
       "  'Ruby',\n",
       "  'R',\n",
       "  'Go',\n",
       "  'Perl',\n",
       "  'Fortran',\n",
       "  'Lisp',\n",
       "  'Assembly',\n",
       "  'Lua',\n",
       "  'Haskell',\n",
       "  'Pascal'],\n",
       " ['Python', 'Java', 'C++', 'C#', 'Go', 'Perl', 'Fortran', 'Assembly', 'Scala'],\n",
       " ['Python',\n",
       "  'Java',\n",
       "  'SQL',\n",
       "  'C',\n",
       "  'C++',\n",
       "  'C#',\n",
       "  'Visual Basic',\n",
       "  'Fortran',\n",
       "  'Lisp',\n",
       "  'Pascal'],\n",
       " ['SQL', 'Cobol'],\n",
       " ['Python', 'SQL', 'R'],\n",
       " ['Python', 'Java', 'C', 'Lua'],\n",
       " ['SQL'],\n",
       " ['JavaScript'],\n",
       " ['Python', 'Java'],\n",
       " ['Python', 'Java', 'JavaScript', 'SQL', 'C'],\n",
       " ['Python', 'Java', 'JavaScript', 'SQL', 'Go'],\n",
       " [],\n",
       " ['Python'],\n",
       " ['Python', 'JavaScript', 'Ruby', 'Go'],\n",
       " ['Python', 'C', 'C++', 'Matlab', 'Perl', 'Lisp'],\n",
       " ['Python'],\n",
       " ['Python', 'Java', 'SQL', 'C', 'Cobol'],\n",
       " ['Python', 'Java', 'TypeScript', 'C++', 'R', 'Perl', 'Haskell', 'Pascal'],\n",
       " ['Python', 'Java', 'JavaScript', 'SQL'],\n",
       " ['Python', 'Java', 'JavaScript', 'TypeScript', 'PHP', 'SQL'],\n",
       " ['Python', 'Java', 'SQL'],\n",
       " ['Python', 'Perl'],\n",
       " ['SQL'],\n",
       " ['Python',\n",
       "  'Java',\n",
       "  'JavaScript',\n",
       "  'PHP',\n",
       "  'SQL',\n",
       "  'C++',\n",
       "  'C#',\n",
       "  'Ruby',\n",
       "  'R',\n",
       "  'Visual Basic'],\n",
       " ['Python', 'PHP', 'Visual Basic', 'Delphi', 'Pascal'],\n",
       " ['Python', 'Java', 'JavaScript', 'SQL', 'C', 'C++'],\n",
       " ['Python', 'C', 'Perl'],\n",
       " [],\n",
       " ['Python', 'Java', 'SQL', 'C', 'C++'],\n",
       " ['Python',\n",
       "  'Java',\n",
       "  'JavaScript',\n",
       "  'TypeScript',\n",
       "  'PHP',\n",
       "  'SQL',\n",
       "  'C',\n",
       "  'C++',\n",
       "  'C#',\n",
       "  'Visual Basic',\n",
       "  'Perl',\n",
       "  'Fortran',\n",
       "  'Pascal'],\n",
       " ['C', 'C#'],\n",
       " ['Python', 'JavaScript', 'SQL', 'C', 'C++', 'C#', 'Pascal'],\n",
       " ['Python', 'C', 'R', 'Visual Basic', 'Perl'],\n",
       " ['Python'],\n",
       " ['Python', 'PHP', 'SQL', 'C++', 'Perl'],\n",
       " ['Python'],\n",
       " ['SQL', 'C', 'C++']]"
      ]
     },
     "execution_count": 63,
     "metadata": {},
     "output_type": "execute_result"
    }
   ],
   "execution_count": 63
  },
  {
   "cell_type": "markdown",
   "id": "b7ecbf4b",
   "metadata": {},
   "source": [
    "## Find number of languages known\n",
    "Print `\"{# known by class} / {# in list} languages known by this class (as %)\"`.\n",
    "\n",
    "E.g. **12/21 languages known by this class (57%)**"
   ]
  },
  {
   "cell_type": "code",
   "id": "535c48b5",
   "metadata": {
    "ExecuteTime": {
     "end_time": "2025-08-15T18:53:30.350212Z",
     "start_time": "2025-08-15T18:53:30.347965Z"
    }
   },
   "source": [
    "langs_known = {lang for response in responses for lang in response}\n",
    "\n",
    "print(f\"{len(langs_known)} / {len(all_langs)} languages known by this class ({len(langs_known)/len(all_langs) * 100:.0f}%)\")"
   ],
   "outputs": [
    {
     "name": "stdout",
     "output_type": "stream",
     "text": [
      "26 / 32 languages known by this class (81%)\n"
     ]
    }
   ],
   "execution_count": 64
  },
  {
   "cell_type": "markdown",
   "id": "8854f96e",
   "metadata": {},
   "source": [
    "## List languages not known by anyone in the class"
   ]
  },
  {
   "cell_type": "code",
   "id": "88f7d084",
   "metadata": {
    "ExecuteTime": {
     "end_time": "2025-08-15T18:53:30.360069Z",
     "start_time": "2025-08-15T18:53:30.358117Z"
    }
   },
   "source": [
    "not_known = set(all_langs) - langs_known\n",
    "not_known = list(not_known)\n",
    "not_known.sort()\n",
    "print(not_known)"
   ],
   "outputs": [
    {
     "name": "stdout",
     "output_type": "stream",
     "text": [
      "['Clojure', 'Dart', 'Julia', 'Kotlin', 'Rust', 'Swift']\n"
     ]
    }
   ],
   "execution_count": 65
  },
  {
   "cell_type": "markdown",
   "id": "4e6d082d",
   "metadata": {},
   "source": [
    "## Rank languages by most commonly known\n",
    "Print each language as `\"{position}: {language} ({percent_known}%)\"`, in order from most to least known\n",
    "\n",
    "e.g. **1: Python (93%)**"
   ]
  },
  {
   "metadata": {
    "ExecuteTime": {
     "end_time": "2025-08-15T18:53:30.367574Z",
     "start_time": "2025-08-15T18:53:30.364870Z"
    }
   },
   "cell_type": "code",
   "source": [
    "# Count responses\n",
    "response_langs = [lang for response in responses for lang in response]\n",
    "lang_counts: dict[str, int] = {lang: response_langs.count(lang) for lang in sorted(all_langs)}\n",
    "\n",
    "lang_counts"
   ],
   "id": "2d8d56d02cecf09e",
   "outputs": [
    {
     "data": {
      "text/plain": [
       "{'Assembly': 3,\n",
       " 'C': 17,\n",
       " 'C#': 6,\n",
       " 'C++': 14,\n",
       " 'Clojure': 0,\n",
       " 'Cobol': 2,\n",
       " 'Dart': 0,\n",
       " 'Delphi': 1,\n",
       " 'Elixir': 1,\n",
       " 'Fortran': 4,\n",
       " 'Go': 6,\n",
       " 'Haskell': 2,\n",
       " 'Java': 20,\n",
       " 'JavaScript': 16,\n",
       " 'Julia': 0,\n",
       " 'Kotlin': 0,\n",
       " 'Lisp': 4,\n",
       " 'Lua': 2,\n",
       " 'Matlab': 4,\n",
       " 'Objective-C': 1,\n",
       " 'PHP': 6,\n",
       " 'Pascal': 6,\n",
       " 'Perl': 11,\n",
       " 'Python': 40,\n",
       " 'R': 7,\n",
       " 'Ruby': 4,\n",
       " 'Rust': 0,\n",
       " 'SQL': 22,\n",
       " 'Scala': 1,\n",
       " 'Swift': 0,\n",
       " 'TypeScript': 4,\n",
       " 'Visual Basic': 6}"
      ]
     },
     "execution_count": 66,
     "metadata": {},
     "output_type": "execute_result"
    }
   ],
   "execution_count": 66
  },
  {
   "metadata": {
    "ExecuteTime": {
     "end_time": "2025-08-15T18:53:30.382922Z",
     "start_time": "2025-08-15T18:53:30.379680Z"
    }
   },
   "cell_type": "code",
   "source": [
    "def to_percent(num):\n",
    "    return round(num / num_responses * 100, 1)\n",
    "\n",
    "lang_percent_list: list[tuple[str, float]] = [\n",
    "    (lang, to_percent(count))\n",
    "    for lang, count in lang_counts.items()\n",
    "]\n",
    "\n",
    "lang_percent_list.sort(key=lambda t: t[1], reverse=True)\n",
    "lang_percent_list"
   ],
   "id": "4ac45892217cbb1c",
   "outputs": [
    {
     "data": {
      "text/plain": [
       "[('Python', 81.6),\n",
       " ('SQL', 44.9),\n",
       " ('Java', 40.8),\n",
       " ('C', 34.7),\n",
       " ('JavaScript', 32.7),\n",
       " ('C++', 28.6),\n",
       " ('Perl', 22.4),\n",
       " ('R', 14.3),\n",
       " ('C#', 12.2),\n",
       " ('Go', 12.2),\n",
       " ('PHP', 12.2),\n",
       " ('Pascal', 12.2),\n",
       " ('Visual Basic', 12.2),\n",
       " ('Fortran', 8.2),\n",
       " ('Lisp', 8.2),\n",
       " ('Matlab', 8.2),\n",
       " ('Ruby', 8.2),\n",
       " ('TypeScript', 8.2),\n",
       " ('Assembly', 6.1),\n",
       " ('Cobol', 4.1),\n",
       " ('Haskell', 4.1),\n",
       " ('Lua', 4.1),\n",
       " ('Delphi', 2.0),\n",
       " ('Elixir', 2.0),\n",
       " ('Objective-C', 2.0),\n",
       " ('Scala', 2.0),\n",
       " ('Clojure', 0.0),\n",
       " ('Dart', 0.0),\n",
       " ('Julia', 0.0),\n",
       " ('Kotlin', 0.0),\n",
       " ('Rust', 0.0),\n",
       " ('Swift', 0.0)]"
      ]
     },
     "execution_count": 67,
     "metadata": {},
     "output_type": "execute_result"
    }
   ],
   "execution_count": 67
  },
  {
   "metadata": {
    "ExecuteTime": {
     "end_time": "2025-08-15T18:53:30.388464Z",
     "start_time": "2025-08-15T18:53:30.386590Z"
    }
   },
   "cell_type": "code",
   "source": [
    "for pos, (lang, percent) in enumerate(lang_percent_list, start=1):\n",
    "    print(f\"{pos}: {lang} ({percent:.0f}%)\")"
   ],
   "id": "e6dea2df199e862b",
   "outputs": [
    {
     "name": "stdout",
     "output_type": "stream",
     "text": [
      "1: Python (82%)\n",
      "2: SQL (45%)\n",
      "3: Java (41%)\n",
      "4: C (35%)\n",
      "5: JavaScript (33%)\n",
      "6: C++ (29%)\n",
      "7: Perl (22%)\n",
      "8: R (14%)\n",
      "9: C# (12%)\n",
      "10: Go (12%)\n",
      "11: PHP (12%)\n",
      "12: Pascal (12%)\n",
      "13: Visual Basic (12%)\n",
      "14: Fortran (8%)\n",
      "15: Lisp (8%)\n",
      "16: Matlab (8%)\n",
      "17: Ruby (8%)\n",
      "18: TypeScript (8%)\n",
      "19: Assembly (6%)\n",
      "20: Cobol (4%)\n",
      "21: Haskell (4%)\n",
      "22: Lua (4%)\n",
      "23: Delphi (2%)\n",
      "24: Elixir (2%)\n",
      "25: Objective-C (2%)\n",
      "26: Scala (2%)\n",
      "27: Clojure (0%)\n",
      "28: Dart (0%)\n",
      "29: Julia (0%)\n",
      "30: Kotlin (0%)\n",
      "31: Rust (0%)\n",
      "32: Swift (0%)\n"
     ]
    }
   ],
   "execution_count": 68
  },
  {
   "metadata": {
    "ExecuteTime": {
     "end_time": "2025-08-15T18:53:30.393152Z",
     "start_time": "2025-08-15T18:53:30.391853Z"
    }
   },
   "cell_type": "code",
   "source": "",
   "id": "7fde2146a4ce5287",
   "outputs": [],
   "execution_count": null
  }
 ],
 "metadata": {
  "jupytext": {
   "cell_metadata_filter": "-all",
   "formats": "auto:light,ipynb",
   "main_language": "python",
   "notebook_metadata_filter": "-all"
  },
  "kernelspec": {
   "display_name": "Python 3 (ipykernel)",
   "language": "python",
   "name": "python3"
  },
  "language_info": {
   "codemirror_mode": {
    "name": "ipython",
    "version": 3
   },
   "file_extension": ".py",
   "mimetype": "text/x-python",
   "name": "python",
   "nbconvert_exporter": "python",
   "pygments_lexer": "ipython3",
   "version": "3.11.4"
  }
 },
 "nbformat": 4,
 "nbformat_minor": 5
}
