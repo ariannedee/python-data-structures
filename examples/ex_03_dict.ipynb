{
 "cells": [
  {
   "cell_type": "markdown",
   "id": "83373c68",
   "metadata": {},
   "source": [
    "# Dicts\n",
    "Dictionaries are a type of key-value mapping object.\n",
    "\n",
    "Instead of accessing items by index (position), we get them through via keys.\n",
    "## Creating dicts"
   ]
  },
  {
   "cell_type": "code",
   "execution_count": 1,
   "id": "789b6d27",
   "metadata": {},
   "outputs": [
    {
     "data": {
      "text/plain": [
       "{'a': 1, 'b': 2}"
      ]
     },
     "execution_count": 1,
     "metadata": {},
     "output_type": "execute_result"
    }
   ],
   "source": [
    "{'a': 1, 'b': 2}"
   ]
  },
  {
   "cell_type": "code",
   "execution_count": 2,
   "id": "e14c35ef",
   "metadata": {},
   "outputs": [
    {
     "data": {
      "text/plain": [
       "{}"
      ]
     },
     "execution_count": 2,
     "metadata": {},
     "output_type": "execute_result"
    }
   ],
   "source": [
    "dict()"
   ]
  },
  {
   "cell_type": "code",
   "execution_count": 3,
   "id": "f10231ac",
   "metadata": {},
   "outputs": [
    {
     "data": {
      "text/plain": [
       "{1: 2, 3: 4}"
      ]
     },
     "execution_count": 3,
     "metadata": {},
     "output_type": "execute_result"
    }
   ],
   "source": [
    "dict(((1, 2), [3, 4]))  # Must be a sequence of 2-item lists/tuples"
   ]
  },
  {
   "cell_type": "markdown",
   "id": "f7decb34",
   "metadata": {},
   "source": [
    "You can also build dicts using **dict comprehensions**"
   ]
  },
  {
   "cell_type": "code",
   "execution_count": 4,
   "id": "f780e799",
   "metadata": {},
   "outputs": [
    {
     "data": {
      "text/plain": [
       "{0: 1, 2: 4, 4: 16, 6: 64, 8: 256}"
      ]
     },
     "execution_count": 4,
     "metadata": {},
     "output_type": "execute_result"
    }
   ],
   "source": [
    "{i: 2 ** i for i in range(0, 10, 2)}"
   ]
  },
  {
   "cell_type": "markdown",
   "id": "f7252a01",
   "metadata": {},
   "source": [
    "We will look more at dict comprehensions in the second hour of the class."
   ]
  },
  {
   "cell_type": "markdown",
   "id": "75688975",
   "metadata": {},
   "source": [
    "### Valid dict types\n",
    "`dict` **values** can be anything.\n",
    "\n",
    "`dict` **keys** must be __hashable__. Basically, if it's a builtin type, it can't be mutable (like `list`, `dict` or `set`). If it's a custom class, it must implement a special method for hashing and checking equality.\n",
    "\n",
    "Keys use `==` to determine key equality. So `1`, `1.0` and `True` all map to the same key."
   ]
  },
  {
   "cell_type": "code",
   "execution_count": 5,
   "id": "24c29589",
   "metadata": {},
   "outputs": [
    {
     "data": {
      "text/plain": [
       "1"
      ]
     },
     "execution_count": 5,
     "metadata": {},
     "output_type": "execute_result"
    }
   ],
   "source": [
    "hash(1)"
   ]
  },
  {
   "cell_type": "code",
   "execution_count": 6,
   "id": "e62ca448",
   "metadata": {},
   "outputs": [
    {
     "data": {
      "text/plain": [
       "True"
      ]
     },
     "execution_count": 6,
     "metadata": {},
     "output_type": "execute_result"
    }
   ],
   "source": [
    "1 == True"
   ]
  },
  {
   "cell_type": "code",
   "execution_count": 7,
   "id": "3246836b",
   "metadata": {},
   "outputs": [
    {
     "data": {
      "text/plain": [
       "{1: 'float'}"
      ]
     },
     "execution_count": 7,
     "metadata": {},
     "output_type": "execute_result"
    }
   ],
   "source": [
    "{\n",
    "    1: ['a', 2,],\n",
    "    True: False,\n",
    "    1.0: 'float',\n",
    "}"
   ]
  },
  {
   "cell_type": "code",
   "execution_count": 8,
   "id": "8eee0cc5",
   "metadata": {},
   "outputs": [
    {
     "name": "stdout",
     "output_type": "stream",
     "text": [
      "TypeError(\"unhashable type: 'list'\")\n"
     ]
    }
   ],
   "source": [
    "try:\n",
    "    {[1, 2]: 'list'}\n",
    "except Exception as e:\n",
    "    print(repr(e))"
   ]
  },
  {
   "cell_type": "markdown",
   "id": "f8ce4f2b",
   "metadata": {},
   "source": [
    "## Getting and updating contents"
   ]
  },
  {
   "cell_type": "code",
   "execution_count": 9,
   "id": "d314f5a8",
   "metadata": {},
   "outputs": [],
   "source": [
    "d = {'a': 1, 'b': 2}"
   ]
  },
  {
   "cell_type": "markdown",
   "id": "0ec6e1a5",
   "metadata": {},
   "source": [
    "### Getting values\n",
    "We get items by key and not index (even if it's an int)"
   ]
  },
  {
   "cell_type": "code",
   "execution_count": 10,
   "id": "5947a884",
   "metadata": {},
   "outputs": [
    {
     "data": {
      "text/plain": [
       "1"
      ]
     },
     "execution_count": 10,
     "metadata": {},
     "output_type": "execute_result"
    }
   ],
   "source": [
    "d['a']"
   ]
  },
  {
   "cell_type": "code",
   "execution_count": 11,
   "id": "a62154d5",
   "metadata": {},
   "outputs": [
    {
     "name": "stdout",
     "output_type": "stream",
     "text": [
      "KeyError('c')\n"
     ]
    }
   ],
   "source": [
    "try:\n",
    "    print(d['c'])  # Key doesn't exist\n",
    "except Exception as e:\n",
    "    print(repr(e))"
   ]
  },
  {
   "cell_type": "code",
   "execution_count": 12,
   "id": "1259a415",
   "metadata": {},
   "outputs": [
    {
     "data": {
      "text/plain": [
       "1"
      ]
     },
     "execution_count": 12,
     "metadata": {},
     "output_type": "execute_result"
    }
   ],
   "source": [
    "d.get('a')"
   ]
  },
  {
   "cell_type": "code",
   "execution_count": 13,
   "id": "a9022e8a",
   "metadata": {},
   "outputs": [
    {
     "name": "stdout",
     "output_type": "stream",
     "text": [
      "None\n"
     ]
    }
   ],
   "source": [
    "print(d.get('c'))  # Key doesn't exist"
   ]
  },
  {
   "cell_type": "code",
   "execution_count": 14,
   "id": "f0c5b218",
   "metadata": {},
   "outputs": [
    {
     "data": {
      "text/plain": [
       "'Not found'"
      ]
     },
     "execution_count": 14,
     "metadata": {},
     "output_type": "execute_result"
    }
   ],
   "source": [
    "d.get('c', 'Not found')  # Can provide default value"
   ]
  },
  {
   "cell_type": "markdown",
   "id": "7c6249a1",
   "metadata": {},
   "source": [
    "### Updating values"
   ]
  },
  {
   "cell_type": "code",
   "execution_count": 15,
   "id": "7150340a",
   "metadata": {},
   "outputs": [
    {
     "data": {
      "text/plain": [
       "{'a': 'new', 'b': 2}"
      ]
     },
     "execution_count": 15,
     "metadata": {},
     "output_type": "execute_result"
    }
   ],
   "source": [
    "d['a'] = 'new'  # update existing item\n",
    "d"
   ]
  },
  {
   "cell_type": "code",
   "execution_count": 16,
   "id": "02928b64",
   "metadata": {},
   "outputs": [
    {
     "data": {
      "text/plain": [
       "{'a': 'new', 'b': 2, 'c': 3}"
      ]
     },
     "execution_count": 16,
     "metadata": {},
     "output_type": "execute_result"
    }
   ],
   "source": [
    "d['c'] = 3  # add item a new item\n",
    "d"
   ]
  },
  {
   "cell_type": "code",
   "execution_count": 17,
   "id": "3252aca0",
   "metadata": {},
   "outputs": [
    {
     "data": {
      "text/plain": [
       "{'a': 'new', 'c': 3}"
      ]
     },
     "execution_count": 17,
     "metadata": {},
     "output_type": "execute_result"
    }
   ],
   "source": [
    "del d['b']  # deleting by key\n",
    "d"
   ]
  },
  {
   "cell_type": "markdown",
   "id": "357e1918",
   "metadata": {},
   "source": [
    "## Checking containment\n",
    "Checks keys, not values"
   ]
  },
  {
   "cell_type": "code",
   "execution_count": 18,
   "id": "5a5e6601",
   "metadata": {},
   "outputs": [
    {
     "data": {
      "text/plain": [
       "True"
      ]
     },
     "execution_count": 18,
     "metadata": {},
     "output_type": "execute_result"
    }
   ],
   "source": [
    "'a' in d"
   ]
  },
  {
   "cell_type": "code",
   "execution_count": 19,
   "id": "f3fa375b",
   "metadata": {},
   "outputs": [
    {
     "data": {
      "text/plain": [
       "False"
      ]
     },
     "execution_count": 19,
     "metadata": {},
     "output_type": "execute_result"
    }
   ],
   "source": [
    "'e' in d"
   ]
  },
  {
   "cell_type": "markdown",
   "id": "6dbce2f9",
   "metadata": {},
   "source": [
    "## Looping\n",
    "Basic loop is over keys"
   ]
  },
  {
   "cell_type": "code",
   "execution_count": 20,
   "id": "6b99824f",
   "metadata": {},
   "outputs": [
    {
     "name": "stdout",
     "output_type": "stream",
     "text": [
      "a\n",
      "c\n"
     ]
    }
   ],
   "source": [
    "for key in d:\n",
    "    print(key)"
   ]
  },
  {
   "cell_type": "markdown",
   "id": "0223cb5f",
   "metadata": {},
   "source": [
    "It's recommended to use `.keys()`, `.values()` or `.items()` to be explicit about what you're looping over."
   ]
  },
  {
   "cell_type": "code",
   "execution_count": 21,
   "id": "8a12e8bb",
   "metadata": {},
   "outputs": [
    {
     "name": "stdout",
     "output_type": "stream",
     "text": [
      "a: new\n",
      "c: 3\n"
     ]
    }
   ],
   "source": [
    "for key, value in d.items():\n",
    "    print(f\"{key}: {value}\")"
   ]
  },
  {
   "cell_type": "code",
   "execution_count": 22,
   "id": "535e3bf0",
   "metadata": {},
   "outputs": [
    {
     "data": {
      "text/plain": [
       "{'a': 'new', 'c': 3, 'b': 3}"
      ]
     },
     "execution_count": 22,
     "metadata": {},
     "output_type": "execute_result"
    }
   ],
   "source": [
    "d['b'] = d['c']\n",
    "d"
   ]
  },
  {
   "cell_type": "code",
   "execution_count": 23,
   "id": "97b99c4d",
   "metadata": {},
   "outputs": [],
   "source": [
    "del d['c']"
   ]
  },
  {
   "cell_type": "code",
   "execution_count": 24,
   "id": "92cbb9e3",
   "metadata": {},
   "outputs": [
    {
     "data": {
      "text/plain": [
       "{'a': 'new', 'b': 3}"
      ]
     },
     "execution_count": 24,
     "metadata": {},
     "output_type": "execute_result"
    }
   ],
   "source": [
    "d"
   ]
  },
  {
   "cell_type": "markdown",
   "id": "3a375857-61e5-488a-8a67-8908ad72809f",
   "metadata": {},
   "source": [
    "## Sorting lists of dicts"
   ]
  },
  {
   "cell_type": "code",
   "execution_count": 25,
   "id": "f83d9909",
   "metadata": {},
   "outputs": [
    {
     "data": {
      "text/plain": [
       "[{1: 'c'}, {1: 'a'}, {1: 'b'}]"
      ]
     },
     "execution_count": 25,
     "metadata": {},
     "output_type": "execute_result"
    }
   ],
   "source": [
    "u1 = {1: 'a'}\n",
    "u2 = {1: 'b'}\n",
    "u3 = {1: 'c'}\n",
    "\n",
    "users = [u3, u1, u2]\n",
    "users"
   ]
  },
  {
   "cell_type": "markdown",
   "id": "9935a105-c7ee-4985-9ff7-73e244d04992",
   "metadata": {},
   "source": [
    "Create a sort function that takes 1 argument and returns a value to sort by.\n",
    "Pass the function into the `.sort()` `key` argument (without calling it)."
   ]
  },
  {
   "cell_type": "code",
   "execution_count": 26,
   "id": "5b02afd6",
   "metadata": {},
   "outputs": [
    {
     "data": {
      "text/plain": [
       "[{1: 'a'}, {1: 'b'}, {1: 'c'}]"
      ]
     },
     "execution_count": 26,
     "metadata": {},
     "output_type": "execute_result"
    }
   ],
   "source": [
    "def sort_by(u):\n",
    "    return u[1]\n",
    "\n",
    "users.sort(key=sort_by)\n",
    "users"
   ]
  },
  {
   "cell_type": "markdown",
   "id": "f8748211-b6fb-4b6b-b15d-d6176067c68a",
   "metadata": {},
   "source": [
    "Or create an anonymous (lambda) function."
   ]
  },
  {
   "cell_type": "code",
   "execution_count": 27,
   "id": "68c101ad",
   "metadata": {},
   "outputs": [
    {
     "data": {
      "text/plain": [
       "[{1: 'a'}, {1: 'b'}, {1: 'c'}]"
      ]
     },
     "execution_count": 27,
     "metadata": {},
     "output_type": "execute_result"
    }
   ],
   "source": [
    "users.sort(key=lambda u: u[1])\n",
    "users"
   ]
  }
 ],
 "metadata": {
  "jupytext": {
   "cell_metadata_filter": "-all",
   "formats": "auto:light,ipynb",
   "main_language": "python",
   "notebook_metadata_filter": "-all"
  },
  "kernelspec": {
   "display_name": "Python 3 (ipykernel)",
   "language": "python",
   "name": "python3"
  },
  "language_info": {
   "codemirror_mode": {
    "name": "ipython",
    "version": 3
   },
   "file_extension": ".py",
   "mimetype": "text/x-python",
   "name": "python",
   "nbconvert_exporter": "python",
   "pygments_lexer": "ipython3",
   "version": "3.11.4"
  }
 },
 "nbformat": 4,
 "nbformat_minor": 5
}
