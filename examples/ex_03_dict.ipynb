{
 "cells": [
  {
   "cell_type": "markdown",
   "id": "83373c68",
   "metadata": {},
   "source": [
    "# Dicts\n",
    "Dictionaries are a type of key-value mapping object.\n",
    "\n",
    "Instead of accessing items by index (position), we get them through via keys.\n",
    "## Creating dicts"
   ]
  },
  {
   "cell_type": "code",
   "id": "789b6d27",
   "metadata": {
    "ExecuteTime": {
     "end_time": "2025-06-09T17:04:52.124164Z",
     "start_time": "2025-06-09T17:04:52.118076Z"
    }
   },
   "source": [
    "{'a': 1, 'b': 2}"
   ],
   "outputs": [
    {
     "data": {
      "text/plain": [
       "{'a': 1, 'b': 2}"
      ]
     },
     "execution_count": 1,
     "metadata": {},
     "output_type": "execute_result"
    }
   ],
   "execution_count": 1
  },
  {
   "cell_type": "code",
   "id": "e14c35ef",
   "metadata": {
    "ExecuteTime": {
     "end_time": "2025-06-11T20:19:44.930618Z",
     "start_time": "2025-06-11T20:19:44.924529Z"
    }
   },
   "source": "type({})  # {} creates empty dict",
   "outputs": [
    {
     "data": {
      "text/plain": [
       "dict"
      ]
     },
     "execution_count": 34,
     "metadata": {},
     "output_type": "execute_result"
    }
   ],
   "execution_count": 34
  },
  {
   "cell_type": "code",
   "id": "f10231ac",
   "metadata": {
    "ExecuteTime": {
     "end_time": "2025-06-09T17:05:37.541983Z",
     "start_time": "2025-06-09T17:05:37.539386Z"
    }
   },
   "source": [
    "dict(((1, 2), [3, 4]))  # Must be a sequence of 2-item lists/tuples"
   ],
   "outputs": [
    {
     "data": {
      "text/plain": [
       "{1: 2, 3: 4}"
      ]
     },
     "execution_count": 4,
     "metadata": {},
     "output_type": "execute_result"
    }
   ],
   "execution_count": 4
  },
  {
   "cell_type": "markdown",
   "id": "f7decb34",
   "metadata": {},
   "source": [
    "You can also build dicts using **dict comprehensions**"
   ]
  },
  {
   "cell_type": "code",
   "id": "f780e799",
   "metadata": {
    "ExecuteTime": {
     "end_time": "2025-06-09T17:05:41.416406Z",
     "start_time": "2025-06-09T17:05:41.413441Z"
    }
   },
   "source": [
    "{i: 2 ** i for i in range(0, 10, 2)}"
   ],
   "outputs": [
    {
     "data": {
      "text/plain": [
       "{0: 1, 2: 4, 4: 16, 6: 64, 8: 256}"
      ]
     },
     "execution_count": 5,
     "metadata": {},
     "output_type": "execute_result"
    }
   ],
   "execution_count": 5
  },
  {
   "cell_type": "markdown",
   "id": "f7252a01",
   "metadata": {},
   "source": [
    "We will look more at dict comprehensions in the second hour of the class."
   ]
  },
  {
   "cell_type": "markdown",
   "id": "75688975",
   "metadata": {},
   "source": [
    "### Valid dict types\n",
    "`dict` **values** can be anything.\n",
    "\n",
    "`dict` **keys** must be __hashable__. Basically, if it's a builtin type, it can't be mutable (like `list`, `dict` or `set`). If it's a custom class, it must implement a special method for hashing and checking equality.\n",
    "\n",
    "Keys use `==` to determine key equality. So `1`, `1.0` and `True` all map to the same key."
   ]
  },
  {
   "cell_type": "code",
   "id": "24c29589",
   "metadata": {
    "ExecuteTime": {
     "end_time": "2025-06-09T17:07:41.537119Z",
     "start_time": "2025-06-09T17:07:41.534428Z"
    }
   },
   "source": "hash(1)",
   "outputs": [
    {
     "data": {
      "text/plain": [
       "1"
      ]
     },
     "execution_count": 10,
     "metadata": {},
     "output_type": "execute_result"
    }
   ],
   "execution_count": 10
  },
  {
   "cell_type": "code",
   "execution_count": 6,
   "id": "e62ca448",
   "metadata": {},
   "outputs": [
    {
     "data": {
      "text/plain": [
       "True"
      ]
     },
     "execution_count": 6,
     "metadata": {},
     "output_type": "execute_result"
    }
   ],
   "source": [
    "1 == True"
   ]
  },
  {
   "cell_type": "code",
   "execution_count": 7,
   "id": "3246836b",
   "metadata": {},
   "outputs": [
    {
     "data": {
      "text/plain": [
       "{1: 'float'}"
      ]
     },
     "execution_count": 7,
     "metadata": {},
     "output_type": "execute_result"
    }
   ],
   "source": [
    "{\n",
    "    1: ['a', 2,],\n",
    "    True: False,\n",
    "    1.0: 'float',\n",
    "}"
   ]
  },
  {
   "cell_type": "code",
   "execution_count": 8,
   "id": "8eee0cc5",
   "metadata": {},
   "outputs": [
    {
     "name": "stdout",
     "output_type": "stream",
     "text": [
      "TypeError(\"unhashable type: 'list'\")\n"
     ]
    }
   ],
   "source": [
    "try:\n",
    "    {[1, 2]: 'list'}\n",
    "except Exception as e:\n",
    "    print(repr(e))"
   ]
  },
  {
   "cell_type": "markdown",
   "id": "f8ce4f2b",
   "metadata": {},
   "source": [
    "## Getting and updating contents"
   ]
  },
  {
   "cell_type": "code",
   "id": "d314f5a8",
   "metadata": {
    "ExecuteTime": {
     "end_time": "2025-06-09T17:09:34.517963Z",
     "start_time": "2025-06-09T17:09:34.515677Z"
    }
   },
   "source": [
    "d = {'a': 1, 'b': 2}"
   ],
   "outputs": [],
   "execution_count": 11
  },
  {
   "cell_type": "markdown",
   "id": "0ec6e1a5",
   "metadata": {},
   "source": [
    "### Getting values\n",
    "We get items by key and not index (even if it's an int)"
   ]
  },
  {
   "cell_type": "code",
   "id": "5947a884",
   "metadata": {
    "ExecuteTime": {
     "end_time": "2025-06-09T17:09:37.048273Z",
     "start_time": "2025-06-09T17:09:37.044400Z"
    }
   },
   "source": [
    "d['a']"
   ],
   "outputs": [
    {
     "data": {
      "text/plain": [
       "1"
      ]
     },
     "execution_count": 12,
     "metadata": {},
     "output_type": "execute_result"
    }
   ],
   "execution_count": 12
  },
  {
   "cell_type": "code",
   "id": "a62154d5",
   "metadata": {
    "ExecuteTime": {
     "end_time": "2025-06-09T17:09:56.824865Z",
     "start_time": "2025-06-09T17:09:56.822660Z"
    }
   },
   "source": [
    "try:\n",
    "    print(d['c'])  # Key doesn't exist\n",
    "except Exception as e:\n",
    "    print(repr(e))"
   ],
   "outputs": [
    {
     "name": "stdout",
     "output_type": "stream",
     "text": [
      "KeyError('c')\n"
     ]
    }
   ],
   "execution_count": 13
  },
  {
   "cell_type": "code",
   "id": "1259a415",
   "metadata": {
    "ExecuteTime": {
     "end_time": "2025-06-09T17:10:04.415469Z",
     "start_time": "2025-06-09T17:10:04.410694Z"
    }
   },
   "source": [
    "d.get('a')"
   ],
   "outputs": [
    {
     "data": {
      "text/plain": [
       "1"
      ]
     },
     "execution_count": 14,
     "metadata": {},
     "output_type": "execute_result"
    }
   ],
   "execution_count": 14
  },
  {
   "cell_type": "code",
   "id": "a9022e8a",
   "metadata": {
    "ExecuteTime": {
     "end_time": "2025-06-09T17:10:09.940874Z",
     "start_time": "2025-06-09T17:10:09.938824Z"
    }
   },
   "source": [
    "print(d.get('c'))  # Key doesn't exist"
   ],
   "outputs": [
    {
     "name": "stdout",
     "output_type": "stream",
     "text": [
      "None\n"
     ]
    }
   ],
   "execution_count": 15
  },
  {
   "cell_type": "code",
   "id": "f0c5b218",
   "metadata": {
    "ExecuteTime": {
     "end_time": "2025-06-09T17:10:18.113406Z",
     "start_time": "2025-06-09T17:10:18.109970Z"
    }
   },
   "source": [
    "d.get('c', 'Not found')  # Can provide default value"
   ],
   "outputs": [
    {
     "data": {
      "text/plain": [
       "'Not found'"
      ]
     },
     "execution_count": 16,
     "metadata": {},
     "output_type": "execute_result"
    }
   ],
   "execution_count": 16
  },
  {
   "cell_type": "markdown",
   "id": "7c6249a1",
   "metadata": {},
   "source": [
    "### Updating values"
   ]
  },
  {
   "cell_type": "code",
   "id": "7150340a",
   "metadata": {
    "ExecuteTime": {
     "end_time": "2025-06-09T17:10:28.168567Z",
     "start_time": "2025-06-09T17:10:28.165637Z"
    }
   },
   "source": [
    "d['a'] = 'new'  # update existing item\n",
    "d"
   ],
   "outputs": [
    {
     "data": {
      "text/plain": [
       "{'a': 'new', 'b': 2}"
      ]
     },
     "execution_count": 17,
     "metadata": {},
     "output_type": "execute_result"
    }
   ],
   "execution_count": 17
  },
  {
   "cell_type": "code",
   "id": "02928b64",
   "metadata": {
    "ExecuteTime": {
     "end_time": "2025-06-09T17:10:34.674594Z",
     "start_time": "2025-06-09T17:10:34.670277Z"
    }
   },
   "source": [
    "d['c'] = 3  # add item a new item\n",
    "d"
   ],
   "outputs": [
    {
     "data": {
      "text/plain": [
       "{'a': 'new', 'b': 2, 'c': 3}"
      ]
     },
     "execution_count": 18,
     "metadata": {},
     "output_type": "execute_result"
    }
   ],
   "execution_count": 18
  },
  {
   "cell_type": "code",
   "id": "3252aca0",
   "metadata": {
    "ExecuteTime": {
     "end_time": "2025-06-09T17:10:43.599Z",
     "start_time": "2025-06-09T17:10:43.595436Z"
    }
   },
   "source": [
    "del d['b']  # deleting by key\n",
    "d"
   ],
   "outputs": [
    {
     "data": {
      "text/plain": [
       "{'a': 'new', 'c': 3}"
      ]
     },
     "execution_count": 19,
     "metadata": {},
     "output_type": "execute_result"
    }
   ],
   "execution_count": 19
  },
  {
   "cell_type": "markdown",
   "id": "357e1918",
   "metadata": {},
   "source": [
    "## Checking containment\n",
    "Checks keys, not values"
   ]
  },
  {
   "cell_type": "code",
   "id": "5a5e6601",
   "metadata": {
    "ExecuteTime": {
     "end_time": "2025-06-09T17:10:51.233092Z",
     "start_time": "2025-06-09T17:10:51.230194Z"
    }
   },
   "source": [
    "'a' in d"
   ],
   "outputs": [
    {
     "data": {
      "text/plain": [
       "True"
      ]
     },
     "execution_count": 20,
     "metadata": {},
     "output_type": "execute_result"
    }
   ],
   "execution_count": 20
  },
  {
   "cell_type": "code",
   "id": "f3fa375b",
   "metadata": {
    "ExecuteTime": {
     "end_time": "2025-06-09T17:11:19.759815Z",
     "start_time": "2025-06-09T17:11:19.756225Z"
    }
   },
   "source": "3 in d.values()",
   "outputs": [
    {
     "data": {
      "text/plain": [
       "True"
      ]
     },
     "execution_count": 23,
     "metadata": {},
     "output_type": "execute_result"
    }
   ],
   "execution_count": 23
  },
  {
   "cell_type": "markdown",
   "id": "6dbce2f9",
   "metadata": {},
   "source": [
    "## Looping\n",
    "Basic loop is over keys"
   ]
  },
  {
   "cell_type": "code",
   "id": "6b99824f",
   "metadata": {
    "ExecuteTime": {
     "end_time": "2025-06-09T17:11:29.284165Z",
     "start_time": "2025-06-09T17:11:29.280487Z"
    }
   },
   "source": [
    "for key in d:\n",
    "    print(key)"
   ],
   "outputs": [
    {
     "name": "stdout",
     "output_type": "stream",
     "text": [
      "a\n",
      "c\n"
     ]
    }
   ],
   "execution_count": 24
  },
  {
   "cell_type": "markdown",
   "id": "0223cb5f",
   "metadata": {},
   "source": [
    "It's recommended to use `.keys()`, `.values()` or `.items()` to be explicit about what you're looping over."
   ]
  },
  {
   "cell_type": "code",
   "id": "8a12e8bb",
   "metadata": {
    "ExecuteTime": {
     "end_time": "2025-06-09T17:12:06.025839Z",
     "start_time": "2025-06-09T17:12:06.023768Z"
    }
   },
   "source": [
    "for key, value in d.items():\n",
    "    print(f\"{key}: {value}\")"
   ],
   "outputs": [
    {
     "name": "stdout",
     "output_type": "stream",
     "text": [
      "a: new\n",
      "c: 3\n"
     ]
    }
   ],
   "execution_count": 25
  },
  {
   "cell_type": "markdown",
   "id": "3a375857-61e5-488a-8a67-8908ad72809f",
   "metadata": {},
   "source": [
    "## Sorting lists of dicts"
   ]
  },
  {
   "cell_type": "code",
   "id": "f83d9909",
   "metadata": {
    "ExecuteTime": {
     "end_time": "2025-06-09T17:12:47.924006Z",
     "start_time": "2025-06-09T17:12:47.920558Z"
    }
   },
   "source": [
    "u1 = {1: 'a'}\n",
    "u2 = {1: 'b'}\n",
    "u3 = {1: 'c'}\n",
    "\n",
    "users = [u3, u1, u2]\n",
    "users"
   ],
   "outputs": [
    {
     "data": {
      "text/plain": [
       "[{1: 'c'}, {1: 'a'}, {1: 'b'}]"
      ]
     },
     "execution_count": 26,
     "metadata": {},
     "output_type": "execute_result"
    }
   ],
   "execution_count": 26
  },
  {
   "cell_type": "markdown",
   "id": "9935a105-c7ee-4985-9ff7-73e244d04992",
   "metadata": {},
   "source": [
    "Create a sort function that takes 1 argument and returns a value to sort by.\n",
    "Pass the function into the `.sort()` `key` argument (without calling it)."
   ]
  },
  {
   "cell_type": "code",
   "id": "5b02afd6",
   "metadata": {
    "ExecuteTime": {
     "end_time": "2025-06-09T17:15:34.343663Z",
     "start_time": "2025-06-09T17:15:34.340579Z"
    }
   },
   "source": [
    "def sort_by(u):\n",
    "    return u[1]\n",
    "\n",
    "users.sort(key=sort_by)\n",
    "users"
   ],
   "outputs": [
    {
     "data": {
      "text/plain": [
       "[{1: 'a'}, {1: 'b'}, {1: 'c'}]"
      ]
     },
     "execution_count": 32,
     "metadata": {},
     "output_type": "execute_result"
    }
   ],
   "execution_count": 32
  },
  {
   "cell_type": "markdown",
   "id": "f8748211-b6fb-4b6b-b15d-d6176067c68a",
   "metadata": {},
   "source": [
    "Or create an anonymous (lambda) function."
   ]
  },
  {
   "cell_type": "code",
   "id": "68c101ad",
   "metadata": {
    "ExecuteTime": {
     "end_time": "2025-06-09T17:15:36.720737Z",
     "start_time": "2025-06-09T17:15:36.716857Z"
    }
   },
   "source": [
    "users.sort(key=lambda u: u[1])\n",
    "users"
   ],
   "outputs": [
    {
     "data": {
      "text/plain": [
       "[{1: 'a'}, {1: 'b'}, {1: 'c'}]"
      ]
     },
     "execution_count": 33,
     "metadata": {},
     "output_type": "execute_result"
    }
   ],
   "execution_count": 33
  }
 ],
 "metadata": {
  "jupytext": {
   "cell_metadata_filter": "-all",
   "formats": "auto:light,ipynb",
   "main_language": "python",
   "notebook_metadata_filter": "-all"
  },
  "kernelspec": {
   "display_name": "Python 3 (ipykernel)",
   "language": "python",
   "name": "python3"
  },
  "language_info": {
   "codemirror_mode": {
    "name": "ipython",
    "version": 3
   },
   "file_extension": ".py",
   "mimetype": "text/x-python",
   "name": "python",
   "nbconvert_exporter": "python",
   "pygments_lexer": "ipython3",
   "version": "3.11.4"
  }
 },
 "nbformat": 4,
 "nbformat_minor": 5
}
