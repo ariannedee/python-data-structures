{
 "cells": [
  {
   "cell_type": "markdown",
   "id": "f965542d",
   "metadata": {},
   "source": [
    "# List Comprehensions\n",
    "General format:\n",
    "`new_list = [expression for member in iterable]`\n",
    "## Basic comprehensions"
   ]
  },
  {
   "cell_type": "code",
   "execution_count": 1,
   "id": "6645930d",
   "metadata": {},
   "outputs": [
    {
     "data": {
      "text/plain": [
       "[0, 1, 4, 9, 16, 25, 36, 49, 64, 81]"
      ]
     },
     "execution_count": 1,
     "metadata": {},
     "output_type": "execute_result"
    }
   ],
   "source": [
    "squares = [i ** 2 for i in range(10)]\n",
    "squares"
   ]
  },
  {
   "cell_type": "markdown",
   "id": "48adce36",
   "metadata": {},
   "source": [
    "### As for-loop"
   ]
  },
  {
   "cell_type": "code",
   "execution_count": 2,
   "id": "49295b69",
   "metadata": {},
   "outputs": [
    {
     "data": {
      "text/plain": [
       "[0, 1, 4, 9, 16, 25, 36, 49, 64, 81]"
      ]
     },
     "execution_count": 2,
     "metadata": {},
     "output_type": "execute_result"
    }
   ],
   "source": [
    "squares = []\n",
    "for i in range(10):\n",
    "    squares.append(i ** 2)\n",
    "\n",
    "squares"
   ]
  },
  {
   "cell_type": "markdown",
   "id": "bc661729",
   "metadata": {},
   "source": [
    "## Using conditionals\n",
    "Generalized:\n",
    "`new_list = [expression for member in iterable if condition]`"
   ]
  },
  {
   "cell_type": "code",
   "execution_count": 3,
   "id": "d6dbe602",
   "metadata": {},
   "outputs": [
    {
     "data": {
      "text/plain": [
       "[1, 4, 16, 64, 256]"
      ]
     },
     "execution_count": 3,
     "metadata": {},
     "output_type": "execute_result"
    }
   ],
   "source": [
    "evens = [2 ** i for i in range(10) if i % 2 == 0]\n",
    "evens"
   ]
  },
  {
   "cell_type": "markdown",
   "id": "765f5439",
   "metadata": {},
   "source": [
    "### As for-loop"
   ]
  },
  {
   "cell_type": "code",
   "execution_count": 4,
   "id": "2f85ee00",
   "metadata": {},
   "outputs": [
    {
     "data": {
      "text/plain": [
       "[1, 4, 16, 64, 256]"
      ]
     },
     "execution_count": 4,
     "metadata": {},
     "output_type": "execute_result"
    }
   ],
   "source": [
    "evens = []\n",
    "\n",
    "for i in range(10):\n",
    "    if i % 2 == 0:\n",
    "        evens.append(2 ** i)\n",
    "evens"
   ]
  },
  {
   "cell_type": "markdown",
   "id": "dbc31563",
   "metadata": {},
   "source": [
    "## With ternary operator"
   ]
  },
  {
   "cell_type": "code",
   "execution_count": 5,
   "id": "b6002c1c",
   "metadata": {},
   "outputs": [],
   "source": [
    "x = 'a' if True else 'b'\n",
    "\n",
    "if True:\n",
    "    x = 'a'\n",
    "else:\n",
    "    x = 'b'"
   ]
  },
  {
   "cell_type": "code",
   "execution_count": 6,
   "id": "5b7fe22d",
   "metadata": {},
   "outputs": [
    {
     "data": {
      "text/plain": [
       "[True, False, True, False, True, False, True, False, True, False]"
      ]
     },
     "execution_count": 6,
     "metadata": {},
     "output_type": "execute_result"
    }
   ],
   "source": [
    "is_even = [True if i % 2 == 0 else False for i in range(10)]\n",
    "is_even"
   ]
  },
  {
   "cell_type": "code",
   "execution_count": 7,
   "id": "ba83fd83",
   "metadata": {},
   "outputs": [
    {
     "data": {
      "text/plain": [
       "[True, False, True, False, True, False, True, False, True, False]"
      ]
     },
     "execution_count": 7,
     "metadata": {},
     "output_type": "execute_result"
    }
   ],
   "source": [
    "is_even = []\n",
    "for i in range(10):\n",
    "    if i % 2 == 0:\n",
    "        is_even.append(True)\n",
    "    else:\n",
    "        is_even.append(False)\n",
    "is_even"
   ]
  },
  {
   "cell_type": "markdown",
   "id": "4a4e28e1",
   "metadata": {},
   "source": [
    "## Nested comprehensions\n",
    "### Nested lists"
   ]
  },
  {
   "cell_type": "code",
   "execution_count": 8,
   "id": "c1bd1ec2",
   "metadata": {},
   "outputs": [
    {
     "data": {
      "text/plain": [
       "[[(0, 0), (0, 1), (0, 2)], [(1, 0), (1, 1), (1, 2)], [(2, 0), (2, 1), (2, 2)]]"
      ]
     },
     "execution_count": 8,
     "metadata": {},
     "output_type": "execute_result"
    }
   ],
   "source": [
    "coords = [\n",
    "    [(x, y) for y in range(3)]\n",
    "    for x in range(3)\n",
    "]\n",
    "coords"
   ]
  },
  {
   "cell_type": "markdown",
   "id": "38e1ae94",
   "metadata": {},
   "source": [
    "### Looping over coords"
   ]
  },
  {
   "cell_type": "code",
   "execution_count": 9,
   "id": "2dd071ae",
   "metadata": {},
   "outputs": [
    {
     "name": "stdout",
     "output_type": "stream",
     "text": [
      "[(0, 0), (0, 1), (0, 2)]\n",
      "[(1, 0), (1, 1), (1, 2)]\n",
      "[(2, 0), (2, 1), (2, 2)]\n"
     ]
    }
   ],
   "source": [
    "for row in coords:\n",
    "    print(row)"
   ]
  },
  {
   "cell_type": "markdown",
   "id": "fd65c801",
   "metadata": {},
   "source": [
    "### As for-loop"
   ]
  },
  {
   "cell_type": "code",
   "execution_count": 10,
   "id": "99115c5c",
   "metadata": {},
   "outputs": [
    {
     "data": {
      "text/plain": [
       "[[(0, 0), (0, 1), (0, 2)], [(1, 0), (1, 1), (1, 2)], [(2, 0), (2, 1), (2, 2)]]"
      ]
     },
     "execution_count": 10,
     "metadata": {},
     "output_type": "execute_result"
    }
   ],
   "source": [
    "coords = []\n",
    "for x in range(3):\n",
    "    row = []\n",
    "    for y in range(3):\n",
    "        row.append((x, y))\n",
    "    coords.append(row)\n",
    "coords"
   ]
  },
  {
   "cell_type": "markdown",
   "id": "9f2a4f55",
   "metadata": {},
   "source": [
    "### Flattened list"
   ]
  },
  {
   "cell_type": "code",
   "execution_count": 11,
   "id": "d78b2ec4",
   "metadata": {},
   "outputs": [
    {
     "data": {
      "text/plain": [
       "[(0, 0), (0, 1), (0, 2), (1, 0), (1, 1), (1, 2), (2, 0), (2, 1), (2, 2)]"
      ]
     },
     "execution_count": 11,
     "metadata": {},
     "output_type": "execute_result"
    }
   ],
   "source": [
    "coords = [(x, y) for x in range(3) for y in range(3)]\n",
    "coords"
   ]
  },
  {
   "cell_type": "code",
   "execution_count": 12,
   "id": "90f8d9dc-0008-4bfd-a559-c458a2edb0d2",
   "metadata": {},
   "outputs": [
    {
     "data": {
      "text/plain": [
       "[7, 2, 6, 1, 4, 5, -2, 8, 0]"
      ]
     },
     "execution_count": 12,
     "metadata": {},
     "output_type": "execute_result"
    }
   ],
   "source": [
    "nums_list = [[7, 2], [6], [1, 4, 5], [-2, 8, 0]]\n",
    "nums = [n for li in nums_list for n in li]\n",
    "nums"
   ]
  },
  {
   "cell_type": "markdown",
   "id": "f86e4c0f",
   "metadata": {},
   "source": [
    "### As for-loop"
   ]
  },
  {
   "cell_type": "code",
   "execution_count": 13,
   "id": "9cb3f840",
   "metadata": {},
   "outputs": [
    {
     "data": {
      "text/plain": [
       "[7, 2, 6, 1, 4, 5, -2, 8, 0]"
      ]
     },
     "execution_count": 13,
     "metadata": {},
     "output_type": "execute_result"
    }
   ],
   "source": [
    "nums = []\n",
    "for li in nums_list:\n",
    "    for n in li:\n",
    "        nums.append(n)\n",
    "nums"
   ]
  },
  {
   "cell_type": "code",
   "execution_count": 14,
   "id": "537afa17",
   "metadata": {},
   "outputs": [
    {
     "data": {
      "text/plain": [
       "[(0, 0), (0, 1), (0, 2), (1, 0), (1, 1), (1, 2), (2, 0), (2, 1), (2, 2)]"
      ]
     },
     "execution_count": 14,
     "metadata": {},
     "output_type": "execute_result"
    }
   ],
   "source": [
    "coords = []\n",
    "for x in range(3):\n",
    "    for y in range(3):\n",
    "        coords.append((x, y))\n",
    "coords"
   ]
  },
  {
   "cell_type": "markdown",
   "id": "3aa84d52",
   "metadata": {},
   "source": [
    "## Complex comprehension example"
   ]
  },
  {
   "cell_type": "code",
   "execution_count": 15,
   "id": "bf727a7f",
   "metadata": {},
   "outputs": [],
   "source": [
    "nums_list = [[7, 2], [6], [1, 4, 5], [-2, 8, 0]]"
   ]
  },
  {
   "cell_type": "code",
   "execution_count": 16,
   "id": "fc026a5b",
   "metadata": {},
   "outputs": [
    {
     "data": {
      "text/plain": [
       "[4, 1, 16, 4, 0]"
      ]
     },
     "execution_count": 16,
     "metadata": {},
     "output_type": "execute_result"
    }
   ],
   "source": [
    "small_nums_squared = [n ** 2\n",
    "    for li in nums_list\n",
    "    for n in li\n",
    "    if n < 5]\n",
    "small_nums_squared"
   ]
  },
  {
   "cell_type": "markdown",
   "id": "f0cea854",
   "metadata": {},
   "source": [
    "### As for-loop"
   ]
  },
  {
   "cell_type": "code",
   "execution_count": 17,
   "id": "785f0f6b",
   "metadata": {},
   "outputs": [
    {
     "data": {
      "text/plain": [
       "[2, 1, 4, -2, 0]"
      ]
     },
     "execution_count": 17,
     "metadata": {},
     "output_type": "execute_result"
    }
   ],
   "source": [
    "small_nums = []\n",
    "for li in nums_list:\n",
    "    for n in li:\n",
    "        if n < 5:\n",
    "            small_nums.append(n)\n",
    "small_nums"
   ]
  },
  {
   "cell_type": "markdown",
   "id": "b03b448a",
   "metadata": {},
   "source": [
    "## Very complex example"
   ]
  },
  {
   "cell_type": "code",
   "execution_count": 18,
   "id": "2eedf8cb",
   "metadata": {},
   "outputs": [],
   "source": [
    "nums_list = [[7, 2], [6], [1, 4, 5], [-2, 8, 0]]"
   ]
  },
  {
   "cell_type": "code",
   "execution_count": 19,
   "id": "de5f303a",
   "metadata": {},
   "outputs": [
    {
     "data": {
      "text/plain": [
       "[7, -1, 5]"
      ]
     },
     "execution_count": 19,
     "metadata": {},
     "output_type": "execute_result"
    }
   ],
   "source": [
    "a_list = [n if n > 3 else -n\n",
    "    for li in nums_list\n",
    "    if len(li) > 1\n",
    "    for n in li\n",
    "    if n % 2 == 1]\n",
    "a_list"
   ]
  },
  {
   "cell_type": "markdown",
   "id": "28e08d20",
   "metadata": {},
   "source": [
    "### As for-loop"
   ]
  },
  {
   "cell_type": "code",
   "execution_count": 20,
   "id": "5db47e00",
   "metadata": {},
   "outputs": [
    {
     "data": {
      "text/plain": [
       "[7, -1, 5]"
      ]
     },
     "execution_count": 20,
     "metadata": {},
     "output_type": "execute_result"
    }
   ],
   "source": [
    "a_list = []\n",
    "for li in nums_list:\n",
    "    if len(li) > 1:\n",
    "        for n in li:\n",
    "            if n % 2 == 1:\n",
    "                if n > 3:\n",
    "                    a_list.append(n)\n",
    "                else:\n",
    "                    a_list.append(-n)\n",
    "a_list"
   ]
  },
  {
   "cell_type": "markdown",
   "id": "28aa0da2",
   "metadata": {},
   "source": [
    "### Functionally, with map/filter/sum"
   ]
  },
  {
   "cell_type": "code",
   "execution_count": 21,
   "id": "bb109db1",
   "metadata": {},
   "outputs": [
    {
     "data": {
      "text/plain": [
       "[7, -1, 5]"
      ]
     },
     "execution_count": 21,
     "metadata": {},
     "output_type": "execute_result"
    }
   ],
   "source": [
    "SMALL_NUM = 3\n",
    "multiple_nums = filter(lambda nums: len(nums) > 1, nums_list)\n",
    "flattened = sum(multiple_nums, [])\n",
    "odds = filter(lambda n: n % 2 == 1, flattened)\n",
    "small_becomes_negative = map(lambda n: -n if n < SMALL_NUM else n, odds)\n",
    "a_list = list(small_becomes_negative)\n",
    "a_list"
   ]
  },
  {
   "cell_type": "code",
   "execution_count": null,
   "id": "3abfefc6",
   "metadata": {},
   "outputs": [],
   "source": []
  }
 ],
 "metadata": {
  "jupytext": {
   "cell_metadata_filter": "-all",
   "formats": "auto:light,ipynb",
   "main_language": "python",
   "notebook_metadata_filter": "-all"
  },
  "kernelspec": {
   "display_name": "Python 3 (ipykernel)",
   "language": "python",
   "name": "python3"
  },
  "language_info": {
   "codemirror_mode": {
    "name": "ipython",
    "version": 3
   },
   "file_extension": ".py",
   "mimetype": "text/x-python",
   "name": "python",
   "nbconvert_exporter": "python",
   "pygments_lexer": "ipython3",
   "version": "3.11.4"
  }
 },
 "nbformat": 4,
 "nbformat_minor": 5
}
