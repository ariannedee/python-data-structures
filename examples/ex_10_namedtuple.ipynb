{
 "cells": [
  {
   "cell_type": "markdown",
   "id": "b96222eb-c6d6-4a99-8345-71f324bfd283",
   "metadata": {},
   "source": [
    "# collections.namedtuple\n",
    "\n",
    "A lightweight class that acts like a tuple with a type name and attributes."
   ]
  },
  {
   "cell_type": "code",
   "id": "bd3a527a-9438-47e8-ac0e-19a252a5e02a",
   "metadata": {
    "ExecuteTime": {
     "end_time": "2025-10-21T19:14:46.673293Z",
     "start_time": "2025-10-21T19:14:46.671108Z"
    }
   },
   "source": [
    "from collections import namedtuple"
   ],
   "outputs": [],
   "execution_count": 1
  },
  {
   "cell_type": "markdown",
   "id": "bfc59467-b978-4da6-a719-69dd13624fbb",
   "metadata": {},
   "source": [
    "Define a \"class\" with a name and attributes."
   ]
  },
  {
   "cell_type": "code",
   "id": "81e30457-2fb8-4931-9155-7d4ef56e7c60",
   "metadata": {
    "ExecuteTime": {
     "end_time": "2025-10-21T19:16:22.436200Z",
     "start_time": "2025-10-21T19:16:22.430577Z"
    }
   },
   "source": [
    "Coords = namedtuple(\"Location\", \"name lat lon\")"
   ],
   "outputs": [],
   "execution_count": 3
  },
  {
   "cell_type": "markdown",
   "id": "f85c368a-c984-414b-94d6-88a3ed512afd",
   "metadata": {},
   "source": [
    "Create an \"instance\" of the class."
   ]
  },
  {
   "cell_type": "code",
   "id": "7725a970-2681-473b-a3a3-be6d871f0262",
   "metadata": {
    "ExecuteTime": {
     "end_time": "2025-10-21T19:16:23.241773Z",
     "start_time": "2025-10-21T19:16:23.235041Z"
    }
   },
   "source": [
    "c = Coords('London', 42.99, -81.243)\n",
    "c"
   ],
   "outputs": [
    {
     "data": {
      "text/plain": [
       "Location(name='London', lat=42.99, lon=-81.243)"
      ]
     },
     "execution_count": 4,
     "metadata": {},
     "output_type": "execute_result"
    }
   ],
   "execution_count": 4
  },
  {
   "cell_type": "markdown",
   "id": "3c9ece39-b54c-4fc0-9f2e-6abd9b6ecec2",
   "metadata": {},
   "source": [
    "You can interact with the instance as if it were a tuple."
   ]
  },
  {
   "cell_type": "code",
   "id": "3f451a6d-e07f-46b0-803c-d018259fdc52",
   "metadata": {
    "ExecuteTime": {
     "end_time": "2025-10-21T19:16:45.310633Z",
     "start_time": "2025-10-21T19:16:45.307517Z"
    }
   },
   "source": "c[0]",
   "outputs": [
    {
     "data": {
      "text/plain": [
       "'London'"
      ]
     },
     "execution_count": 8,
     "metadata": {},
     "output_type": "execute_result"
    }
   ],
   "execution_count": 8
  },
  {
   "cell_type": "markdown",
   "id": "ce85f872-3615-4edf-9428-3478dd7c9931",
   "metadata": {},
   "source": [
    "You can also access the named attributes."
   ]
  },
  {
   "cell_type": "code",
   "id": "783fb82b-3017-424d-bfa9-52ebc801888f",
   "metadata": {
    "ExecuteTime": {
     "end_time": "2025-10-21T19:16:50.644747Z",
     "start_time": "2025-10-21T19:16:50.641325Z"
    }
   },
   "source": [
    "c.name"
   ],
   "outputs": [
    {
     "data": {
      "text/plain": [
       "'London'"
      ]
     },
     "execution_count": 9,
     "metadata": {},
     "output_type": "execute_result"
    }
   ],
   "execution_count": 9
  },
  {
   "cell_type": "code",
   "id": "a7d94b61-2579-4d1b-80a7-fff1aac4b85d",
   "metadata": {
    "ExecuteTime": {
     "end_time": "2025-10-21T19:16:51.656821Z",
     "start_time": "2025-10-21T19:16:51.653813Z"
    }
   },
   "source": [
    "c.lat"
   ],
   "outputs": [
    {
     "data": {
      "text/plain": [
       "42.99"
      ]
     },
     "execution_count": 10,
     "metadata": {},
     "output_type": "execute_result"
    }
   ],
   "execution_count": 10
  },
  {
   "cell_type": "code",
   "id": "93396285-b89b-4395-91aa-2680656111b2",
   "metadata": {
    "ExecuteTime": {
     "end_time": "2025-10-21T19:17:06.463871Z",
     "start_time": "2025-10-21T19:17:06.461011Z"
    }
   },
   "source": [
    "type(c)"
   ],
   "outputs": [
    {
     "data": {
      "text/plain": [
       "__main__.Location"
      ]
     },
     "execution_count": 11,
     "metadata": {},
     "output_type": "execute_result"
    }
   ],
   "execution_count": 11
  },
  {
   "cell_type": "code",
   "id": "d7375a53-0790-45c5-aa6f-31f2b15bd03c",
   "metadata": {
    "ExecuteTime": {
     "end_time": "2025-10-21T19:17:13.950180Z",
     "start_time": "2025-10-21T19:17:13.948312Z"
    }
   },
   "source": [
    "try:\n",
    "    c[1] += 1\n",
    "except Exception as e:\n",
    "    print(repr(e))"
   ],
   "outputs": [
    {
     "name": "stdout",
     "output_type": "stream",
     "text": [
      "TypeError(\"'Location' object does not support item assignment\")\n"
     ]
    }
   ],
   "execution_count": 12
  },
  {
   "cell_type": "code",
   "id": "69446e6b-79f9-45d7-bd81-0e1d1907bb5e",
   "metadata": {
    "ExecuteTime": {
     "end_time": "2025-10-21T19:18:59.305646Z",
     "start_time": "2025-10-21T19:18:59.301300Z"
    }
   },
   "source": [
    "from typing import NamedTuple\n",
    "\n",
    "class Location(NamedTuple):\n",
    "    name: str\n",
    "    lat: float\n",
    "    lon: float\n"
   ],
   "outputs": [],
   "execution_count": 13
  },
  {
   "metadata": {
    "ExecuteTime": {
     "end_time": "2025-10-21T19:19:41.426885Z",
     "start_time": "2025-10-21T19:19:41.423648Z"
    }
   },
   "cell_type": "code",
   "source": "l = Location('London2', 42.99, -81.243)",
   "id": "9b890e6c4742c11b",
   "outputs": [],
   "execution_count": 18
  },
  {
   "metadata": {
    "ExecuteTime": {
     "end_time": "2025-10-21T19:19:08.710192Z",
     "start_time": "2025-10-21T19:19:08.707154Z"
    }
   },
   "cell_type": "code",
   "source": "l.name",
   "id": "316623ccdcfd7613",
   "outputs": [
    {
     "data": {
      "text/plain": [
       "'London2'"
      ]
     },
     "execution_count": 16,
     "metadata": {},
     "output_type": "execute_result"
    }
   ],
   "execution_count": 16
  },
  {
   "metadata": {
    "ExecuteTime": {
     "end_time": "2025-10-21T19:19:53.857140Z",
     "start_time": "2025-10-21T19:19:53.854077Z"
    }
   },
   "cell_type": "code",
   "source": "type(l)",
   "id": "659c7aa315cdcaa9",
   "outputs": [
    {
     "data": {
      "text/plain": [
       "__main__.Location"
      ]
     },
     "execution_count": 19,
     "metadata": {},
     "output_type": "execute_result"
    }
   ],
   "execution_count": 19
  },
  {
   "metadata": {
    "ExecuteTime": {
     "end_time": "2025-10-21T19:20:05.834867Z",
     "start_time": "2025-10-21T19:20:05.832021Z"
    }
   },
   "cell_type": "code",
   "source": "l[1]",
   "id": "b7b55ee2bfdc1cbe",
   "outputs": [
    {
     "data": {
      "text/plain": [
       "42.99"
      ]
     },
     "execution_count": 20,
     "metadata": {},
     "output_type": "execute_result"
    }
   ],
   "execution_count": 20
  },
  {
   "metadata": {
    "ExecuteTime": {
     "end_time": "2025-10-21T19:20:20.385624Z",
     "start_time": "2025-10-21T19:20:20.380099Z"
    }
   },
   "cell_type": "code",
   "source": [
    "name, lat, lon = l\n",
    "lat"
   ],
   "id": "24d1bd08c160af46",
   "outputs": [
    {
     "data": {
      "text/plain": [
       "42.99"
      ]
     },
     "execution_count": 21,
     "metadata": {},
     "output_type": "execute_result"
    }
   ],
   "execution_count": 21
  },
  {
   "metadata": {},
   "cell_type": "code",
   "outputs": [],
   "execution_count": null,
   "source": "",
   "id": "3ca62e7ca2d75273"
  }
 ],
 "metadata": {
  "kernelspec": {
   "display_name": "Python 3 (ipykernel)",
   "language": "python",
   "name": "python3"
  },
  "language_info": {
   "codemirror_mode": {
    "name": "ipython",
    "version": 3
   },
   "file_extension": ".py",
   "mimetype": "text/x-python",
   "name": "python",
   "nbconvert_exporter": "python",
   "pygments_lexer": "ipython3",
   "version": "3.11.4"
  }
 },
 "nbformat": 4,
 "nbformat_minor": 5
}
