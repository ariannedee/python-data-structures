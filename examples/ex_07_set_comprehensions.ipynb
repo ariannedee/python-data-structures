{
 "cells": [
  {
   "cell_type": "markdown",
   "id": "440f5c8f",
   "metadata": {},
   "source": [
    "# Set Comprehensions\n",
    "Just like `dict` comprehensions, but without a value expression (just key).\n",
    "\n",
    "Or just like `list` comprehensions, but using curly braces `{}`.\n",
    "## Basic comprehensions"
   ]
  },
  {
   "metadata": {
    "ExecuteTime": {
     "end_time": "2025-08-15T21:20:41.597827Z",
     "start_time": "2025-08-15T21:20:41.593589Z"
    }
   },
   "cell_type": "code",
   "source": [
    "num_list = [10, 2, 3, 3, 8]\n",
    "num_set = {num ** 2 for num in num_list}\n",
    "num_set"
   ],
   "id": "cc9194176c6d71a8",
   "outputs": [
    {
     "data": {
      "text/plain": [
       "{4, 9, 64, 100}"
      ]
     },
     "execution_count": 5,
     "metadata": {},
     "output_type": "execute_result"
    }
   ],
   "execution_count": 5
  },
  {
   "cell_type": "markdown",
   "id": "b782a490",
   "metadata": {},
   "source": [
    "## Nested comprehensions\n",
    "### Nested set\n",
    "Sets can only contain hashable items.\n",
    "\n",
    "Since sets are mutable, if you want to nest sets, you must make any inner set an immutable `frozenset`."
   ]
  },
  {
   "metadata": {
    "ExecuteTime": {
     "end_time": "2025-08-15T21:20:41.614284Z",
     "start_time": "2025-08-15T21:20:41.611290Z"
    }
   },
   "cell_type": "code",
   "source": [
    "words = ['mom', 'dad', 'add', 'moo']\n",
    "num_set = {\n",
    "    frozenset({char for char in word})\n",
    "    for word in words\n",
    "}\n",
    "num_set"
   ],
   "id": "fcf2dc3f6b67289a",
   "outputs": [
    {
     "data": {
      "text/plain": [
       "{frozenset({'m', 'o'}), frozenset({'a', 'd'})}"
      ]
     },
     "execution_count": 6,
     "metadata": {},
     "output_type": "execute_result"
    }
   ],
   "execution_count": 6
  },
  {
   "cell_type": "markdown",
   "id": "9117d146",
   "metadata": {},
   "source": [
    "### Flattened set"
   ]
  },
  {
   "cell_type": "code",
   "id": "1d6802d8",
   "metadata": {
    "ExecuteTime": {
     "end_time": "2025-08-15T21:20:41.631279Z",
     "start_time": "2025-08-15T21:20:41.628180Z"
    }
   },
   "source": [
    "words = ['mom', 'dad', 'ham']\n",
    "chars = {char for word in words for char in word}\n",
    "chars"
   ],
   "outputs": [
    {
     "data": {
      "text/plain": [
       "{'a', 'd', 'h', 'm', 'o'}"
      ]
     },
     "execution_count": 7,
     "metadata": {},
     "output_type": "execute_result"
    }
   ],
   "execution_count": 7
  },
  {
   "cell_type": "markdown",
   "id": "0f99d278",
   "metadata": {},
   "source": [
    "### As for-loop"
   ]
  },
  {
   "cell_type": "code",
   "id": "40c6d4c0",
   "metadata": {
    "ExecuteTime": {
     "end_time": "2025-08-15T21:20:41.640744Z",
     "start_time": "2025-08-15T21:20:41.638417Z"
    }
   },
   "source": [
    "chars = set()\n",
    "for word in words:\n",
    "    for char in word:\n",
    "        chars.add(char)\n",
    "chars"
   ],
   "outputs": [
    {
     "data": {
      "text/plain": [
       "{'a', 'd', 'h', 'm', 'o'}"
      ]
     },
     "execution_count": 8,
     "metadata": {},
     "output_type": "execute_result"
    }
   ],
   "execution_count": 8
  },
  {
   "cell_type": "markdown",
   "id": "7c6c11c7",
   "metadata": {},
   "source": [
    "## Complex comprehension example"
   ]
  },
  {
   "metadata": {
    "ExecuteTime": {
     "end_time": "2025-08-15T21:20:41.647823Z",
     "start_time": "2025-08-15T21:20:41.645512Z"
    }
   },
   "cell_type": "code",
   "source": [
    "words = ['Mom', 'Dad', 'Ham']\n",
    "consonants = {\n",
    "    char.upper()\n",
    "    for word in words\n",
    "    for char in word.lower()\n",
    "    if char not in 'aeiou'\n",
    "}\n",
    "consonants"
   ],
   "id": "ec398a6e3033dcc8",
   "outputs": [
    {
     "data": {
      "text/plain": [
       "{'D', 'H', 'M'}"
      ]
     },
     "execution_count": 9,
     "metadata": {},
     "output_type": "execute_result"
    }
   ],
   "execution_count": 9
  },
  {
   "cell_type": "markdown",
   "id": "c2a04f7f",
   "metadata": {},
   "source": [
    "### As for-loop"
   ]
  },
  {
   "metadata": {
    "ExecuteTime": {
     "end_time": "2025-08-15T21:20:41.658175Z",
     "start_time": "2025-08-15T21:20:41.655845Z"
    }
   },
   "cell_type": "code",
   "source": [
    "consonants = set()\n",
    "for word in words:\n",
    "    for char in word.lower():\n",
    "        if char not in 'aeiou':\n",
    "            consonants.add(char.upper())\n",
    "consonants"
   ],
   "id": "d556e615cf0852ed",
   "outputs": [
    {
     "data": {
      "text/plain": [
       "{'D', 'H', 'M'}"
      ]
     },
     "execution_count": 10,
     "metadata": {},
     "output_type": "execute_result"
    }
   ],
   "execution_count": 10
  }
 ],
 "metadata": {
  "jupytext": {
   "cell_metadata_filter": "-all",
   "formats": "auto:light,ipynb",
   "main_language": "python",
   "notebook_metadata_filter": "-all"
  },
  "kernelspec": {
   "display_name": "Python 3 (ipykernel)",
   "language": "python",
   "name": "python3"
  },
  "language_info": {
   "codemirror_mode": {
    "name": "ipython",
    "version": 3
   },
   "file_extension": ".py",
   "mimetype": "text/x-python",
   "name": "python",
   "nbconvert_exporter": "python",
   "pygments_lexer": "ipython3",
   "version": "3.11.4"
  }
 },
 "nbformat": 4,
 "nbformat_minor": 5
}
