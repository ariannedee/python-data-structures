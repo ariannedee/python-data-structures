{
 "cells": [
  {
   "cell_type": "markdown",
   "id": "c3a9c03a",
   "metadata": {},
   "source": [
    "# array.array\n",
    "[Documentation](https://docs.python.org/3/library/array.html)"
   ]
  },
  {
   "cell_type": "code",
   "execution_count": 1,
   "id": "a8a19782",
   "metadata": {},
   "outputs": [],
   "source": [
    "import array"
   ]
  },
  {
   "cell_type": "markdown",
   "id": "a7006a70",
   "metadata": {},
   "source": [
    "Must declare the type of data it holds:\n",
    "- `'f'` - float\n",
    "- `'i'` - integer\n",
    "- `'u'` - Unicode character\n",
    "\n",
    "More types in [documentation](https://docs.python.org/3/library/array.html)"
   ]
  },
  {
   "cell_type": "code",
   "execution_count": 2,
   "id": "497aef61",
   "metadata": {},
   "outputs": [
    {
     "data": {
      "text/plain": [
       "array('f', [1.0, 1.5, 2.0, 2.5])"
      ]
     },
     "execution_count": 2,
     "metadata": {},
     "output_type": "execute_result"
    }
   ],
   "source": [
    "arr_f = array.array(\"f\", (1.0, 1.5, 2.0, 2.5))\n",
    "arr_f"
   ]
  },
  {
   "cell_type": "markdown",
   "id": "fb04a0c1",
   "metadata": {},
   "source": [
    "### Arrays have many similar list methods"
   ]
  },
  {
   "cell_type": "code",
   "execution_count": 3,
   "id": "42baa2c8",
   "metadata": {},
   "outputs": [
    {
     "data": {
      "text/plain": [
       "array('f', [1.0, 1.5, 2.0, 2.5, 3.0])"
      ]
     },
     "execution_count": 3,
     "metadata": {},
     "output_type": "execute_result"
    }
   ],
   "source": [
    "arr_f.append(3.0)\n",
    "arr_f"
   ]
  },
  {
   "cell_type": "code",
   "execution_count": 4,
   "id": "ed6e2359",
   "metadata": {},
   "outputs": [
    {
     "data": {
      "text/plain": [
       "array('f', [0.5, 1.0, 1.5, 2.0, 2.5, 3.0])"
      ]
     },
     "execution_count": 4,
     "metadata": {},
     "output_type": "execute_result"
    }
   ],
   "source": [
    "arr_f.insert(0, 0.5)\n",
    "arr_f"
   ]
  },
  {
   "cell_type": "code",
   "execution_count": 5,
   "id": "16e596a2",
   "metadata": {},
   "outputs": [
    {
     "data": {
      "text/plain": [
       "array('f', [3.0, 2.5, 2.0, 1.5, 1.0, 0.5])"
      ]
     },
     "execution_count": 5,
     "metadata": {},
     "output_type": "execute_result"
    }
   ],
   "source": [
    "arr_f.reverse()\n",
    "arr_f"
   ]
  },
  {
   "cell_type": "markdown",
   "id": "7d1208b1",
   "metadata": {},
   "source": [
    "### And a few conversion methods"
   ]
  },
  {
   "cell_type": "code",
   "execution_count": 6,
   "id": "7e2e7d6f",
   "metadata": {},
   "outputs": [
    {
     "data": {
      "text/plain": [
       "[3.0, 2.5, 2.0, 1.5, 1.0, 0.5]"
      ]
     },
     "execution_count": 6,
     "metadata": {},
     "output_type": "execute_result"
    }
   ],
   "source": [
    "arr_f.tolist()"
   ]
  },
  {
   "cell_type": "code",
   "execution_count": 7,
   "id": "ea27c0c5",
   "metadata": {},
   "outputs": [
    {
     "data": {
      "text/plain": [
       "b'\\x00\\x00@@\\x00\\x00 @\\x00\\x00\\x00@\\x00\\x00\\xc0?\\x00\\x00\\x80?\\x00\\x00\\x00?'"
      ]
     },
     "execution_count": 7,
     "metadata": {},
     "output_type": "execute_result"
    }
   ],
   "source": [
    "arr_f.tobytes()"
   ]
  },
  {
   "cell_type": "markdown",
   "id": "3e89fa56",
   "metadata": {},
   "source": [
    "### Working with files"
   ]
  },
  {
   "cell_type": "markdown",
   "id": "5abc6e79",
   "metadata": {},
   "source": [
    "You can save arrays to a file as bytes, so use binary `'b'` mode. "
   ]
  },
  {
   "cell_type": "code",
   "execution_count": 8,
   "id": "82cee028",
   "metadata": {},
   "outputs": [],
   "source": [
    "with open('array', 'wb') as file:\n",
    "    arr_f.tofile(file)"
   ]
  },
  {
   "cell_type": "code",
   "execution_count": 9,
   "id": "0761f889",
   "metadata": {},
   "outputs": [
    {
     "data": {
      "text/plain": [
       "array('f', [-1.0, -1.5])"
      ]
     },
     "execution_count": 9,
     "metadata": {},
     "output_type": "execute_result"
    }
   ],
   "source": [
    "arr_f2 = array.array(\"f\", (-1.0, -1.5))\n",
    "arr_f2"
   ]
  },
  {
   "cell_type": "markdown",
   "id": "ec2d55b0",
   "metadata": {},
   "source": [
    "`.fromfile(file, n)` appends `n` items from the file onto the existing array."
   ]
  },
  {
   "cell_type": "code",
   "execution_count": 10,
   "id": "5a13241c",
   "metadata": {},
   "outputs": [
    {
     "data": {
      "text/plain": [
       "array('f', [-1.0, -1.5, 3.0, 2.5, 2.0])"
      ]
     },
     "execution_count": 10,
     "metadata": {},
     "output_type": "execute_result"
    }
   ],
   "source": [
    "with open('array', 'rb') as file:\n",
    "    arr_f2.fromfile(file, 3)\n",
    "arr_f2"
   ]
  },
  {
   "cell_type": "markdown",
   "id": "7b7d0887",
   "metadata": {},
   "source": [
    "## Working with chars\n",
    "The `'u'` type stores Unicode characters and prints them like a string (instead of list)."
   ]
  },
  {
   "cell_type": "code",
   "execution_count": 11,
   "id": "f5ca2c03",
   "metadata": {},
   "outputs": [
    {
     "data": {
      "text/plain": [
       "array('u', 'I 💚 🐍')"
      ]
     },
     "execution_count": 11,
     "metadata": {},
     "output_type": "execute_result"
    }
   ],
   "source": [
    "arr_u = array.array('u', 'I 💚 🐍')\n",
    "arr_u"
   ]
  },
  {
   "cell_type": "code",
   "execution_count": 12,
   "id": "88f8e6e1",
   "metadata": {},
   "outputs": [
    {
     "data": {
      "text/plain": [
       "array('u', 'I 💚 🐍!')"
      ]
     },
     "execution_count": 12,
     "metadata": {},
     "output_type": "execute_result"
    }
   ],
   "source": [
    "arr_u.append('!')\n",
    "arr_u"
   ]
  },
  {
   "cell_type": "code",
   "execution_count": 13,
   "id": "ccdd9ddb",
   "metadata": {},
   "outputs": [
    {
     "name": "stdout",
     "output_type": "stream",
     "text": [
      "<class 'str'>\n",
      "I 💚 🐍!\n"
     ]
    }
   ],
   "source": [
    "as_u = arr_u.tounicode()  # Only works with 'u' type\n",
    "print(type(as_u))\n",
    "print(as_u)"
   ]
  },
  {
   "cell_type": "markdown",
   "id": "cea7dd31",
   "metadata": {},
   "source": [
    "## Size specific integers\n",
    "In most other languages, integers have a minimum and maximum value.\n",
    "Python increases the memory for integers dynamically behind the scenes, so there is no minimum or maximum value.\n",
    "\n",
    "Since arrays assign a fixed amount of memory for each item, you must specify the number of bytes allocated for integers arrays and whether or not they can store negative numbers (signed vs unsigned).\n",
    "\n",
    "Type to byte list:\n",
    "- `'b'` and `'B'` (char): 1 byte\n",
    "- `'h'` and `'H'` (short): 2 bytes\n",
    "- `'i'` and `'I'` (int): 2 bytes\n",
    "- `'l'` and `'L'` (long): 4 bytes\n",
    "- `'q'` and `'Q'` (long long): 8 bytes\n",
    "- `'f'` (float): 8 bytes\n",
    "- `'d'` (double long float): 8 bytes\n",
    "\n",
    "### 'B': unsigned char\n",
    "This is an unintuitive name. It's basically 1 byte of data as an integer"
   ]
  },
  {
   "cell_type": "code",
   "execution_count": 14,
   "id": "a0ce64bc",
   "metadata": {},
   "outputs": [
    {
     "data": {
      "text/plain": [
       "array('B', [0, 255])"
      ]
     },
     "execution_count": 14,
     "metadata": {},
     "output_type": "execute_result"
    }
   ],
   "source": [
    "smallest = 0\n",
    "largest = 2**8 - 1\n",
    "arr_B = array.array(\"B\", (smallest, largest))\n",
    "arr_B"
   ]
  },
  {
   "cell_type": "code",
   "execution_count": 15,
   "id": "8577e16e",
   "metadata": {},
   "outputs": [
    {
     "name": "stdout",
     "output_type": "stream",
     "text": [
      "OverflowError('unsigned byte integer is greater than maximum')\n"
     ]
    }
   ],
   "source": [
    "try:\n",
    "    arr_B.append(largest + 1)\n",
    "except Exception as e:\n",
    "    print(repr(e))"
   ]
  },
  {
   "cell_type": "code",
   "execution_count": 16,
   "id": "45d09d6c",
   "metadata": {},
   "outputs": [
    {
     "name": "stdout",
     "output_type": "stream",
     "text": [
      "OverflowError('unsigned byte integer is less than minimum')\n"
     ]
    }
   ],
   "source": [
    "try:\n",
    "    arr_B.append(smallest - 1)\n",
    "except Exception as e:\n",
    "    print(repr(e))"
   ]
  },
  {
   "cell_type": "markdown",
   "id": "eab908b6",
   "metadata": {},
   "source": [
    "### 'b': signed char\n",
    "Like unsigned char but one bit is used to store the sign."
   ]
  },
  {
   "cell_type": "code",
   "execution_count": 17,
   "id": "6a5cfd84",
   "metadata": {},
   "outputs": [
    {
     "data": {
      "text/plain": [
       "array('b', [-128, 127])"
      ]
     },
     "execution_count": 17,
     "metadata": {},
     "output_type": "execute_result"
    }
   ],
   "source": [
    "smallest = -(2**7)\n",
    "largest = 2**7 - 1\n",
    "arr_f2 = array.array(\"b\", (smallest, largest))\n",
    "arr_f2"
   ]
  },
  {
   "cell_type": "code",
   "execution_count": 18,
   "id": "26da8ba7",
   "metadata": {},
   "outputs": [
    {
     "name": "stdout",
     "output_type": "stream",
     "text": [
      "OverflowError('signed char is greater than maximum')\n"
     ]
    }
   ],
   "source": [
    "try:\n",
    "    arr_f2.append(largest + 1)\n",
    "except Exception as e:\n",
    "    print(repr(e))"
   ]
  },
  {
   "cell_type": "markdown",
   "id": "06d218eb",
   "metadata": {},
   "source": [
    "### 'I': unsigned int\n",
    "2 bytes"
   ]
  },
  {
   "cell_type": "code",
   "execution_count": 19,
   "id": "3fd7c516",
   "metadata": {},
   "outputs": [
    {
     "data": {
      "text/plain": [
       "array('I', [0, 4294967295])"
      ]
     },
     "execution_count": 19,
     "metadata": {},
     "output_type": "execute_result"
    }
   ],
   "source": [
    "smallest = 0\n",
    "largest = 2**32 - 1\n",
    "arr_I = array.array(\"I\", (smallest, largest))\n",
    "arr_I"
   ]
  },
  {
   "cell_type": "code",
   "execution_count": 20,
   "id": "42b7692e",
   "metadata": {},
   "outputs": [
    {
     "name": "stdout",
     "output_type": "stream",
     "text": [
      "OverflowError('unsigned int is greater than maximum')\n"
     ]
    }
   ],
   "source": [
    "try:\n",
    "    arr_I.append(largest + 1)\n",
    "except Exception as e:\n",
    "    print(repr(e))"
   ]
  },
  {
   "cell_type": "code",
   "execution_count": 21,
   "id": "7a80f287",
   "metadata": {},
   "outputs": [
    {
     "name": "stdout",
     "output_type": "stream",
     "text": [
      "OverflowError(\"can't convert negative value to unsigned int\")\n"
     ]
    }
   ],
   "source": [
    "try:\n",
    "    arr_I.append(smallest - 1)\n",
    "except Exception as e:\n",
    "    print(repr(e))"
   ]
  },
  {
   "cell_type": "markdown",
   "id": "19cd1f75",
   "metadata": {},
   "source": [
    "### 'i': signed integer\n",
    "2 bytes, with 1 bit to store the sign"
   ]
  },
  {
   "cell_type": "code",
   "execution_count": 22,
   "id": "a7551ab4",
   "metadata": {},
   "outputs": [
    {
     "data": {
      "text/plain": [
       "array('i', [-2147483648, 2147483647])"
      ]
     },
     "execution_count": 22,
     "metadata": {},
     "output_type": "execute_result"
    }
   ],
   "source": [
    "smallest = -(2**31)\n",
    "largest = 2**31 - 1\n",
    "arr_i = array.array(\"i\", (smallest, largest))\n",
    "arr_i"
   ]
  },
  {
   "cell_type": "code",
   "execution_count": 23,
   "id": "e191dbdd",
   "metadata": {},
   "outputs": [
    {
     "name": "stdout",
     "output_type": "stream",
     "text": [
      "OverflowError('signed integer is greater than maximum')\n"
     ]
    }
   ],
   "source": [
    "try:\n",
    "    arr_i.append(largest + 1)\n",
    "except Exception as e:\n",
    "    print(repr(e))"
   ]
  },
  {
   "cell_type": "code",
   "execution_count": 24,
   "id": "749892ff",
   "metadata": {},
   "outputs": [
    {
     "name": "stdout",
     "output_type": "stream",
     "text": [
      "OverflowError('signed integer is less than minimum')\n"
     ]
    }
   ],
   "source": [
    "try:\n",
    "    arr_i.append(smallest - 1)\n",
    "except Exception as e:\n",
    "    print(repr(e))"
   ]
  }
 ],
 "metadata": {
  "jupytext": {
   "cell_metadata_filter": "-all",
   "formats": "auto:light,ipynb",
   "main_language": "python",
   "notebook_metadata_filter": "-all"
  },
  "kernelspec": {
   "display_name": "Python 3 (ipykernel)",
   "language": "python",
   "name": "python3"
  },
  "language_info": {
   "codemirror_mode": {
    "name": "ipython",
    "version": 3
   },
   "file_extension": ".py",
   "mimetype": "text/x-python",
   "name": "python",
   "nbconvert_exporter": "python",
   "pygments_lexer": "ipython3",
   "version": "3.11.4"
  }
 },
 "nbformat": 4,
 "nbformat_minor": 5
}
