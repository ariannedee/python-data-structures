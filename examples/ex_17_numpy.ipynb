{
 "cells": [
  {
   "cell_type": "markdown",
   "id": "9c57ec95",
   "metadata": {},
   "source": [
    "# NumPy ndarrays\n",
    "\n",
    "Many examples are from the [Numpy documentation](https://numpy.org/doc/stable/user/quickstart.html)"
   ]
  },
  {
   "cell_type": "code",
   "id": "41624857",
   "metadata": {
    "lines_to_next_cell": 2,
    "ExecuteTime": {
     "end_time": "2025-06-09T20:08:31.368115Z",
     "start_time": "2025-06-09T20:08:30.735190Z"
    }
   },
   "source": [
    "import numpy as np"
   ],
   "outputs": [],
   "execution_count": 1
  },
  {
   "cell_type": "markdown",
   "id": "97a620bf",
   "metadata": {},
   "source": [
    "## Create array from list or other sequence\n",
    "### Create 1-dimensional arrays from a sequence"
   ]
  },
  {
   "cell_type": "code",
   "id": "2a76f46d",
   "metadata": {
    "ExecuteTime": {
     "end_time": "2025-06-09T20:08:40.934919Z",
     "start_time": "2025-06-09T20:08:40.932471Z"
    }
   },
   "source": [
    "a = np.array([1, 2, 3, 4])\n",
    "print(a)\n",
    "print(a.dtype)\n",
    "print(a.shape)"
   ],
   "outputs": [
    {
     "name": "stdout",
     "output_type": "stream",
     "text": [
      "[1 2 3 4]\n",
      "int64\n",
      "(4,)\n"
     ]
    }
   ],
   "execution_count": 2
  },
  {
   "cell_type": "markdown",
   "id": "dadb5be4",
   "metadata": {},
   "source": [
    "### Create multi-dimensional arrays from nested sequences"
   ]
  },
  {
   "cell_type": "code",
   "id": "766b9c8e",
   "metadata": {
    "ExecuteTime": {
     "end_time": "2025-06-09T20:09:19.025739Z",
     "start_time": "2025-06-09T20:09:19.022508Z"
    }
   },
   "source": [
    "b = np.array([(1.5, 2, 3), (4, 5, 6)])\n",
    "print(b)\n",
    "print(b.dtype)\n",
    "print(b.shape)"
   ],
   "outputs": [
    {
     "name": "stdout",
     "output_type": "stream",
     "text": [
      "[[1.5 2.  3. ]\n",
      " [4.  5.  6. ]]\n",
      "float64\n",
      "(2, 3)\n"
     ]
    }
   ],
   "execution_count": 3
  },
  {
   "cell_type": "markdown",
   "id": "765ef5c9",
   "metadata": {},
   "source": [
    "### Specify type of array at creation"
   ]
  },
  {
   "cell_type": "code",
   "id": "c16df1fe",
   "metadata": {
    "ExecuteTime": {
     "end_time": "2025-06-09T20:10:52.671992Z",
     "start_time": "2025-06-09T20:10:52.669289Z"
    }
   },
   "source": [
    "c = np.array([[1, 2], [3, 4]], dtype=complex)\n",
    "print(c)\n",
    "print(c.dtype)"
   ],
   "outputs": [
    {
     "name": "stdout",
     "output_type": "stream",
     "text": [
      "[[1.+0.j 2.+0.j]\n",
      " [3.+0.j 4.+0.j]]\n",
      "complex128\n"
     ]
    }
   ],
   "execution_count": 4
  },
  {
   "cell_type": "markdown",
   "id": "eca24ae3",
   "metadata": {},
   "source": [
    "## Create array with specific size and placeholder content\n",
    "### Initial values are 0"
   ]
  },
  {
   "cell_type": "code",
   "id": "2c7fd720",
   "metadata": {
    "ExecuteTime": {
     "end_time": "2025-06-09T20:14:27.833810Z",
     "start_time": "2025-06-09T20:14:27.828828Z"
    }
   },
   "source": [
    "d = np.zeros((3, 4))\n",
    "print(d)\n",
    "print(d.dtype)\n",
    "print(d.shape)"
   ],
   "outputs": [
    {
     "name": "stdout",
     "output_type": "stream",
     "text": [
      "[[0 0 0 0]\n",
      " [0 0 0 0]\n",
      " [0 0 0 0]]\n",
      "int8\n",
      "(3, 4)\n"
     ]
    },
    {
     "data": {
      "text/plain": [
       "array([[-128,    0,    0,    0],\n",
       "       [   0,    0,    0,    0],\n",
       "       [   0,    0,    0,    0]], dtype=int8)"
      ]
     },
     "execution_count": 13,
     "metadata": {},
     "output_type": "execute_result"
    }
   ],
   "execution_count": 13
  },
  {
   "cell_type": "markdown",
   "id": "687299c3",
   "metadata": {},
   "source": [
    "### Initial values are 1"
   ]
  },
  {
   "cell_type": "code",
   "id": "9fe802c4",
   "metadata": {
    "ExecuteTime": {
     "end_time": "2025-06-09T20:15:15.162846Z",
     "start_time": "2025-06-09T20:15:15.160196Z"
    }
   },
   "source": [
    "e = np.ones((2, 3, 4), dtype=np.int16)\n",
    "print(e)\n",
    "print(e.dtype)\n",
    "print(e.shape)"
   ],
   "outputs": [
    {
     "name": "stdout",
     "output_type": "stream",
     "text": [
      "[[[1 1 1 1]\n",
      "  [1 1 1 1]\n",
      "  [1 1 1 1]]\n",
      "\n",
      " [[1 1 1 1]\n",
      "  [1 1 1 1]\n",
      "  [1 1 1 1]]]\n",
      "int16\n",
      "(2, 3, 4)\n"
     ]
    }
   ],
   "execution_count": 14
  },
  {
   "cell_type": "markdown",
   "id": "ba2459c7",
   "metadata": {
    "lines_to_next_cell": 2
   },
   "source": [
    "### Initial values are not set (values are existing memory content)\n",
    "\n",
    "Play around with setting a dtype to see resulting initial content."
   ]
  },
  {
   "cell_type": "code",
   "id": "0456b68b",
   "metadata": {
    "lines_to_next_cell": 2,
    "ExecuteTime": {
     "end_time": "2025-06-09T20:15:56.335328Z",
     "start_time": "2025-06-09T20:15:56.332283Z"
    }
   },
   "source": "np.empty((2, 3), dtype='float64')",
   "outputs": [
    {
     "data": {
      "text/plain": [
       "array([[0, 0, 1],\n",
       "       [0, 2, 0]], dtype=int32)"
      ]
     },
     "execution_count": 18,
     "metadata": {},
     "output_type": "execute_result"
    }
   ],
   "execution_count": 18
  },
  {
   "cell_type": "markdown",
   "id": "48d89525",
   "metadata": {},
   "source": [
    "## Create array with range of elements\n",
    "\n",
    "### arange() is like built-in range(start, end, step)"
   ]
  },
  {
   "cell_type": "code",
   "id": "7645f449",
   "metadata": {
    "ExecuteTime": {
     "end_time": "2025-06-09T20:16:24.688937Z",
     "start_time": "2025-06-09T20:16:24.686209Z"
    }
   },
   "source": [
    "np.arange(10, 30, 5)"
   ],
   "outputs": [
    {
     "data": {
      "text/plain": [
       "array([10, 15, 20, 25])"
      ]
     },
     "execution_count": 19,
     "metadata": {},
     "output_type": "execute_result"
    }
   ],
   "execution_count": 19
  },
  {
   "cell_type": "markdown",
   "id": "70310981",
   "metadata": {},
   "source": [
    "### arange() accepts float arguments"
   ]
  },
  {
   "cell_type": "code",
   "id": "3aacc01a",
   "metadata": {
    "ExecuteTime": {
     "end_time": "2025-06-09T20:17:29.960214Z",
     "start_time": "2025-06-09T20:17:29.957647Z"
    }
   },
   "source": "np.arange(0, 2, 0.25)",
   "outputs": [
    {
     "data": {
      "text/plain": [
       "array([0.  , 0.25, 0.5 , 0.75, 1.  , 1.25, 1.5 , 1.75])"
      ]
     },
     "execution_count": 22,
     "metadata": {},
     "output_type": "execute_result"
    }
   ],
   "execution_count": 22
  },
  {
   "cell_type": "markdown",
   "id": "a4e09c9f",
   "metadata": {
    "lines_to_next_cell": 2
   },
   "source": [
    "### linspace() is like arange(), but provide num_elements instead of step\n",
    "Example returns a 9 element array from 0 to 2, equally spaced"
   ]
  },
  {
   "cell_type": "code",
   "id": "12ad89ad",
   "metadata": {
    "lines_to_next_cell": 2,
    "ExecuteTime": {
     "end_time": "2025-06-09T20:17:09.762590Z",
     "start_time": "2025-06-09T20:17:09.760014Z"
    }
   },
   "source": [
    "i = np.linspace(0, 2, 9)\n",
    "print(i)\n",
    "print(len(i))"
   ],
   "outputs": [
    {
     "name": "stdout",
     "output_type": "stream",
     "text": [
      "[0.   0.25 0.5  0.75 1.   1.25 1.5  1.75 2.  ]\n",
      "9\n"
     ]
    }
   ],
   "execution_count": 21
  },
  {
   "cell_type": "markdown",
   "id": "38c3905a",
   "metadata": {},
   "source": [
    "## Create random array\n",
    "For random random numbers, use the `np.random` module."
   ]
  },
  {
   "cell_type": "code",
   "id": "f6cf3a05",
   "metadata": {
    "ExecuteTime": {
     "end_time": "2025-06-09T20:18:22.974687Z",
     "start_time": "2025-06-09T20:18:22.971694Z"
    }
   },
   "source": [
    "np.random.random((3, 4))"
   ],
   "outputs": [
    {
     "data": {
      "text/plain": [
       "array([[0.8199335 , 0.37041696, 0.15311094, 0.1695369 ],\n",
       "       [0.21383126, 0.94433587, 0.73096961, 0.74004217],\n",
       "       [0.33322285, 0.47829379, 0.35369917, 0.55640786]])"
      ]
     },
     "execution_count": 29,
     "metadata": {},
     "output_type": "execute_result"
    }
   ],
   "execution_count": 29
  },
  {
   "cell_type": "markdown",
   "id": "817021e9",
   "metadata": {},
   "source": [
    "To create consistent and reproducible random numbers, create a random number generator (rng) with an initial seed value."
   ]
  },
  {
   "cell_type": "code",
   "id": "e0959897",
   "metadata": {
    "ExecuteTime": {
     "end_time": "2025-06-09T20:18:17.875305Z",
     "start_time": "2025-06-09T20:18:17.871645Z"
    }
   },
   "source": [
    "rg = np.random.default_rng(0)   # create default random number generator with seed 0\n",
    "rg.uniform(-10, 10, size=(2, 3))  # same values every time you run the cell"
   ],
   "outputs": [
    {
     "data": {
      "text/plain": [
       "array([[ 2.73923375, -4.60426572, -9.18052952],\n",
       "       [-9.66944729,  6.26540478,  8.25511155]])"
      ]
     },
     "execution_count": 27,
     "metadata": {},
     "output_type": "execute_result"
    }
   ],
   "execution_count": 27
  },
  {
   "cell_type": "code",
   "id": "ea182db4",
   "metadata": {
    "lines_to_next_cell": 2,
    "ExecuteTime": {
     "end_time": "2025-06-09T20:18:27.704025Z",
     "start_time": "2025-06-09T20:18:27.700619Z"
    }
   },
   "source": [
    "rg.integers(1, 10, size=(2, 3, 4))"
   ],
   "outputs": [
    {
     "data": {
      "text/plain": [
       "array([[[5, 6, 9, 7],\n",
       "        [6, 5, 6, 9],\n",
       "        [3, 8, 7, 1]],\n",
       "\n",
       "       [[4, 8, 5, 1],\n",
       "        [7, 7, 8, 2],\n",
       "        [1, 8, 1, 5]]])"
      ]
     },
     "execution_count": 30,
     "metadata": {},
     "output_type": "execute_result"
    }
   ],
   "execution_count": 30
  },
  {
   "cell_type": "markdown",
   "id": "2fba01bf",
   "metadata": {},
   "source": [
    "## Save and load data from file\n",
    "\n",
    "### Save array to .npy file (platform independent)"
   ]
  },
  {
   "cell_type": "code",
   "execution_count": 14,
   "id": "a783c029",
   "metadata": {},
   "outputs": [],
   "source": [
    "np.save('numpy_file', i)"
   ]
  },
  {
   "cell_type": "markdown",
   "id": "0e9954a1",
   "metadata": {},
   "source": [
    "### Save array to .npy file"
   ]
  },
  {
   "cell_type": "code",
   "execution_count": 15,
   "id": "9968edab",
   "metadata": {},
   "outputs": [
    {
     "data": {
      "text/plain": [
       "array([0.  , 0.25, 0.5 , 0.75, 1.  , 1.25, 1.5 , 1.75, 2.  ])"
      ]
     },
     "execution_count": 15,
     "metadata": {},
     "output_type": "execute_result"
    }
   ],
   "source": [
    "j = np.load('numpy_file.npy')\n",
    "j"
   ]
  },
  {
   "cell_type": "markdown",
   "id": "f977cc30",
   "metadata": {},
   "source": [
    "## Printing\n",
    "NumPy displays arrays like nested lists, but with the following layout:\n",
    "- the last axis is printed from left to right,\n",
    "- the second-to-last is printed from top to bottom,\n",
    "- the rest are printed from top to bottom, with each slice separated from the next by an empty line."
   ]
  },
  {
   "cell_type": "code",
   "id": "d7c31619",
   "metadata": {
    "ExecuteTime": {
     "end_time": "2025-06-09T20:19:54.900463Z",
     "start_time": "2025-06-09T20:19:54.896986Z"
    }
   },
   "source": [
    "as_lists = [\n",
    "    [\n",
    "        [\n",
    "            [f'{i}{j}{k}{l}' for l in range(5)]\n",
    "            for k in range(4)\n",
    "        ]\n",
    "        for j in range(3)\n",
    "    ] for i in range(2)\n",
    "]\n",
    "as_lists"
   ],
   "outputs": [
    {
     "data": {
      "text/plain": [
       "[[[['0000', '0001', '0002', '0003', '0004'],\n",
       "   ['0010', '0011', '0012', '0013', '0014'],\n",
       "   ['0020', '0021', '0022', '0023', '0024'],\n",
       "   ['0030', '0031', '0032', '0033', '0034']],\n",
       "  [['0100', '0101', '0102', '0103', '0104'],\n",
       "   ['0110', '0111', '0112', '0113', '0114'],\n",
       "   ['0120', '0121', '0122', '0123', '0124'],\n",
       "   ['0130', '0131', '0132', '0133', '0134']],\n",
       "  [['0200', '0201', '0202', '0203', '0204'],\n",
       "   ['0210', '0211', '0212', '0213', '0214'],\n",
       "   ['0220', '0221', '0222', '0223', '0224'],\n",
       "   ['0230', '0231', '0232', '0233', '0234']]],\n",
       " [[['1000', '1001', '1002', '1003', '1004'],\n",
       "   ['1010', '1011', '1012', '1013', '1014'],\n",
       "   ['1020', '1021', '1022', '1023', '1024'],\n",
       "   ['1030', '1031', '1032', '1033', '1034']],\n",
       "  [['1100', '1101', '1102', '1103', '1104'],\n",
       "   ['1110', '1111', '1112', '1113', '1114'],\n",
       "   ['1120', '1121', '1122', '1123', '1124'],\n",
       "   ['1130', '1131', '1132', '1133', '1134']],\n",
       "  [['1200', '1201', '1202', '1203', '1204'],\n",
       "   ['1210', '1211', '1212', '1213', '1214'],\n",
       "   ['1220', '1221', '1222', '1223', '1224'],\n",
       "   ['1230', '1231', '1232', '1233', '1234']]]]"
      ]
     },
     "execution_count": 31,
     "metadata": {},
     "output_type": "execute_result"
    }
   ],
   "execution_count": 31
  },
  {
   "cell_type": "code",
   "id": "35e175ed",
   "metadata": {
    "lines_to_next_cell": 2,
    "ExecuteTime": {
     "end_time": "2025-06-09T20:20:16.024142Z",
     "start_time": "2025-06-09T20:20:16.021422Z"
    }
   },
   "source": [
    "ar = np.array(as_lists)\n",
    "ar"
   ],
   "outputs": [
    {
     "data": {
      "text/plain": [
       "array([[[['0000', '0001', '0002', '0003', '0004'],\n",
       "         ['0010', '0011', '0012', '0013', '0014'],\n",
       "         ['0020', '0021', '0022', '0023', '0024'],\n",
       "         ['0030', '0031', '0032', '0033', '0034']],\n",
       "\n",
       "        [['0100', '0101', '0102', '0103', '0104'],\n",
       "         ['0110', '0111', '0112', '0113', '0114'],\n",
       "         ['0120', '0121', '0122', '0123', '0124'],\n",
       "         ['0130', '0131', '0132', '0133', '0134']],\n",
       "\n",
       "        [['0200', '0201', '0202', '0203', '0204'],\n",
       "         ['0210', '0211', '0212', '0213', '0214'],\n",
       "         ['0220', '0221', '0222', '0223', '0224'],\n",
       "         ['0230', '0231', '0232', '0233', '0234']]],\n",
       "\n",
       "\n",
       "       [[['1000', '1001', '1002', '1003', '1004'],\n",
       "         ['1010', '1011', '1012', '1013', '1014'],\n",
       "         ['1020', '1021', '1022', '1023', '1024'],\n",
       "         ['1030', '1031', '1032', '1033', '1034']],\n",
       "\n",
       "        [['1100', '1101', '1102', '1103', '1104'],\n",
       "         ['1110', '1111', '1112', '1113', '1114'],\n",
       "         ['1120', '1121', '1122', '1123', '1124'],\n",
       "         ['1130', '1131', '1132', '1133', '1134']],\n",
       "\n",
       "        [['1200', '1201', '1202', '1203', '1204'],\n",
       "         ['1210', '1211', '1212', '1213', '1214'],\n",
       "         ['1220', '1221', '1222', '1223', '1224'],\n",
       "         ['1230', '1231', '1232', '1233', '1234']]]], dtype='<U4')"
      ]
     },
     "execution_count": 32,
     "metadata": {},
     "output_type": "execute_result"
    }
   ],
   "execution_count": 32
  },
  {
   "cell_type": "code",
   "id": "463fa247",
   "metadata": {
    "lines_to_next_cell": 2,
    "ExecuteTime": {
     "end_time": "2025-06-09T20:20:53.643266Z",
     "start_time": "2025-06-09T20:20:53.640572Z"
    }
   },
   "source": [
    "ar[0, 1, 2, 3]"
   ],
   "outputs": [
    {
     "data": {
      "text/plain": [
       "'0123'"
      ]
     },
     "execution_count": 33,
     "metadata": {},
     "output_type": "execute_result"
    }
   ],
   "execution_count": 33
  },
  {
   "cell_type": "code",
   "id": "ddff06fd",
   "metadata": {
    "ExecuteTime": {
     "end_time": "2025-06-09T20:21:10.926326Z",
     "start_time": "2025-06-09T20:21:10.923496Z"
    }
   },
   "source": [
    "ar[0][1][2][3]"
   ],
   "outputs": [
    {
     "data": {
      "text/plain": [
       "'0123'"
      ]
     },
     "execution_count": 34,
     "metadata": {},
     "output_type": "execute_result"
    }
   ],
   "execution_count": 34
  },
  {
   "cell_type": "code",
   "id": "909e48c4",
   "metadata": {
    "ExecuteTime": {
     "end_time": "2025-06-09T20:21:42.043178Z",
     "start_time": "2025-06-09T20:21:42.040351Z"
    }
   },
   "source": [
    "ar_ints = ar.astype(np.int16)\n",
    "ar_ints"
   ],
   "outputs": [
    {
     "data": {
      "text/plain": [
       "array([[[[   0,    1,    2,    3,    4],\n",
       "         [  10,   11,   12,   13,   14],\n",
       "         [  20,   21,   22,   23,   24],\n",
       "         [  30,   31,   32,   33,   34]],\n",
       "\n",
       "        [[ 100,  101,  102,  103,  104],\n",
       "         [ 110,  111,  112,  113,  114],\n",
       "         [ 120,  121,  122,  123,  124],\n",
       "         [ 130,  131,  132,  133,  134]],\n",
       "\n",
       "        [[ 200,  201,  202,  203,  204],\n",
       "         [ 210,  211,  212,  213,  214],\n",
       "         [ 220,  221,  222,  223,  224],\n",
       "         [ 230,  231,  232,  233,  234]]],\n",
       "\n",
       "\n",
       "       [[[1000, 1001, 1002, 1003, 1004],\n",
       "         [1010, 1011, 1012, 1013, 1014],\n",
       "         [1020, 1021, 1022, 1023, 1024],\n",
       "         [1030, 1031, 1032, 1033, 1034]],\n",
       "\n",
       "        [[1100, 1101, 1102, 1103, 1104],\n",
       "         [1110, 1111, 1112, 1113, 1114],\n",
       "         [1120, 1121, 1122, 1123, 1124],\n",
       "         [1130, 1131, 1132, 1133, 1134]],\n",
       "\n",
       "        [[1200, 1201, 1202, 1203, 1204],\n",
       "         [1210, 1211, 1212, 1213, 1214],\n",
       "         [1220, 1221, 1222, 1223, 1224],\n",
       "         [1230, 1231, 1232, 1233, 1234]]]], dtype=int16)"
      ]
     },
     "execution_count": 35,
     "metadata": {},
     "output_type": "execute_result"
    }
   ],
   "execution_count": 35
  },
  {
   "cell_type": "markdown",
   "id": "9cd41246",
   "metadata": {},
   "source": [
    "### Array axes"
   ]
  },
  {
   "cell_type": "code",
   "id": "1faa02a8",
   "metadata": {
    "ExecuteTime": {
     "end_time": "2025-06-09T20:21:54.394512Z",
     "start_time": "2025-06-09T20:21:54.392024Z"
    }
   },
   "source": [
    "ar_ints.max()  # Max of entire array"
   ],
   "outputs": [
    {
     "data": {
      "text/plain": [
       "1234"
      ]
     },
     "execution_count": 36,
     "metadata": {},
     "output_type": "execute_result"
    }
   ],
   "execution_count": 36
  },
  {
   "cell_type": "code",
   "id": "bb3648af",
   "metadata": {
    "ExecuteTime": {
     "end_time": "2025-06-09T20:22:07.357537Z",
     "start_time": "2025-06-09T20:22:07.354516Z"
    }
   },
   "source": [
    "ar_ints.max(0)  # Max of axes 0"
   ],
   "outputs": [
    {
     "data": {
      "text/plain": [
       "array([[[1000, 1001, 1002, 1003, 1004],\n",
       "        [1010, 1011, 1012, 1013, 1014],\n",
       "        [1020, 1021, 1022, 1023, 1024],\n",
       "        [1030, 1031, 1032, 1033, 1034]],\n",
       "\n",
       "       [[1100, 1101, 1102, 1103, 1104],\n",
       "        [1110, 1111, 1112, 1113, 1114],\n",
       "        [1120, 1121, 1122, 1123, 1124],\n",
       "        [1130, 1131, 1132, 1133, 1134]],\n",
       "\n",
       "       [[1200, 1201, 1202, 1203, 1204],\n",
       "        [1210, 1211, 1212, 1213, 1214],\n",
       "        [1220, 1221, 1222, 1223, 1224],\n",
       "        [1230, 1231, 1232, 1233, 1234]]], dtype=int16)"
      ]
     },
     "execution_count": 37,
     "metadata": {},
     "output_type": "execute_result"
    }
   ],
   "execution_count": 37
  },
  {
   "cell_type": "code",
   "execution_count": 23,
   "id": "b2d8e37f",
   "metadata": {},
   "outputs": [
    {
     "data": {
      "text/plain": [
       "array([[[ 200,  201,  202,  203,  204],\n",
       "        [ 210,  211,  212,  213,  214],\n",
       "        [ 220,  221,  222,  223,  224],\n",
       "        [ 230,  231,  232,  233,  234]],\n",
       "\n",
       "       [[1200, 1201, 1202, 1203, 1204],\n",
       "        [1210, 1211, 1212, 1213, 1214],\n",
       "        [1220, 1221, 1222, 1223, 1224],\n",
       "        [1230, 1231, 1232, 1233, 1234]]], dtype=int16)"
      ]
     },
     "execution_count": 23,
     "metadata": {},
     "output_type": "execute_result"
    }
   ],
   "source": [
    "ar_ints.max(1)  # Max of axes 1"
   ]
  },
  {
   "cell_type": "code",
   "execution_count": 24,
   "id": "51b0d170",
   "metadata": {},
   "outputs": [
    {
     "data": {
      "text/plain": [
       "array([[[  30,   31,   32,   33,   34],\n",
       "        [ 130,  131,  132,  133,  134],\n",
       "        [ 230,  231,  232,  233,  234]],\n",
       "\n",
       "       [[1030, 1031, 1032, 1033, 1034],\n",
       "        [1130, 1131, 1132, 1133, 1134],\n",
       "        [1230, 1231, 1232, 1233, 1234]]], dtype=int16)"
      ]
     },
     "execution_count": 24,
     "metadata": {},
     "output_type": "execute_result"
    }
   ],
   "source": [
    "ar_ints.max(2)  # Max of axes 2"
   ]
  },
  {
   "cell_type": "code",
   "execution_count": 25,
   "id": "93a50459",
   "metadata": {},
   "outputs": [
    {
     "data": {
      "text/plain": [
       "array([[[   4,   14,   24,   34],\n",
       "        [ 104,  114,  124,  134],\n",
       "        [ 204,  214,  224,  234]],\n",
       "\n",
       "       [[1004, 1014, 1024, 1034],\n",
       "        [1104, 1114, 1124, 1134],\n",
       "        [1204, 1214, 1224, 1234]]], dtype=int16)"
      ]
     },
     "execution_count": 25,
     "metadata": {},
     "output_type": "execute_result"
    }
   ],
   "source": [
    "ar_ints.max(3)  # Max of axes 3"
   ]
  },
  {
   "cell_type": "markdown",
   "id": "2790c4dd",
   "metadata": {},
   "source": [
    "## Methods"
   ]
  },
  {
   "cell_type": "code",
   "id": "596ae8a6",
   "metadata": {
    "ExecuteTime": {
     "end_time": "2025-06-09T20:23:59.233254Z",
     "start_time": "2025-06-09T20:23:59.231041Z"
    }
   },
   "source": [
    "k = np.array([\n",
    "    (1, 2, 3),\n",
    "    (4, 5, 6)\n",
    "])\n",
    "print(k)\n",
    "print(k.shape)"
   ],
   "outputs": [
    {
     "name": "stdout",
     "output_type": "stream",
     "text": [
      "[[1 2 3]\n",
      " [4 5 6]]\n",
      "(2, 3)\n"
     ]
    }
   ],
   "execution_count": 38
  },
  {
   "cell_type": "markdown",
   "id": "6f27ccef",
   "metadata": {},
   "source": [
    "### You can perform calculations on the whole array"
   ]
  },
  {
   "cell_type": "code",
   "id": "4a2d568a",
   "metadata": {
    "ExecuteTime": {
     "end_time": "2025-06-09T20:24:12.079900Z",
     "start_time": "2025-06-09T20:24:12.077512Z"
    }
   },
   "source": [
    "print('Sum:', k.sum())\n",
    "print('Min:', k.min())\n",
    "print('Max:', k.max())"
   ],
   "outputs": [
    {
     "name": "stdout",
     "output_type": "stream",
     "text": [
      "Sum: 21\n",
      "Min: 1\n",
      "Max: 6\n"
     ]
    }
   ],
   "execution_count": 39
  },
  {
   "cell_type": "markdown",
   "id": "6ecd1ef7",
   "metadata": {},
   "source": [
    "### If you pass an axis in, it calculates over that axis\n",
    "For a 2d array, axis 0 is vertical"
   ]
  },
  {
   "cell_type": "code",
   "id": "5128cf16",
   "metadata": {
    "ExecuteTime": {
     "end_time": "2025-06-09T20:24:15.166603Z",
     "start_time": "2025-06-09T20:24:15.163452Z"
    }
   },
   "source": [
    "print('Sum:', k.sum(0))\n",
    "print('Min:', k.min(0))\n",
    "print('Max:', k.max(0))"
   ],
   "outputs": [
    {
     "name": "stdout",
     "output_type": "stream",
     "text": [
      "Sum: [5 7 9]\n",
      "Min: [1 2 3]\n",
      "Max: [4 5 6]\n"
     ]
    }
   ],
   "execution_count": 40
  },
  {
   "cell_type": "markdown",
   "id": "fbba78d2",
   "metadata": {},
   "source": [
    "For a 2d array, axis 1 is horizontal"
   ]
  },
  {
   "cell_type": "code",
   "execution_count": 29,
   "id": "32f09730",
   "metadata": {},
   "outputs": [
    {
     "name": "stdout",
     "output_type": "stream",
     "text": [
      "Sum: [ 6 15]\n",
      "Min: [1 4]\n",
      "Max: [3 6]\n"
     ]
    }
   ],
   "source": [
    "print('Sum:', k.sum(1))\n",
    "print('Min:', k.min(1))\n",
    "print('Max:', k.max(1))"
   ]
  },
  {
   "cell_type": "markdown",
   "id": "83a5d497",
   "metadata": {},
   "source": [
    "### Conversions"
   ]
  },
  {
   "cell_type": "code",
   "execution_count": 30,
   "id": "99c3f9dc",
   "metadata": {},
   "outputs": [
    {
     "data": {
      "text/plain": [
       "[[1, 2, 3], [4, 5, 6]]"
      ]
     },
     "execution_count": 30,
     "metadata": {},
     "output_type": "execute_result"
    }
   ],
   "source": [
    "k.tolist()"
   ]
  },
  {
   "cell_type": "code",
   "execution_count": 31,
   "id": "1ff659b7",
   "metadata": {},
   "outputs": [
    {
     "data": {
      "text/plain": [
       "array([['1', '2', '3'],\n",
       "       ['4', '5', '6']], dtype='<U21')"
      ]
     },
     "execution_count": 31,
     "metadata": {},
     "output_type": "execute_result"
    }
   ],
   "source": [
    "k.astype(str)"
   ]
  },
  {
   "cell_type": "markdown",
   "id": "88eab69a",
   "metadata": {},
   "source": [
    "### Changing shape"
   ]
  },
  {
   "cell_type": "code",
   "id": "b36ea356",
   "metadata": {
    "ExecuteTime": {
     "end_time": "2025-06-09T20:24:47.669161Z",
     "start_time": "2025-06-09T20:24:47.666214Z"
    }
   },
   "source": [
    "k.ravel()"
   ],
   "outputs": [
    {
     "data": {
      "text/plain": [
       "array([1, 2, 3, 4, 5, 6])"
      ]
     },
     "execution_count": 41,
     "metadata": {},
     "output_type": "execute_result"
    }
   ],
   "execution_count": 41
  },
  {
   "cell_type": "code",
   "id": "a5b19e22",
   "metadata": {
    "ExecuteTime": {
     "end_time": "2025-06-09T20:24:51.740750Z",
     "start_time": "2025-06-09T20:24:51.737789Z"
    }
   },
   "source": [
    "k.reshape((3, 2))"
   ],
   "outputs": [
    {
     "data": {
      "text/plain": [
       "array([[1, 2],\n",
       "       [3, 4],\n",
       "       [5, 6]])"
      ]
     },
     "execution_count": 42,
     "metadata": {},
     "output_type": "execute_result"
    }
   ],
   "execution_count": 42
  },
  {
   "cell_type": "code",
   "id": "bd887f0f",
   "metadata": {
    "ExecuteTime": {
     "end_time": "2025-06-09T20:24:57.341796Z",
     "start_time": "2025-06-09T20:24:57.338950Z"
    }
   },
   "source": [
    "k.T  # Transposed (axes swapped)"
   ],
   "outputs": [
    {
     "data": {
      "text/plain": [
       "array([[1, 4],\n",
       "       [2, 5],\n",
       "       [3, 6]])"
      ]
     },
     "execution_count": 43,
     "metadata": {},
     "output_type": "execute_result"
    }
   ],
   "execution_count": 43
  },
  {
   "cell_type": "markdown",
   "id": "fe348f31",
   "metadata": {},
   "source": [
    "## Basic operations\n",
    "\n",
    "Basic operations return a new array, with operation performed on each element\n",
    "\n",
    "### Single number operations"
   ]
  },
  {
   "cell_type": "code",
   "id": "92d6d333",
   "metadata": {
    "ExecuteTime": {
     "end_time": "2025-06-09T20:25:03.797755Z",
     "start_time": "2025-06-09T20:25:03.795238Z"
    }
   },
   "source": [
    "l = np.array([10, 20, 30, 40])\n",
    "l"
   ],
   "outputs": [
    {
     "data": {
      "text/plain": [
       "array([10, 20, 30, 40])"
      ]
     },
     "execution_count": 44,
     "metadata": {},
     "output_type": "execute_result"
    }
   ],
   "execution_count": 44
  },
  {
   "cell_type": "code",
   "id": "4c49eea3",
   "metadata": {
    "ExecuteTime": {
     "end_time": "2025-06-09T20:25:11.748073Z",
     "start_time": "2025-06-09T20:25:11.745582Z"
    }
   },
   "source": [
    "l - 1"
   ],
   "outputs": [
    {
     "data": {
      "text/plain": [
       "array([ 9, 19, 29, 39])"
      ]
     },
     "execution_count": 45,
     "metadata": {},
     "output_type": "execute_result"
    }
   ],
   "execution_count": 45
  },
  {
   "cell_type": "code",
   "id": "ea8597ac",
   "metadata": {
    "ExecuteTime": {
     "end_time": "2025-06-09T20:25:15.281692Z",
     "start_time": "2025-06-09T20:25:15.277830Z"
    }
   },
   "source": [
    "l * 2.5  # (element multiplication)"
   ],
   "outputs": [
    {
     "data": {
      "text/plain": [
       "array([ 25.,  50.,  75., 100.])"
      ]
     },
     "execution_count": 46,
     "metadata": {},
     "output_type": "execute_result"
    }
   ],
   "execution_count": 46
  },
  {
   "cell_type": "code",
   "execution_count": 38,
   "id": "07aa06a9",
   "metadata": {},
   "outputs": [
    {
     "data": {
      "text/plain": [
       "array([ 100,  400,  900, 1600])"
      ]
     },
     "execution_count": 38,
     "metadata": {},
     "output_type": "execute_result"
    }
   ],
   "source": [
    "l ** 2"
   ]
  },
  {
   "cell_type": "code",
   "execution_count": 39,
   "id": "a73fd2f8",
   "metadata": {},
   "outputs": [
    {
     "data": {
      "text/plain": [
       "array([-5.44021111,  9.12945251, -9.88031624,  7.4511316 ])"
      ]
     },
     "execution_count": 39,
     "metadata": {},
     "output_type": "execute_result"
    }
   ],
   "source": [
    "10 * np.sin(l)"
   ]
  },
  {
   "cell_type": "code",
   "id": "4cc4e0e4",
   "metadata": {
    "ExecuteTime": {
     "end_time": "2025-06-09T20:25:39.396360Z",
     "start_time": "2025-06-09T20:25:39.393320Z"
    }
   },
   "source": [
    "l < 25"
   ],
   "outputs": [
    {
     "data": {
      "text/plain": [
       "array([ True,  True, False, False])"
      ]
     },
     "execution_count": 47,
     "metadata": {},
     "output_type": "execute_result"
    }
   ],
   "execution_count": 47
  },
  {
   "metadata": {
    "ExecuteTime": {
     "end_time": "2025-06-09T20:44:26.514417Z",
     "start_time": "2025-06-09T20:44:26.510748Z"
    }
   },
   "cell_type": "code",
   "source": "l[l < 25]",
   "id": "898be614545b9479",
   "outputs": [
    {
     "data": {
      "text/plain": [
       "array([10, 20])"
      ]
     },
     "execution_count": 66,
     "metadata": {},
     "output_type": "execute_result"
    }
   ],
   "execution_count": 66
  },
  {
   "cell_type": "markdown",
   "id": "56d80f54",
   "metadata": {},
   "source": [
    "### 1d array operations\n",
    "Operations can be performed against an array of same size"
   ]
  },
  {
   "cell_type": "code",
   "id": "9f904eea",
   "metadata": {
    "ExecuteTime": {
     "end_time": "2025-06-09T20:26:42.897524Z",
     "start_time": "2025-06-09T20:26:42.894629Z"
    }
   },
   "source": [
    "m = np.arange(4)\n",
    "m"
   ],
   "outputs": [
    {
     "data": {
      "text/plain": [
       "array([0, 1, 2, 3])"
      ]
     },
     "execution_count": 49,
     "metadata": {},
     "output_type": "execute_result"
    }
   ],
   "execution_count": 49
  },
  {
   "cell_type": "code",
   "id": "7925f728",
   "metadata": {
    "ExecuteTime": {
     "end_time": "2025-06-09T20:26:43.569142Z",
     "start_time": "2025-06-09T20:26:43.566478Z"
    }
   },
   "source": [
    "l - m"
   ],
   "outputs": [
    {
     "data": {
      "text/plain": [
       "array([10, 19, 28, 37])"
      ]
     },
     "execution_count": 50,
     "metadata": {},
     "output_type": "execute_result"
    }
   ],
   "execution_count": 50
  },
  {
   "cell_type": "code",
   "id": "52b89a56",
   "metadata": {
    "ExecuteTime": {
     "end_time": "2025-06-09T20:26:55.338787Z",
     "start_time": "2025-06-09T20:26:55.336205Z"
    }
   },
   "source": [
    "l * m"
   ],
   "outputs": [
    {
     "data": {
      "text/plain": [
       "array([  0,  20,  60, 120])"
      ]
     },
     "execution_count": 51,
     "metadata": {},
     "output_type": "execute_result"
    }
   ],
   "execution_count": 51
  },
  {
   "cell_type": "code",
   "id": "f043aba0",
   "metadata": {
    "ExecuteTime": {
     "end_time": "2025-06-09T20:26:56.251282Z",
     "start_time": "2025-06-09T20:26:56.248785Z"
    }
   },
   "source": [
    "l @ m  # 200 (dot product), or"
   ],
   "outputs": [
    {
     "data": {
      "text/plain": [
       "200"
      ]
     },
     "execution_count": 52,
     "metadata": {},
     "output_type": "execute_result"
    }
   ],
   "execution_count": 52
  },
  {
   "cell_type": "code",
   "execution_count": 45,
   "id": "732c36ff",
   "metadata": {
    "lines_to_next_cell": 2
   },
   "outputs": [
    {
     "data": {
      "text/plain": [
       "200"
      ]
     },
     "execution_count": 45,
     "metadata": {},
     "output_type": "execute_result"
    }
   ],
   "source": [
    "l.dot(m)  # 200 (dot product)"
   ]
  },
  {
   "cell_type": "markdown",
   "id": "bf1a29a9",
   "metadata": {},
   "source": [
    "Operating on an array of a different size will throw an error."
   ]
  },
  {
   "cell_type": "code",
   "id": "e910aee0",
   "metadata": {
    "ExecuteTime": {
     "end_time": "2025-06-09T20:27:10.027643Z",
     "start_time": "2025-06-09T20:27:10.025437Z"
    }
   },
   "source": [
    "try:\n",
    "    l - [1, 2]\n",
    "except Exception as e:\n",
    "    print(repr(e))"
   ],
   "outputs": [
    {
     "name": "stdout",
     "output_type": "stream",
     "text": [
      "ValueError('operands could not be broadcast together with shapes (4,) (2,) ')\n"
     ]
    }
   ],
   "execution_count": 53
  },
  {
   "cell_type": "markdown",
   "id": "01516d89",
   "metadata": {},
   "source": [
    "### Broadcasting\n",
    "For multidimensional arrays, basic operations follow [broadcasting](https://numpy.org/doc/stable/user/basics.broadcasting.html) rules:\n",
    "- each dimension must either have the same size, or\n",
    "- one must have size 1"
   ]
  },
  {
   "cell_type": "markdown",
   "id": "2c3693fa",
   "metadata": {},
   "source": [
    "### 2d array operations"
   ]
  },
  {
   "cell_type": "code",
   "execution_count": 47,
   "id": "1ddcd104",
   "metadata": {},
   "outputs": [
    {
     "data": {
      "text/plain": [
       "array([[1, 2],\n",
       "       [3, 4],\n",
       "       [5, 6]])"
      ]
     },
     "execution_count": 47,
     "metadata": {},
     "output_type": "execute_result"
    }
   ],
   "source": [
    "n = np.array([(1, 2), (3, 4), (5, 6)])  # (3, 2)\n",
    "n"
   ]
  },
  {
   "cell_type": "code",
   "execution_count": 48,
   "id": "a0a98743",
   "metadata": {},
   "outputs": [
    {
     "data": {
      "text/plain": [
       "array([[1],\n",
       "       [2],\n",
       "       [3]])"
      ]
     },
     "execution_count": 48,
     "metadata": {},
     "output_type": "execute_result"
    }
   ],
   "source": [
    "o = np.array([[1], [2], [3]])  # (3, 1): 1st dim is same size, 2nd dim size is 1\n",
    "o"
   ]
  },
  {
   "cell_type": "code",
   "execution_count": 49,
   "id": "e682c325",
   "metadata": {},
   "outputs": [
    {
     "data": {
      "text/plain": [
       "array([[ 1,  2],\n",
       "       [ 6,  8],\n",
       "       [15, 18]])"
      ]
     },
     "execution_count": 49,
     "metadata": {},
     "output_type": "execute_result"
    }
   ],
   "source": [
    "n * o"
   ]
  },
  {
   "cell_type": "code",
   "execution_count": 50,
   "id": "9debc734",
   "metadata": {},
   "outputs": [
    {
     "data": {
      "text/plain": [
       "array([[1, 2]])"
      ]
     },
     "execution_count": 50,
     "metadata": {},
     "output_type": "execute_result"
    }
   ],
   "source": [
    "p = np.array([[1, 2]])  # (1, 2): 1st dim size is 1, 2nd dim is same size\n",
    "p"
   ]
  },
  {
   "cell_type": "code",
   "execution_count": 51,
   "id": "3dd7991a",
   "metadata": {},
   "outputs": [
    {
     "data": {
      "text/plain": [
       "array([[ 1,  4],\n",
       "       [ 3,  8],\n",
       "       [ 5, 12]])"
      ]
     },
     "execution_count": 51,
     "metadata": {},
     "output_type": "execute_result"
    }
   ],
   "source": [
    "n * p"
   ]
  },
  {
   "cell_type": "markdown",
   "id": "2a477677",
   "metadata": {},
   "source": [
    "### Upcasting\n",
    "When arrays have different types, the result will use the more general/precise type"
   ]
  },
  {
   "cell_type": "code",
   "execution_count": 52,
   "id": "863cc716",
   "metadata": {},
   "outputs": [
    {
     "data": {
      "text/plain": [
       "array([1, 1, 1], dtype=int32)"
      ]
     },
     "execution_count": 52,
     "metadata": {},
     "output_type": "execute_result"
    }
   ],
   "source": [
    "q = np.ones(3, dtype=np.int32)\n",
    "q"
   ]
  },
  {
   "cell_type": "code",
   "execution_count": 53,
   "id": "baebd3ae",
   "metadata": {},
   "outputs": [
    {
     "data": {
      "text/plain": [
       "array([0. , 0.5, 1. ])"
      ]
     },
     "execution_count": 53,
     "metadata": {},
     "output_type": "execute_result"
    }
   ],
   "source": [
    "r = np.linspace(0, 1, 3)\n",
    "r"
   ]
  },
  {
   "cell_type": "code",
   "execution_count": 54,
   "id": "a3caa0d3",
   "metadata": {},
   "outputs": [
    {
     "name": "stdout",
     "output_type": "stream",
     "text": [
      "int32\n",
      "float64\n"
     ]
    }
   ],
   "source": [
    "print(q.dtype)\n",
    "print(r.dtype)"
   ]
  },
  {
   "cell_type": "code",
   "execution_count": 55,
   "id": "a0083ebc",
   "metadata": {},
   "outputs": [
    {
     "name": "stdout",
     "output_type": "stream",
     "text": [
      "float64\n"
     ]
    },
    {
     "data": {
      "text/plain": [
       "array([1. , 1.5, 2. ])"
      ]
     },
     "execution_count": 55,
     "metadata": {},
     "output_type": "execute_result"
    }
   ],
   "source": [
    "s = q + r\n",
    "print(s.dtype)\n",
    "s"
   ]
  },
  {
   "cell_type": "markdown",
   "id": "d5097ba9",
   "metadata": {},
   "source": [
    "### Augmented assignment operations\n",
    "These modify the existing array (e.g. +=)"
   ]
  },
  {
   "cell_type": "code",
   "execution_count": 56,
   "id": "92e72418",
   "metadata": {},
   "outputs": [
    {
     "data": {
      "text/plain": [
       "array([1. , 1.5, 2. ])"
      ]
     },
     "execution_count": 56,
     "metadata": {},
     "output_type": "execute_result"
    }
   ],
   "source": [
    "r += q\n",
    "r"
   ]
  },
  {
   "cell_type": "markdown",
   "id": "f1bd2e1a",
   "metadata": {},
   "source": [
    "#### Type errors\n",
    "Because arrays have a specific type,\n",
    "you may get type errors if you try to store a more precise type in a less precise array"
   ]
  },
  {
   "cell_type": "code",
   "execution_count": 57,
   "id": "5e5668b8",
   "metadata": {},
   "outputs": [
    {
     "name": "stdout",
     "output_type": "stream",
     "text": [
      "UFuncTypeError(<ufunc 'add'>, 'same_kind', dtype('float64'), dtype('int32'), 2)\n",
      "Cannot store a float64 type into an int32 type array\n"
     ]
    }
   ],
   "source": [
    "try:\n",
    "    q += r\n",
    "except Exception as e:\n",
    "    print(repr(e))\n",
    "    print('Cannot store a float64 type into an int32 type array')"
   ]
  },
  {
   "cell_type": "markdown",
   "id": "d5c52e45",
   "metadata": {},
   "source": [
    "## Indexing and slicing\n",
    "### 1d arrays\n",
    "Works mostly like lists"
   ]
  },
  {
   "cell_type": "code",
   "id": "03923840",
   "metadata": {
    "ExecuteTime": {
     "end_time": "2025-06-09T20:28:31.550877Z",
     "start_time": "2025-06-09T20:28:31.547347Z"
    }
   },
   "source": [
    "t = np.arange(5) * 2\n",
    "t"
   ],
   "outputs": [
    {
     "data": {
      "text/plain": [
       "array([0, 2, 4, 6, 8])"
      ]
     },
     "execution_count": 54,
     "metadata": {},
     "output_type": "execute_result"
    }
   ],
   "execution_count": 54
  },
  {
   "cell_type": "code",
   "execution_count": 59,
   "id": "3b49217f",
   "metadata": {},
   "outputs": [
    {
     "data": {
      "text/plain": [
       "4"
      ]
     },
     "execution_count": 59,
     "metadata": {},
     "output_type": "execute_result"
    }
   ],
   "source": [
    "t[2]"
   ]
  },
  {
   "cell_type": "code",
   "execution_count": 60,
   "id": "bcf4c28f",
   "metadata": {},
   "outputs": [
    {
     "data": {
      "text/plain": [
       "array([2, 4, 6])"
      ]
     },
     "execution_count": 60,
     "metadata": {},
     "output_type": "execute_result"
    }
   ],
   "source": [
    "t[1:4]"
   ]
  },
  {
   "cell_type": "code",
   "execution_count": 61,
   "id": "537159bb",
   "metadata": {},
   "outputs": [
    {
     "data": {
      "text/plain": [
       "array([0, 2, 4, 6, 8])"
      ]
     },
     "execution_count": 61,
     "metadata": {},
     "output_type": "execute_result"
    }
   ],
   "source": [
    "t[:]"
   ]
  },
  {
   "cell_type": "code",
   "execution_count": 62,
   "id": "3f1c4b97",
   "metadata": {},
   "outputs": [
    {
     "data": {
      "text/plain": [
       "array([8, 6, 4, 2, 0])"
      ]
     },
     "execution_count": 62,
     "metadata": {},
     "output_type": "execute_result"
    }
   ],
   "source": [
    "t[::-1]"
   ]
  },
  {
   "cell_type": "code",
   "id": "9c12ce77",
   "metadata": {
    "ExecuteTime": {
     "end_time": "2025-06-09T20:28:42.854208Z",
     "start_time": "2025-06-09T20:28:42.850505Z"
    }
   },
   "source": [
    "t[[3, 1, 0]]  # choose specific items (can't do this with lists)"
   ],
   "outputs": [
    {
     "data": {
      "text/plain": [
       "array([6, 2, 0])"
      ]
     },
     "execution_count": 55,
     "metadata": {},
     "output_type": "execute_result"
    }
   ],
   "execution_count": 55
  },
  {
   "cell_type": "code",
   "execution_count": 64,
   "id": "f0577094",
   "metadata": {
    "lines_to_next_cell": 1
   },
   "outputs": [
    {
     "data": {
      "text/plain": [
       "array([-1,  2, -1,  6, -1])"
      ]
     },
     "execution_count": 64,
     "metadata": {},
     "output_type": "execute_result"
    }
   ],
   "source": [
    "t[::2] = -1  # set every second number to -1 (can't do this with lists)\n",
    "t"
   ]
  },
  {
   "cell_type": "markdown",
   "id": "ffaa69ab",
   "metadata": {},
   "source": [
    "### Multidimensional arrays"
   ]
  },
  {
   "cell_type": "code",
   "id": "a4acb02f",
   "metadata": {
    "lines_to_next_cell": 1,
    "ExecuteTime": {
     "end_time": "2025-06-09T20:29:18.403515Z",
     "start_time": "2025-06-09T20:29:18.398399Z"
    }
   },
   "source": [
    "def f(x, y):\n",
    "    return 10 * x + y"
   ],
   "outputs": [],
   "execution_count": 56
  },
  {
   "cell_type": "code",
   "id": "a52895a6",
   "metadata": {
    "ExecuteTime": {
     "end_time": "2025-06-09T20:29:20.180271Z",
     "start_time": "2025-06-09T20:29:20.176978Z"
    }
   },
   "source": [
    "u = np.fromfunction(f, (5, 4), dtype=int)\n",
    "u"
   ],
   "outputs": [
    {
     "data": {
      "text/plain": [
       "array([[ 0,  1,  2,  3],\n",
       "       [10, 11, 12, 13],\n",
       "       [20, 21, 22, 23],\n",
       "       [30, 31, 32, 33],\n",
       "       [40, 41, 42, 43]])"
      ]
     },
     "execution_count": 57,
     "metadata": {},
     "output_type": "execute_result"
    }
   ],
   "execution_count": 57
  },
  {
   "cell_type": "markdown",
   "id": "503f9def",
   "metadata": {},
   "source": [
    "#### Nd arrays can have 1 index per axis"
   ]
  },
  {
   "cell_type": "code",
   "id": "98a0168d",
   "metadata": {
    "ExecuteTime": {
     "end_time": "2025-06-09T20:29:31.961573Z",
     "start_time": "2025-06-09T20:29:31.957713Z"
    }
   },
   "source": [
    "u[2, 3]"
   ],
   "outputs": [
    {
     "data": {
      "text/plain": [
       "23"
      ]
     },
     "execution_count": 58,
     "metadata": {},
     "output_type": "execute_result"
    }
   ],
   "execution_count": 58
  },
  {
   "cell_type": "code",
   "id": "c0b5e6ae",
   "metadata": {
    "ExecuteTime": {
     "end_time": "2025-06-09T20:29:43.404263Z",
     "start_time": "2025-06-09T20:29:43.401457Z"
    }
   },
   "source": [
    "u[:, 1]"
   ],
   "outputs": [
    {
     "data": {
      "text/plain": [
       "array([ 1, 11, 21, 31, 41])"
      ]
     },
     "execution_count": 59,
     "metadata": {},
     "output_type": "execute_result"
    }
   ],
   "execution_count": 59
  },
  {
   "cell_type": "code",
   "id": "d4dedf1b",
   "metadata": {
    "ExecuteTime": {
     "end_time": "2025-06-09T20:29:44.229896Z",
     "start_time": "2025-06-09T20:29:44.226600Z"
    }
   },
   "source": [
    "u[1:3, :]"
   ],
   "outputs": [
    {
     "data": {
      "text/plain": [
       "array([[10, 11, 12, 13],\n",
       "       [20, 21, 22, 23]])"
      ]
     },
     "execution_count": 60,
     "metadata": {},
     "output_type": "execute_result"
    }
   ],
   "execution_count": 60
  },
  {
   "cell_type": "markdown",
   "id": "695aab41",
   "metadata": {},
   "source": [
    "If fewer axes provided, missing ones are considered complete slices `:`"
   ]
  },
  {
   "cell_type": "code",
   "id": "8e01ffbc",
   "metadata": {
    "ExecuteTime": {
     "end_time": "2025-06-09T20:29:59.885769Z",
     "start_time": "2025-06-09T20:29:59.881897Z"
    }
   },
   "source": [
    "u[-1]  # equivalent to b[-1, :]"
   ],
   "outputs": [
    {
     "data": {
      "text/plain": [
       "array([40, 41, 42, 43])"
      ]
     },
     "execution_count": 61,
     "metadata": {},
     "output_type": "execute_result"
    }
   ],
   "execution_count": 61
  },
  {
   "cell_type": "markdown",
   "id": "f50718b5",
   "metadata": {},
   "source": [
    "Can use `...` to fill in empty ones"
   ]
  },
  {
   "cell_type": "code",
   "id": "17aa76a7",
   "metadata": {
    "ExecuteTime": {
     "end_time": "2025-06-09T20:30:27.822931Z",
     "start_time": "2025-06-09T20:30:27.819456Z"
    }
   },
   "source": [
    "u[..., -1]  # equivalent to b[:, -1]"
   ],
   "outputs": [
    {
     "data": {
      "text/plain": [
       "array([ 3, 13, 23, 33, 43])"
      ]
     },
     "execution_count": 62,
     "metadata": {},
     "output_type": "execute_result"
    }
   ],
   "execution_count": 62
  },
  {
   "cell_type": "markdown",
   "id": "a2957fec",
   "metadata": {},
   "source": [
    "## Iterating\n",
    "Iterating starts at 0 axis"
   ]
  },
  {
   "cell_type": "code",
   "id": "939886ee",
   "metadata": {
    "ExecuteTime": {
     "end_time": "2025-06-09T20:30:58.905411Z",
     "start_time": "2025-06-09T20:30:58.902524Z"
    }
   },
   "source": [
    "for row in u:\n",
    "    print(row)"
   ],
   "outputs": [
    {
     "name": "stdout",
     "output_type": "stream",
     "text": [
      "[0 1 2 3]\n",
      "[10 11 12 13]\n",
      "[20 21 22 23]\n",
      "[30 31 32 33]\n",
      "[40 41 42 43]\n"
     ]
    }
   ],
   "execution_count": 63
  },
  {
   "cell_type": "markdown",
   "id": "13a239c4",
   "metadata": {},
   "source": [
    "Can nest to access higher axes"
   ]
  },
  {
   "cell_type": "code",
   "id": "5bf2ca20",
   "metadata": {
    "ExecuteTime": {
     "end_time": "2025-06-09T20:31:04.802206Z",
     "start_time": "2025-06-09T20:31:04.800021Z"
    }
   },
   "source": [
    "for row in u:\n",
    "    for item in row:\n",
    "        print(item)"
   ],
   "outputs": [
    {
     "name": "stdout",
     "output_type": "stream",
     "text": [
      "0\n",
      "1\n",
      "2\n",
      "3\n",
      "10\n",
      "11\n",
      "12\n",
      "13\n",
      "20\n",
      "21\n",
      "22\n",
      "23\n",
      "30\n",
      "31\n",
      "32\n",
      "33\n",
      "40\n",
      "41\n",
      "42\n",
      "43\n"
     ]
    }
   ],
   "execution_count": 64
  },
  {
   "cell_type": "markdown",
   "id": "8bb259c5",
   "metadata": {},
   "source": [
    "Can iterate over each element using ndarray.flat"
   ]
  },
  {
   "cell_type": "code",
   "id": "a50306ee",
   "metadata": {
    "ExecuteTime": {
     "end_time": "2025-06-09T20:31:10.246935Z",
     "start_time": "2025-06-09T20:31:10.243520Z"
    }
   },
   "source": [
    "for item in u.flat:\n",
    "    print(item)"
   ],
   "outputs": [
    {
     "name": "stdout",
     "output_type": "stream",
     "text": [
      "0\n",
      "1\n",
      "2\n",
      "3\n",
      "10\n",
      "11\n",
      "12\n",
      "13\n",
      "20\n",
      "21\n",
      "22\n",
      "23\n",
      "30\n",
      "31\n",
      "32\n",
      "33\n",
      "40\n",
      "41\n",
      "42\n",
      "43\n"
     ]
    }
   ],
   "execution_count": 65
  }
 ],
 "metadata": {
  "jupytext": {
   "cell_metadata_filter": "-all",
   "formats": "auto:light,ipynb",
   "main_language": "python",
   "notebook_metadata_filter": "-all"
  },
  "kernelspec": {
   "display_name": "Python 3 (ipykernel)",
   "language": "python",
   "name": "python3"
  },
  "language_info": {
   "codemirror_mode": {
    "name": "ipython",
    "version": 3
   },
   "file_extension": ".py",
   "mimetype": "text/x-python",
   "name": "python",
   "nbconvert_exporter": "python",
   "pygments_lexer": "ipython3",
   "version": "3.11.4"
  }
 },
 "nbformat": 4,
 "nbformat_minor": 5
}
