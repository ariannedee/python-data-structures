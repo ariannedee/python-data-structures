{
 "cells": [
  {
   "cell_type": "markdown",
   "id": "46dad6c9",
   "metadata": {},
   "source": [
    "# collections.Counter\n",
    "Also called a multiset or bag, `Counter` keeps track of how many times an element is included in a set."
   ]
  },
  {
   "cell_type": "code",
   "execution_count": 1,
   "id": "8686ecc2",
   "metadata": {},
   "outputs": [],
   "source": [
    "from collections import Counter"
   ]
  },
  {
   "cell_type": "code",
   "execution_count": 2,
   "id": "366d6f6d",
   "metadata": {},
   "outputs": [
    {
     "data": {
      "text/plain": [
       "Counter({'silver': 4, 'copper': 3, 'gold': 1})"
      ]
     },
     "execution_count": 2,
     "metadata": {},
     "output_type": "execute_result"
    }
   ],
   "source": [
    "coins = Counter()\n",
    "coins.update(['silver', 'silver', 'gold'])\n",
    "coins.update({'copper': 3, 'silver': 2})\n",
    "coins"
   ]
  },
  {
   "cell_type": "markdown",
   "id": "778e4e86",
   "metadata": {},
   "source": [
    "It's like a specialized `dict`, where the **key** is an element and the **value** is an integer of counts.\n",
    "## Creating counters \n",
    "### From a sequence\n",
    "If the sequence can contain duplicates, like `list` or `tuple`, it will keep track of item counts"
   ]
  },
  {
   "cell_type": "code",
   "execution_count": 3,
   "id": "7e1c9fc6",
   "metadata": {},
   "outputs": [
    {
     "data": {
      "text/plain": [
       "Counter({1: 4, 3: 2, 2: 1, 4: 1})"
      ]
     },
     "execution_count": 3,
     "metadata": {},
     "output_type": "execute_result"
    }
   ],
   "source": [
    "a = Counter([1, 1, 3, 2, 1, 3, 4, 1])\n",
    "a"
   ]
  },
  {
   "cell_type": "markdown",
   "id": "d3226a07",
   "metadata": {},
   "source": [
    "Sets remove duplicates when created, each count will be 1."
   ]
  },
  {
   "cell_type": "code",
   "execution_count": 4,
   "id": "718b5a0d",
   "metadata": {},
   "outputs": [
    {
     "data": {
      "text/plain": [
       "Counter({1: 1, 2: 1, 3: 1, 4: 1})"
      ]
     },
     "execution_count": 4,
     "metadata": {},
     "output_type": "execute_result"
    }
   ],
   "source": [
    "b = Counter({1, 1, 3, 2, 1, 3, 4, 1})\n",
    "b"
   ]
  },
  {
   "cell_type": "markdown",
   "id": "83c0ebd6",
   "metadata": {},
   "source": [
    "### From a dictionary\n",
    "It will treat `{key: value}` as `{element: count}`"
   ]
  },
  {
   "cell_type": "code",
   "execution_count": 5,
   "id": "314ed85b",
   "metadata": {},
   "outputs": [
    {
     "data": {
      "text/plain": [
       "Counter({'b': 5, 'a': 2, 'c': 1})"
      ]
     },
     "execution_count": 5,
     "metadata": {},
     "output_type": "execute_result"
    }
   ],
   "source": [
    "c = Counter({'a': 2, 'b': 5, 'c': 1})\n",
    "c"
   ]
  },
  {
   "cell_type": "markdown",
   "id": "9e005640",
   "metadata": {
    "lines_to_next_cell": 2
   },
   "source": [
    "## Updating\n",
    "You can pass in a sequence or dict of counts."
   ]
  },
  {
   "cell_type": "code",
   "execution_count": 6,
   "id": "bccfa417",
   "metadata": {},
   "outputs": [
    {
     "data": {
      "text/plain": [
       "Counter()"
      ]
     },
     "execution_count": 6,
     "metadata": {},
     "output_type": "execute_result"
    }
   ],
   "source": [
    "d = Counter()\n",
    "d"
   ]
  },
  {
   "cell_type": "markdown",
   "id": "090740cb",
   "metadata": {},
   "source": [
    "`.update()` to adds items (uses the `+` operator)"
   ]
  },
  {
   "cell_type": "code",
   "execution_count": 7,
   "id": "4a9e8960",
   "metadata": {},
   "outputs": [
    {
     "data": {
      "text/plain": [
       "Counter({'b': 3, 'a': 1})"
      ]
     },
     "execution_count": 7,
     "metadata": {},
     "output_type": "execute_result"
    }
   ],
   "source": [
    "d.update('abbb')\n",
    "d"
   ]
  },
  {
   "cell_type": "code",
   "execution_count": 8,
   "id": "f14a4f33",
   "metadata": {},
   "outputs": [
    {
     "data": {
      "text/plain": [
       "Counter({'b': 3, 'a': 2, 'c': 1})"
      ]
     },
     "execution_count": 8,
     "metadata": {},
     "output_type": "execute_result"
    }
   ],
   "source": [
    "d.update({'c', 'c', 'a'})  # c is only counted once in a normal set\n",
    "d"
   ]
  },
  {
   "cell_type": "code",
   "execution_count": 9,
   "id": "b0036a6b",
   "metadata": {},
   "outputs": [
    {
     "data": {
      "text/plain": [
       "Counter({'b': 3, 'a': 2, 'd': 2, 'c': -2})"
      ]
     },
     "execution_count": 9,
     "metadata": {},
     "output_type": "execute_result"
    }
   ],
   "source": [
    "d.update({'c':-3, 'd': 2})\n",
    "d"
   ]
  },
  {
   "cell_type": "markdown",
   "id": "2f14184b",
   "metadata": {},
   "source": [
    "`.subtract()` removes items (uses the `-` operator)"
   ]
  },
  {
   "cell_type": "code",
   "execution_count": 10,
   "id": "4926d9dd",
   "metadata": {},
   "outputs": [
    {
     "data": {
      "text/plain": [
       "Counter({'d': 2, 'a': 1, 'b': 0, 'c': -2})"
      ]
     },
     "execution_count": 10,
     "metadata": {},
     "output_type": "execute_result"
    }
   ],
   "source": [
    "d.subtract('abbb')\n",
    "d"
   ]
  },
  {
   "cell_type": "code",
   "execution_count": 11,
   "id": "0c07d5ca",
   "metadata": {},
   "outputs": [
    {
     "data": {
      "text/plain": [
       "Counter({'a': 4, 'd': 2, 'c': -2, 'b': -3})"
      ]
     },
     "execution_count": 11,
     "metadata": {},
     "output_type": "execute_result"
    }
   ],
   "source": [
    "d.subtract({'a': -3, 'b': 3})\n",
    "d"
   ]
  },
  {
   "cell_type": "markdown",
   "id": "2c386ddf",
   "metadata": {},
   "source": [
    "## Counters are like dictionaries"
   ]
  },
  {
   "cell_type": "code",
   "execution_count": 12,
   "id": "79671997",
   "metadata": {},
   "outputs": [
    {
     "data": {
      "text/plain": [
       "4"
      ]
     },
     "execution_count": 12,
     "metadata": {},
     "output_type": "execute_result"
    }
   ],
   "source": [
    "d['a']"
   ]
  },
  {
   "cell_type": "code",
   "execution_count": 13,
   "id": "0585d1ab",
   "metadata": {},
   "outputs": [
    {
     "data": {
      "text/plain": [
       "2"
      ]
     },
     "execution_count": 13,
     "metadata": {},
     "output_type": "execute_result"
    }
   ],
   "source": [
    "d.get('d', 0)"
   ]
  },
  {
   "cell_type": "code",
   "execution_count": 14,
   "id": "7dcabdc4",
   "metadata": {},
   "outputs": [
    {
     "data": {
      "text/plain": [
       "0"
      ]
     },
     "execution_count": 14,
     "metadata": {},
     "output_type": "execute_result"
    }
   ],
   "source": [
    "d.get('e', 0)"
   ]
  },
  {
   "cell_type": "code",
   "execution_count": 15,
   "id": "81778038",
   "metadata": {},
   "outputs": [],
   "source": [
    "d['c'] = 1"
   ]
  },
  {
   "cell_type": "code",
   "execution_count": 16,
   "id": "bff12e0f",
   "metadata": {},
   "outputs": [
    {
     "name": "stdout",
     "output_type": "stream",
     "text": [
      "a: 4\n",
      "b: -3\n",
      "c: 1\n",
      "d: 2\n"
     ]
    }
   ],
   "source": [
    "for key, value in d.items():\n",
    "    print(f'{key}: {value}')"
   ]
  },
  {
   "cell_type": "markdown",
   "id": "54cafde5",
   "metadata": {},
   "source": [
    "## Special Counter methods\n",
    "`.elements()` is an iterator of all the elements, repeating each value as many times as its count"
   ]
  },
  {
   "cell_type": "code",
   "execution_count": 17,
   "id": "1dd42444",
   "metadata": {},
   "outputs": [
    {
     "name": "stdout",
     "output_type": "stream",
     "text": [
      "a\n",
      "a\n",
      "a\n",
      "a\n",
      "c\n",
      "d\n",
      "d\n"
     ]
    }
   ],
   "source": [
    "for element in d.elements():  # negative integer counts won't be included\n",
    "    print(element)"
   ]
  },
  {
   "cell_type": "markdown",
   "id": "ac21db92",
   "metadata": {},
   "source": [
    "`.elements()` expects all counts to be integers"
   ]
  },
  {
   "cell_type": "code",
   "execution_count": 18,
   "id": "eee6540a",
   "metadata": {},
   "outputs": [
    {
     "data": {
      "text/plain": [
       "Counter({'a': 4, 'd': 2, 'c': 1.0, 'b': -3})"
      ]
     },
     "execution_count": 18,
     "metadata": {},
     "output_type": "execute_result"
    }
   ],
   "source": [
    "d['c'] = 1.0\n",
    "d"
   ]
  },
  {
   "cell_type": "code",
   "execution_count": 19,
   "id": "30150434",
   "metadata": {},
   "outputs": [
    {
     "name": "stdout",
     "output_type": "stream",
     "text": [
      "a\n",
      "a\n",
      "a\n",
      "a\n",
      "TypeError(\"'float' object cannot be interpreted as an integer\")\n"
     ]
    }
   ],
   "source": [
    "try:\n",
    "    for value in d.elements():\n",
    "        print(value)\n",
    "except Exception as ex:\n",
    "    print(repr(ex))"
   ]
  },
  {
   "cell_type": "markdown",
   "id": "7b52f5e8",
   "metadata": {},
   "source": [
    "`.most_common()` will return a list of the most common elements as `(element, count)`. If you pass an integer `n`, only that number are returned."
   ]
  },
  {
   "cell_type": "code",
   "execution_count": 20,
   "id": "2e9955c0",
   "metadata": {},
   "outputs": [
    {
     "data": {
      "text/plain": [
       "[('a', 4), ('d', 2), ('c', 1.0), ('b', -3)]"
      ]
     },
     "execution_count": 20,
     "metadata": {},
     "output_type": "execute_result"
    }
   ],
   "source": [
    "d.most_common()"
   ]
  },
  {
   "cell_type": "code",
   "execution_count": 21,
   "id": "74c0faca",
   "metadata": {},
   "outputs": [
    {
     "data": {
      "text/plain": [
       "[('a', 4), ('d', 2)]"
      ]
     },
     "execution_count": 21,
     "metadata": {},
     "output_type": "execute_result"
    }
   ],
   "source": [
    "d.most_common(2)"
   ]
  }
 ],
 "metadata": {
  "jupytext": {
   "cell_metadata_filter": "-all",
   "formats": "auto:light,ipynb",
   "main_language": "python",
   "notebook_metadata_filter": "-all"
  },
  "kernelspec": {
   "display_name": "Python 3 (ipykernel)",
   "language": "python",
   "name": "python3"
  },
  "language_info": {
   "codemirror_mode": {
    "name": "ipython",
    "version": 3
   },
   "file_extension": ".py",
   "mimetype": "text/x-python",
   "name": "python",
   "nbconvert_exporter": "python",
   "pygments_lexer": "ipython3",
   "version": "3.11.4"
  }
 },
 "nbformat": 4,
 "nbformat_minor": 5
}
