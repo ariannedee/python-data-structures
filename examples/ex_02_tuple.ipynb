{
 "cells": [
  {
   "cell_type": "markdown",
   "id": "371d5bf4",
   "metadata": {},
   "source": [
    "# Tuples\n",
    "\n",
    "Immutable (non-modifiable) lists.\n",
    "\n",
    "## Creating tuples"
   ]
  },
  {
   "cell_type": "code",
   "execution_count": 1,
   "id": "c27b4316",
   "metadata": {},
   "outputs": [
    {
     "data": {
      "text/plain": [
       "(1, 2, 3)"
      ]
     },
     "execution_count": 1,
     "metadata": {},
     "output_type": "execute_result"
    }
   ],
   "source": [
    "(1, 2, 3)"
   ]
  },
  {
   "cell_type": "markdown",
   "id": "84cf1ca2",
   "metadata": {},
   "source": [
    "Be careful with single item tuples. \n",
    "\n",
    "They need a trailing comma or else it's just an expression."
   ]
  },
  {
   "cell_type": "code",
   "execution_count": 2,
   "id": "192e9860",
   "metadata": {},
   "outputs": [
    {
     "data": {
      "text/plain": [
       "('Hello',)"
      ]
     },
     "execution_count": 2,
     "metadata": {},
     "output_type": "execute_result"
    }
   ],
   "source": [
    "('Hello',)"
   ]
  },
  {
   "cell_type": "code",
   "execution_count": 3,
   "id": "a34cd2a6",
   "metadata": {},
   "outputs": [
    {
     "data": {
      "text/plain": [
       "'Goodbye'"
      ]
     },
     "execution_count": 3,
     "metadata": {},
     "output_type": "execute_result"
    }
   ],
   "source": [
    "('Goodbye')"
   ]
  },
  {
   "cell_type": "markdown",
   "id": "142b8050-3470-4d1c-a2ff-755c37fbd15d",
   "metadata": {},
   "source": [
    "You can create a tuple from an existing collection/iterable, using `tuple()`."
   ]
  },
  {
   "cell_type": "code",
   "execution_count": 4,
   "id": "6f48fabf",
   "metadata": {},
   "outputs": [
    {
     "data": {
      "text/plain": [
       "('a', 'b', 'c')"
      ]
     },
     "execution_count": 4,
     "metadata": {},
     "output_type": "execute_result"
    }
   ],
   "source": [
    "a = tuple('abc')\n",
    "a"
   ]
  },
  {
   "cell_type": "markdown",
   "id": "af668c86",
   "metadata": {},
   "source": [
    "## Cannot update tuples"
   ]
  },
  {
   "cell_type": "code",
   "execution_count": 5,
   "id": "db7aa756",
   "metadata": {},
   "outputs": [
    {
     "name": "stdout",
     "output_type": "stream",
     "text": [
      "TypeError(\"'tuple' object does not support item assignment\")\n"
     ]
    }
   ],
   "source": [
    "try:\n",
    "    a[0] = 'Howdy'\n",
    "except Exception as e:\n",
    "    print(repr(e))"
   ]
  },
  {
   "cell_type": "markdown",
   "id": "18e74c28",
   "metadata": {},
   "source": [
    "## Slicing and indexing\n",
    "\n",
    "It's done just like lists!\n",
    "\n",
    "## Packing and unpacking\n",
    "\n",
    "**Packing** happens when you don't include the parentheses"
   ]
  },
  {
   "cell_type": "code",
   "execution_count": 6,
   "id": "9fade3cc",
   "metadata": {},
   "outputs": [
    {
     "data": {
      "text/plain": [
       "(1.2, 3.4)"
      ]
     },
     "execution_count": 6,
     "metadata": {},
     "output_type": "execute_result"
    }
   ],
   "source": [
    "coords = 1.2, 3.4\n",
    "coords"
   ]
  },
  {
   "cell_type": "code",
   "execution_count": 7,
   "id": "9affaa2b-d0ad-4716-81a5-236c11b5bced",
   "metadata": {},
   "outputs": [
    {
     "data": {
      "text/plain": [
       "tuple"
      ]
     },
     "execution_count": 7,
     "metadata": {},
     "output_type": "execute_result"
    }
   ],
   "source": [
    "type(coords)"
   ]
  },
  {
   "cell_type": "markdown",
   "id": "e3753024",
   "metadata": {},
   "source": [
    "**Unpacking** happens when you expand a `tuple` into multiple variables"
   ]
  },
  {
   "cell_type": "code",
   "execution_count": 9,
   "id": "ed9f9d80",
   "metadata": {},
   "outputs": [
    {
     "name": "stdout",
     "output_type": "stream",
     "text": [
      "1.2\n",
      "3.4\n"
     ]
    }
   ],
   "source": [
    "lat, lon = coords\n",
    "print(lat)\n",
    "print(lon)"
   ]
  },
  {
   "cell_type": "code",
   "execution_count": 10,
   "id": "061b8d77",
   "metadata": {},
   "outputs": [
    {
     "data": {
      "text/plain": [
       "[3.4, 5.6]"
      ]
     },
     "execution_count": 10,
     "metadata": {},
     "output_type": "execute_result"
    }
   ],
   "source": [
    "a_tuple = 1.2, 3.4, 5.6, 7.8\n",
    "x, *y, z = a_tuple\n",
    "y"
   ]
  },
  {
   "cell_type": "markdown",
   "id": "bdf85f3e",
   "metadata": {},
   "source": [
    "## When to use tuples"
   ]
  },
  {
   "cell_type": "markdown",
   "id": "439b863c",
   "metadata": {},
   "source": [
    "### Representing objects/heterogeneous data"
   ]
  },
  {
   "cell_type": "code",
   "execution_count": 9,
   "id": "735e749b",
   "metadata": {},
   "outputs": [],
   "source": [
    "blue = 0, 0, 255\n",
    "colours = ['red', 'green', blue]"
   ]
  },
  {
   "cell_type": "markdown",
   "id": "d60c7c01",
   "metadata": {},
   "source": [
    "### Swap variable names\n",
    "\n",
    "Use `tuple` packing and unpacking to do neat stuff.\n",
    "\n",
    "Without it, you'd need to introduce a temporary 3rd variable."
   ]
  },
  {
   "cell_type": "code",
   "execution_count": 10,
   "id": "ab9d1af2",
   "metadata": {},
   "outputs": [
    {
     "name": "stdout",
     "output_type": "stream",
     "text": [
      "-100\n",
      "100\n"
     ]
    }
   ],
   "source": [
    "d = 100\n",
    "e = -100\n",
    "\n",
    "d, e = e, d\n",
    "print(d)\n",
    "print(e)"
   ]
  },
  {
   "cell_type": "markdown",
   "id": "4cc6c781",
   "metadata": {},
   "source": [
    "### Represent constants/immutable values"
   ]
  },
  {
   "cell_type": "code",
   "execution_count": 11,
   "id": "745e4111",
   "metadata": {},
   "outputs": [],
   "source": [
    "paris = (33.66, -95.54)\n",
    "athens = (32.20, -95.85)"
   ]
  },
  {
   "cell_type": "markdown",
   "id": "8e58eca4",
   "metadata": {},
   "source": [
    "### Use as dict keys"
   ]
  },
  {
   "cell_type": "code",
   "execution_count": 12,
   "id": "e15411ba",
   "metadata": {},
   "outputs": [
    {
     "data": {
      "text/plain": [
       "{(33.66, -95.54): 'Paris', (32.2, -95.85): 'Athens'}"
      ]
     },
     "execution_count": 12,
     "metadata": {},
     "output_type": "execute_result"
    }
   ],
   "source": [
    "texas_cities = {\n",
    "    paris: 'Paris',\n",
    "    athens: 'Athens',\n",
    "}\n",
    "texas_cities"
   ]
  },
  {
   "cell_type": "markdown",
   "id": "1a18e3f3",
   "metadata": {},
   "source": [
    "### Return multiple values from a function"
   ]
  },
  {
   "cell_type": "code",
   "execution_count": 13,
   "id": "5dfaabc3",
   "metadata": {},
   "outputs": [
    {
     "name": "stdout",
     "output_type": "stream",
     "text": [
      "11/2 is 5 remainder 1\n"
     ]
    }
   ],
   "source": [
    "def div_mod(x, y):\n",
    "    div = x // y\n",
    "    mod = x % y\n",
    "    return div, mod\n",
    "\n",
    "quotient, remainder = div_mod(11, 2)\n",
    "print(f'11/2 is {quotient} remainder {remainder}')"
   ]
  },
  {
   "cell_type": "markdown",
   "id": "05845778",
   "metadata": {},
   "source": [
    "**Note**: the builtin `divmod()` exists because the CPU can determine them at the same time, so it saves computing time if you need both."
   ]
  },
  {
   "cell_type": "markdown",
   "id": "a3bb6adc",
   "metadata": {},
   "source": [
    "### Access multiple items in a loop\n",
    "\n",
    "When you access multiple variables in `for` loops, you're actually unpacking a `tuple`."
   ]
  },
  {
   "cell_type": "code",
   "execution_count": 14,
   "id": "cede3ca1",
   "metadata": {},
   "outputs": [
    {
     "name": "stdout",
     "output_type": "stream",
     "text": [
      "0: a\n",
      "1: b\n",
      "2: c\n"
     ]
    }
   ],
   "source": [
    "for i, val in enumerate('abc'):\n",
    "    print(f'{i}: {val}')"
   ]
  },
  {
   "cell_type": "code",
   "execution_count": 15,
   "id": "0ef37567",
   "metadata": {},
   "outputs": [
    {
     "name": "stdout",
     "output_type": "stream",
     "text": [
      "(0, 'a')\n",
      "(1, 'b')\n",
      "(2, 'c')\n"
     ]
    }
   ],
   "source": [
    "for tup in enumerate('abc'):\n",
    "    print(tup)"
   ]
  },
  {
   "cell_type": "markdown",
   "id": "1b306798",
   "metadata": {},
   "source": [
    "### The zip() function\n",
    "\n",
    "If you want to loop over items two or more sequences simultaneously, you can zip them and loop over the results."
   ]
  },
  {
   "cell_type": "code",
   "execution_count": 16,
   "id": "beb51111",
   "metadata": {},
   "outputs": [
    {
     "name": "stdout",
     "output_type": "stream",
     "text": [
      "[(1, 'a'), (2, 'b'), (3, 'c')]\n",
      "a\n",
      "bb\n",
      "ccc\n"
     ]
    }
   ],
   "source": [
    "nums = [1, 2, 3]\n",
    "letters = ['a', 'b', 'c']\n",
    "\n",
    "print(list(zip(nums, letters)))\n",
    "\n",
    "for num, letter in zip(nums, letters):\n",
    "    print(num * letter)"
   ]
  },
  {
   "cell_type": "markdown",
   "id": "7c944643",
   "metadata": {},
   "source": [
    "### Practical uses of zip()\n",
    "\n",
    "Copied from this [Real Python](https://realpython.com/python-zip-function/) article\n",
    "\n",
    "#### Calculating in pairs\n",
    "\n",
    "If you have a spreadsheet of `total_sales` and `costs` for multiple months, you can calculate the `profit` for each month and for the whole period."
   ]
  },
  {
   "cell_type": "code",
   "execution_count": 17,
   "id": "0e487e44",
   "metadata": {},
   "outputs": [
    {
     "name": "stdout",
     "output_type": "stream",
     "text": [
      "Profit: $5200.0\n",
      "Profit: $5100.0\n",
      "Profit: $4800.0\n",
      "Total profit: $15,100.0\n"
     ]
    }
   ],
   "source": [
    "total_sales_q2 = [52000.00, 51000.00, 48000.00]\n",
    "costs_q2 = [46800.00, 45900.00, 43200.00]\n",
    "\n",
    "profit_q2 = 0\n",
    "for sales, costs in zip(total_sales_q2, costs_q2):\n",
    "    profit = sales - costs\n",
    "    print(f'Profit: ${profit}')\n",
    "    profit_q2 += profit\n",
    "\n",
    "print(f'Total profit: ${profit_q2:,}')"
   ]
  },
  {
   "cell_type": "markdown",
   "id": "e1665760",
   "metadata": {},
   "source": [
    "#### Building dictionaries"
   ]
  },
  {
   "cell_type": "code",
   "execution_count": 18,
   "id": "2136d1d5",
   "metadata": {
    "lines_to_next_cell": 0
   },
   "outputs": [
    {
     "data": {
      "text/plain": [
       "{'name': 'Jasmine', 'last_name': 'Doe', 'age': '45', 'job': 'Python Developer'}"
      ]
     },
     "execution_count": 18,
     "metadata": {},
     "output_type": "execute_result"
    }
   ],
   "source": [
    "fields = ['name', 'last_name', 'age', 'job']\n",
    "values = ['Jasmine', 'Doe', '45', 'Python Developer']\n",
    "\n",
    "person = dict(zip(fields, values))\n",
    "person"
   ]
  },
  {
   "cell_type": "code",
   "execution_count": null,
   "id": "c6be7a5a",
   "metadata": {
    "lines_to_next_cell": 2
   },
   "outputs": [],
   "source": []
  }
 ],
 "metadata": {
  "jupytext": {
   "cell_metadata_filter": "-all",
   "formats": "auto:light,ipynb",
   "main_language": "python",
   "notebook_metadata_filter": "-all"
  },
  "kernelspec": {
   "display_name": "Python 3 (ipykernel)",
   "language": "python",
   "name": "python3"
  },
  "language_info": {
   "codemirror_mode": {
    "name": "ipython",
    "version": 3
   },
   "file_extension": ".py",
   "mimetype": "text/x-python",
   "name": "python",
   "nbconvert_exporter": "python",
   "pygments_lexer": "ipython3",
   "version": "3.11.4"
  }
 },
 "nbformat": 4,
 "nbformat_minor": 5
}
