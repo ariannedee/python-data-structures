{
 "cells": [
  {
   "cell_type": "markdown",
   "id": "92fce44e",
   "metadata": {},
   "source": [
    "# Sets\n",
    "Sets are a container that:\n",
    "- have no order\n",
    "- cannot contain duplicates\n",
    "- cannot access individual items (except by iterating over)\n",
    "\n",
    "## Creating sets"
   ]
  },
  {
   "cell_type": "code",
   "id": "a61d40af",
   "metadata": {
    "ExecuteTime": {
     "end_time": "2025-06-09T17:20:47.356389Z",
     "start_time": "2025-06-09T17:20:47.351631Z"
    }
   },
   "source": "set()  # Empty set",
   "outputs": [
    {
     "data": {
      "text/plain": [
       "set()"
      ]
     },
     "execution_count": 1,
     "metadata": {},
     "output_type": "execute_result"
    }
   ],
   "execution_count": 1
  },
  {
   "cell_type": "code",
   "id": "70bd97e1",
   "metadata": {
    "ExecuteTime": {
     "end_time": "2025-06-09T17:21:00.744427Z",
     "start_time": "2025-06-09T17:21:00.741063Z"
    }
   },
   "source": [
    "{'c', 'a', 'b'}"
   ],
   "outputs": [
    {
     "data": {
      "text/plain": [
       "{'a', 'b', 'c'}"
      ]
     },
     "execution_count": 3,
     "metadata": {},
     "output_type": "execute_result"
    }
   ],
   "execution_count": 3
  },
  {
   "cell_type": "code",
   "id": "06f24c9f",
   "metadata": {
    "ExecuteTime": {
     "end_time": "2025-06-09T17:21:02.768336Z",
     "start_time": "2025-06-09T17:21:02.765737Z"
    }
   },
   "source": [
    "set((1, 2, 1, 3))  # pass any iterable in"
   ],
   "outputs": [
    {
     "data": {
      "text/plain": [
       "{1, 2, 3}"
      ]
     },
     "execution_count": 4,
     "metadata": {},
     "output_type": "execute_result"
    }
   ],
   "execution_count": 4
  },
  {
   "cell_type": "markdown",
   "id": "a542bdd2",
   "metadata": {},
   "source": [
    "You can also build sets using **set comprehensions**"
   ]
  },
  {
   "cell_type": "code",
   "id": "31c16791",
   "metadata": {
    "ExecuteTime": {
     "end_time": "2025-06-09T17:21:15.348195Z",
     "start_time": "2025-06-09T17:21:15.345536Z"
    }
   },
   "source": [
    "{2 ** i for i in range(0, 10, 2)}"
   ],
   "outputs": [
    {
     "data": {
      "text/plain": [
       "{1, 4, 16, 64, 256}"
      ]
     },
     "execution_count": 5,
     "metadata": {},
     "output_type": "execute_result"
    }
   ],
   "execution_count": 5
  },
  {
   "cell_type": "markdown",
   "id": "b1a5c727",
   "metadata": {},
   "source": [
    "We will look more at set comprehensions in the second hour of the class."
   ]
  },
  {
   "cell_type": "markdown",
   "id": "e431590c",
   "metadata": {},
   "source": [
    "### Valid set values\n",
    "`set` **elements** must be __hashable__. Basically, if it's a builtin type, it can't be mutable (like `list`,\n",
    "`dict` or `set`). If it's a custom class, it must implement a special method for hashing and checking equality.\n",
    "\n",
    "Elements use `==` to determine key equality. So `1`, `1.0` and `True` all map to the same element."
   ]
  },
  {
   "cell_type": "code",
   "id": "5d831f2b",
   "metadata": {
    "ExecuteTime": {
     "end_time": "2025-06-09T17:21:51.532496Z",
     "start_time": "2025-06-09T17:21:51.528917Z"
    }
   },
   "source": [
    "{True, 1, 1.0, '1', (1,)}"
   ],
   "outputs": [
    {
     "data": {
      "text/plain": [
       "{(1,), '1', True}"
      ]
     },
     "execution_count": 6,
     "metadata": {},
     "output_type": "execute_result"
    }
   ],
   "execution_count": 6
  },
  {
   "cell_type": "code",
   "id": "171a6115",
   "metadata": {
    "ExecuteTime": {
     "end_time": "2025-06-09T17:22:04.018986Z",
     "start_time": "2025-06-09T17:22:04.015618Z"
    }
   },
   "source": [
    "try:\n",
    "    {[1, 2]}\n",
    "except Exception as e:\n",
    "    print(repr(e))"
   ],
   "outputs": [
    {
     "name": "stdout",
     "output_type": "stream",
     "text": [
      "TypeError(\"unhashable type: 'list'\")\n"
     ]
    }
   ],
   "execution_count": 7
  },
  {
   "cell_type": "markdown",
   "id": "11c984dc",
   "metadata": {},
   "source": [
    "## Updating contents"
   ]
  },
  {
   "cell_type": "code",
   "id": "51788327",
   "metadata": {
    "ExecuteTime": {
     "end_time": "2025-06-09T17:22:29.395503Z",
     "start_time": "2025-06-09T17:22:29.393395Z"
    }
   },
   "source": [
    "s = {1, 2}"
   ],
   "outputs": [],
   "execution_count": 8
  },
  {
   "cell_type": "code",
   "id": "3205e128",
   "metadata": {
    "ExecuteTime": {
     "end_time": "2025-06-09T17:22:31.401750Z",
     "start_time": "2025-06-09T17:22:31.398606Z"
    }
   },
   "source": [
    "s.add(3)\n",
    "s"
   ],
   "outputs": [
    {
     "data": {
      "text/plain": [
       "{1, 2, 3}"
      ]
     },
     "execution_count": 9,
     "metadata": {},
     "output_type": "execute_result"
    }
   ],
   "execution_count": 9
  },
  {
   "cell_type": "code",
   "id": "78e339de",
   "metadata": {
    "ExecuteTime": {
     "end_time": "2025-06-09T17:22:35.544707Z",
     "start_time": "2025-06-09T17:22:35.541702Z"
    }
   },
   "source": [
    "s.add(1)  # Already exists, so no change\n",
    "s"
   ],
   "outputs": [
    {
     "data": {
      "text/plain": [
       "{1, 2, 3}"
      ]
     },
     "execution_count": 10,
     "metadata": {},
     "output_type": "execute_result"
    }
   ],
   "execution_count": 10
  },
  {
   "cell_type": "code",
   "id": "9081e0f1",
   "metadata": {
    "ExecuteTime": {
     "end_time": "2025-06-09T17:22:37.525883Z",
     "start_time": "2025-06-09T17:22:37.520791Z"
    }
   },
   "source": [
    "s.update([1, 2, 3, 4])\n",
    "s"
   ],
   "outputs": [
    {
     "data": {
      "text/plain": [
       "{1, 2, 3, 4}"
      ]
     },
     "execution_count": 11,
     "metadata": {},
     "output_type": "execute_result"
    }
   ],
   "execution_count": 11
  },
  {
   "cell_type": "code",
   "id": "5b20c753",
   "metadata": {
    "ExecuteTime": {
     "end_time": "2025-06-09T17:22:50.148011Z",
     "start_time": "2025-06-09T17:22:50.145082Z"
    }
   },
   "source": [
    "s.update({1: 'a', 5: 'e'})  # Only adds keys\n",
    "s"
   ],
   "outputs": [
    {
     "data": {
      "text/plain": [
       "{1, 2, 3, 4, 5}"
      ]
     },
     "execution_count": 12,
     "metadata": {},
     "output_type": "execute_result"
    }
   ],
   "execution_count": 12
  },
  {
   "cell_type": "code",
   "id": "8a5b9f28",
   "metadata": {
    "ExecuteTime": {
     "end_time": "2025-06-09T17:22:52.221069Z",
     "start_time": "2025-06-09T17:22:52.217596Z"
    }
   },
   "source": [
    "s.remove(1)  # element must be in set\n",
    "s"
   ],
   "outputs": [
    {
     "data": {
      "text/plain": [
       "{2, 3, 4, 5}"
      ]
     },
     "execution_count": 13,
     "metadata": {},
     "output_type": "execute_result"
    }
   ],
   "execution_count": 13
  },
  {
   "cell_type": "code",
   "id": "378f33de",
   "metadata": {
    "ExecuteTime": {
     "end_time": "2025-06-09T17:22:56.898080Z",
     "start_time": "2025-06-09T17:22:56.895235Z"
    }
   },
   "source": [
    "try:\n",
    "    s.remove(-1)\n",
    "except Exception as e:\n",
    "    print(repr(e))"
   ],
   "outputs": [
    {
     "name": "stdout",
     "output_type": "stream",
     "text": [
      "KeyError(-1)\n"
     ]
    }
   ],
   "execution_count": 14
  },
  {
   "cell_type": "code",
   "id": "7263d245",
   "metadata": {
    "ExecuteTime": {
     "end_time": "2025-06-09T17:23:02.611215Z",
     "start_time": "2025-06-09T17:23:02.608397Z"
    }
   },
   "source": [
    "s.discard(5)  # element doesn't need to be in set\n",
    "s"
   ],
   "outputs": [
    {
     "data": {
      "text/plain": [
       "{2, 3, 4}"
      ]
     },
     "execution_count": 15,
     "metadata": {},
     "output_type": "execute_result"
    }
   ],
   "execution_count": 15
  },
  {
   "cell_type": "code",
   "id": "c0c08433",
   "metadata": {
    "ExecuteTime": {
     "end_time": "2025-06-09T17:23:06.235478Z",
     "start_time": "2025-06-09T17:23:06.232640Z"
    }
   },
   "source": [
    "s.discard(-1)  # no error thrown"
   ],
   "outputs": [],
   "execution_count": 16
  },
  {
   "cell_type": "markdown",
   "id": "64f046cf",
   "metadata": {},
   "source": [
    "## Getting contents\n",
    "You can `.pop()` a random element from the set. There's no way of accessing a specific item."
   ]
  },
  {
   "cell_type": "code",
   "id": "f297cbf3",
   "metadata": {
    "ExecuteTime": {
     "end_time": "2025-06-09T17:23:18.946115Z",
     "start_time": "2025-06-09T17:23:18.943142Z"
    }
   },
   "source": [
    "s.pop()"
   ],
   "outputs": [
    {
     "data": {
      "text/plain": [
       "2"
      ]
     },
     "execution_count": 17,
     "metadata": {},
     "output_type": "execute_result"
    }
   ],
   "execution_count": 17
  },
  {
   "cell_type": "code",
   "id": "dc6bfb7c",
   "metadata": {
    "ExecuteTime": {
     "end_time": "2025-06-09T17:23:19.416944Z",
     "start_time": "2025-06-09T17:23:19.413520Z"
    }
   },
   "source": [
    "s"
   ],
   "outputs": [
    {
     "data": {
      "text/plain": [
       "{3, 4}"
      ]
     },
     "execution_count": 18,
     "metadata": {},
     "output_type": "execute_result"
    }
   ],
   "execution_count": 18
  },
  {
   "cell_type": "markdown",
   "id": "9bd35e0a",
   "metadata": {},
   "source": [
    "## Checking containment"
   ]
  },
  {
   "cell_type": "code",
   "id": "d3e9f668",
   "metadata": {
    "ExecuteTime": {
     "end_time": "2025-06-09T17:23:49.909114Z",
     "start_time": "2025-06-09T17:23:49.907075Z"
    }
   },
   "source": [
    "s = {1, 2}"
   ],
   "outputs": [],
   "execution_count": 19
  },
  {
   "cell_type": "markdown",
   "id": "3b13c1b3",
   "metadata": {},
   "source": [
    "### Of an element"
   ]
  },
  {
   "cell_type": "code",
   "id": "a2018afa",
   "metadata": {
    "ExecuteTime": {
     "end_time": "2025-06-09T17:23:53.076659Z",
     "start_time": "2025-06-09T17:23:53.074055Z"
    }
   },
   "source": [
    "1 in s"
   ],
   "outputs": [
    {
     "data": {
      "text/plain": [
       "True"
      ]
     },
     "execution_count": 20,
     "metadata": {},
     "output_type": "execute_result"
    }
   ],
   "execution_count": 20
  },
  {
   "cell_type": "code",
   "id": "3cd8af51",
   "metadata": {
    "ExecuteTime": {
     "end_time": "2025-06-09T17:23:53.668739Z",
     "start_time": "2025-06-09T17:23:53.665681Z"
    }
   },
   "source": [
    "3 in s"
   ],
   "outputs": [
    {
     "data": {
      "text/plain": [
       "False"
      ]
     },
     "execution_count": 21,
     "metadata": {},
     "output_type": "execute_result"
    }
   ],
   "execution_count": 21
  },
  {
   "cell_type": "markdown",
   "id": "88215566",
   "metadata": {},
   "source": [
    "### Of another set\n",
    "`.issuperset(other)`: does __set__ fully contain __other__"
   ]
  },
  {
   "cell_type": "code",
   "id": "73cc94bc",
   "metadata": {
    "ExecuteTime": {
     "end_time": "2025-06-09T17:24:10.699055Z",
     "start_time": "2025-06-09T17:24:10.695519Z"
    }
   },
   "source": [
    "s.issuperset({2,})"
   ],
   "outputs": [
    {
     "data": {
      "text/plain": [
       "True"
      ]
     },
     "execution_count": 22,
     "metadata": {},
     "output_type": "execute_result"
    }
   ],
   "execution_count": 22
  },
  {
   "cell_type": "code",
   "id": "6c402b0b",
   "metadata": {
    "ExecuteTime": {
     "end_time": "2025-06-09T17:24:12.299540Z",
     "start_time": "2025-06-09T17:24:12.294879Z"
    }
   },
   "source": [
    "s.issuperset({2, 3})"
   ],
   "outputs": [
    {
     "data": {
      "text/plain": [
       "False"
      ]
     },
     "execution_count": 23,
     "metadata": {},
     "output_type": "execute_result"
    }
   ],
   "execution_count": 23
  },
  {
   "cell_type": "markdown",
   "id": "7fdd35d1",
   "metadata": {},
   "source": [
    "`.issubset(other)`: does __other__ fully contain __set__"
   ]
  },
  {
   "cell_type": "code",
   "id": "167691bd",
   "metadata": {
    "ExecuteTime": {
     "end_time": "2025-06-09T17:24:18.505662Z",
     "start_time": "2025-06-09T17:24:18.502590Z"
    }
   },
   "source": [
    "s.issubset({1, 2, 3,})"
   ],
   "outputs": [
    {
     "data": {
      "text/plain": [
       "True"
      ]
     },
     "execution_count": 24,
     "metadata": {},
     "output_type": "execute_result"
    }
   ],
   "execution_count": 24
  },
  {
   "cell_type": "code",
   "id": "a3161f98",
   "metadata": {
    "ExecuteTime": {
     "end_time": "2025-06-09T17:24:18.927396Z",
     "start_time": "2025-06-09T17:24:18.924730Z"
    }
   },
   "source": [
    "s.issubset({2, 3})"
   ],
   "outputs": [
    {
     "data": {
      "text/plain": [
       "False"
      ]
     },
     "execution_count": 25,
     "metadata": {},
     "output_type": "execute_result"
    }
   ],
   "execution_count": 25
  },
  {
   "cell_type": "markdown",
   "id": "6597f43f",
   "metadata": {},
   "source": [
    "`.isdisjoint()`: are there no common elements between __set__ and __other__"
   ]
  },
  {
   "cell_type": "code",
   "id": "200a1df5",
   "metadata": {
    "ExecuteTime": {
     "end_time": "2025-06-09T17:24:24.541348Z",
     "start_time": "2025-06-09T17:24:24.534520Z"
    }
   },
   "source": [
    "s.isdisjoint({3, 4})"
   ],
   "outputs": [
    {
     "data": {
      "text/plain": [
       "True"
      ]
     },
     "execution_count": 26,
     "metadata": {},
     "output_type": "execute_result"
    }
   ],
   "execution_count": 26
  },
  {
   "cell_type": "code",
   "id": "7601b3dc",
   "metadata": {
    "ExecuteTime": {
     "end_time": "2025-06-09T17:24:25.122263Z",
     "start_time": "2025-06-09T17:24:25.119089Z"
    }
   },
   "source": [
    "s.isdisjoint({2, 3})"
   ],
   "outputs": [
    {
     "data": {
      "text/plain": [
       "False"
      ]
     },
     "execution_count": 27,
     "metadata": {},
     "output_type": "execute_result"
    }
   ],
   "execution_count": 27
  },
  {
   "cell_type": "markdown",
   "id": "c1cd7d85",
   "metadata": {},
   "source": [
    "## Looping\n",
    "Sets have an undefined order."
   ]
  },
  {
   "cell_type": "code",
   "id": "f54d10a5",
   "metadata": {
    "ExecuteTime": {
     "end_time": "2025-06-09T17:24:34.753735Z",
     "start_time": "2025-06-09T17:24:34.750906Z"
    }
   },
   "source": [
    "for element in {'b', 'a', 'c'}:\n",
    "    print(element)"
   ],
   "outputs": [
    {
     "name": "stdout",
     "output_type": "stream",
     "text": [
      "a\n",
      "b\n",
      "c\n"
     ]
    }
   ],
   "execution_count": 29
  },
  {
   "cell_type": "markdown",
   "id": "3df69385",
   "metadata": {},
   "source": [
    "## Set operations\n",
    "You can do most set operations via methods or operators."
   ]
  },
  {
   "cell_type": "code",
   "id": "5d0b59c2",
   "metadata": {
    "ExecuteTime": {
     "end_time": "2025-06-09T17:25:45.670626Z",
     "start_time": "2025-06-09T17:25:45.668622Z"
    }
   },
   "source": [
    "odd = {1, 3, 5}"
   ],
   "outputs": [],
   "execution_count": 30
  },
  {
   "cell_type": "code",
   "id": "25293524",
   "metadata": {
    "ExecuteTime": {
     "end_time": "2025-06-09T17:25:46.326509Z",
     "start_time": "2025-06-09T17:25:46.324600Z"
    }
   },
   "source": [
    "prime = {2, 3, 5}"
   ],
   "outputs": [],
   "execution_count": 31
  },
  {
   "cell_type": "markdown",
   "id": "066e80c7",
   "metadata": {},
   "source": [
    "### Union\n",
    "All elements in either A or B"
   ]
  },
  {
   "cell_type": "code",
   "id": "2e86860a",
   "metadata": {
    "ExecuteTime": {
     "end_time": "2025-06-09T17:25:54.001857Z",
     "start_time": "2025-06-09T17:25:53.998756Z"
    }
   },
   "source": [
    "odd.union(prime)"
   ],
   "outputs": [
    {
     "data": {
      "text/plain": [
       "{1, 2, 3, 5}"
      ]
     },
     "execution_count": 32,
     "metadata": {},
     "output_type": "execute_result"
    }
   ],
   "execution_count": 32
  },
  {
   "cell_type": "code",
   "id": "be57c1a6",
   "metadata": {
    "ExecuteTime": {
     "end_time": "2025-06-09T17:26:13.829244Z",
     "start_time": "2025-06-09T17:26:13.825379Z"
    }
   },
   "source": [
    "odd | prime"
   ],
   "outputs": [
    {
     "data": {
      "text/plain": [
       "{1, 2, 3, 5}"
      ]
     },
     "execution_count": 33,
     "metadata": {},
     "output_type": "execute_result"
    }
   ],
   "execution_count": 33
  },
  {
   "cell_type": "markdown",
   "id": "9d81c378",
   "metadata": {},
   "source": [
    "### Intersection\n",
    "All elements in both A and B"
   ]
  },
  {
   "cell_type": "code",
   "id": "d3007892",
   "metadata": {
    "ExecuteTime": {
     "end_time": "2025-06-09T17:26:30.046874Z",
     "start_time": "2025-06-09T17:26:30.043965Z"
    }
   },
   "source": [
    "odd.intersection(prime)"
   ],
   "outputs": [
    {
     "data": {
      "text/plain": [
       "{3, 5}"
      ]
     },
     "execution_count": 34,
     "metadata": {},
     "output_type": "execute_result"
    }
   ],
   "execution_count": 34
  },
  {
   "cell_type": "code",
   "id": "b03a7e0a",
   "metadata": {
    "ExecuteTime": {
     "end_time": "2025-06-09T17:26:30.544852Z",
     "start_time": "2025-06-09T17:26:30.541385Z"
    }
   },
   "source": [
    "odd & prime"
   ],
   "outputs": [
    {
     "data": {
      "text/plain": [
       "{3, 5}"
      ]
     },
     "execution_count": 35,
     "metadata": {},
     "output_type": "execute_result"
    }
   ],
   "execution_count": 35
  },
  {
   "cell_type": "markdown",
   "id": "084239d3",
   "metadata": {},
   "source": [
    "### Difference\n",
    "Elements in A but not B"
   ]
  },
  {
   "cell_type": "code",
   "execution_count": 34,
   "id": "71ce8528",
   "metadata": {},
   "outputs": [
    {
     "data": {
      "text/plain": [
       "{1}"
      ]
     },
     "execution_count": 34,
     "metadata": {},
     "output_type": "execute_result"
    }
   ],
   "source": [
    "odd.difference(prime)"
   ]
  },
  {
   "cell_type": "code",
   "execution_count": 35,
   "id": "c38b6128",
   "metadata": {},
   "outputs": [
    {
     "data": {
      "text/plain": [
       "{2}"
      ]
     },
     "execution_count": 35,
     "metadata": {},
     "output_type": "execute_result"
    }
   ],
   "source": [
    "prime.difference(odd)"
   ]
  },
  {
   "cell_type": "code",
   "execution_count": 36,
   "id": "e76b384c",
   "metadata": {},
   "outputs": [
    {
     "data": {
      "text/plain": [
       "{1}"
      ]
     },
     "execution_count": 36,
     "metadata": {},
     "output_type": "execute_result"
    }
   ],
   "source": [
    "odd - prime"
   ]
  },
  {
   "cell_type": "code",
   "execution_count": 37,
   "id": "49f2240f",
   "metadata": {},
   "outputs": [
    {
     "data": {
      "text/plain": [
       "{2}"
      ]
     },
     "execution_count": 37,
     "metadata": {},
     "output_type": "execute_result"
    }
   ],
   "source": [
    "prime - odd"
   ]
  },
  {
   "cell_type": "markdown",
   "id": "c0d61974",
   "metadata": {},
   "source": [
    "### Symmetric difference\n",
    "Elements in either A or B but not both"
   ]
  },
  {
   "cell_type": "code",
   "execution_count": 38,
   "id": "9d218a49",
   "metadata": {},
   "outputs": [
    {
     "data": {
      "text/plain": [
       "{1, 2}"
      ]
     },
     "execution_count": 38,
     "metadata": {},
     "output_type": "execute_result"
    }
   ],
   "source": [
    "odd.symmetric_difference(prime)"
   ]
  },
  {
   "cell_type": "code",
   "execution_count": 39,
   "id": "f1f9a821",
   "metadata": {},
   "outputs": [
    {
     "data": {
      "text/plain": [
       "{1, 2}"
      ]
     },
     "execution_count": 39,
     "metadata": {},
     "output_type": "execute_result"
    }
   ],
   "source": [
    "odd ^ prime"
   ]
  },
  {
   "metadata": {},
   "cell_type": "code",
   "outputs": [],
   "execution_count": null,
   "source": "",
   "id": "628eb80902c3c47e"
  }
 ],
 "metadata": {
  "jupytext": {
   "cell_metadata_filter": "-all",
   "formats": "auto:light,ipynb",
   "main_language": "python",
   "notebook_metadata_filter": "-all"
  },
  "kernelspec": {
   "display_name": "Python 3 (ipykernel)",
   "language": "python",
   "name": "python3"
  },
  "language_info": {
   "codemirror_mode": {
    "name": "ipython",
    "version": 3
   },
   "file_extension": ".py",
   "mimetype": "text/x-python",
   "name": "python",
   "nbconvert_exporter": "python",
   "pygments_lexer": "ipython3",
   "version": "3.11.4"
  }
 },
 "nbformat": 4,
 "nbformat_minor": 5
}
