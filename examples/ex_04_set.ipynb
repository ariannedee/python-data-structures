{
 "cells": [
  {
   "cell_type": "markdown",
   "id": "92fce44e",
   "metadata": {},
   "source": [
    "# Sets\n",
    "Sets are a container that:\n",
    "- have no order\n",
    "- cannot contain duplicates\n",
    "- cannot access individual items (except by iterating over)\n",
    "\n",
    "## Creating sets"
   ]
  },
  {
   "cell_type": "code",
   "id": "a61d40af",
   "metadata": {
    "ExecuteTime": {
     "end_time": "2025-10-21T17:33:06.944044Z",
     "start_time": "2025-10-21T17:33:06.938434Z"
    }
   },
   "source": "set()  # Empty set",
   "outputs": [
    {
     "data": {
      "text/plain": [
       "set()"
      ]
     },
     "execution_count": 1,
     "metadata": {},
     "output_type": "execute_result"
    }
   ],
   "execution_count": 1
  },
  {
   "cell_type": "code",
   "id": "70bd97e1",
   "metadata": {
    "ExecuteTime": {
     "end_time": "2025-10-21T17:33:20.328446Z",
     "start_time": "2025-10-21T17:33:20.325523Z"
    }
   },
   "source": [
    "{'c', 'a', 'b'}"
   ],
   "outputs": [
    {
     "data": {
      "text/plain": [
       "{'a', 'b', 'c'}"
      ]
     },
     "execution_count": 2,
     "metadata": {},
     "output_type": "execute_result"
    }
   ],
   "execution_count": 2
  },
  {
   "cell_type": "code",
   "id": "06f24c9f",
   "metadata": {
    "ExecuteTime": {
     "end_time": "2025-10-21T17:33:25.389687Z",
     "start_time": "2025-10-21T17:33:25.385849Z"
    }
   },
   "source": [
    "set((1, 2, 1, 3))  # pass any iterable in"
   ],
   "outputs": [
    {
     "data": {
      "text/plain": [
       "{1, 2, 3}"
      ]
     },
     "execution_count": 3,
     "metadata": {},
     "output_type": "execute_result"
    }
   ],
   "execution_count": 3
  },
  {
   "cell_type": "markdown",
   "id": "a542bdd2",
   "metadata": {},
   "source": [
    "You can also build sets using **set comprehensions**"
   ]
  },
  {
   "cell_type": "code",
   "id": "31c16791",
   "metadata": {
    "ExecuteTime": {
     "end_time": "2025-10-21T17:33:53.180315Z",
     "start_time": "2025-10-21T17:33:53.176530Z"
    }
   },
   "source": [
    "{2 ** i for i in range(0, 10, 2)}"
   ],
   "outputs": [
    {
     "data": {
      "text/plain": [
       "{1, 4, 16, 64, 256}"
      ]
     },
     "execution_count": 4,
     "metadata": {},
     "output_type": "execute_result"
    }
   ],
   "execution_count": 4
  },
  {
   "cell_type": "markdown",
   "id": "b1a5c727",
   "metadata": {},
   "source": [
    "We will look more at set comprehensions in the second hour of the class."
   ]
  },
  {
   "cell_type": "markdown",
   "id": "e431590c",
   "metadata": {},
   "source": [
    "### Valid set values\n",
    "`set` **elements** must be __hashable__. Basically, if it's a builtin type, it can't be mutable (like `list`,\n",
    "`dict` or `set`). If it's a custom class, it must implement a special method for hashing and checking equality.\n",
    "\n",
    "Elements use `==` to determine key equality. So `1`, `1.0` and `True` all map to the same element."
   ]
  },
  {
   "cell_type": "code",
   "id": "5d831f2b",
   "metadata": {
    "ExecuteTime": {
     "end_time": "2025-10-21T17:34:03.755104Z",
     "start_time": "2025-10-21T17:34:03.752830Z"
    }
   },
   "source": [
    "{True, 1, 1.0, '1', (1,)}"
   ],
   "outputs": [
    {
     "data": {
      "text/plain": [
       "{(1,), '1', True}"
      ]
     },
     "execution_count": 5,
     "metadata": {},
     "output_type": "execute_result"
    }
   ],
   "execution_count": 5
  },
  {
   "cell_type": "code",
   "id": "171a6115",
   "metadata": {
    "ExecuteTime": {
     "end_time": "2025-10-21T17:34:19.147482Z",
     "start_time": "2025-10-21T17:34:19.144918Z"
    }
   },
   "source": [
    "try:\n",
    "    {[1, 2]}\n",
    "except Exception as e:\n",
    "    print(repr(e))"
   ],
   "outputs": [
    {
     "name": "stdout",
     "output_type": "stream",
     "text": [
      "TypeError(\"unhashable type: 'list'\")\n"
     ]
    }
   ],
   "execution_count": 6
  },
  {
   "cell_type": "markdown",
   "id": "11c984dc",
   "metadata": {},
   "source": [
    "## Updating contents"
   ]
  },
  {
   "cell_type": "code",
   "id": "51788327",
   "metadata": {
    "ExecuteTime": {
     "end_time": "2025-10-21T17:34:35.706158Z",
     "start_time": "2025-10-21T17:34:35.703079Z"
    }
   },
   "source": [
    "s = {1, 2}"
   ],
   "outputs": [],
   "execution_count": 7
  },
  {
   "cell_type": "code",
   "id": "3205e128",
   "metadata": {
    "ExecuteTime": {
     "end_time": "2025-10-21T17:34:37.178952Z",
     "start_time": "2025-10-21T17:34:37.176137Z"
    }
   },
   "source": [
    "s.add(3)\n",
    "s"
   ],
   "outputs": [
    {
     "data": {
      "text/plain": [
       "{1, 2, 3}"
      ]
     },
     "execution_count": 8,
     "metadata": {},
     "output_type": "execute_result"
    }
   ],
   "execution_count": 8
  },
  {
   "cell_type": "code",
   "id": "78e339de",
   "metadata": {
    "ExecuteTime": {
     "end_time": "2025-10-21T17:34:44.209613Z",
     "start_time": "2025-10-21T17:34:44.207248Z"
    }
   },
   "source": [
    "s.add(1)  # Already exists, so no change\n",
    "s"
   ],
   "outputs": [
    {
     "data": {
      "text/plain": [
       "{1, 2, 3}"
      ]
     },
     "execution_count": 9,
     "metadata": {},
     "output_type": "execute_result"
    }
   ],
   "execution_count": 9
  },
  {
   "cell_type": "code",
   "id": "9081e0f1",
   "metadata": {
    "ExecuteTime": {
     "end_time": "2025-10-21T17:34:46.907959Z",
     "start_time": "2025-10-21T17:34:46.905792Z"
    }
   },
   "source": [
    "s.update([1, 2, 3, 4])\n",
    "s"
   ],
   "outputs": [
    {
     "data": {
      "text/plain": [
       "{1, 2, 3, 4}"
      ]
     },
     "execution_count": 10,
     "metadata": {},
     "output_type": "execute_result"
    }
   ],
   "execution_count": 10
  },
  {
   "cell_type": "code",
   "id": "5b20c753",
   "metadata": {
    "ExecuteTime": {
     "end_time": "2025-10-21T17:34:51.859144Z",
     "start_time": "2025-10-21T17:34:51.856763Z"
    }
   },
   "source": [
    "s.update({1: 'a', 5: 'e'})  # Only adds keys\n",
    "s"
   ],
   "outputs": [
    {
     "data": {
      "text/plain": [
       "{1, 2, 3, 4, 5}"
      ]
     },
     "execution_count": 11,
     "metadata": {},
     "output_type": "execute_result"
    }
   ],
   "execution_count": 11
  },
  {
   "cell_type": "code",
   "id": "8a5b9f28",
   "metadata": {
    "ExecuteTime": {
     "end_time": "2025-10-21T17:35:02.505092Z",
     "start_time": "2025-10-21T17:35:02.502757Z"
    }
   },
   "source": [
    "s.remove(1)  # element must be in set\n",
    "s"
   ],
   "outputs": [
    {
     "data": {
      "text/plain": [
       "{2, 3, 4, 5}"
      ]
     },
     "execution_count": 12,
     "metadata": {},
     "output_type": "execute_result"
    }
   ],
   "execution_count": 12
  },
  {
   "cell_type": "code",
   "id": "378f33de",
   "metadata": {
    "ExecuteTime": {
     "end_time": "2025-10-21T17:35:05.319492Z",
     "start_time": "2025-10-21T17:35:05.315759Z"
    }
   },
   "source": [
    "try:\n",
    "    s.remove(-1)\n",
    "except Exception as e:\n",
    "    print(repr(e))"
   ],
   "outputs": [
    {
     "name": "stdout",
     "output_type": "stream",
     "text": [
      "KeyError(-1)\n"
     ]
    }
   ],
   "execution_count": 13
  },
  {
   "cell_type": "code",
   "id": "7263d245",
   "metadata": {
    "ExecuteTime": {
     "end_time": "2025-10-21T17:35:09.860778Z",
     "start_time": "2025-10-21T17:35:09.858225Z"
    }
   },
   "source": [
    "s.discard(5)  # element doesn't need to be in set\n",
    "s"
   ],
   "outputs": [
    {
     "data": {
      "text/plain": [
       "{2, 3, 4}"
      ]
     },
     "execution_count": 14,
     "metadata": {},
     "output_type": "execute_result"
    }
   ],
   "execution_count": 14
  },
  {
   "cell_type": "code",
   "id": "c0c08433",
   "metadata": {
    "ExecuteTime": {
     "end_time": "2025-10-21T17:35:10.760521Z",
     "start_time": "2025-10-21T17:35:10.758615Z"
    }
   },
   "source": [
    "s.discard(-1)  # no error thrown"
   ],
   "outputs": [],
   "execution_count": 15
  },
  {
   "cell_type": "markdown",
   "id": "64f046cf",
   "metadata": {},
   "source": [
    "## Getting contents\n",
    "You can `.pop()` a random element from the set. There's no way of accessing a specific item."
   ]
  },
  {
   "cell_type": "code",
   "id": "f297cbf3",
   "metadata": {
    "ExecuteTime": {
     "end_time": "2025-10-21T17:35:20.304973Z",
     "start_time": "2025-10-21T17:35:20.301898Z"
    }
   },
   "source": [
    "s.pop()"
   ],
   "outputs": [
    {
     "data": {
      "text/plain": [
       "2"
      ]
     },
     "execution_count": 16,
     "metadata": {},
     "output_type": "execute_result"
    }
   ],
   "execution_count": 16
  },
  {
   "cell_type": "code",
   "id": "dc6bfb7c",
   "metadata": {
    "ExecuteTime": {
     "end_time": "2025-10-21T17:35:22.370213Z",
     "start_time": "2025-10-21T17:35:22.367777Z"
    }
   },
   "source": [
    "s"
   ],
   "outputs": [
    {
     "data": {
      "text/plain": [
       "{3, 4}"
      ]
     },
     "execution_count": 17,
     "metadata": {},
     "output_type": "execute_result"
    }
   ],
   "execution_count": 17
  },
  {
   "cell_type": "markdown",
   "id": "9bd35e0a",
   "metadata": {},
   "source": [
    "## Checking containment"
   ]
  },
  {
   "cell_type": "code",
   "id": "d3e9f668",
   "metadata": {
    "ExecuteTime": {
     "end_time": "2025-10-21T17:35:25.880882Z",
     "start_time": "2025-10-21T17:35:25.878406Z"
    }
   },
   "source": [
    "s = {1, 2}"
   ],
   "outputs": [],
   "execution_count": 18
  },
  {
   "cell_type": "markdown",
   "id": "3b13c1b3",
   "metadata": {},
   "source": [
    "### Of an element"
   ]
  },
  {
   "cell_type": "code",
   "id": "a2018afa",
   "metadata": {
    "ExecuteTime": {
     "end_time": "2025-10-21T17:35:28.808543Z",
     "start_time": "2025-10-21T17:35:28.805937Z"
    }
   },
   "source": [
    "1 in s"
   ],
   "outputs": [
    {
     "data": {
      "text/plain": [
       "True"
      ]
     },
     "execution_count": 19,
     "metadata": {},
     "output_type": "execute_result"
    }
   ],
   "execution_count": 19
  },
  {
   "cell_type": "code",
   "id": "3cd8af51",
   "metadata": {
    "ExecuteTime": {
     "end_time": "2025-10-21T17:35:29.257465Z",
     "start_time": "2025-10-21T17:35:29.254996Z"
    }
   },
   "source": [
    "3 in s"
   ],
   "outputs": [
    {
     "data": {
      "text/plain": [
       "False"
      ]
     },
     "execution_count": 20,
     "metadata": {},
     "output_type": "execute_result"
    }
   ],
   "execution_count": 20
  },
  {
   "cell_type": "markdown",
   "id": "88215566",
   "metadata": {},
   "source": [
    "### Of another set\n",
    "`.issuperset(other)`: does __set__ fully contain __other__"
   ]
  },
  {
   "cell_type": "code",
   "id": "73cc94bc",
   "metadata": {
    "ExecuteTime": {
     "end_time": "2025-10-21T17:35:43.277481Z",
     "start_time": "2025-10-21T17:35:43.274929Z"
    }
   },
   "source": [
    "s.issuperset({2,})"
   ],
   "outputs": [
    {
     "data": {
      "text/plain": [
       "True"
      ]
     },
     "execution_count": 21,
     "metadata": {},
     "output_type": "execute_result"
    }
   ],
   "execution_count": 21
  },
  {
   "cell_type": "code",
   "id": "6c402b0b",
   "metadata": {
    "ExecuteTime": {
     "end_time": "2025-10-21T17:35:43.682036Z",
     "start_time": "2025-10-21T17:35:43.679274Z"
    }
   },
   "source": [
    "s.issuperset({2, 3})"
   ],
   "outputs": [
    {
     "data": {
      "text/plain": [
       "False"
      ]
     },
     "execution_count": 22,
     "metadata": {},
     "output_type": "execute_result"
    }
   ],
   "execution_count": 22
  },
  {
   "cell_type": "markdown",
   "id": "7fdd35d1",
   "metadata": {},
   "source": [
    "`.issubset(other)`: does __other__ fully contain __set__"
   ]
  },
  {
   "cell_type": "code",
   "id": "167691bd",
   "metadata": {
    "ExecuteTime": {
     "end_time": "2025-10-21T17:35:51.961232Z",
     "start_time": "2025-10-21T17:35:51.957623Z"
    }
   },
   "source": [
    "s.issubset({1, 2, 3,})"
   ],
   "outputs": [
    {
     "data": {
      "text/plain": [
       "True"
      ]
     },
     "execution_count": 23,
     "metadata": {},
     "output_type": "execute_result"
    }
   ],
   "execution_count": 23
  },
  {
   "cell_type": "code",
   "id": "a3161f98",
   "metadata": {
    "ExecuteTime": {
     "end_time": "2025-10-21T17:35:52.342389Z",
     "start_time": "2025-10-21T17:35:52.339203Z"
    }
   },
   "source": [
    "s.issubset({2, 3})"
   ],
   "outputs": [
    {
     "data": {
      "text/plain": [
       "False"
      ]
     },
     "execution_count": 24,
     "metadata": {},
     "output_type": "execute_result"
    }
   ],
   "execution_count": 24
  },
  {
   "cell_type": "markdown",
   "id": "6597f43f",
   "metadata": {},
   "source": [
    "`.isdisjoint()`: are there no common elements between __set__ and __other__"
   ]
  },
  {
   "cell_type": "code",
   "id": "200a1df5",
   "metadata": {
    "ExecuteTime": {
     "end_time": "2025-10-21T17:36:00.488438Z",
     "start_time": "2025-10-21T17:36:00.485682Z"
    }
   },
   "source": [
    "s.isdisjoint({3, 4})"
   ],
   "outputs": [
    {
     "data": {
      "text/plain": [
       "True"
      ]
     },
     "execution_count": 25,
     "metadata": {},
     "output_type": "execute_result"
    }
   ],
   "execution_count": 25
  },
  {
   "cell_type": "code",
   "id": "7601b3dc",
   "metadata": {
    "ExecuteTime": {
     "end_time": "2025-10-21T17:36:00.916352Z",
     "start_time": "2025-10-21T17:36:00.914045Z"
    }
   },
   "source": [
    "s.isdisjoint({2, 3})"
   ],
   "outputs": [
    {
     "data": {
      "text/plain": [
       "False"
      ]
     },
     "execution_count": 26,
     "metadata": {},
     "output_type": "execute_result"
    }
   ],
   "execution_count": 26
  },
  {
   "cell_type": "markdown",
   "id": "c1cd7d85",
   "metadata": {},
   "source": [
    "## Looping\n",
    "Sets have an undefined order."
   ]
  },
  {
   "cell_type": "code",
   "id": "f54d10a5",
   "metadata": {
    "ExecuteTime": {
     "end_time": "2025-10-21T17:36:08.919499Z",
     "start_time": "2025-10-21T17:36:08.917529Z"
    }
   },
   "source": [
    "for element in {'b', 'a', 'c'}:\n",
    "    print(element)"
   ],
   "outputs": [
    {
     "name": "stdout",
     "output_type": "stream",
     "text": [
      "c\n",
      "a\n",
      "b\n"
     ]
    }
   ],
   "execution_count": 27
  },
  {
   "cell_type": "markdown",
   "id": "3df69385",
   "metadata": {},
   "source": [
    "## Set operations\n",
    "You can do most set operations via methods or operators."
   ]
  },
  {
   "cell_type": "code",
   "id": "5d0b59c2",
   "metadata": {
    "ExecuteTime": {
     "end_time": "2025-10-21T17:38:51.494862Z",
     "start_time": "2025-10-21T17:38:51.492410Z"
    }
   },
   "source": [
    "odd = {1, 3, 5}"
   ],
   "outputs": [],
   "execution_count": 29
  },
  {
   "cell_type": "code",
   "id": "25293524",
   "metadata": {
    "ExecuteTime": {
     "end_time": "2025-10-21T17:38:51.789058Z",
     "start_time": "2025-10-21T17:38:51.786930Z"
    }
   },
   "source": [
    "prime = {2, 3, 5}"
   ],
   "outputs": [],
   "execution_count": 30
  },
  {
   "cell_type": "markdown",
   "id": "066e80c7",
   "metadata": {},
   "source": [
    "### Union\n",
    "All elements in either A or B"
   ]
  },
  {
   "cell_type": "code",
   "id": "2e86860a",
   "metadata": {
    "ExecuteTime": {
     "end_time": "2025-06-09T17:25:54.001857Z",
     "start_time": "2025-06-09T17:25:53.998756Z"
    }
   },
   "source": [
    "odd.union(prime)"
   ],
   "outputs": [
    {
     "data": {
      "text/plain": [
       "{1, 2, 3, 5}"
      ]
     },
     "execution_count": 32,
     "metadata": {},
     "output_type": "execute_result"
    }
   ],
   "execution_count": 32
  },
  {
   "cell_type": "code",
   "id": "be57c1a6",
   "metadata": {
    "ExecuteTime": {
     "end_time": "2025-06-09T17:26:13.829244Z",
     "start_time": "2025-06-09T17:26:13.825379Z"
    }
   },
   "source": [
    "odd | prime"
   ],
   "outputs": [
    {
     "data": {
      "text/plain": [
       "{1, 2, 3, 5}"
      ]
     },
     "execution_count": 33,
     "metadata": {},
     "output_type": "execute_result"
    }
   ],
   "execution_count": 33
  },
  {
   "cell_type": "markdown",
   "id": "9d81c378",
   "metadata": {},
   "source": [
    "### Intersection\n",
    "All elements in both A and B"
   ]
  },
  {
   "cell_type": "code",
   "id": "d3007892",
   "metadata": {
    "ExecuteTime": {
     "end_time": "2025-06-09T17:26:30.046874Z",
     "start_time": "2025-06-09T17:26:30.043965Z"
    }
   },
   "source": [
    "odd.intersection(prime)"
   ],
   "outputs": [
    {
     "data": {
      "text/plain": [
       "{3, 5}"
      ]
     },
     "execution_count": 34,
     "metadata": {},
     "output_type": "execute_result"
    }
   ],
   "execution_count": 34
  },
  {
   "cell_type": "code",
   "id": "b03a7e0a",
   "metadata": {
    "ExecuteTime": {
     "end_time": "2025-06-09T17:26:30.544852Z",
     "start_time": "2025-06-09T17:26:30.541385Z"
    }
   },
   "source": [
    "odd & prime"
   ],
   "outputs": [
    {
     "data": {
      "text/plain": [
       "{3, 5}"
      ]
     },
     "execution_count": 35,
     "metadata": {},
     "output_type": "execute_result"
    }
   ],
   "execution_count": 35
  },
  {
   "cell_type": "markdown",
   "id": "084239d3",
   "metadata": {},
   "source": [
    "### Difference\n",
    "Elements in A but not B"
   ]
  },
  {
   "cell_type": "code",
   "execution_count": 34,
   "id": "71ce8528",
   "metadata": {},
   "outputs": [
    {
     "data": {
      "text/plain": [
       "{1}"
      ]
     },
     "execution_count": 34,
     "metadata": {},
     "output_type": "execute_result"
    }
   ],
   "source": [
    "odd.difference(prime)"
   ]
  },
  {
   "cell_type": "code",
   "execution_count": 35,
   "id": "c38b6128",
   "metadata": {},
   "outputs": [
    {
     "data": {
      "text/plain": [
       "{2}"
      ]
     },
     "execution_count": 35,
     "metadata": {},
     "output_type": "execute_result"
    }
   ],
   "source": [
    "prime.difference(odd)"
   ]
  },
  {
   "cell_type": "code",
   "execution_count": 36,
   "id": "e76b384c",
   "metadata": {},
   "outputs": [
    {
     "data": {
      "text/plain": [
       "{1}"
      ]
     },
     "execution_count": 36,
     "metadata": {},
     "output_type": "execute_result"
    }
   ],
   "source": [
    "odd - prime"
   ]
  },
  {
   "cell_type": "code",
   "execution_count": 37,
   "id": "49f2240f",
   "metadata": {},
   "outputs": [
    {
     "data": {
      "text/plain": [
       "{2}"
      ]
     },
     "execution_count": 37,
     "metadata": {},
     "output_type": "execute_result"
    }
   ],
   "source": [
    "prime - odd"
   ]
  },
  {
   "cell_type": "markdown",
   "id": "c0d61974",
   "metadata": {},
   "source": [
    "### Symmetric difference\n",
    "Elements in either A or B but not both"
   ]
  },
  {
   "cell_type": "code",
   "execution_count": 38,
   "id": "9d218a49",
   "metadata": {},
   "outputs": [
    {
     "data": {
      "text/plain": [
       "{1, 2}"
      ]
     },
     "execution_count": 38,
     "metadata": {},
     "output_type": "execute_result"
    }
   ],
   "source": [
    "odd.symmetric_difference(prime)"
   ]
  },
  {
   "cell_type": "code",
   "execution_count": 39,
   "id": "f1f9a821",
   "metadata": {},
   "outputs": [
    {
     "data": {
      "text/plain": [
       "{1, 2}"
      ]
     },
     "execution_count": 39,
     "metadata": {},
     "output_type": "execute_result"
    }
   ],
   "source": [
    "odd ^ prime"
   ]
  },
  {
   "metadata": {
    "ExecuteTime": {
     "end_time": "2025-10-21T17:38:55.186924Z",
     "start_time": "2025-10-21T17:38:55.184654Z"
    }
   },
   "cell_type": "code",
   "source": "",
   "id": "628eb80902c3c47e",
   "outputs": [],
   "execution_count": 31
  },
  {
   "metadata": {
    "ExecuteTime": {
     "end_time": "2025-10-21T17:38:58.590176Z",
     "start_time": "2025-10-21T17:38:58.587476Z"
    }
   },
   "cell_type": "markdown",
   "source": [
    "### Assignment operators\n",
    "When you use an operator (e.g. `|`, `&`, `-`), if you add a `=`\n",
    "afterwards, it will store the result in the first variable (and return `None`).\n",
    "odd -= prime  # Returns None"
   ],
   "id": "89419346f5aac579"
  },
  {
   "metadata": {},
   "cell_type": "code",
   "outputs": [],
   "execution_count": null,
   "source": "odd  # Result saved in initial variable",
   "id": "dc31d985d56ab7f1"
  },
  {
   "metadata": {},
   "cell_type": "code",
   "outputs": [],
   "execution_count": null,
   "source": "",
   "id": "e03764a5fb0127fe"
  }
 ],
 "metadata": {
  "jupytext": {
   "cell_metadata_filter": "-all",
   "formats": "auto:light,ipynb",
   "main_language": "python",
   "notebook_metadata_filter": "-all"
  },
  "kernelspec": {
   "display_name": "Python 3 (ipykernel)",
   "language": "python",
   "name": "python3"
  },
  "language_info": {
   "codemirror_mode": {
    "name": "ipython",
    "version": 3
   },
   "file_extension": ".py",
   "mimetype": "text/x-python",
   "name": "python",
   "nbconvert_exporter": "python",
   "pygments_lexer": "ipython3",
   "version": "3.11.4"
  }
 },
 "nbformat": 4,
 "nbformat_minor": 5
}
