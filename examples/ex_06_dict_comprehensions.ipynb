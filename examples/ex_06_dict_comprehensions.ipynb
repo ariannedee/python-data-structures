{
 "cells": [
  {
   "cell_type": "markdown",
   "id": "d7084a4d",
   "metadata": {},
   "source": [
    "# Dict Comprehensions\n",
    "Just like list comprehensions, but use a different syntax to create dicts.\n",
    "## Basic comprehensions\n",
    "Format: `{key_exp: value_exp for member in iterable}`"
   ]
  },
  {
   "cell_type": "code",
   "execution_count": 1,
   "id": "86cd588f",
   "metadata": {},
   "outputs": [
    {
     "data": {
      "text/plain": [
       "{2: 4, 4: 16, 6: 64, 8: 256}"
      ]
     },
     "execution_count": 1,
     "metadata": {},
     "output_type": "execute_result"
    }
   ],
   "source": [
    "powers_of_2 = {i: 2**i for i in range(2, 10, 2)}\n",
    "powers_of_2"
   ]
  },
  {
   "cell_type": "markdown",
   "id": "4042c8e1",
   "metadata": {},
   "source": [
    "### As for-loop"
   ]
  },
  {
   "cell_type": "code",
   "execution_count": 2,
   "id": "16341d9b",
   "metadata": {},
   "outputs": [
    {
     "data": {
      "text/plain": [
       "{2: 4, 4: 16, 6: 64, 8: 256}"
      ]
     },
     "execution_count": 2,
     "metadata": {},
     "output_type": "execute_result"
    }
   ],
   "source": [
    "powers_of_2 = {}\n",
    "for i in range(2, 10, 2):\n",
    "    powers_of_2[i] = 2**i\n",
    "\n",
    "powers_of_2"
   ]
  },
  {
   "cell_type": "markdown",
   "id": "866853e3",
   "metadata": {},
   "source": [
    "## Using conditionals"
   ]
  },
  {
   "cell_type": "code",
   "execution_count": 3,
   "id": "f6f40261",
   "metadata": {},
   "outputs": [
    {
     "data": {
      "text/plain": [
       "{'C': 3,\n",
       " 'T': 1,\n",
       " 'D': 2,\n",
       " 'E': 8,\n",
       " 'O': 1,\n",
       " 'F': 1,\n",
       " 'R': 3,\n",
       " 'A': 1,\n",
       " 'L': 1,\n",
       " 'S': 1,\n",
       " 'P': 9,\n",
       " 'K': 3,\n",
       " 'I': 3}"
      ]
     },
     "execution_count": 3,
     "metadata": {},
     "output_type": "execute_result"
    }
   ],
   "source": [
    "phrase = \"peter piper picked a peck of pickled peppers\"\n",
    "letter_set = set(phrase)\n",
    "\n",
    "letter_counts = {char.upper(): phrase.count(char) for char in letter_set if char != ' '}\n",
    "letter_counts"
   ]
  },
  {
   "cell_type": "markdown",
   "id": "a4df46a1",
   "metadata": {},
   "source": [
    "### As for-loop"
   ]
  },
  {
   "cell_type": "code",
   "execution_count": 4,
   "id": "a3fd7f02",
   "metadata": {},
   "outputs": [
    {
     "data": {
      "text/plain": [
       "{'i': 3,\n",
       " 'l': 1,\n",
       " 'f': 1,\n",
       " 'r': 3,\n",
       " 'a': 1,\n",
       " 'd': 2,\n",
       " 'o': 1,\n",
       " 's': 1,\n",
       " 't': 1,\n",
       " 'p': 9,\n",
       " 'k': 3,\n",
       " 'c': 3,\n",
       " 'e': 8}"
      ]
     },
     "execution_count": 4,
     "metadata": {},
     "output_type": "execute_result"
    }
   ],
   "source": [
    "phrase = \"peter piper picked a peck of pickled peppers\"\n",
    "letter_set = set(phrase)\n",
    "\n",
    "letter_counts = {}\n",
    "for char in letter_set:\n",
    "    if char != ' ':\n",
    "        letter_counts[char] = phrase.count(char)\n",
    "\n",
    "letter_counts"
   ]
  },
  {
   "cell_type": "markdown",
   "id": "3cd6e8f8",
   "metadata": {},
   "source": [
    "## With ternary operator"
   ]
  },
  {
   "cell_type": "code",
   "execution_count": 5,
   "id": "c80a1684",
   "metadata": {},
   "outputs": [
    {
     "data": {
      "text/plain": [
       "{0: True,\n",
       " 1: False,\n",
       " 2: True,\n",
       " 3: False,\n",
       " 4: True,\n",
       " 5: False,\n",
       " 6: True,\n",
       " 7: False,\n",
       " 8: True,\n",
       " 9: False}"
      ]
     },
     "execution_count": 5,
     "metadata": {},
     "output_type": "execute_result"
    }
   ],
   "source": [
    "is_even = {i: True if i % 2 == 0 else False for i in range(10)}\n",
    "is_even"
   ]
  },
  {
   "cell_type": "code",
   "execution_count": 6,
   "id": "64a4d677",
   "metadata": {},
   "outputs": [
    {
     "data": {
      "text/plain": [
       "{0: True,\n",
       " 1: False,\n",
       " 2: True,\n",
       " 3: False,\n",
       " 4: True,\n",
       " 5: False,\n",
       " 6: True,\n",
       " 7: False,\n",
       " 8: True,\n",
       " 9: False}"
      ]
     },
     "execution_count": 6,
     "metadata": {},
     "output_type": "execute_result"
    }
   ],
   "source": [
    "is_even = {}\n",
    "for i in range(10):\n",
    "    if i % 2 == 0:\n",
    "        is_even[i] = True\n",
    "    else:\n",
    "        is_even[i] = False\n",
    "is_even"
   ]
  },
  {
   "cell_type": "markdown",
   "id": "bd2e0da3",
   "metadata": {},
   "source": [
    "## Nested comprehensions\n",
    "### Dict wth list values"
   ]
  },
  {
   "cell_type": "code",
   "execution_count": 7,
   "id": "e323800b",
   "metadata": {},
   "outputs": [
    {
     "data": {
      "text/plain": [
       "{0: [],\n",
       " 1: [0],\n",
       " 2: [0, 1],\n",
       " 3: [0, 1, 2],\n",
       " 4: [0, 1, 2, 3],\n",
       " 5: [0, 1, 2, 3, 4],\n",
       " 6: [0, 1, 2, 3, 4, 5],\n",
       " 7: [0, 1, 2, 3, 4, 5, 6],\n",
       " 8: [0, 1, 2, 3, 4, 5, 6, 7],\n",
       " 9: [0, 1, 2, 3, 4, 5, 6, 7, 8]}"
      ]
     },
     "execution_count": 7,
     "metadata": {},
     "output_type": "execute_result"
    }
   ],
   "source": [
    "lesser_nums = {\n",
    "    i: [j for j in range(i)] \n",
    "    for i in range(10)\n",
    "}\n",
    "lesser_nums"
   ]
  },
  {
   "cell_type": "markdown",
   "id": "7bef5215",
   "metadata": {},
   "source": [
    "### As for-loop"
   ]
  },
  {
   "cell_type": "code",
   "execution_count": 8,
   "id": "8344a681",
   "metadata": {},
   "outputs": [
    {
     "data": {
      "text/plain": [
       "{0: [],\n",
       " 1: [0],\n",
       " 2: [0, 1],\n",
       " 3: [0, 1, 2],\n",
       " 4: [0, 1, 2, 3],\n",
       " 5: [0, 1, 2, 3, 4],\n",
       " 6: [0, 1, 2, 3, 4, 5],\n",
       " 7: [0, 1, 2, 3, 4, 5, 6],\n",
       " 8: [0, 1, 2, 3, 4, 5, 6, 7],\n",
       " 9: [0, 1, 2, 3, 4, 5, 6, 7, 8]}"
      ]
     },
     "execution_count": 8,
     "metadata": {},
     "output_type": "execute_result"
    }
   ],
   "source": [
    "lesser_nums = {}\n",
    "for i in range(10):\n",
    "    nums = []\n",
    "    for j in range(i):\n",
    "        nums.append(j)\n",
    "    lesser_nums[i] = nums\n",
    "lesser_nums"
   ]
  },
  {
   "cell_type": "markdown",
   "id": "63466106",
   "metadata": {},
   "source": [
    "### Flat nesting"
   ]
  },
  {
   "cell_type": "code",
   "execution_count": 9,
   "id": "fc88ba86",
   "metadata": {},
   "outputs": [
    {
     "data": {
      "text/plain": [
       "{(0, 0): 0,\n",
       " (0, 1): 0,\n",
       " (0, 2): 0,\n",
       " (1, 0): 0,\n",
       " (1, 1): 1,\n",
       " (1, 2): 2,\n",
       " (2, 0): 0,\n",
       " (2, 1): 2,\n",
       " (2, 2): 4}"
      ]
     },
     "execution_count": 9,
     "metadata": {},
     "output_type": "execute_result"
    }
   ],
   "source": [
    "products = {(x, y): x*y for x in range(3) for y in range(3)}\n",
    "products"
   ]
  },
  {
   "cell_type": "markdown",
   "id": "74ad3722",
   "metadata": {},
   "source": [
    "### As for-loop"
   ]
  },
  {
   "cell_type": "code",
   "execution_count": 10,
   "id": "88182197",
   "metadata": {},
   "outputs": [
    {
     "data": {
      "text/plain": [
       "{(0, 0): 0,\n",
       " (0, 1): 0,\n",
       " (0, 2): 0,\n",
       " (1, 0): 0,\n",
       " (1, 1): 1,\n",
       " (1, 2): 2,\n",
       " (2, 0): 0,\n",
       " (2, 1): 2,\n",
       " (2, 2): 4}"
      ]
     },
     "execution_count": 10,
     "metadata": {},
     "output_type": "execute_result"
    }
   ],
   "source": [
    "products = {}\n",
    "for x in range(3):\n",
    "    for y in range(3):\n",
    "        products[(x, y)] = x * y\n",
    "products"
   ]
  },
  {
   "cell_type": "code",
   "execution_count": null,
   "id": "e4665cd0",
   "metadata": {},
   "outputs": [],
   "source": []
  }
 ],
 "metadata": {
  "jupytext": {
   "cell_metadata_filter": "-all",
   "formats": "auto:light,ipynb",
   "main_language": "python",
   "notebook_metadata_filter": "-all"
  },
  "kernelspec": {
   "display_name": "Python 3 (ipykernel)",
   "language": "python",
   "name": "python3"
  },
  "language_info": {
   "codemirror_mode": {
    "name": "ipython",
    "version": 3
   },
   "file_extension": ".py",
   "mimetype": "text/x-python",
   "name": "python",
   "nbconvert_exporter": "python",
   "pygments_lexer": "ipython3",
   "version": "3.11.4"
  }
 },
 "nbformat": 4,
 "nbformat_minor": 5
}
