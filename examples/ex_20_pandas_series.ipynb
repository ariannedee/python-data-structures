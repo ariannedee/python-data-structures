{
 "cells": [
  {
   "cell_type": "markdown",
   "id": "a77076cc",
   "metadata": {},
   "source": [
    "# Working with Pandas Series\n",
    "\n",
    "## Creating Series"
   ]
  },
  {
   "cell_type": "code",
   "id": "f86a1d93",
   "metadata": {
    "ExecuteTime": {
     "end_time": "2025-10-21T20:46:41.332546Z",
     "start_time": "2025-10-21T20:46:41.056031Z"
    }
   },
   "source": [
    "import numpy as np\n",
    "import pandas as pd"
   ],
   "outputs": [],
   "execution_count": 2
  },
  {
   "cell_type": "markdown",
   "id": "d41614ab",
   "metadata": {},
   "source": [
    "### From array\n",
    "\n",
    "#### `index`: must be same size as `ndarray`/`list`"
   ]
  },
  {
   "cell_type": "code",
   "id": "f95242f7",
   "metadata": {
    "ExecuteTime": {
     "end_time": "2025-10-21T20:46:42.346347Z",
     "start_time": "2025-10-21T20:46:42.335504Z"
    }
   },
   "source": [
    "a = pd.Series([1, 3, 5, 7], index=['a', 'c', 'd', 'b'])\n",
    "a"
   ],
   "outputs": [
    {
     "data": {
      "text/plain": [
       "a    1\n",
       "c    3\n",
       "d    5\n",
       "b    7\n",
       "dtype: int64"
      ]
     },
     "execution_count": 3,
     "metadata": {},
     "output_type": "execute_result"
    }
   ],
   "execution_count": 3
  },
  {
   "cell_type": "markdown",
   "id": "052290bc",
   "metadata": {},
   "source": [
    "#### No `index`: default integer index starting at 0"
   ]
  },
  {
   "cell_type": "code",
   "id": "aa350b68",
   "metadata": {
    "ExecuteTime": {
     "end_time": "2025-10-21T20:46:48.106583Z",
     "start_time": "2025-10-21T20:46:48.103370Z"
    }
   },
   "source": [
    "b = pd.Series([1, 3, 5, np.nan, 6, 8])\n",
    "b"
   ],
   "outputs": [
    {
     "data": {
      "text/plain": [
       "0    1.0\n",
       "1    3.0\n",
       "2    5.0\n",
       "3    NaN\n",
       "4    6.0\n",
       "5    8.0\n",
       "dtype: float64"
      ]
     },
     "execution_count": 4,
     "metadata": {},
     "output_type": "execute_result"
    }
   ],
   "execution_count": 4
  },
  {
   "cell_type": "markdown",
   "id": "c7583b4e",
   "metadata": {},
   "source": [
    "### From dict\n",
    "\n",
    "#### No `index`: use keys"
   ]
  },
  {
   "cell_type": "code",
   "id": "3d237cdc",
   "metadata": {
    "ExecuteTime": {
     "end_time": "2025-10-21T20:47:00.280752Z",
     "start_time": "2025-10-21T20:47:00.273573Z"
    }
   },
   "source": [
    "c = pd.Series({\"b\": 1, \"a\": 0, \"c\": 2})\n",
    "c"
   ],
   "outputs": [
    {
     "data": {
      "text/plain": [
       "b    1\n",
       "a    0\n",
       "c    2\n",
       "dtype: int64"
      ]
     },
     "execution_count": 5,
     "metadata": {},
     "output_type": "execute_result"
    }
   ],
   "execution_count": 5
  },
  {
   "cell_type": "markdown",
   "id": "4ca5b870",
   "metadata": {},
   "source": [
    "#### `index`: pull corresponding values from data"
   ]
  },
  {
   "cell_type": "code",
   "id": "ecba62bb",
   "metadata": {
    "ExecuteTime": {
     "end_time": "2025-10-21T20:47:17.608169Z",
     "start_time": "2025-10-21T20:47:17.603578Z"
    }
   },
   "source": [
    "d = pd.Series({\"b\": 1, \"a\": 0, \"c\": 2}, index=[\"b\", \"d\", \"c\"])\n",
    "d"
   ],
   "outputs": [
    {
     "data": {
      "text/plain": [
       "b    1.0\n",
       "d    NaN\n",
       "c    2.0\n",
       "dtype: float64"
      ]
     },
     "execution_count": 7,
     "metadata": {},
     "output_type": "execute_result"
    }
   ],
   "execution_count": 7
  },
  {
   "cell_type": "markdown",
   "id": "bf992bf4",
   "metadata": {},
   "source": [
    "### From scalar\n",
    "\n",
    "#### `index` (required): set every value to data value"
   ]
  },
  {
   "cell_type": "code",
   "id": "3ba93d28",
   "metadata": {
    "ExecuteTime": {
     "end_time": "2025-10-21T20:47:19.876850Z",
     "start_time": "2025-10-21T20:47:19.872936Z"
    }
   },
   "source": [
    "e = pd.Series(2, index=[\"a\", \"b\", \"c\"])\n",
    "e"
   ],
   "outputs": [
    {
     "data": {
      "text/plain": [
       "a    2\n",
       "b    2\n",
       "c    2\n",
       "dtype: int64"
      ]
     },
     "execution_count": 8,
     "metadata": {},
     "output_type": "execute_result"
    }
   ],
   "execution_count": 8
  },
  {
   "cell_type": "markdown",
   "id": "619dd52f",
   "metadata": {},
   "source": [
    "## Working with Series\n",
    "\n",
    "### Series is ndarray-like\n",
    "\n",
    "`Series` acts similarly to a `ndarray` and is a valid argument to most NumPy functions.\n",
    "Operations such as slicing will also slice the index."
   ]
  },
  {
   "cell_type": "code",
   "id": "4da8bc6f",
   "metadata": {
    "ExecuteTime": {
     "end_time": "2025-10-21T20:48:05.036004Z",
     "start_time": "2025-10-21T20:48:05.031423Z"
    }
   },
   "source": [
    "f = pd.Series(range(5), index=['a', 'b', 'c', 'd', 'e'])\n",
    "print(f.dtype)\n",
    "print(f.shape)\n",
    "f"
   ],
   "outputs": [
    {
     "name": "stdout",
     "output_type": "stream",
     "text": [
      "int64\n",
      "(5,)\n"
     ]
    },
    {
     "data": {
      "text/plain": [
       "a    0\n",
       "b    1\n",
       "c    2\n",
       "d    3\n",
       "e    4\n",
       "dtype: int64"
      ]
     },
     "execution_count": 11,
     "metadata": {},
     "output_type": "execute_result"
    }
   ],
   "execution_count": 11
  },
  {
   "cell_type": "code",
   "id": "4d9d66b4",
   "metadata": {
    "ExecuteTime": {
     "end_time": "2025-10-21T20:48:57.546770Z",
     "start_time": "2025-10-21T20:48:57.544218Z"
    }
   },
   "source": "f.iloc[0]",
   "outputs": [
    {
     "data": {
      "text/plain": [
       "np.int64(0)"
      ]
     },
     "execution_count": 16,
     "metadata": {},
     "output_type": "execute_result"
    }
   ],
   "execution_count": 16
  },
  {
   "cell_type": "code",
   "id": "bd3aeb0a",
   "metadata": {
    "ExecuteTime": {
     "end_time": "2025-10-21T20:49:04.618675Z",
     "start_time": "2025-10-21T20:49:04.615399Z"
    }
   },
   "source": "f.iloc[:2]",
   "outputs": [
    {
     "data": {
      "text/plain": [
       "a    0\n",
       "b    1\n",
       "dtype: int64"
      ]
     },
     "execution_count": 17,
     "metadata": {},
     "output_type": "execute_result"
    }
   ],
   "execution_count": 17
  },
  {
   "cell_type": "code",
   "id": "fa0e5777",
   "metadata": {
    "ExecuteTime": {
     "end_time": "2025-10-21T20:49:08.521027Z",
     "start_time": "2025-10-21T20:49:08.512893Z"
    }
   },
   "source": [
    "f > f.median()"
   ],
   "outputs": [
    {
     "data": {
      "text/plain": [
       "a    False\n",
       "b    False\n",
       "c    False\n",
       "d     True\n",
       "e     True\n",
       "dtype: bool"
      ]
     },
     "execution_count": 18,
     "metadata": {},
     "output_type": "execute_result"
    }
   ],
   "execution_count": 18
  },
  {
   "cell_type": "code",
   "id": "d7f3d672",
   "metadata": {
    "ExecuteTime": {
     "end_time": "2025-10-21T20:49:11.347154Z",
     "start_time": "2025-10-21T20:49:11.342773Z"
    }
   },
   "source": [
    "f[f > f.median()]"
   ],
   "outputs": [
    {
     "data": {
      "text/plain": [
       "d    3\n",
       "e    4\n",
       "dtype: int64"
      ]
     },
     "execution_count": 19,
     "metadata": {},
     "output_type": "execute_result"
    }
   ],
   "execution_count": 19
  },
  {
   "metadata": {
    "ExecuteTime": {
     "end_time": "2025-10-21T20:49:18.997848Z",
     "start_time": "2025-10-21T20:49:18.992796Z"
    }
   },
   "cell_type": "code",
   "source": "f.iloc[[4, 3, 1]]",
   "id": "937907fed7d470bd",
   "outputs": [
    {
     "data": {
      "text/plain": [
       "e    4\n",
       "d    3\n",
       "b    1\n",
       "dtype: int64"
      ]
     },
     "execution_count": 20,
     "metadata": {},
     "output_type": "execute_result"
    }
   ],
   "execution_count": 20
  },
  {
   "metadata": {
    "ExecuteTime": {
     "end_time": "2025-10-21T20:49:26.691896Z",
     "start_time": "2025-10-21T20:49:26.688282Z"
    }
   },
   "cell_type": "code",
   "source": "np.exp(f)",
   "id": "a878a632e8ee0086",
   "outputs": [
    {
     "data": {
      "text/plain": [
       "a     1.000000\n",
       "b     2.718282\n",
       "c     7.389056\n",
       "d    20.085537\n",
       "e    54.598150\n",
       "dtype: float64"
      ]
     },
     "execution_count": 21,
     "metadata": {},
     "output_type": "execute_result"
    }
   ],
   "execution_count": 21
  },
  {
   "cell_type": "markdown",
   "id": "3a21dd58",
   "metadata": {},
   "source": [
    "### Series is dict-like\n",
    "\n",
    "You can get and set values by index label."
   ]
  },
  {
   "cell_type": "code",
   "id": "8d1262c8",
   "metadata": {
    "ExecuteTime": {
     "end_time": "2025-10-21T20:49:54.328375Z",
     "start_time": "2025-10-21T20:49:54.323642Z"
    }
   },
   "source": "f.loc['a']",
   "outputs": [
    {
     "data": {
      "text/plain": [
       "np.int64(100)"
      ]
     },
     "execution_count": 24,
     "metadata": {},
     "output_type": "execute_result"
    }
   ],
   "execution_count": 24
  },
  {
   "cell_type": "code",
   "id": "d86a9a9c",
   "metadata": {
    "ExecuteTime": {
     "end_time": "2025-10-21T20:49:58.736695Z",
     "start_time": "2025-10-21T20:49:58.733261Z"
    }
   },
   "source": [
    "f.loc['a'] = 100\n",
    "f"
   ],
   "outputs": [
    {
     "data": {
      "text/plain": [
       "a    100\n",
       "b      1\n",
       "c      2\n",
       "d      3\n",
       "e      4\n",
       "dtype: int64"
      ]
     },
     "execution_count": 25,
     "metadata": {},
     "output_type": "execute_result"
    }
   ],
   "execution_count": 25
  },
  {
   "cell_type": "code",
   "id": "cd08db37",
   "metadata": {
    "ExecuteTime": {
     "end_time": "2025-10-21T20:50:13.719176Z",
     "start_time": "2025-10-21T20:50:13.716607Z"
    }
   },
   "source": [
    "try:\n",
    "    f['f']\n",
    "except KeyError as e:\n",
    "    print(repr(e))"
   ],
   "outputs": [
    {
     "name": "stdout",
     "output_type": "stream",
     "text": [
      "KeyError('f')\n"
     ]
    }
   ],
   "execution_count": 26
  },
  {
   "cell_type": "code",
   "id": "4213bffc",
   "metadata": {
    "ExecuteTime": {
     "end_time": "2025-10-21T20:50:19.554700Z",
     "start_time": "2025-10-21T20:50:19.549993Z"
    }
   },
   "source": [
    "f.get('f', np.nan)"
   ],
   "outputs": [
    {
     "data": {
      "text/plain": [
       "nan"
      ]
     },
     "execution_count": 27,
     "metadata": {},
     "output_type": "execute_result"
    }
   ],
   "execution_count": 27
  },
  {
   "cell_type": "code",
   "id": "e124e362",
   "metadata": {
    "ExecuteTime": {
     "end_time": "2025-10-21T20:50:47.531113Z",
     "start_time": "2025-10-21T20:50:47.526683Z"
    }
   },
   "source": "f.a",
   "outputs": [
    {
     "data": {
      "text/plain": [
       "np.int64(100)"
      ]
     },
     "execution_count": 30,
     "metadata": {},
     "output_type": "execute_result"
    }
   ],
   "execution_count": 30
  },
  {
   "cell_type": "markdown",
   "id": "3a7d403c",
   "metadata": {},
   "source": [
    "## Working with `Series`\n",
    "\n",
    "### Vector operations\n",
    "\n",
    "You can do operations on a `Series` similar to working with `ndarray`."
   ]
  },
  {
   "cell_type": "code",
   "id": "22fe8c2f",
   "metadata": {
    "ExecuteTime": {
     "end_time": "2025-08-15T22:39:17.111631Z",
     "start_time": "2025-08-15T22:39:17.107368Z"
    }
   },
   "source": [
    "f + f"
   ],
   "outputs": [
    {
     "data": {
      "text/plain": [
       "a    200\n",
       "b      2\n",
       "c      4\n",
       "d      6\n",
       "e      8\n",
       "dtype: int64"
      ]
     },
     "execution_count": 81,
     "metadata": {},
     "output_type": "execute_result"
    }
   ],
   "execution_count": 81
  },
  {
   "cell_type": "code",
   "id": "3e470475",
   "metadata": {
    "ExecuteTime": {
     "end_time": "2025-08-15T22:39:17.142263Z",
     "start_time": "2025-08-15T22:39:17.139498Z"
    }
   },
   "source": [
    "f * 3 + [0, 0.25, 0.5, 0.75, 1] - 1"
   ],
   "outputs": [
    {
     "data": {
      "text/plain": [
       "a    299.00\n",
       "b      2.25\n",
       "c      5.50\n",
       "d      8.75\n",
       "e     12.00\n",
       "dtype: float64"
      ]
     },
     "execution_count": 82,
     "metadata": {},
     "output_type": "execute_result"
    }
   ],
   "execution_count": 82
  },
  {
   "cell_type": "markdown",
   "id": "e22d2b71",
   "metadata": {},
   "source": [
    "When operating with non-`Series` sequences, the length must match.\n",
    "\n",
    "### Label alignment\n",
    "\n",
    "`Series` automatically align the data based on label."
   ]
  },
  {
   "cell_type": "code",
   "id": "2f53ab22",
   "metadata": {
    "ExecuteTime": {
     "end_time": "2025-08-15T22:39:17.223213Z",
     "start_time": "2025-08-15T22:39:17.217116Z"
    }
   },
   "source": [
    "g = pd.Series(.5, index=['b', 'c', 'e', 'f'], name='g')\n",
    "f + g"
   ],
   "outputs": [
    {
     "data": {
      "text/plain": [
       "a    NaN\n",
       "b    1.5\n",
       "c    2.5\n",
       "d    NaN\n",
       "e    4.5\n",
       "f    NaN\n",
       "dtype: float64"
      ]
     },
     "execution_count": 83,
     "metadata": {},
     "output_type": "execute_result"
    }
   ],
   "execution_count": 83
  },
  {
   "cell_type": "markdown",
   "id": "a7b353b2",
   "metadata": {},
   "source": [
    "## `name` attribute\n",
    "\n",
    "You can label any `Series` with a `name`"
   ]
  },
  {
   "cell_type": "code",
   "id": "0a9980ad",
   "metadata": {
    "ExecuteTime": {
     "end_time": "2025-10-21T20:51:16.872340Z",
     "start_time": "2025-10-21T20:51:16.859803Z"
    }
   },
   "source": [
    "h = pd.Series(np.random.randn(5), name=\"random series\")\n",
    "h"
   ],
   "outputs": [
    {
     "data": {
      "text/plain": [
       "0   -0.568289\n",
       "1   -1.185025\n",
       "2    0.148057\n",
       "3    0.474146\n",
       "4    0.939773\n",
       "Name: random series, dtype: float64"
      ]
     },
     "execution_count": 31,
     "metadata": {},
     "output_type": "execute_result"
    }
   ],
   "execution_count": 31
  },
  {
   "cell_type": "code",
   "id": "43a3746a",
   "metadata": {
    "ExecuteTime": {
     "end_time": "2025-10-21T20:51:23.237498Z",
     "start_time": "2025-10-21T20:51:23.234872Z"
    }
   },
   "source": [
    "h.name"
   ],
   "outputs": [
    {
     "data": {
      "text/plain": [
       "'random series'"
      ]
     },
     "execution_count": 32,
     "metadata": {},
     "output_type": "execute_result"
    }
   ],
   "execution_count": 32
  },
  {
   "cell_type": "markdown",
   "id": "c88d1278",
   "metadata": {},
   "source": [
    "You can change the name of a `Series` by setting the `name` attribute."
   ]
  },
  {
   "cell_type": "code",
   "id": "0f80f601",
   "metadata": {
    "ExecuteTime": {
     "end_time": "2025-10-21T20:51:24.204703Z",
     "start_time": "2025-10-21T20:51:24.201523Z"
    }
   },
   "source": [
    "h.name = 'Series 1'\n",
    "h"
   ],
   "outputs": [
    {
     "data": {
      "text/plain": [
       "0   -0.568289\n",
       "1   -1.185025\n",
       "2    0.148057\n",
       "3    0.474146\n",
       "4    0.939773\n",
       "Name: Series 1, dtype: float64"
      ]
     },
     "execution_count": 33,
     "metadata": {},
     "output_type": "execute_result"
    }
   ],
   "execution_count": 33
  },
  {
   "cell_type": "markdown",
   "id": "79286034",
   "metadata": {},
   "source": [
    "In a `DataFrame`, the `Series` name will be the column label."
   ]
  },
  {
   "cell_type": "markdown",
   "id": "700fe23b",
   "metadata": {},
   "source": [
    "## Methods\n",
    "\n",
    "You can chain methods that return a `Series`. \n",
    "There are lots of common math and comparison methods."
   ]
  },
  {
   "cell_type": "code",
   "id": "6f834a5d",
   "metadata": {
    "ExecuteTime": {
     "end_time": "2025-10-21T20:51:28.822925Z",
     "start_time": "2025-10-21T20:51:28.819206Z"
    }
   },
   "source": [
    "i = h.mul(10).round(1)\n",
    "i"
   ],
   "outputs": [
    {
     "data": {
      "text/plain": [
       "0    -5.7\n",
       "1   -11.9\n",
       "2     1.5\n",
       "3     4.7\n",
       "4     9.4\n",
       "Name: Series 1, dtype: float64"
      ]
     },
     "execution_count": 34,
     "metadata": {},
     "output_type": "execute_result"
    }
   ],
   "execution_count": 34
  },
  {
   "cell_type": "markdown",
   "id": "ce4334a9",
   "metadata": {},
   "source": [
    "You can apply a custom function and do aggregating/grouping."
   ]
  },
  {
   "cell_type": "code",
   "id": "aa4f3b7a",
   "metadata": {
    "ExecuteTime": {
     "end_time": "2025-10-21T20:51:34.806330Z",
     "start_time": "2025-10-21T20:51:34.799156Z"
    }
   },
   "source": [
    "i.apply(lambda x: x ** 2).groupby(i < 0).mean()"
   ],
   "outputs": [
    {
     "data": {
      "text/plain": [
       "Series 1\n",
       "False    37.566667\n",
       "True     87.050000\n",
       "Name: Series 1, dtype: float64"
      ]
     },
     "execution_count": 35,
     "metadata": {},
     "output_type": "execute_result"
    }
   ],
   "execution_count": 35
  },
  {
   "cell_type": "markdown",
   "id": "ee001d50",
   "metadata": {},
   "source": [
    "You can sort by index or values"
   ]
  },
  {
   "cell_type": "code",
   "id": "3d2ffdcc",
   "metadata": {
    "ExecuteTime": {
     "end_time": "2025-08-15T22:39:17.503046Z",
     "start_time": "2025-08-15T22:39:17.500713Z"
    }
   },
   "source": [
    "i = i.sort_values()\n",
    "i"
   ],
   "outputs": [
    {
     "data": {
      "text/plain": [
       "4   -16.2\n",
       "1    -1.3\n",
       "0    -0.9\n",
       "3     3.7\n",
       "2     8.0\n",
       "Name: Series 1, dtype: float64"
      ]
     },
     "execution_count": 89,
     "metadata": {},
     "output_type": "execute_result"
    }
   ],
   "execution_count": 89
  },
  {
   "cell_type": "code",
   "id": "b3c445e3",
   "metadata": {
    "ExecuteTime": {
     "end_time": "2025-08-15T22:39:17.607417Z",
     "start_time": "2025-08-15T22:39:17.604731Z"
    }
   },
   "source": [
    "i.rank()"
   ],
   "outputs": [
    {
     "data": {
      "text/plain": [
       "4    1.0\n",
       "1    2.0\n",
       "0    3.0\n",
       "3    4.0\n",
       "2    5.0\n",
       "Name: Series 1, dtype: float64"
      ]
     },
     "execution_count": 90,
     "metadata": {},
     "output_type": "execute_result"
    }
   ],
   "execution_count": 90
  },
  {
   "cell_type": "markdown",
   "id": "7c505c31",
   "metadata": {},
   "source": [
    "And there's so much more you can do.\n",
    "\n",
    "## Accessors\n",
    "\n",
    "You can also access a lot of type-specific methods for strings, datetimes and some Pandas-specific dtypes."
   ]
  },
  {
   "cell_type": "code",
   "id": "58a1ca12",
   "metadata": {
    "ExecuteTime": {
     "end_time": "2025-10-21T20:52:00.780149Z",
     "start_time": "2025-10-21T20:52:00.764815Z"
    }
   },
   "source": [
    "j = pd.Series(['Yes', 'no', 'y', '', 'NO'], name='votes')\n",
    "j"
   ],
   "outputs": [
    {
     "data": {
      "text/plain": [
       "0    Yes\n",
       "1     no\n",
       "2      y\n",
       "3       \n",
       "4     NO\n",
       "Name: votes, dtype: object"
      ]
     },
     "execution_count": 36,
     "metadata": {},
     "output_type": "execute_result"
    }
   ],
   "execution_count": 36
  },
  {
   "cell_type": "code",
   "id": "51e4b2fd",
   "metadata": {
    "ExecuteTime": {
     "end_time": "2025-10-21T20:52:12.211093Z",
     "start_time": "2025-10-21T20:52:12.202364Z"
    }
   },
   "source": [
    "j = j.str.upper()\n",
    "j"
   ],
   "outputs": [
    {
     "data": {
      "text/plain": [
       "0    YES\n",
       "1     NO\n",
       "2      Y\n",
       "3       \n",
       "4     NO\n",
       "Name: votes, dtype: object"
      ]
     },
     "execution_count": 37,
     "metadata": {},
     "output_type": "execute_result"
    }
   ],
   "execution_count": 37
  },
  {
   "cell_type": "code",
   "id": "f6da6355",
   "metadata": {
    "ExecuteTime": {
     "end_time": "2025-10-21T20:52:14.777522Z",
     "start_time": "2025-10-21T20:52:14.772698Z"
    }
   },
   "source": [
    "j[j.str.contains('Y')] = 'Yes'\n",
    "j[j.str.contains('N')] = 'No'\n",
    "j"
   ],
   "outputs": [
    {
     "data": {
      "text/plain": [
       "0    Yes\n",
       "1     No\n",
       "2    Yes\n",
       "3       \n",
       "4     No\n",
       "Name: votes, dtype: object"
      ]
     },
     "execution_count": 38,
     "metadata": {},
     "output_type": "execute_result"
    }
   ],
   "execution_count": 38
  },
  {
   "cell_type": "code",
   "id": "303a2105",
   "metadata": {
    "ExecuteTime": {
     "end_time": "2025-10-21T20:52:37.837798Z",
     "start_time": "2025-10-21T20:52:37.824424Z"
    }
   },
   "source": [
    "j[~j.isin(['Yes', 'No'])] = 'Unknown'\n",
    "j"
   ],
   "outputs": [
    {
     "data": {
      "text/plain": [
       "0        Yes\n",
       "1         No\n",
       "2        Yes\n",
       "3    Unknown\n",
       "4         No\n",
       "Name: votes, dtype: object"
      ]
     },
     "execution_count": 39,
     "metadata": {},
     "output_type": "execute_result"
    }
   ],
   "execution_count": 39
  }
 ],
 "metadata": {
  "jupytext": {
   "cell_metadata_filter": "-all",
   "formats": "auto:light,ipynb",
   "main_language": "python",
   "notebook_metadata_filter": "-all"
  },
  "kernelspec": {
   "display_name": "Python 3 (ipykernel)",
   "language": "python",
   "name": "python3"
  },
  "language_info": {
   "codemirror_mode": {
    "name": "ipython",
    "version": 3
   },
   "file_extension": ".py",
   "mimetype": "text/x-python",
   "name": "python",
   "nbconvert_exporter": "python",
   "pygments_lexer": "ipython3",
   "version": "3.11.4"
  }
 },
 "nbformat": 4,
 "nbformat_minor": 5
}
