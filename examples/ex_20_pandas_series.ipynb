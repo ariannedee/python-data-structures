{
 "cells": [
  {
   "cell_type": "markdown",
   "id": "a77076cc",
   "metadata": {},
   "source": [
    "# Working with Pandas Series\n",
    "\n",
    "## Creating Series"
   ]
  },
  {
   "cell_type": "code",
   "id": "f86a1d93",
   "metadata": {
    "ExecuteTime": {
     "end_time": "2025-06-09T20:38:05.642745Z",
     "start_time": "2025-06-09T20:38:05.257620Z"
    }
   },
   "source": [
    "import numpy as np\n",
    "import pandas as pd"
   ],
   "outputs": [],
   "execution_count": 1
  },
  {
   "cell_type": "markdown",
   "id": "d41614ab",
   "metadata": {},
   "source": [
    "### From array\n",
    "\n",
    "#### `index`: must be same size as `ndarray`/`list`"
   ]
  },
  {
   "cell_type": "code",
   "id": "f95242f7",
   "metadata": {
    "ExecuteTime": {
     "end_time": "2025-06-09T20:41:38.255491Z",
     "start_time": "2025-06-09T20:41:38.249680Z"
    }
   },
   "source": [
    "a = pd.Series([1, 3, 5, 7], index=['a', 'c', 'd', 'b'])\n",
    "a"
   ],
   "outputs": [
    {
     "data": {
      "text/plain": [
       "a    1\n",
       "b    7\n",
       "c    3\n",
       "d    5\n",
       "dtype: int64"
      ]
     },
     "execution_count": 7,
     "metadata": {},
     "output_type": "execute_result"
    }
   ],
   "execution_count": 7
  },
  {
   "cell_type": "markdown",
   "id": "052290bc",
   "metadata": {},
   "source": [
    "#### No `index`: default integer index starting at 0"
   ]
  },
  {
   "cell_type": "code",
   "id": "aa350b68",
   "metadata": {
    "ExecuteTime": {
     "end_time": "2025-06-09T20:41:53.410842Z",
     "start_time": "2025-06-09T20:41:53.407401Z"
    }
   },
   "source": [
    "b = pd.Series([1, 3, 5, np.nan, 6, 8])\n",
    "b"
   ],
   "outputs": [
    {
     "data": {
      "text/plain": [
       "0    1.0\n",
       "1    3.0\n",
       "2    5.0\n",
       "3    NaN\n",
       "4    6.0\n",
       "5    8.0\n",
       "dtype: float64"
      ]
     },
     "execution_count": 8,
     "metadata": {},
     "output_type": "execute_result"
    }
   ],
   "execution_count": 8
  },
  {
   "cell_type": "markdown",
   "id": "c7583b4e",
   "metadata": {},
   "source": [
    "### From dict\n",
    "\n",
    "#### No `index`: use keys"
   ]
  },
  {
   "cell_type": "code",
   "id": "3d237cdc",
   "metadata": {
    "ExecuteTime": {
     "end_time": "2025-06-09T20:42:09.230901Z",
     "start_time": "2025-06-09T20:42:09.227982Z"
    }
   },
   "source": [
    "c = pd.Series({\"b\": 1, \"a\": 0, \"c\": 2})\n",
    "c"
   ],
   "outputs": [
    {
     "data": {
      "text/plain": [
       "b    1\n",
       "a    0\n",
       "c    2\n",
       "dtype: int64"
      ]
     },
     "execution_count": 9,
     "metadata": {},
     "output_type": "execute_result"
    }
   ],
   "execution_count": 9
  },
  {
   "cell_type": "markdown",
   "id": "4ca5b870",
   "metadata": {},
   "source": [
    "#### `index`: pull corresponding values from data"
   ]
  },
  {
   "cell_type": "code",
   "id": "ecba62bb",
   "metadata": {
    "ExecuteTime": {
     "end_time": "2025-06-09T20:42:24.709972Z",
     "start_time": "2025-06-09T20:42:24.706372Z"
    }
   },
   "source": [
    "d = pd.Series({\"b\": 1, \"a\": 0, \"c\": 2}, index=[\"b\", \"d\", \"c\"])\n",
    "d"
   ],
   "outputs": [
    {
     "data": {
      "text/plain": [
       "b    1.0\n",
       "d    NaN\n",
       "c    2.0\n",
       "dtype: float64"
      ]
     },
     "execution_count": 10,
     "metadata": {},
     "output_type": "execute_result"
    }
   ],
   "execution_count": 10
  },
  {
   "cell_type": "markdown",
   "id": "bf992bf4",
   "metadata": {},
   "source": [
    "### From scalar\n",
    "\n",
    "#### `index` (required): set every value to data value"
   ]
  },
  {
   "cell_type": "code",
   "id": "3ba93d28",
   "metadata": {
    "ExecuteTime": {
     "end_time": "2025-06-09T20:42:36.591699Z",
     "start_time": "2025-06-09T20:42:36.588474Z"
    }
   },
   "source": [
    "e = pd.Series(2, index=[\"a\", \"b\", \"c\"])\n",
    "e"
   ],
   "outputs": [
    {
     "data": {
      "text/plain": [
       "a    2\n",
       "b    2\n",
       "c    2\n",
       "dtype: int64"
      ]
     },
     "execution_count": 11,
     "metadata": {},
     "output_type": "execute_result"
    }
   ],
   "execution_count": 11
  },
  {
   "cell_type": "markdown",
   "id": "619dd52f",
   "metadata": {},
   "source": [
    "## Working with Series\n",
    "\n",
    "### Series is ndarray-like\n",
    "\n",
    "`Series` acts similarly to a `ndarray` and is a valid argument to most NumPy functions.\n",
    "Operations such as slicing will also slice the index."
   ]
  },
  {
   "cell_type": "code",
   "id": "4da8bc6f",
   "metadata": {
    "ExecuteTime": {
     "end_time": "2025-06-09T20:42:54.637283Z",
     "start_time": "2025-06-09T20:42:54.633735Z"
    }
   },
   "source": [
    "f = pd.Series(range(5), index=['a', 'b', 'c', 'd', 'e'])\n",
    "f"
   ],
   "outputs": [
    {
     "data": {
      "text/plain": [
       "a    0\n",
       "b    1\n",
       "c    2\n",
       "d    3\n",
       "e    4\n",
       "dtype: int64"
      ]
     },
     "execution_count": 12,
     "metadata": {},
     "output_type": "execute_result"
    }
   ],
   "execution_count": 12
  },
  {
   "cell_type": "code",
   "id": "4d9d66b4",
   "metadata": {
    "ExecuteTime": {
     "end_time": "2025-06-09T20:43:14.144356Z",
     "start_time": "2025-06-09T20:43:14.140876Z"
    }
   },
   "source": "f.iloc[0]",
   "outputs": [
    {
     "data": {
      "text/plain": [
       "0"
      ]
     },
     "execution_count": 14,
     "metadata": {},
     "output_type": "execute_result"
    }
   ],
   "execution_count": 14
  },
  {
   "cell_type": "code",
   "id": "bd3aeb0a",
   "metadata": {
    "ExecuteTime": {
     "end_time": "2025-06-09T20:43:17.969678Z",
     "start_time": "2025-06-09T20:43:17.966171Z"
    }
   },
   "source": [
    "f[:2]"
   ],
   "outputs": [
    {
     "data": {
      "text/plain": [
       "a    0\n",
       "b    1\n",
       "dtype: int64"
      ]
     },
     "execution_count": 15,
     "metadata": {},
     "output_type": "execute_result"
    }
   ],
   "execution_count": 15
  },
  {
   "cell_type": "code",
   "id": "fa0e5777",
   "metadata": {
    "ExecuteTime": {
     "end_time": "2025-06-09T20:44:53.990086Z",
     "start_time": "2025-06-09T20:44:53.982300Z"
    }
   },
   "source": [
    "f > f.median()"
   ],
   "outputs": [
    {
     "data": {
      "text/plain": [
       "a    False\n",
       "b    False\n",
       "c    False\n",
       "d     True\n",
       "e     True\n",
       "dtype: bool"
      ]
     },
     "execution_count": 17,
     "metadata": {},
     "output_type": "execute_result"
    }
   ],
   "execution_count": 17
  },
  {
   "cell_type": "code",
   "id": "d7f3d672",
   "metadata": {
    "ExecuteTime": {
     "end_time": "2025-06-09T20:45:07.911933Z",
     "start_time": "2025-06-09T20:45:07.906432Z"
    }
   },
   "source": [
    "f[f > f.median()]"
   ],
   "outputs": [
    {
     "data": {
      "text/plain": [
       "d    3\n",
       "e    4\n",
       "dtype: int64"
      ]
     },
     "execution_count": 18,
     "metadata": {},
     "output_type": "execute_result"
    }
   ],
   "execution_count": 18
  },
  {
   "cell_type": "code",
   "id": "0f15f2fb",
   "metadata": {
    "ExecuteTime": {
     "end_time": "2025-06-09T20:45:21.228881Z",
     "start_time": "2025-06-09T20:45:21.225279Z"
    }
   },
   "source": "f[[4, 3, 1]]",
   "outputs": [
    {
     "data": {
      "text/plain": [
       "e    4\n",
       "d    3\n",
       "b    1\n",
       "dtype: int64"
      ]
     },
     "execution_count": 20,
     "metadata": {},
     "output_type": "execute_result"
    }
   ],
   "execution_count": 20
  },
  {
   "cell_type": "code",
   "id": "369327ec",
   "metadata": {
    "ExecuteTime": {
     "end_time": "2025-06-09T20:45:29.353412Z",
     "start_time": "2025-06-09T20:45:29.350257Z"
    }
   },
   "source": [
    "np.exp(f)"
   ],
   "outputs": [
    {
     "data": {
      "text/plain": [
       "a     1.000000\n",
       "b     2.718282\n",
       "c     7.389056\n",
       "d    20.085537\n",
       "e    54.598150\n",
       "dtype: float64"
      ]
     },
     "execution_count": 21,
     "metadata": {},
     "output_type": "execute_result"
    }
   ],
   "execution_count": 21
  },
  {
   "cell_type": "markdown",
   "id": "3a21dd58",
   "metadata": {},
   "source": [
    "### Series is dict-like\n",
    "\n",
    "You can get and set values by index label."
   ]
  },
  {
   "cell_type": "code",
   "id": "8d1262c8",
   "metadata": {
    "ExecuteTime": {
     "end_time": "2025-06-09T20:45:48.747369Z",
     "start_time": "2025-06-09T20:45:48.744423Z"
    }
   },
   "source": [
    "f['a']"
   ],
   "outputs": [
    {
     "data": {
      "text/plain": [
       "0"
      ]
     },
     "execution_count": 22,
     "metadata": {},
     "output_type": "execute_result"
    }
   ],
   "execution_count": 22
  },
  {
   "cell_type": "code",
   "id": "d86a9a9c",
   "metadata": {
    "ExecuteTime": {
     "end_time": "2025-06-09T20:46:06.065853Z",
     "start_time": "2025-06-09T20:46:06.062488Z"
    }
   },
   "source": [
    "f['a'] = 100\n",
    "f"
   ],
   "outputs": [
    {
     "data": {
      "text/plain": [
       "a    100\n",
       "b      1\n",
       "c      2\n",
       "d      3\n",
       "e      4\n",
       "dtype: int64"
      ]
     },
     "execution_count": 23,
     "metadata": {},
     "output_type": "execute_result"
    }
   ],
   "execution_count": 23
  },
  {
   "cell_type": "code",
   "id": "cd08db37",
   "metadata": {
    "ExecuteTime": {
     "end_time": "2025-06-09T20:46:10.736811Z",
     "start_time": "2025-06-09T20:46:10.734515Z"
    }
   },
   "source": [
    "try:\n",
    "    f['f']\n",
    "except KeyError as e:\n",
    "    print(repr(e))"
   ],
   "outputs": [
    {
     "name": "stdout",
     "output_type": "stream",
     "text": [
      "KeyError('f')\n"
     ]
    }
   ],
   "execution_count": 24
  },
  {
   "cell_type": "code",
   "id": "4213bffc",
   "metadata": {
    "ExecuteTime": {
     "end_time": "2025-06-09T20:46:14.722415Z",
     "start_time": "2025-06-09T20:46:14.718886Z"
    }
   },
   "source": [
    "f.get('f', np.nan)"
   ],
   "outputs": [
    {
     "data": {
      "text/plain": [
       "nan"
      ]
     },
     "execution_count": 25,
     "metadata": {},
     "output_type": "execute_result"
    }
   ],
   "execution_count": 25
  },
  {
   "cell_type": "code",
   "id": "e124e362",
   "metadata": {
    "ExecuteTime": {
     "end_time": "2025-06-09T20:47:06.241860Z",
     "start_time": "2025-06-09T20:47:06.235933Z"
    }
   },
   "source": "f.a",
   "outputs": [
    {
     "data": {
      "text/plain": [
       "array([100,   1,   2,   3,   4])"
      ]
     },
     "execution_count": 29,
     "metadata": {},
     "output_type": "execute_result"
    }
   ],
   "execution_count": 29
  },
  {
   "cell_type": "markdown",
   "id": "3a7d403c",
   "metadata": {},
   "source": [
    "## Working with `Series`\n",
    "\n",
    "### Vector operations\n",
    "\n",
    "You can do operations on a `Series` similar to working with `ndarray`."
   ]
  },
  {
   "cell_type": "code",
   "id": "22fe8c2f",
   "metadata": {
    "ExecuteTime": {
     "end_time": "2025-06-09T20:47:38.057076Z",
     "start_time": "2025-06-09T20:47:38.052678Z"
    }
   },
   "source": [
    "f + f"
   ],
   "outputs": [
    {
     "data": {
      "text/plain": [
       "a    200\n",
       "b      2\n",
       "c      4\n",
       "d      6\n",
       "e      8\n",
       "dtype: int64"
      ]
     },
     "execution_count": 30,
     "metadata": {},
     "output_type": "execute_result"
    }
   ],
   "execution_count": 30
  },
  {
   "cell_type": "code",
   "id": "3e470475",
   "metadata": {
    "ExecuteTime": {
     "end_time": "2025-06-09T20:47:42.600430Z",
     "start_time": "2025-06-09T20:47:42.597082Z"
    }
   },
   "source": [
    "f * 3 + [0, 0.25, 0.5, 0.75, 1] - 1"
   ],
   "outputs": [
    {
     "data": {
      "text/plain": [
       "a    299.00\n",
       "b      2.25\n",
       "c      5.50\n",
       "d      8.75\n",
       "e     12.00\n",
       "dtype: float64"
      ]
     },
     "execution_count": 31,
     "metadata": {},
     "output_type": "execute_result"
    }
   ],
   "execution_count": 31
  },
  {
   "cell_type": "markdown",
   "id": "e22d2b71",
   "metadata": {},
   "source": [
    "When operating with non-`Series` sequences, the length must match.\n",
    "\n",
    "### Label alignment\n",
    "\n",
    "`Series` automatically align the data based on label."
   ]
  },
  {
   "cell_type": "code",
   "id": "2f53ab22",
   "metadata": {
    "ExecuteTime": {
     "end_time": "2025-06-09T20:47:56.981288Z",
     "start_time": "2025-06-09T20:47:56.976908Z"
    }
   },
   "source": [
    "g = pd.Series(.5, index=['b', 'c', 'e', 'f'], name='g')\n",
    "f + g"
   ],
   "outputs": [
    {
     "data": {
      "text/plain": [
       "a    NaN\n",
       "b    1.5\n",
       "c    2.5\n",
       "d    NaN\n",
       "e    4.5\n",
       "f    NaN\n",
       "dtype: float64"
      ]
     },
     "execution_count": 32,
     "metadata": {},
     "output_type": "execute_result"
    }
   ],
   "execution_count": 32
  },
  {
   "cell_type": "markdown",
   "id": "a7b353b2",
   "metadata": {},
   "source": [
    "## `name` attribute\n",
    "\n",
    "You can label any `Series` with a `name`"
   ]
  },
  {
   "cell_type": "code",
   "id": "0a9980ad",
   "metadata": {
    "ExecuteTime": {
     "end_time": "2025-06-09T20:48:36.964817Z",
     "start_time": "2025-06-09T20:48:36.960011Z"
    }
   },
   "source": [
    "h = pd.Series(np.random.randn(5), name=\"random series\")\n",
    "h"
   ],
   "outputs": [
    {
     "data": {
      "text/plain": [
       "0   -1.992051\n",
       "1    1.220770\n",
       "2    0.047314\n",
       "3    1.492991\n",
       "4    0.032169\n",
       "Name: random series, dtype: float64"
      ]
     },
     "execution_count": 33,
     "metadata": {},
     "output_type": "execute_result"
    }
   ],
   "execution_count": 33
  },
  {
   "cell_type": "code",
   "id": "43a3746a",
   "metadata": {
    "ExecuteTime": {
     "end_time": "2025-06-09T20:48:41.666790Z",
     "start_time": "2025-06-09T20:48:41.662823Z"
    }
   },
   "source": [
    "h.name"
   ],
   "outputs": [
    {
     "data": {
      "text/plain": [
       "'random series'"
      ]
     },
     "execution_count": 34,
     "metadata": {},
     "output_type": "execute_result"
    }
   ],
   "execution_count": 34
  },
  {
   "cell_type": "markdown",
   "id": "c88d1278",
   "metadata": {},
   "source": [
    "You can change the name of a `Series` by setting the `name` attribute."
   ]
  },
  {
   "cell_type": "code",
   "id": "0f80f601",
   "metadata": {
    "ExecuteTime": {
     "end_time": "2025-06-09T20:49:04.193878Z",
     "start_time": "2025-06-09T20:49:04.190535Z"
    }
   },
   "source": [
    "h.name = 'Series 1'\n",
    "h"
   ],
   "outputs": [
    {
     "data": {
      "text/plain": [
       "0   -1.992051\n",
       "1    1.220770\n",
       "2    0.047314\n",
       "3    1.492991\n",
       "4    0.032169\n",
       "Name: Series 1, dtype: float64"
      ]
     },
     "execution_count": 35,
     "metadata": {},
     "output_type": "execute_result"
    }
   ],
   "execution_count": 35
  },
  {
   "cell_type": "markdown",
   "id": "79286034",
   "metadata": {},
   "source": [
    "In a `DataFrame`, the `Series` name will be the column label."
   ]
  },
  {
   "cell_type": "markdown",
   "id": "700fe23b",
   "metadata": {},
   "source": [
    "## Methods\n",
    "\n",
    "You can chain methods that return a `Series`. \n",
    "There are lots of common math and comparison methods."
   ]
  },
  {
   "cell_type": "code",
   "id": "6f834a5d",
   "metadata": {
    "ExecuteTime": {
     "end_time": "2025-06-09T20:49:10.964379Z",
     "start_time": "2025-06-09T20:49:10.960023Z"
    }
   },
   "source": [
    "i = h.mul(10).round(1)\n",
    "i"
   ],
   "outputs": [
    {
     "data": {
      "text/plain": [
       "0   -19.9\n",
       "1    12.2\n",
       "2     0.5\n",
       "3    14.9\n",
       "4     0.3\n",
       "Name: Series 1, dtype: float64"
      ]
     },
     "execution_count": 36,
     "metadata": {},
     "output_type": "execute_result"
    }
   ],
   "execution_count": 36
  },
  {
   "cell_type": "markdown",
   "id": "ce4334a9",
   "metadata": {},
   "source": [
    "You can apply a custom function and do aggregating/grouping."
   ]
  },
  {
   "cell_type": "code",
   "id": "aa4f3b7a",
   "metadata": {
    "ExecuteTime": {
     "end_time": "2025-06-09T20:49:19.507949Z",
     "start_time": "2025-06-09T20:49:19.503363Z"
    }
   },
   "source": [
    "i.apply(lambda x: x ** 2).groupby(i < 0).mean()"
   ],
   "outputs": [
    {
     "data": {
      "text/plain": [
       "Series 1\n",
       "False     92.7975\n",
       "True     396.0100\n",
       "Name: Series 1, dtype: float64"
      ]
     },
     "execution_count": 37,
     "metadata": {},
     "output_type": "execute_result"
    }
   ],
   "execution_count": 37
  },
  {
   "cell_type": "markdown",
   "id": "ee001d50",
   "metadata": {},
   "source": [
    "You can sort by index or values"
   ]
  },
  {
   "cell_type": "code",
   "id": "3d2ffdcc",
   "metadata": {
    "ExecuteTime": {
     "end_time": "2025-06-09T20:49:31.706876Z",
     "start_time": "2025-06-09T20:49:31.703118Z"
    }
   },
   "source": [
    "i = i.sort_values()\n",
    "i"
   ],
   "outputs": [
    {
     "data": {
      "text/plain": [
       "0   -19.9\n",
       "4     0.3\n",
       "2     0.5\n",
       "1    12.2\n",
       "3    14.9\n",
       "Name: Series 1, dtype: float64"
      ]
     },
     "execution_count": 38,
     "metadata": {},
     "output_type": "execute_result"
    }
   ],
   "execution_count": 38
  },
  {
   "cell_type": "code",
   "id": "b3c445e3",
   "metadata": {
    "ExecuteTime": {
     "end_time": "2025-06-09T20:49:36.343206Z",
     "start_time": "2025-06-09T20:49:36.338674Z"
    }
   },
   "source": [
    "i.rank()"
   ],
   "outputs": [
    {
     "data": {
      "text/plain": [
       "0    1.0\n",
       "4    2.0\n",
       "2    3.0\n",
       "1    4.0\n",
       "3    5.0\n",
       "Name: Series 1, dtype: float64"
      ]
     },
     "execution_count": 39,
     "metadata": {},
     "output_type": "execute_result"
    }
   ],
   "execution_count": 39
  },
  {
   "cell_type": "markdown",
   "id": "7c505c31",
   "metadata": {},
   "source": [
    "And there's so much more you can do.\n",
    "\n",
    "## Accessors\n",
    "\n",
    "You can also access a lot of type-specific methods for strings, datetimes and some Pandas-specific dtypes."
   ]
  },
  {
   "cell_type": "code",
   "id": "58a1ca12",
   "metadata": {
    "ExecuteTime": {
     "end_time": "2025-06-09T20:49:47.231497Z",
     "start_time": "2025-06-09T20:49:47.227946Z"
    }
   },
   "source": [
    "j = pd.Series(['Yes', 'no', 'y', '', 'NO'], name='votes')\n",
    "j"
   ],
   "outputs": [
    {
     "data": {
      "text/plain": [
       "0    Yes\n",
       "1     no\n",
       "2      y\n",
       "3       \n",
       "4     NO\n",
       "Name: votes, dtype: object"
      ]
     },
     "execution_count": 40,
     "metadata": {},
     "output_type": "execute_result"
    }
   ],
   "execution_count": 40
  },
  {
   "cell_type": "code",
   "id": "51e4b2fd",
   "metadata": {
    "ExecuteTime": {
     "end_time": "2025-06-09T20:50:17.205013Z",
     "start_time": "2025-06-09T20:50:17.201660Z"
    }
   },
   "source": [
    "j = j.str.upper()\n",
    "j"
   ],
   "outputs": [
    {
     "data": {
      "text/plain": [
       "0    YES\n",
       "1     NO\n",
       "2      Y\n",
       "3       \n",
       "4     NO\n",
       "Name: votes, dtype: object"
      ]
     },
     "execution_count": 41,
     "metadata": {},
     "output_type": "execute_result"
    }
   ],
   "execution_count": 41
  },
  {
   "cell_type": "code",
   "id": "f6da6355",
   "metadata": {
    "ExecuteTime": {
     "end_time": "2025-06-09T20:50:24.563252Z",
     "start_time": "2025-06-09T20:50:24.558286Z"
    }
   },
   "source": [
    "j[j.str.contains('Y')] = 'Yes'\n",
    "j[j.str.contains('N')] = 'No'\n",
    "j"
   ],
   "outputs": [
    {
     "data": {
      "text/plain": [
       "0    Yes\n",
       "1     No\n",
       "2    Yes\n",
       "3       \n",
       "4     No\n",
       "Name: votes, dtype: object"
      ]
     },
     "execution_count": 42,
     "metadata": {},
     "output_type": "execute_result"
    }
   ],
   "execution_count": 42
  },
  {
   "cell_type": "code",
   "id": "303a2105",
   "metadata": {
    "ExecuteTime": {
     "end_time": "2025-06-09T20:50:32.181977Z",
     "start_time": "2025-06-09T20:50:32.177482Z"
    }
   },
   "source": [
    "j[~j.isin(['Yes', 'No'])] = 'Unknown'\n",
    "j"
   ],
   "outputs": [
    {
     "data": {
      "text/plain": [
       "0        Yes\n",
       "1         No\n",
       "2        Yes\n",
       "3    Unknown\n",
       "4         No\n",
       "Name: votes, dtype: object"
      ]
     },
     "execution_count": 43,
     "metadata": {},
     "output_type": "execute_result"
    }
   ],
   "execution_count": 43
  }
 ],
 "metadata": {
  "jupytext": {
   "cell_metadata_filter": "-all",
   "formats": "auto:light,ipynb",
   "main_language": "python",
   "notebook_metadata_filter": "-all"
  },
  "kernelspec": {
   "display_name": "Python 3 (ipykernel)",
   "language": "python",
   "name": "python3"
  },
  "language_info": {
   "codemirror_mode": {
    "name": "ipython",
    "version": 3
   },
   "file_extension": ".py",
   "mimetype": "text/x-python",
   "name": "python",
   "nbconvert_exporter": "python",
   "pygments_lexer": "ipython3",
   "version": "3.11.4"
  }
 },
 "nbformat": 4,
 "nbformat_minor": 5
}
