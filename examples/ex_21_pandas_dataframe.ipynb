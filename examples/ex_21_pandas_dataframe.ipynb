{
 "cells": [
  {
   "cell_type": "markdown",
   "id": "70020a23",
   "metadata": {},
   "source": [
    "# Working with Pandas DataFrames"
   ]
  },
  {
   "cell_type": "code",
   "id": "5d766ab6",
   "metadata": {
    "ExecuteTime": {
     "end_time": "2025-08-15T22:43:21.501445Z",
     "start_time": "2025-08-15T22:43:21.498377Z"
    }
   },
   "source": [
    "import numpy as np\n",
    "import pandas as pd"
   ],
   "outputs": [],
   "execution_count": 119
  },
  {
   "cell_type": "markdown",
   "id": "f655eea1",
   "metadata": {},
   "source": [
    "## Creating DataFrames\n",
    "\n",
    "Can be created from:\n",
    "- Dict of 1D ndarrays, lists, tuples, dicts, or Series\n",
    "- List of dicts\n",
    "- 2-D ndarray\n",
    "- [Structured or record](https://numpy.org/doc/stable/user/basics.rec.html) ndarray\n",
    "- A Series\n",
    "- Another DataFrame\n",
    "- CSV, Excel, SQL or JSON file\n",
    "- A list of namedtuples\n",
    "- A list of dataclasses (v1.1.0+)"
   ]
  },
  {
   "cell_type": "code",
   "id": "c7a7c62d",
   "metadata": {
    "ExecuteTime": {
     "end_time": "2025-08-15T22:43:21.525016Z",
     "start_time": "2025-08-15T22:43:21.520849Z"
    }
   },
   "source": [
    "dict_of_lists = {\"A\": [1.0, 2.0, 3.0, 4.0], \"B\": [4.0, 3.0, 2.0, 1.0]}\n",
    "pd.DataFrame(dict_of_lists)"
   ],
   "outputs": [
    {
     "data": {
      "text/plain": [
       "     A    B\n",
       "0  1.0  4.0\n",
       "1  2.0  3.0\n",
       "2  3.0  2.0\n",
       "3  4.0  1.0"
      ],
      "text/html": [
       "<div>\n",
       "<style scoped>\n",
       "    .dataframe tbody tr th:only-of-type {\n",
       "        vertical-align: middle;\n",
       "    }\n",
       "\n",
       "    .dataframe tbody tr th {\n",
       "        vertical-align: top;\n",
       "    }\n",
       "\n",
       "    .dataframe thead th {\n",
       "        text-align: right;\n",
       "    }\n",
       "</style>\n",
       "<table border=\"1\" class=\"dataframe\">\n",
       "  <thead>\n",
       "    <tr style=\"text-align: right;\">\n",
       "      <th></th>\n",
       "      <th>A</th>\n",
       "      <th>B</th>\n",
       "    </tr>\n",
       "  </thead>\n",
       "  <tbody>\n",
       "    <tr>\n",
       "      <th>0</th>\n",
       "      <td>1.0</td>\n",
       "      <td>4.0</td>\n",
       "    </tr>\n",
       "    <tr>\n",
       "      <th>1</th>\n",
       "      <td>2.0</td>\n",
       "      <td>3.0</td>\n",
       "    </tr>\n",
       "    <tr>\n",
       "      <th>2</th>\n",
       "      <td>3.0</td>\n",
       "      <td>2.0</td>\n",
       "    </tr>\n",
       "    <tr>\n",
       "      <th>3</th>\n",
       "      <td>4.0</td>\n",
       "      <td>1.0</td>\n",
       "    </tr>\n",
       "  </tbody>\n",
       "</table>\n",
       "</div>"
      ]
     },
     "execution_count": 120,
     "metadata": {},
     "output_type": "execute_result"
    }
   ],
   "execution_count": 120
  },
  {
   "cell_type": "code",
   "id": "7cc09351",
   "metadata": {
    "ExecuteTime": {
     "end_time": "2025-08-15T22:43:21.563075Z",
     "start_time": "2025-08-15T22:43:21.559958Z"
    }
   },
   "source": [
    "dict_of_dicts = {\"C\": {100: 1, 101: 2, 102: 3}, \"D\": {100: 'abc', 101: 'def', 102: 'ghi'}}\n",
    "pd.DataFrame(dict_of_dicts)"
   ],
   "outputs": [
    {
     "data": {
      "text/plain": [
       "     C    D\n",
       "100  1  abc\n",
       "101  2  def\n",
       "102  3  ghi"
      ],
      "text/html": [
       "<div>\n",
       "<style scoped>\n",
       "    .dataframe tbody tr th:only-of-type {\n",
       "        vertical-align: middle;\n",
       "    }\n",
       "\n",
       "    .dataframe tbody tr th {\n",
       "        vertical-align: top;\n",
       "    }\n",
       "\n",
       "    .dataframe thead th {\n",
       "        text-align: right;\n",
       "    }\n",
       "</style>\n",
       "<table border=\"1\" class=\"dataframe\">\n",
       "  <thead>\n",
       "    <tr style=\"text-align: right;\">\n",
       "      <th></th>\n",
       "      <th>C</th>\n",
       "      <th>D</th>\n",
       "    </tr>\n",
       "  </thead>\n",
       "  <tbody>\n",
       "    <tr>\n",
       "      <th>100</th>\n",
       "      <td>1</td>\n",
       "      <td>abc</td>\n",
       "    </tr>\n",
       "    <tr>\n",
       "      <th>101</th>\n",
       "      <td>2</td>\n",
       "      <td>def</td>\n",
       "    </tr>\n",
       "    <tr>\n",
       "      <th>102</th>\n",
       "      <td>3</td>\n",
       "      <td>ghi</td>\n",
       "    </tr>\n",
       "  </tbody>\n",
       "</table>\n",
       "</div>"
      ]
     },
     "execution_count": 121,
     "metadata": {},
     "output_type": "execute_result"
    }
   ],
   "execution_count": 121
  },
  {
   "cell_type": "code",
   "id": "4a6b103d",
   "metadata": {
    "ExecuteTime": {
     "end_time": "2025-08-15T22:43:21.641517Z",
     "start_time": "2025-08-15T22:43:21.637374Z"
    }
   },
   "source": [
    "df = pd.read_csv('languages.csv')  # Subset of data from the 2022 Stack Overflow Developer Survey\n",
    "df"
   ],
   "outputs": [
    {
     "data": {
      "text/plain": [
       "         Name  Percent used\n",
       "0  JavaScript         65.36\n",
       "1    HTML/CSS         55.08\n",
       "2         SQL         49.43\n",
       "3      Python         48.07"
      ],
      "text/html": [
       "<div>\n",
       "<style scoped>\n",
       "    .dataframe tbody tr th:only-of-type {\n",
       "        vertical-align: middle;\n",
       "    }\n",
       "\n",
       "    .dataframe tbody tr th {\n",
       "        vertical-align: top;\n",
       "    }\n",
       "\n",
       "    .dataframe thead th {\n",
       "        text-align: right;\n",
       "    }\n",
       "</style>\n",
       "<table border=\"1\" class=\"dataframe\">\n",
       "  <thead>\n",
       "    <tr style=\"text-align: right;\">\n",
       "      <th></th>\n",
       "      <th>Name</th>\n",
       "      <th>Percent used</th>\n",
       "    </tr>\n",
       "  </thead>\n",
       "  <tbody>\n",
       "    <tr>\n",
       "      <th>0</th>\n",
       "      <td>JavaScript</td>\n",
       "      <td>65.36</td>\n",
       "    </tr>\n",
       "    <tr>\n",
       "      <th>1</th>\n",
       "      <td>HTML/CSS</td>\n",
       "      <td>55.08</td>\n",
       "    </tr>\n",
       "    <tr>\n",
       "      <th>2</th>\n",
       "      <td>SQL</td>\n",
       "      <td>49.43</td>\n",
       "    </tr>\n",
       "    <tr>\n",
       "      <th>3</th>\n",
       "      <td>Python</td>\n",
       "      <td>48.07</td>\n",
       "    </tr>\n",
       "  </tbody>\n",
       "</table>\n",
       "</div>"
      ]
     },
     "execution_count": 122,
     "metadata": {},
     "output_type": "execute_result"
    }
   ],
   "execution_count": 122
  },
  {
   "cell_type": "markdown",
   "id": "f8b4b397",
   "metadata": {},
   "source": [
    "## Index and columns"
   ]
  },
  {
   "cell_type": "code",
   "id": "e099137a",
   "metadata": {
    "ExecuteTime": {
     "end_time": "2025-08-15T22:43:21.678419Z",
     "start_time": "2025-08-15T22:43:21.676472Z"
    }
   },
   "source": [
    "df.index"
   ],
   "outputs": [
    {
     "data": {
      "text/plain": [
       "RangeIndex(start=0, stop=4, step=1)"
      ]
     },
     "execution_count": 123,
     "metadata": {},
     "output_type": "execute_result"
    }
   ],
   "execution_count": 123
  },
  {
   "cell_type": "code",
   "id": "f05ab203",
   "metadata": {
    "ExecuteTime": {
     "end_time": "2025-08-15T22:43:21.713246Z",
     "start_time": "2025-08-15T22:43:21.711039Z"
    }
   },
   "source": [
    "df.columns"
   ],
   "outputs": [
    {
     "data": {
      "text/plain": [
       "Index(['Name', 'Percent used'], dtype='object')"
      ]
     },
     "execution_count": 124,
     "metadata": {},
     "output_type": "execute_result"
    }
   ],
   "execution_count": 124
  },
  {
   "cell_type": "code",
   "id": "fe399584",
   "metadata": {
    "ExecuteTime": {
     "end_time": "2025-08-15T22:43:21.730274Z",
     "start_time": "2025-08-15T22:43:21.727221Z"
    }
   },
   "source": [
    "df.index += 100  # Update index\n",
    "df"
   ],
   "outputs": [
    {
     "data": {
      "text/plain": [
       "           Name  Percent used\n",
       "100  JavaScript         65.36\n",
       "101    HTML/CSS         55.08\n",
       "102         SQL         49.43\n",
       "103      Python         48.07"
      ],
      "text/html": [
       "<div>\n",
       "<style scoped>\n",
       "    .dataframe tbody tr th:only-of-type {\n",
       "        vertical-align: middle;\n",
       "    }\n",
       "\n",
       "    .dataframe tbody tr th {\n",
       "        vertical-align: top;\n",
       "    }\n",
       "\n",
       "    .dataframe thead th {\n",
       "        text-align: right;\n",
       "    }\n",
       "</style>\n",
       "<table border=\"1\" class=\"dataframe\">\n",
       "  <thead>\n",
       "    <tr style=\"text-align: right;\">\n",
       "      <th></th>\n",
       "      <th>Name</th>\n",
       "      <th>Percent used</th>\n",
       "    </tr>\n",
       "  </thead>\n",
       "  <tbody>\n",
       "    <tr>\n",
       "      <th>100</th>\n",
       "      <td>JavaScript</td>\n",
       "      <td>65.36</td>\n",
       "    </tr>\n",
       "    <tr>\n",
       "      <th>101</th>\n",
       "      <td>HTML/CSS</td>\n",
       "      <td>55.08</td>\n",
       "    </tr>\n",
       "    <tr>\n",
       "      <th>102</th>\n",
       "      <td>SQL</td>\n",
       "      <td>49.43</td>\n",
       "    </tr>\n",
       "    <tr>\n",
       "      <th>103</th>\n",
       "      <td>Python</td>\n",
       "      <td>48.07</td>\n",
       "    </tr>\n",
       "  </tbody>\n",
       "</table>\n",
       "</div>"
      ]
     },
     "execution_count": 125,
     "metadata": {},
     "output_type": "execute_result"
    }
   ],
   "execution_count": 125
  },
  {
   "cell_type": "markdown",
   "id": "76a4f3bc",
   "metadata": {},
   "source": [
    "## Working with columns\n",
    "\n",
    "A `DataFrame` is like a `dict` that contains `Series` objects with the same index.\n",
    "\n",
    "We can can get, set and delete columns as if they were in a `dict`."
   ]
  },
  {
   "cell_type": "code",
   "id": "42d8391c",
   "metadata": {
    "ExecuteTime": {
     "end_time": "2025-08-15T22:43:21.768518Z",
     "start_time": "2025-08-15T22:43:21.766238Z"
    }
   },
   "source": [
    "df['Name']  # Getting a column"
   ],
   "outputs": [
    {
     "data": {
      "text/plain": [
       "100    JavaScript\n",
       "101      HTML/CSS\n",
       "102           SQL\n",
       "103        Python\n",
       "Name: Name, dtype: object"
      ]
     },
     "execution_count": 126,
     "metadata": {},
     "output_type": "execute_result"
    }
   ],
   "execution_count": 126
  },
  {
   "cell_type": "markdown",
   "id": "96dafb9e",
   "metadata": {},
   "source": [
    "For column names that are valid Python variables names, you can access them like attributes"
   ]
  },
  {
   "cell_type": "code",
   "id": "dfdac8c9",
   "metadata": {
    "ExecuteTime": {
     "end_time": "2025-08-15T22:43:21.852509Z",
     "start_time": "2025-08-15T22:43:21.850206Z"
    }
   },
   "source": [
    "df.Name  # Get column as attribute"
   ],
   "outputs": [
    {
     "data": {
      "text/plain": [
       "100    JavaScript\n",
       "101      HTML/CSS\n",
       "102           SQL\n",
       "103        Python\n",
       "Name: Name, dtype: object"
      ]
     },
     "execution_count": 127,
     "metadata": {},
     "output_type": "execute_result"
    }
   ],
   "execution_count": 127
  },
  {
   "cell_type": "code",
   "id": "8630c559",
   "metadata": {
    "ExecuteTime": {
     "end_time": "2025-08-15T22:43:21.897854Z",
     "start_time": "2025-08-15T22:43:21.893621Z"
    }
   },
   "source": [
    "df['Percent not used'] = 100 - df['Percent used']  # Add a new column\n",
    "df"
   ],
   "outputs": [
    {
     "data": {
      "text/plain": [
       "           Name  Percent used  Percent not used\n",
       "100  JavaScript         65.36             34.64\n",
       "101    HTML/CSS         55.08             44.92\n",
       "102         SQL         49.43             50.57\n",
       "103      Python         48.07             51.93"
      ],
      "text/html": [
       "<div>\n",
       "<style scoped>\n",
       "    .dataframe tbody tr th:only-of-type {\n",
       "        vertical-align: middle;\n",
       "    }\n",
       "\n",
       "    .dataframe tbody tr th {\n",
       "        vertical-align: top;\n",
       "    }\n",
       "\n",
       "    .dataframe thead th {\n",
       "        text-align: right;\n",
       "    }\n",
       "</style>\n",
       "<table border=\"1\" class=\"dataframe\">\n",
       "  <thead>\n",
       "    <tr style=\"text-align: right;\">\n",
       "      <th></th>\n",
       "      <th>Name</th>\n",
       "      <th>Percent used</th>\n",
       "      <th>Percent not used</th>\n",
       "    </tr>\n",
       "  </thead>\n",
       "  <tbody>\n",
       "    <tr>\n",
       "      <th>100</th>\n",
       "      <td>JavaScript</td>\n",
       "      <td>65.36</td>\n",
       "      <td>34.64</td>\n",
       "    </tr>\n",
       "    <tr>\n",
       "      <th>101</th>\n",
       "      <td>HTML/CSS</td>\n",
       "      <td>55.08</td>\n",
       "      <td>44.92</td>\n",
       "    </tr>\n",
       "    <tr>\n",
       "      <th>102</th>\n",
       "      <td>SQL</td>\n",
       "      <td>49.43</td>\n",
       "      <td>50.57</td>\n",
       "    </tr>\n",
       "    <tr>\n",
       "      <th>103</th>\n",
       "      <td>Python</td>\n",
       "      <td>48.07</td>\n",
       "      <td>51.93</td>\n",
       "    </tr>\n",
       "  </tbody>\n",
       "</table>\n",
       "</div>"
      ]
     },
     "execution_count": 128,
     "metadata": {},
     "output_type": "execute_result"
    }
   ],
   "execution_count": 128
  },
  {
   "cell_type": "markdown",
   "id": "63cd9342",
   "metadata": {},
   "source": [
    "## Getting rows\n",
    "\n",
    "Returns a `Series`"
   ]
  },
  {
   "cell_type": "code",
   "id": "e3e4ac9c",
   "metadata": {
    "ExecuteTime": {
     "end_time": "2025-08-15T22:43:21.975579Z",
     "start_time": "2025-08-15T22:43:21.973011Z"
    }
   },
   "source": [
    "df.loc[100]  # By label"
   ],
   "outputs": [
    {
     "data": {
      "text/plain": [
       "Name                JavaScript\n",
       "Percent used             65.36\n",
       "Percent not used         34.64\n",
       "Name: 100, dtype: object"
      ]
     },
     "execution_count": 129,
     "metadata": {},
     "output_type": "execute_result"
    }
   ],
   "execution_count": 129
  },
  {
   "cell_type": "code",
   "id": "778ab17d",
   "metadata": {
    "ExecuteTime": {
     "end_time": "2025-08-15T22:43:22.018175Z",
     "start_time": "2025-08-15T22:43:22.015678Z"
    }
   },
   "source": [
    "df.iloc[2]  # By position"
   ],
   "outputs": [
    {
     "data": {
      "text/plain": [
       "Name                  SQL\n",
       "Percent used        49.43\n",
       "Percent not used    50.57\n",
       "Name: 102, dtype: object"
      ]
     },
     "execution_count": 130,
     "metadata": {},
     "output_type": "execute_result"
    }
   ],
   "execution_count": 130
  },
  {
   "cell_type": "markdown",
   "id": "f6f78edf",
   "metadata": {},
   "source": [
    "## Getting data (indexing)\n",
    "\n",
    "Returns data in a cell"
   ]
  },
  {
   "cell_type": "code",
   "id": "31071c28",
   "metadata": {
    "ExecuteTime": {
     "end_time": "2025-08-15T22:43:22.100564Z",
     "start_time": "2025-08-15T22:43:22.098421Z"
    }
   },
   "source": [
    "df.loc[102, 'Name']  # By label"
   ],
   "outputs": [
    {
     "data": {
      "text/plain": [
       "'SQL'"
      ]
     },
     "execution_count": 131,
     "metadata": {},
     "output_type": "execute_result"
    }
   ],
   "execution_count": 131
  },
  {
   "cell_type": "code",
   "id": "cd0cb0db",
   "metadata": {
    "ExecuteTime": {
     "end_time": "2025-08-15T22:43:22.126550Z",
     "start_time": "2025-08-15T22:43:22.123907Z"
    }
   },
   "source": [
    "df.iloc[3, 2]  # By position"
   ],
   "outputs": [
    {
     "data": {
      "text/plain": [
       "np.float64(51.93)"
      ]
     },
     "execution_count": 132,
     "metadata": {},
     "output_type": "execute_result"
    }
   ],
   "execution_count": 132
  },
  {
   "cell_type": "markdown",
   "id": "defd66c4",
   "metadata": {},
   "source": [
    "## Slicing\n",
    "\n",
    "Returns a `DataFrame`"
   ]
  },
  {
   "cell_type": "code",
   "id": "e9e88a24",
   "metadata": {
    "ExecuteTime": {
     "end_time": "2025-08-15T22:43:22.162523Z",
     "start_time": "2025-08-15T22:43:22.159231Z"
    }
   },
   "source": [
    "df.iloc[:3, :2]"
   ],
   "outputs": [
    {
     "data": {
      "text/plain": [
       "           Name  Percent used\n",
       "100  JavaScript         65.36\n",
       "101    HTML/CSS         55.08\n",
       "102         SQL         49.43"
      ],
      "text/html": [
       "<div>\n",
       "<style scoped>\n",
       "    .dataframe tbody tr th:only-of-type {\n",
       "        vertical-align: middle;\n",
       "    }\n",
       "\n",
       "    .dataframe tbody tr th {\n",
       "        vertical-align: top;\n",
       "    }\n",
       "\n",
       "    .dataframe thead th {\n",
       "        text-align: right;\n",
       "    }\n",
       "</style>\n",
       "<table border=\"1\" class=\"dataframe\">\n",
       "  <thead>\n",
       "    <tr style=\"text-align: right;\">\n",
       "      <th></th>\n",
       "      <th>Name</th>\n",
       "      <th>Percent used</th>\n",
       "    </tr>\n",
       "  </thead>\n",
       "  <tbody>\n",
       "    <tr>\n",
       "      <th>100</th>\n",
       "      <td>JavaScript</td>\n",
       "      <td>65.36</td>\n",
       "    </tr>\n",
       "    <tr>\n",
       "      <th>101</th>\n",
       "      <td>HTML/CSS</td>\n",
       "      <td>55.08</td>\n",
       "    </tr>\n",
       "    <tr>\n",
       "      <th>102</th>\n",
       "      <td>SQL</td>\n",
       "      <td>49.43</td>\n",
       "    </tr>\n",
       "  </tbody>\n",
       "</table>\n",
       "</div>"
      ]
     },
     "execution_count": 133,
     "metadata": {},
     "output_type": "execute_result"
    }
   ],
   "execution_count": 133
  },
  {
   "cell_type": "code",
   "id": "bb155242",
   "metadata": {
    "ExecuteTime": {
     "end_time": "2025-08-15T22:43:22.197323Z",
     "start_time": "2025-08-15T22:43:22.194245Z"
    }
   },
   "source": [
    "df.iloc[:, [0]]  # Note: without [0] in brackets, it would return a Series"
   ],
   "outputs": [
    {
     "data": {
      "text/plain": [
       "           Name\n",
       "100  JavaScript\n",
       "101    HTML/CSS\n",
       "102         SQL\n",
       "103      Python"
      ],
      "text/html": [
       "<div>\n",
       "<style scoped>\n",
       "    .dataframe tbody tr th:only-of-type {\n",
       "        vertical-align: middle;\n",
       "    }\n",
       "\n",
       "    .dataframe tbody tr th {\n",
       "        vertical-align: top;\n",
       "    }\n",
       "\n",
       "    .dataframe thead th {\n",
       "        text-align: right;\n",
       "    }\n",
       "</style>\n",
       "<table border=\"1\" class=\"dataframe\">\n",
       "  <thead>\n",
       "    <tr style=\"text-align: right;\">\n",
       "      <th></th>\n",
       "      <th>Name</th>\n",
       "    </tr>\n",
       "  </thead>\n",
       "  <tbody>\n",
       "    <tr>\n",
       "      <th>100</th>\n",
       "      <td>JavaScript</td>\n",
       "    </tr>\n",
       "    <tr>\n",
       "      <th>101</th>\n",
       "      <td>HTML/CSS</td>\n",
       "    </tr>\n",
       "    <tr>\n",
       "      <th>102</th>\n",
       "      <td>SQL</td>\n",
       "    </tr>\n",
       "    <tr>\n",
       "      <th>103</th>\n",
       "      <td>Python</td>\n",
       "    </tr>\n",
       "  </tbody>\n",
       "</table>\n",
       "</div>"
      ]
     },
     "execution_count": 134,
     "metadata": {},
     "output_type": "execute_result"
    }
   ],
   "execution_count": 134
  },
  {
   "cell_type": "code",
   "id": "f9b2656b",
   "metadata": {
    "ExecuteTime": {
     "end_time": "2025-08-15T22:43:22.271800Z",
     "start_time": "2025-08-15T22:43:22.267525Z"
    }
   },
   "source": [
    "df.loc[101:102]  # Note: with loc, end is inclusive"
   ],
   "outputs": [
    {
     "data": {
      "text/plain": [
       "         Name  Percent used  Percent not used\n",
       "101  HTML/CSS         55.08             44.92\n",
       "102       SQL         49.43             50.57"
      ],
      "text/html": [
       "<div>\n",
       "<style scoped>\n",
       "    .dataframe tbody tr th:only-of-type {\n",
       "        vertical-align: middle;\n",
       "    }\n",
       "\n",
       "    .dataframe tbody tr th {\n",
       "        vertical-align: top;\n",
       "    }\n",
       "\n",
       "    .dataframe thead th {\n",
       "        text-align: right;\n",
       "    }\n",
       "</style>\n",
       "<table border=\"1\" class=\"dataframe\">\n",
       "  <thead>\n",
       "    <tr style=\"text-align: right;\">\n",
       "      <th></th>\n",
       "      <th>Name</th>\n",
       "      <th>Percent used</th>\n",
       "      <th>Percent not used</th>\n",
       "    </tr>\n",
       "  </thead>\n",
       "  <tbody>\n",
       "    <tr>\n",
       "      <th>101</th>\n",
       "      <td>HTML/CSS</td>\n",
       "      <td>55.08</td>\n",
       "      <td>44.92</td>\n",
       "    </tr>\n",
       "    <tr>\n",
       "      <th>102</th>\n",
       "      <td>SQL</td>\n",
       "      <td>49.43</td>\n",
       "      <td>50.57</td>\n",
       "    </tr>\n",
       "  </tbody>\n",
       "</table>\n",
       "</div>"
      ]
     },
     "execution_count": 135,
     "metadata": {},
     "output_type": "execute_result"
    }
   ],
   "execution_count": 135
  },
  {
   "cell_type": "code",
   "id": "e06c123a",
   "metadata": {
    "ExecuteTime": {
     "end_time": "2025-08-15T22:43:22.364078Z",
     "start_time": "2025-08-15T22:43:22.360111Z"
    }
   },
   "source": [
    "df.loc[[101, 103]]"
   ],
   "outputs": [
    {
     "data": {
      "text/plain": [
       "         Name  Percent used  Percent not used\n",
       "101  HTML/CSS         55.08             44.92\n",
       "103    Python         48.07             51.93"
      ],
      "text/html": [
       "<div>\n",
       "<style scoped>\n",
       "    .dataframe tbody tr th:only-of-type {\n",
       "        vertical-align: middle;\n",
       "    }\n",
       "\n",
       "    .dataframe tbody tr th {\n",
       "        vertical-align: top;\n",
       "    }\n",
       "\n",
       "    .dataframe thead th {\n",
       "        text-align: right;\n",
       "    }\n",
       "</style>\n",
       "<table border=\"1\" class=\"dataframe\">\n",
       "  <thead>\n",
       "    <tr style=\"text-align: right;\">\n",
       "      <th></th>\n",
       "      <th>Name</th>\n",
       "      <th>Percent used</th>\n",
       "      <th>Percent not used</th>\n",
       "    </tr>\n",
       "  </thead>\n",
       "  <tbody>\n",
       "    <tr>\n",
       "      <th>101</th>\n",
       "      <td>HTML/CSS</td>\n",
       "      <td>55.08</td>\n",
       "      <td>44.92</td>\n",
       "    </tr>\n",
       "    <tr>\n",
       "      <th>103</th>\n",
       "      <td>Python</td>\n",
       "      <td>48.07</td>\n",
       "      <td>51.93</td>\n",
       "    </tr>\n",
       "  </tbody>\n",
       "</table>\n",
       "</div>"
      ]
     },
     "execution_count": 136,
     "metadata": {},
     "output_type": "execute_result"
    }
   ],
   "execution_count": 136
  },
  {
   "cell_type": "code",
   "id": "115a0683",
   "metadata": {
    "ExecuteTime": {
     "end_time": "2025-08-15T22:43:22.405933Z",
     "start_time": "2025-08-15T22:43:22.402868Z"
    }
   },
   "source": [
    "df.loc[:, ['Name', 'Percent not used']]"
   ],
   "outputs": [
    {
     "data": {
      "text/plain": [
       "           Name  Percent not used\n",
       "100  JavaScript             34.64\n",
       "101    HTML/CSS             44.92\n",
       "102         SQL             50.57\n",
       "103      Python             51.93"
      ],
      "text/html": [
       "<div>\n",
       "<style scoped>\n",
       "    .dataframe tbody tr th:only-of-type {\n",
       "        vertical-align: middle;\n",
       "    }\n",
       "\n",
       "    .dataframe tbody tr th {\n",
       "        vertical-align: top;\n",
       "    }\n",
       "\n",
       "    .dataframe thead th {\n",
       "        text-align: right;\n",
       "    }\n",
       "</style>\n",
       "<table border=\"1\" class=\"dataframe\">\n",
       "  <thead>\n",
       "    <tr style=\"text-align: right;\">\n",
       "      <th></th>\n",
       "      <th>Name</th>\n",
       "      <th>Percent not used</th>\n",
       "    </tr>\n",
       "  </thead>\n",
       "  <tbody>\n",
       "    <tr>\n",
       "      <th>100</th>\n",
       "      <td>JavaScript</td>\n",
       "      <td>34.64</td>\n",
       "    </tr>\n",
       "    <tr>\n",
       "      <th>101</th>\n",
       "      <td>HTML/CSS</td>\n",
       "      <td>44.92</td>\n",
       "    </tr>\n",
       "    <tr>\n",
       "      <th>102</th>\n",
       "      <td>SQL</td>\n",
       "      <td>50.57</td>\n",
       "    </tr>\n",
       "    <tr>\n",
       "      <th>103</th>\n",
       "      <td>Python</td>\n",
       "      <td>51.93</td>\n",
       "    </tr>\n",
       "  </tbody>\n",
       "</table>\n",
       "</div>"
      ]
     },
     "execution_count": 137,
     "metadata": {},
     "output_type": "execute_result"
    }
   ],
   "execution_count": 137
  },
  {
   "cell_type": "markdown",
   "id": "198257b6",
   "metadata": {},
   "source": [
    "### Boolean indexing"
   ]
  },
  {
   "cell_type": "code",
   "id": "69a40f6c",
   "metadata": {
    "ExecuteTime": {
     "end_time": "2025-08-15T22:43:22.473277Z",
     "start_time": "2025-08-15T22:43:22.470883Z"
    }
   },
   "source": [
    "df['Percent used'] > 50"
   ],
   "outputs": [
    {
     "data": {
      "text/plain": [
       "100     True\n",
       "101     True\n",
       "102    False\n",
       "103    False\n",
       "Name: Percent used, dtype: bool"
      ]
     },
     "execution_count": 138,
     "metadata": {},
     "output_type": "execute_result"
    }
   ],
   "execution_count": 138
  },
  {
   "cell_type": "code",
   "id": "02bd9c7c",
   "metadata": {
    "ExecuteTime": {
     "end_time": "2025-08-15T22:43:22.515516Z",
     "start_time": "2025-08-15T22:43:22.512393Z"
    }
   },
   "source": [
    "df[df['Percent used'] > 50]"
   ],
   "outputs": [
    {
     "data": {
      "text/plain": [
       "           Name  Percent used  Percent not used\n",
       "100  JavaScript         65.36             34.64\n",
       "101    HTML/CSS         55.08             44.92"
      ],
      "text/html": [
       "<div>\n",
       "<style scoped>\n",
       "    .dataframe tbody tr th:only-of-type {\n",
       "        vertical-align: middle;\n",
       "    }\n",
       "\n",
       "    .dataframe tbody tr th {\n",
       "        vertical-align: top;\n",
       "    }\n",
       "\n",
       "    .dataframe thead th {\n",
       "        text-align: right;\n",
       "    }\n",
       "</style>\n",
       "<table border=\"1\" class=\"dataframe\">\n",
       "  <thead>\n",
       "    <tr style=\"text-align: right;\">\n",
       "      <th></th>\n",
       "      <th>Name</th>\n",
       "      <th>Percent used</th>\n",
       "      <th>Percent not used</th>\n",
       "    </tr>\n",
       "  </thead>\n",
       "  <tbody>\n",
       "    <tr>\n",
       "      <th>100</th>\n",
       "      <td>JavaScript</td>\n",
       "      <td>65.36</td>\n",
       "      <td>34.64</td>\n",
       "    </tr>\n",
       "    <tr>\n",
       "      <th>101</th>\n",
       "      <td>HTML/CSS</td>\n",
       "      <td>55.08</td>\n",
       "      <td>44.92</td>\n",
       "    </tr>\n",
       "  </tbody>\n",
       "</table>\n",
       "</div>"
      ]
     },
     "execution_count": 139,
     "metadata": {},
     "output_type": "execute_result"
    }
   ],
   "execution_count": 139
  },
  {
   "cell_type": "code",
   "id": "210f8714",
   "metadata": {
    "ExecuteTime": {
     "end_time": "2025-08-15T22:43:22.586046Z",
     "start_time": "2025-08-15T22:43:22.582274Z"
    }
   },
   "source": [
    "df.iloc[1, 1] = np.nan\n",
    "df"
   ],
   "outputs": [
    {
     "data": {
      "text/plain": [
       "           Name  Percent used  Percent not used\n",
       "100  JavaScript         65.36             34.64\n",
       "101    HTML/CSS           NaN             44.92\n",
       "102         SQL         49.43             50.57\n",
       "103      Python         48.07             51.93"
      ],
      "text/html": [
       "<div>\n",
       "<style scoped>\n",
       "    .dataframe tbody tr th:only-of-type {\n",
       "        vertical-align: middle;\n",
       "    }\n",
       "\n",
       "    .dataframe tbody tr th {\n",
       "        vertical-align: top;\n",
       "    }\n",
       "\n",
       "    .dataframe thead th {\n",
       "        text-align: right;\n",
       "    }\n",
       "</style>\n",
       "<table border=\"1\" class=\"dataframe\">\n",
       "  <thead>\n",
       "    <tr style=\"text-align: right;\">\n",
       "      <th></th>\n",
       "      <th>Name</th>\n",
       "      <th>Percent used</th>\n",
       "      <th>Percent not used</th>\n",
       "    </tr>\n",
       "  </thead>\n",
       "  <tbody>\n",
       "    <tr>\n",
       "      <th>100</th>\n",
       "      <td>JavaScript</td>\n",
       "      <td>65.36</td>\n",
       "      <td>34.64</td>\n",
       "    </tr>\n",
       "    <tr>\n",
       "      <th>101</th>\n",
       "      <td>HTML/CSS</td>\n",
       "      <td>NaN</td>\n",
       "      <td>44.92</td>\n",
       "    </tr>\n",
       "    <tr>\n",
       "      <th>102</th>\n",
       "      <td>SQL</td>\n",
       "      <td>49.43</td>\n",
       "      <td>50.57</td>\n",
       "    </tr>\n",
       "    <tr>\n",
       "      <th>103</th>\n",
       "      <td>Python</td>\n",
       "      <td>48.07</td>\n",
       "      <td>51.93</td>\n",
       "    </tr>\n",
       "  </tbody>\n",
       "</table>\n",
       "</div>"
      ]
     },
     "execution_count": 140,
     "metadata": {},
     "output_type": "execute_result"
    }
   ],
   "execution_count": 140
  },
  {
   "metadata": {
    "ExecuteTime": {
     "end_time": "2025-08-15T22:43:22.641028Z",
     "start_time": "2025-08-15T22:43:22.637306Z"
    }
   },
   "cell_type": "code",
   "source": [
    "df = df.fillna({'Percent used': 90})\n",
    "df"
   ],
   "id": "aaf40d0b65f03a0a",
   "outputs": [
    {
     "data": {
      "text/plain": [
       "           Name  Percent used  Percent not used\n",
       "100  JavaScript         65.36             34.64\n",
       "101    HTML/CSS         90.00             44.92\n",
       "102         SQL         49.43             50.57\n",
       "103      Python         48.07             51.93"
      ],
      "text/html": [
       "<div>\n",
       "<style scoped>\n",
       "    .dataframe tbody tr th:only-of-type {\n",
       "        vertical-align: middle;\n",
       "    }\n",
       "\n",
       "    .dataframe tbody tr th {\n",
       "        vertical-align: top;\n",
       "    }\n",
       "\n",
       "    .dataframe thead th {\n",
       "        text-align: right;\n",
       "    }\n",
       "</style>\n",
       "<table border=\"1\" class=\"dataframe\">\n",
       "  <thead>\n",
       "    <tr style=\"text-align: right;\">\n",
       "      <th></th>\n",
       "      <th>Name</th>\n",
       "      <th>Percent used</th>\n",
       "      <th>Percent not used</th>\n",
       "    </tr>\n",
       "  </thead>\n",
       "  <tbody>\n",
       "    <tr>\n",
       "      <th>100</th>\n",
       "      <td>JavaScript</td>\n",
       "      <td>65.36</td>\n",
       "      <td>34.64</td>\n",
       "    </tr>\n",
       "    <tr>\n",
       "      <th>101</th>\n",
       "      <td>HTML/CSS</td>\n",
       "      <td>90.00</td>\n",
       "      <td>44.92</td>\n",
       "    </tr>\n",
       "    <tr>\n",
       "      <th>102</th>\n",
       "      <td>SQL</td>\n",
       "      <td>49.43</td>\n",
       "      <td>50.57</td>\n",
       "    </tr>\n",
       "    <tr>\n",
       "      <th>103</th>\n",
       "      <td>Python</td>\n",
       "      <td>48.07</td>\n",
       "      <td>51.93</td>\n",
       "    </tr>\n",
       "  </tbody>\n",
       "</table>\n",
       "</div>"
      ]
     },
     "execution_count": 141,
     "metadata": {},
     "output_type": "execute_result"
    }
   ],
   "execution_count": 141
  },
  {
   "cell_type": "markdown",
   "id": "28df4eb6",
   "metadata": {},
   "source": [
    "## Plotting\n",
    "\n",
    "### Example 1 - simple bar chart\n",
    "\n",
    "Let's create a bar chart mapping Percent used (y) to Name (x)\n",
    "\n",
    "#### Create a custom view of the data\n",
    "\n",
    "Index is x-axis and column is y-axis."
   ]
  },
  {
   "cell_type": "code",
   "id": "d6e05e3c",
   "metadata": {
    "ExecuteTime": {
     "end_time": "2025-08-15T22:43:22.733021Z",
     "start_time": "2025-08-15T22:43:22.729712Z"
    }
   },
   "source": [
    "df2 = df.iloc[:, :2]\n",
    "df2"
   ],
   "outputs": [
    {
     "data": {
      "text/plain": [
       "           Name  Percent used\n",
       "100  JavaScript         65.36\n",
       "101    HTML/CSS         90.00\n",
       "102         SQL         49.43\n",
       "103      Python         48.07"
      ],
      "text/html": [
       "<div>\n",
       "<style scoped>\n",
       "    .dataframe tbody tr th:only-of-type {\n",
       "        vertical-align: middle;\n",
       "    }\n",
       "\n",
       "    .dataframe tbody tr th {\n",
       "        vertical-align: top;\n",
       "    }\n",
       "\n",
       "    .dataframe thead th {\n",
       "        text-align: right;\n",
       "    }\n",
       "</style>\n",
       "<table border=\"1\" class=\"dataframe\">\n",
       "  <thead>\n",
       "    <tr style=\"text-align: right;\">\n",
       "      <th></th>\n",
       "      <th>Name</th>\n",
       "      <th>Percent used</th>\n",
       "    </tr>\n",
       "  </thead>\n",
       "  <tbody>\n",
       "    <tr>\n",
       "      <th>100</th>\n",
       "      <td>JavaScript</td>\n",
       "      <td>65.36</td>\n",
       "    </tr>\n",
       "    <tr>\n",
       "      <th>101</th>\n",
       "      <td>HTML/CSS</td>\n",
       "      <td>90.00</td>\n",
       "    </tr>\n",
       "    <tr>\n",
       "      <th>102</th>\n",
       "      <td>SQL</td>\n",
       "      <td>49.43</td>\n",
       "    </tr>\n",
       "    <tr>\n",
       "      <th>103</th>\n",
       "      <td>Python</td>\n",
       "      <td>48.07</td>\n",
       "    </tr>\n",
       "  </tbody>\n",
       "</table>\n",
       "</div>"
      ]
     },
     "execution_count": 142,
     "metadata": {},
     "output_type": "execute_result"
    }
   ],
   "execution_count": 142
  },
  {
   "cell_type": "code",
   "id": "166a687e",
   "metadata": {
    "ExecuteTime": {
     "end_time": "2025-08-15T22:43:22.785639Z",
     "start_time": "2025-08-15T22:43:22.782378Z"
    }
   },
   "source": [
    "df2.index = df2.pop('Name')\n",
    "df2"
   ],
   "outputs": [
    {
     "data": {
      "text/plain": [
       "            Percent used\n",
       "Name                    \n",
       "JavaScript         65.36\n",
       "HTML/CSS           90.00\n",
       "SQL                49.43\n",
       "Python             48.07"
      ],
      "text/html": [
       "<div>\n",
       "<style scoped>\n",
       "    .dataframe tbody tr th:only-of-type {\n",
       "        vertical-align: middle;\n",
       "    }\n",
       "\n",
       "    .dataframe tbody tr th {\n",
       "        vertical-align: top;\n",
       "    }\n",
       "\n",
       "    .dataframe thead th {\n",
       "        text-align: right;\n",
       "    }\n",
       "</style>\n",
       "<table border=\"1\" class=\"dataframe\">\n",
       "  <thead>\n",
       "    <tr style=\"text-align: right;\">\n",
       "      <th></th>\n",
       "      <th>Percent used</th>\n",
       "    </tr>\n",
       "    <tr>\n",
       "      <th>Name</th>\n",
       "      <th></th>\n",
       "    </tr>\n",
       "  </thead>\n",
       "  <tbody>\n",
       "    <tr>\n",
       "      <th>JavaScript</th>\n",
       "      <td>65.36</td>\n",
       "    </tr>\n",
       "    <tr>\n",
       "      <th>HTML/CSS</th>\n",
       "      <td>90.00</td>\n",
       "    </tr>\n",
       "    <tr>\n",
       "      <th>SQL</th>\n",
       "      <td>49.43</td>\n",
       "    </tr>\n",
       "    <tr>\n",
       "      <th>Python</th>\n",
       "      <td>48.07</td>\n",
       "    </tr>\n",
       "  </tbody>\n",
       "</table>\n",
       "</div>"
      ]
     },
     "execution_count": 143,
     "metadata": {},
     "output_type": "execute_result"
    }
   ],
   "execution_count": 143
  },
  {
   "cell_type": "markdown",
   "id": "cf372645",
   "metadata": {},
   "source": [
    "#### Specify the kind of plot (bar) and customize the x and y axis if necessary"
   ]
  },
  {
   "metadata": {
    "ExecuteTime": {
     "end_time": "2025-08-15T22:43:22.896564Z",
     "start_time": "2025-08-15T22:43:22.857779Z"
    }
   },
   "cell_type": "code",
   "source": "df2.plot.bar()",
   "id": "3f679f4051c6ba7c",
   "outputs": [
    {
     "data": {
      "text/plain": [
       "<Axes: xlabel='Name'>"
      ]
     },
     "execution_count": 144,
     "metadata": {},
     "output_type": "execute_result"
    },
    {
     "data": {
      "text/plain": [
       "<Figure size 640x480 with 1 Axes>"
      ],
      "image/png": "[encoded data removed]"
     },
     "metadata": {},
     "output_type": "display_data"
    }
   ],
   "execution_count": 144
  },
  {
   "metadata": {},
   "cell_type": "markdown",
   "source": [
    "### Example 2: Plotting over years\n",
    "\n",
    "#### Update the dataframe to track percent used over multiple years"
   ],
   "id": "2a8b20393aac9f80"
  },
  {
   "metadata": {
    "ExecuteTime": {
     "end_time": "2025-08-15T22:43:22.906354Z",
     "start_time": "2025-08-15T22:43:22.903108Z"
    }
   },
   "cell_type": "code",
   "source": [
    "df3 = df2.rename(columns={'Percent used': '2022'})\n",
    "df3"
   ],
   "id": "53627767e1984123",
   "outputs": [
    {
     "data": {
      "text/plain": [
       "             2022\n",
       "Name             \n",
       "JavaScript  65.36\n",
       "HTML/CSS    90.00\n",
       "SQL         49.43\n",
       "Python      48.07"
      ],
      "text/html": [
       "<div>\n",
       "<style scoped>\n",
       "    .dataframe tbody tr th:only-of-type {\n",
       "        vertical-align: middle;\n",
       "    }\n",
       "\n",
       "    .dataframe tbody tr th {\n",
       "        vertical-align: top;\n",
       "    }\n",
       "\n",
       "    .dataframe thead th {\n",
       "        text-align: right;\n",
       "    }\n",
       "</style>\n",
       "<table border=\"1\" class=\"dataframe\">\n",
       "  <thead>\n",
       "    <tr style=\"text-align: right;\">\n",
       "      <th></th>\n",
       "      <th>2022</th>\n",
       "    </tr>\n",
       "    <tr>\n",
       "      <th>Name</th>\n",
       "      <th></th>\n",
       "    </tr>\n",
       "  </thead>\n",
       "  <tbody>\n",
       "    <tr>\n",
       "      <th>JavaScript</th>\n",
       "      <td>65.36</td>\n",
       "    </tr>\n",
       "    <tr>\n",
       "      <th>HTML/CSS</th>\n",
       "      <td>90.00</td>\n",
       "    </tr>\n",
       "    <tr>\n",
       "      <th>SQL</th>\n",
       "      <td>49.43</td>\n",
       "    </tr>\n",
       "    <tr>\n",
       "      <th>Python</th>\n",
       "      <td>48.07</td>\n",
       "    </tr>\n",
       "  </tbody>\n",
       "</table>\n",
       "</div>"
      ]
     },
     "execution_count": 145,
     "metadata": {},
     "output_type": "execute_result"
    }
   ],
   "execution_count": 145
  },
  {
   "metadata": {},
   "cell_type": "markdown",
   "source": [
    "#### Add more years of data\n",
    "\n",
    "Randomly update the percent used from the previous year by +-5"
   ],
   "id": "dd2531c574e840af"
  },
  {
   "cell_type": "code",
   "id": "3144243c",
   "metadata": {
    "ExecuteTime": {
     "end_time": "2025-08-15T22:43:22.946413Z",
     "start_time": "2025-08-15T22:43:22.941834Z"
    }
   },
   "source": [
    "from random import uniform\n",
    "\n",
    "for year in range(2021, 2017,  -1):\n",
    "    df3[str(year)] = df3[str(year+1)] + [round(uniform(-5, 5), 2) for i in range(4)]\n",
    "df3"
   ],
   "outputs": [
    {
     "data": {
      "text/plain": [
       "             2022   2021   2020   2019   2018\n",
       "Name                                         \n",
       "JavaScript  65.36  66.38  68.53  70.53  69.99\n",
       "HTML/CSS    90.00  87.66  84.25  81.61  85.71\n",
       "SQL         49.43  51.97  55.85  53.69  49.37\n",
       "Python      48.07  52.70  51.48  54.21  56.79"
      ],
      "text/html": [
       "<div>\n",
       "<style scoped>\n",
       "    .dataframe tbody tr th:only-of-type {\n",
       "        vertical-align: middle;\n",
       "    }\n",
       "\n",
       "    .dataframe tbody tr th {\n",
       "        vertical-align: top;\n",
       "    }\n",
       "\n",
       "    .dataframe thead th {\n",
       "        text-align: right;\n",
       "    }\n",
       "</style>\n",
       "<table border=\"1\" class=\"dataframe\">\n",
       "  <thead>\n",
       "    <tr style=\"text-align: right;\">\n",
       "      <th></th>\n",
       "      <th>2022</th>\n",
       "      <th>2021</th>\n",
       "      <th>2020</th>\n",
       "      <th>2019</th>\n",
       "      <th>2018</th>\n",
       "    </tr>\n",
       "    <tr>\n",
       "      <th>Name</th>\n",
       "      <th></th>\n",
       "      <th></th>\n",
       "      <th></th>\n",
       "      <th></th>\n",
       "      <th></th>\n",
       "    </tr>\n",
       "  </thead>\n",
       "  <tbody>\n",
       "    <tr>\n",
       "      <th>JavaScript</th>\n",
       "      <td>65.36</td>\n",
       "      <td>66.38</td>\n",
       "      <td>68.53</td>\n",
       "      <td>70.53</td>\n",
       "      <td>69.99</td>\n",
       "    </tr>\n",
       "    <tr>\n",
       "      <th>HTML/CSS</th>\n",
       "      <td>90.00</td>\n",
       "      <td>87.66</td>\n",
       "      <td>84.25</td>\n",
       "      <td>81.61</td>\n",
       "      <td>85.71</td>\n",
       "    </tr>\n",
       "    <tr>\n",
       "      <th>SQL</th>\n",
       "      <td>49.43</td>\n",
       "      <td>51.97</td>\n",
       "      <td>55.85</td>\n",
       "      <td>53.69</td>\n",
       "      <td>49.37</td>\n",
       "    </tr>\n",
       "    <tr>\n",
       "      <th>Python</th>\n",
       "      <td>48.07</td>\n",
       "      <td>52.70</td>\n",
       "      <td>51.48</td>\n",
       "      <td>54.21</td>\n",
       "      <td>56.79</td>\n",
       "    </tr>\n",
       "  </tbody>\n",
       "</table>\n",
       "</div>"
      ]
     },
     "execution_count": 146,
     "metadata": {},
     "output_type": "execute_result"
    }
   ],
   "execution_count": 146
  },
  {
   "cell_type": "code",
   "id": "9ed01efd",
   "metadata": {
    "ExecuteTime": {
     "end_time": "2025-08-15T22:43:23.092857Z",
     "start_time": "2025-08-15T22:43:23.088431Z"
    }
   },
   "source": [
    "df3 = df3.sort_index(axis='columns')\n",
    "df3"
   ],
   "outputs": [
    {
     "data": {
      "text/plain": [
       "             2018   2019   2020   2021   2022\n",
       "Name                                         \n",
       "JavaScript  69.99  70.53  68.53  66.38  65.36\n",
       "HTML/CSS    85.71  81.61  84.25  87.66  90.00\n",
       "SQL         49.37  53.69  55.85  51.97  49.43\n",
       "Python      56.79  54.21  51.48  52.70  48.07"
      ],
      "text/html": [
       "<div>\n",
       "<style scoped>\n",
       "    .dataframe tbody tr th:only-of-type {\n",
       "        vertical-align: middle;\n",
       "    }\n",
       "\n",
       "    .dataframe tbody tr th {\n",
       "        vertical-align: top;\n",
       "    }\n",
       "\n",
       "    .dataframe thead th {\n",
       "        text-align: right;\n",
       "    }\n",
       "</style>\n",
       "<table border=\"1\" class=\"dataframe\">\n",
       "  <thead>\n",
       "    <tr style=\"text-align: right;\">\n",
       "      <th></th>\n",
       "      <th>2018</th>\n",
       "      <th>2019</th>\n",
       "      <th>2020</th>\n",
       "      <th>2021</th>\n",
       "      <th>2022</th>\n",
       "    </tr>\n",
       "    <tr>\n",
       "      <th>Name</th>\n",
       "      <th></th>\n",
       "      <th></th>\n",
       "      <th></th>\n",
       "      <th></th>\n",
       "      <th></th>\n",
       "    </tr>\n",
       "  </thead>\n",
       "  <tbody>\n",
       "    <tr>\n",
       "      <th>JavaScript</th>\n",
       "      <td>69.99</td>\n",
       "      <td>70.53</td>\n",
       "      <td>68.53</td>\n",
       "      <td>66.38</td>\n",
       "      <td>65.36</td>\n",
       "    </tr>\n",
       "    <tr>\n",
       "      <th>HTML/CSS</th>\n",
       "      <td>85.71</td>\n",
       "      <td>81.61</td>\n",
       "      <td>84.25</td>\n",
       "      <td>87.66</td>\n",
       "      <td>90.00</td>\n",
       "    </tr>\n",
       "    <tr>\n",
       "      <th>SQL</th>\n",
       "      <td>49.37</td>\n",
       "      <td>53.69</td>\n",
       "      <td>55.85</td>\n",
       "      <td>51.97</td>\n",
       "      <td>49.43</td>\n",
       "    </tr>\n",
       "    <tr>\n",
       "      <th>Python</th>\n",
       "      <td>56.79</td>\n",
       "      <td>54.21</td>\n",
       "      <td>51.48</td>\n",
       "      <td>52.70</td>\n",
       "      <td>48.07</td>\n",
       "    </tr>\n",
       "  </tbody>\n",
       "</table>\n",
       "</div>"
      ]
     },
     "execution_count": 147,
     "metadata": {},
     "output_type": "execute_result"
    }
   ],
   "execution_count": 147
  },
  {
   "metadata": {
    "ExecuteTime": {
     "end_time": "2025-08-15T22:43:23.191931Z",
     "start_time": "2025-08-15T22:43:23.138745Z"
    }
   },
   "cell_type": "code",
   "source": "df3.plot.bar()",
   "id": "626cf8b5d6c1f4c",
   "outputs": [
    {
     "data": {
      "text/plain": [
       "<Axes: xlabel='Name'>"
      ]
     },
     "execution_count": 148,
     "metadata": {},
     "output_type": "execute_result"
    },
    {
     "data": {
      "text/plain": [
       "<Figure size 640x480 with 1 Axes>"
      ],
      "image/png": "[encoded data removed]"
     },
     "metadata": {},
     "output_type": "display_data"
    }
   ],
   "execution_count": 148
  },
  {
   "metadata": {
    "ExecuteTime": {
     "end_time": "2025-08-15T22:43:23.228581Z",
     "start_time": "2025-08-15T22:43:23.224800Z"
    }
   },
   "cell_type": "code",
   "source": [
    "df4 = df3.T\n",
    "df4"
   ],
   "id": "bcddabab-faf1-46fe-a605-0470931ad5f1",
   "outputs": [
    {
     "data": {
      "text/plain": [
       "Name  JavaScript  HTML/CSS    SQL  Python\n",
       "2018       69.99     85.71  49.37   56.79\n",
       "2019       70.53     81.61  53.69   54.21\n",
       "2020       68.53     84.25  55.85   51.48\n",
       "2021       66.38     87.66  51.97   52.70\n",
       "2022       65.36     90.00  49.43   48.07"
      ],
      "text/html": [
       "<div>\n",
       "<style scoped>\n",
       "    .dataframe tbody tr th:only-of-type {\n",
       "        vertical-align: middle;\n",
       "    }\n",
       "\n",
       "    .dataframe tbody tr th {\n",
       "        vertical-align: top;\n",
       "    }\n",
       "\n",
       "    .dataframe thead th {\n",
       "        text-align: right;\n",
       "    }\n",
       "</style>\n",
       "<table border=\"1\" class=\"dataframe\">\n",
       "  <thead>\n",
       "    <tr style=\"text-align: right;\">\n",
       "      <th>Name</th>\n",
       "      <th>JavaScript</th>\n",
       "      <th>HTML/CSS</th>\n",
       "      <th>SQL</th>\n",
       "      <th>Python</th>\n",
       "    </tr>\n",
       "  </thead>\n",
       "  <tbody>\n",
       "    <tr>\n",
       "      <th>2018</th>\n",
       "      <td>69.99</td>\n",
       "      <td>85.71</td>\n",
       "      <td>49.37</td>\n",
       "      <td>56.79</td>\n",
       "    </tr>\n",
       "    <tr>\n",
       "      <th>2019</th>\n",
       "      <td>70.53</td>\n",
       "      <td>81.61</td>\n",
       "      <td>53.69</td>\n",
       "      <td>54.21</td>\n",
       "    </tr>\n",
       "    <tr>\n",
       "      <th>2020</th>\n",
       "      <td>68.53</td>\n",
       "      <td>84.25</td>\n",
       "      <td>55.85</td>\n",
       "      <td>51.48</td>\n",
       "    </tr>\n",
       "    <tr>\n",
       "      <th>2021</th>\n",
       "      <td>66.38</td>\n",
       "      <td>87.66</td>\n",
       "      <td>51.97</td>\n",
       "      <td>52.70</td>\n",
       "    </tr>\n",
       "    <tr>\n",
       "      <th>2022</th>\n",
       "      <td>65.36</td>\n",
       "      <td>90.00</td>\n",
       "      <td>49.43</td>\n",
       "      <td>48.07</td>\n",
       "    </tr>\n",
       "  </tbody>\n",
       "</table>\n",
       "</div>"
      ]
     },
     "execution_count": 149,
     "metadata": {},
     "output_type": "execute_result"
    }
   ],
   "execution_count": 149
  },
  {
   "metadata": {
    "ExecuteTime": {
     "end_time": "2025-08-15T22:43:23.321977Z",
     "start_time": "2025-08-15T22:43:23.267023Z"
    }
   },
   "cell_type": "code",
   "source": "df4.plot(ylim=(0, 100))",
   "id": "c19b1a5cf3dce44f",
   "outputs": [
    {
     "data": {
      "text/plain": [
       "<Axes: >"
      ]
     },
     "execution_count": 150,
     "metadata": {},
     "output_type": "execute_result"
    },
    {
     "data": {
      "text/plain": [
       "<Figure size 640x480 with 1 Axes>"
      ],
      "image/png": "[encoded data removed]"
     },
     "metadata": {},
     "output_type": "display_data"
    }
   ],
   "execution_count": 150
  }
 ],
 "metadata": {
  "jupytext": {
   "cell_metadata_filter": "-all",
   "formats": "auto:light,ipynb",
   "main_language": "python",
   "notebook_metadata_filter": "-all"
  },
  "kernelspec": {
   "display_name": "Python 3 (ipykernel)",
   "language": "python",
   "name": "python3"
  },
  "language_info": {
   "codemirror_mode": {
    "name": "ipython",
    "version": 3
   },
   "file_extension": ".py",
   "mimetype": "text/x-python",
   "name": "python",
   "nbconvert_exporter": "python",
   "pygments_lexer": "ipython3",
   "version": "3.11.4"
  }
 },
 "nbformat": 4,
 "nbformat_minor": 5
}
