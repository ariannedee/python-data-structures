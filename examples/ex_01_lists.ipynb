{
 "cells": [
  {
   "cell_type": "markdown",
   "id": "b5af1b7d",
   "metadata": {},
   "source": [
    "# Lists\n",
    "Ordered collection of objects, with easy access to items by position (index).\n",
    "## Creating lists"
   ]
  },
  {
   "metadata": {
    "ExecuteTime": {
     "end_time": "2025-10-21T16:23:40.042275Z",
     "start_time": "2025-10-21T16:23:40.039794Z"
    }
   },
   "cell_type": "code",
   "source": "[1, 2, 'a', 'b']",
   "id": "2cf94940b4dedb3d",
   "outputs": [
    {
     "data": {
      "text/plain": [
       "[1, 2, 'a', 'b']"
      ]
     },
     "execution_count": 4,
     "metadata": {},
     "output_type": "execute_result"
    }
   ],
   "execution_count": 4
  },
  {
   "metadata": {
    "ExecuteTime": {
     "end_time": "2025-10-21T16:23:40.496843Z",
     "start_time": "2025-10-21T16:23:40.493317Z"
    }
   },
   "cell_type": "code",
   "source": "list()",
   "id": "c929cb6490edeb25",
   "outputs": [
    {
     "data": {
      "text/plain": [
       "[]"
      ]
     },
     "execution_count": 5,
     "metadata": {},
     "output_type": "execute_result"
    }
   ],
   "execution_count": 5
  },
  {
   "cell_type": "code",
   "id": "f60b74bd",
   "metadata": {
    "ExecuteTime": {
     "end_time": "2025-10-21T16:24:39.957654Z",
     "start_time": "2025-10-21T16:24:39.954377Z"
    }
   },
   "source": "list('12345')",
   "outputs": [
    {
     "data": {
      "text/plain": [
       "['1', '2', '3', '4', '5']"
      ]
     },
     "execution_count": 8,
     "metadata": {},
     "output_type": "execute_result"
    }
   ],
   "execution_count": 8
  },
  {
   "cell_type": "code",
   "id": "a2f6a0dc",
   "metadata": {
    "ExecuteTime": {
     "end_time": "2025-06-11T20:16:44.726796Z",
     "start_time": "2025-06-11T20:16:44.724633Z"
    }
   },
   "source": [
    "list({'hello': 'world', 'foo': 'bar'})  # Only takes keys"
   ],
   "outputs": [
    {
     "data": {
      "text/plain": [
       "['hello', 'foo']"
      ]
     },
     "execution_count": 79,
     "metadata": {},
     "output_type": "execute_result"
    }
   ],
   "execution_count": 79
  },
  {
   "cell_type": "markdown",
   "id": "91ecf66a",
   "metadata": {},
   "source": [
    "You can also build lists using **list comprehensions**"
   ]
  },
  {
   "cell_type": "code",
   "id": "caaa5731",
   "metadata": {
    "ExecuteTime": {
     "end_time": "2025-10-21T16:25:27.036916Z",
     "start_time": "2025-10-21T16:25:27.031442Z"
    }
   },
   "source": [
    "[2 ** i for i in range(12)]"
   ],
   "outputs": [
    {
     "data": {
      "text/plain": [
       "[1, 2, 4, 8, 16, 32, 64, 128, 256, 512, 1024, 2048]"
      ]
     },
     "execution_count": 9,
     "metadata": {},
     "output_type": "execute_result"
    }
   ],
   "execution_count": 9
  },
  {
   "cell_type": "markdown",
   "id": "8ac8bc70",
   "metadata": {},
   "source": [
    "We will look more at list comprehensions in the second hour of the class."
   ]
  },
  {
   "cell_type": "markdown",
   "id": "6cfd2d3d",
   "metadata": {},
   "source": [
    "## Slicing and indexing lists\n",
    "These also work on any sequence (tuple, string, bytearray, etc)\n",
    "\n",
    "### Getting an item via index (indexing)\n",
    "The format is `sequence[index]`\n",
    "\n",
    "Indices start at `0` and go to `len(sequence) - 1`."
   ]
  },
  {
   "cell_type": "code",
   "id": "12d90ab5",
   "metadata": {
    "ExecuteTime": {
     "end_time": "2025-10-21T16:26:04.215638Z",
     "start_time": "2025-10-21T16:26:04.212731Z"
    }
   },
   "source": [
    "sequence = list('abcde')\n",
    "sequence"
   ],
   "outputs": [
    {
     "data": {
      "text/plain": [
       "['a', 'b', 'c', 'd', 'e']"
      ]
     },
     "execution_count": 10,
     "metadata": {},
     "output_type": "execute_result"
    }
   ],
   "execution_count": 10
  },
  {
   "cell_type": "code",
   "id": "cabe7c4c",
   "metadata": {
    "ExecuteTime": {
     "end_time": "2025-10-21T16:26:07.480328Z",
     "start_time": "2025-10-21T16:26:07.475522Z"
    }
   },
   "source": [
    "sequence[0]"
   ],
   "outputs": [
    {
     "data": {
      "text/plain": [
       "'a'"
      ]
     },
     "execution_count": 11,
     "metadata": {},
     "output_type": "execute_result"
    }
   ],
   "execution_count": 11
  },
  {
   "cell_type": "code",
   "id": "30de1190",
   "metadata": {
    "ExecuteTime": {
     "end_time": "2025-10-21T16:26:18.908966Z",
     "start_time": "2025-10-21T16:26:18.905926Z"
    }
   },
   "source": [
    "end = len(sequence) - 1\n",
    "sequence[end]"
   ],
   "outputs": [
    {
     "data": {
      "text/plain": [
       "'e'"
      ]
     },
     "execution_count": 12,
     "metadata": {},
     "output_type": "execute_result"
    }
   ],
   "execution_count": 12
  },
  {
   "cell_type": "code",
   "id": "af6d5571",
   "metadata": {
    "ExecuteTime": {
     "end_time": "2025-10-21T16:26:44.129769Z",
     "start_time": "2025-10-21T16:26:44.127554Z"
    }
   },
   "source": [
    "try:\n",
    "    sequence[100]\n",
    "except Exception as e:\n",
    "    print(repr(e))"
   ],
   "outputs": [
    {
     "name": "stdout",
     "output_type": "stream",
     "text": [
      "IndexError('list index out of range')\n"
     ]
    }
   ],
   "execution_count": 14
  },
  {
   "cell_type": "markdown",
   "id": "e313c4d4",
   "metadata": {},
   "source": [
    "You can also go from the end of the list at `-1` to the beginning at `-len(sequence)`"
   ]
  },
  {
   "cell_type": "code",
   "id": "e42960d9",
   "metadata": {
    "ExecuteTime": {
     "end_time": "2025-10-21T16:27:01.464641Z",
     "start_time": "2025-10-21T16:27:01.459020Z"
    }
   },
   "source": [
    "sequence[-1]"
   ],
   "outputs": [
    {
     "data": {
      "text/plain": [
       "'e'"
      ]
     },
     "execution_count": 15,
     "metadata": {},
     "output_type": "execute_result"
    }
   ],
   "execution_count": 15
  },
  {
   "cell_type": "code",
   "id": "a257edec",
   "metadata": {
    "ExecuteTime": {
     "end_time": "2025-10-21T16:27:52.826858Z",
     "start_time": "2025-10-21T16:27:52.823569Z"
    }
   },
   "source": [
    "beginning = -len(sequence)\n",
    "sequence[beginning]"
   ],
   "outputs": [
    {
     "data": {
      "text/plain": [
       "'a'"
      ]
     },
     "execution_count": 18,
     "metadata": {},
     "output_type": "execute_result"
    }
   ],
   "execution_count": 18
  },
  {
   "cell_type": "markdown",
   "id": "ae19f520",
   "metadata": {},
   "source": [
    "### Getting a sublist (slicing)\n",
    "\n",
    "The format is `sequence[start:stop:step]`\n",
    "\n",
    "This will return a new sequence with items starting at `start`, ending at `stop - 1`, and skipping `step` each time.\n",
    "\n",
    "`step` is optional, and the default is `1`.\n",
    "\n",
    "If a number is missing, its value is assumed to be either beginning or end of the list, depending on the context."
   ]
  },
  {
   "cell_type": "code",
   "id": "5d0ada2f",
   "metadata": {
    "ExecuteTime": {
     "end_time": "2025-06-11T20:16:44.858794Z",
     "start_time": "2025-06-11T20:16:44.856584Z"
    }
   },
   "source": "sequence[1:3]  # indices 1 and 2",
   "outputs": [
    {
     "data": {
      "text/plain": [
       "['b', 'c']"
      ]
     },
     "execution_count": 87,
     "metadata": {},
     "output_type": "execute_result"
    }
   ],
   "execution_count": 87
  },
  {
   "cell_type": "code",
   "id": "175b71c9",
   "metadata": {
    "ExecuteTime": {
     "end_time": "2025-06-11T20:16:44.873362Z",
     "start_time": "2025-06-11T20:16:44.871201Z"
    }
   },
   "source": [
    "sequence[:4]  # beginning (0 to 3)"
   ],
   "outputs": [
    {
     "data": {
      "text/plain": [
       "['a', 'b', 'c', 'd']"
      ]
     },
     "execution_count": 88,
     "metadata": {},
     "output_type": "execute_result"
    }
   ],
   "execution_count": 88
  },
  {
   "cell_type": "code",
   "id": "4a8c22d3",
   "metadata": {
    "ExecuteTime": {
     "end_time": "2025-06-11T20:16:44.888219Z",
     "start_time": "2025-06-11T20:16:44.886038Z"
    }
   },
   "source": [
    "sequence[2:]  # 2 to end (2 to 4)"
   ],
   "outputs": [
    {
     "data": {
      "text/plain": [
       "['c', 'd', 'e']"
      ]
     },
     "execution_count": 89,
     "metadata": {},
     "output_type": "execute_result"
    }
   ],
   "execution_count": 89
  },
  {
   "cell_type": "code",
   "id": "8e809727",
   "metadata": {
    "ExecuteTime": {
     "end_time": "2025-10-21T16:29:24.939351Z",
     "start_time": "2025-10-21T16:29:24.930237Z"
    }
   },
   "source": [
    "sequence[:]  # full list"
   ],
   "outputs": [
    {
     "data": {
      "text/plain": [
       "['a', 'b', 'c', 'd', 'e']"
      ]
     },
     "execution_count": 19,
     "metadata": {},
     "output_type": "execute_result"
    }
   ],
   "execution_count": 19
  },
  {
   "cell_type": "code",
   "id": "0974ef13",
   "metadata": {
    "ExecuteTime": {
     "end_time": "2025-10-21T16:29:32.571800Z",
     "start_time": "2025-10-21T16:29:32.568037Z"
    }
   },
   "source": [
    "sequence[::2]  # every second item"
   ],
   "outputs": [
    {
     "data": {
      "text/plain": [
       "['a', 'c', 'e']"
      ]
     },
     "execution_count": 20,
     "metadata": {},
     "output_type": "execute_result"
    }
   ],
   "execution_count": 20
  },
  {
   "cell_type": "code",
   "id": "ddd077e8",
   "metadata": {
    "ExecuteTime": {
     "end_time": "2025-10-21T16:29:36.660785Z",
     "start_time": "2025-10-21T16:29:36.658206Z"
    }
   },
   "source": [
    "sequence[::-1]  # reversed"
   ],
   "outputs": [
    {
     "data": {
      "text/plain": [
       "['e', 'd', 'c', 'b', 'a']"
      ]
     },
     "execution_count": 21,
     "metadata": {},
     "output_type": "execute_result"
    }
   ],
   "execution_count": 21
  },
  {
   "cell_type": "markdown",
   "id": "57cfb3c4",
   "metadata": {},
   "source": [
    "## Updating contents"
   ]
  },
  {
   "cell_type": "code",
   "id": "c230d50a",
   "metadata": {
    "ExecuteTime": {
     "end_time": "2025-10-21T16:30:01.572467Z",
     "start_time": "2025-10-21T16:30:01.569924Z"
    }
   },
   "source": [
    "sequence[0] = 'new'  # update existing item\n",
    "sequence"
   ],
   "outputs": [
    {
     "data": {
      "text/plain": [
       "['new', 'b', 'c', 'd', 'e']"
      ]
     },
     "execution_count": 22,
     "metadata": {},
     "output_type": "execute_result"
    }
   ],
   "execution_count": 22
  },
  {
   "cell_type": "code",
   "id": "5bfd0bd4",
   "metadata": {
    "ExecuteTime": {
     "end_time": "2025-10-21T16:30:17.461114Z",
     "start_time": "2025-10-21T16:30:17.457425Z"
    }
   },
   "source": [
    "del sequence[-1]  # deleting by index\n",
    "sequence"
   ],
   "outputs": [
    {
     "data": {
      "text/plain": [
       "['new', 'b', 'c', 'd']"
      ]
     },
     "execution_count": 23,
     "metadata": {},
     "output_type": "execute_result"
    }
   ],
   "execution_count": 23
  },
  {
   "cell_type": "code",
   "id": "7aec7dc9",
   "metadata": {
    "ExecuteTime": {
     "end_time": "2025-06-11T20:16:44.985851Z",
     "start_time": "2025-06-11T20:16:44.983016Z"
    }
   },
   "source": [
    "sequence.append('end')  # add item to the end\n",
    "sequence"
   ],
   "outputs": [
    {
     "data": {
      "text/plain": [
       "['new', 'b', 'c', 'd', 'end']"
      ]
     },
     "execution_count": 95,
     "metadata": {},
     "output_type": "execute_result"
    }
   ],
   "execution_count": 95
  },
  {
   "cell_type": "code",
   "id": "577666d1",
   "metadata": {
    "ExecuteTime": {
     "end_time": "2025-10-21T16:31:14.025224Z",
     "start_time": "2025-10-21T16:31:14.022282Z"
    }
   },
   "source": [
    "sequence.insert(1, 'a')  # add item at index\n",
    "sequence"
   ],
   "outputs": [
    {
     "data": {
      "text/plain": [
       "['new', 'a', 'b', 'c', 'd']"
      ]
     },
     "execution_count": 24,
     "metadata": {},
     "output_type": "execute_result"
    }
   ],
   "execution_count": 24
  },
  {
   "cell_type": "markdown",
   "id": "2f6c445f",
   "metadata": {},
   "source": [
    "## Checking containment"
   ]
  },
  {
   "cell_type": "code",
   "id": "28256417",
   "metadata": {
    "ExecuteTime": {
     "end_time": "2025-10-21T16:31:25.955035Z",
     "start_time": "2025-10-21T16:31:25.942519Z"
    }
   },
   "source": [
    "'e' in sequence"
   ],
   "outputs": [
    {
     "data": {
      "text/plain": [
       "False"
      ]
     },
     "execution_count": 25,
     "metadata": {},
     "output_type": "execute_result"
    }
   ],
   "execution_count": 25
  },
  {
   "cell_type": "code",
   "id": "b8121f98",
   "metadata": {
    "ExecuteTime": {
     "end_time": "2025-10-21T16:31:28.200529Z",
     "start_time": "2025-10-21T16:31:28.196754Z"
    }
   },
   "source": [
    "'a' in sequence"
   ],
   "outputs": [
    {
     "data": {
      "text/plain": [
       "True"
      ]
     },
     "execution_count": 26,
     "metadata": {},
     "output_type": "execute_result"
    }
   ],
   "execution_count": 26
  },
  {
   "cell_type": "markdown",
   "id": "6334ad7e",
   "metadata": {},
   "source": [
    "## Looping"
   ]
  },
  {
   "cell_type": "code",
   "id": "b34a006c",
   "metadata": {
    "ExecuteTime": {
     "end_time": "2025-06-11T20:16:45.051581Z",
     "start_time": "2025-06-11T20:16:45.049974Z"
    }
   },
   "source": [
    "for value in sequence:\n",
    "    print(value * 2)"
   ],
   "outputs": [
    {
     "name": "stdout",
     "output_type": "stream",
     "text": [
      "newnew\n",
      "aa\n",
      "bb\n",
      "cc\n",
      "dd\n",
      "endend\n"
     ]
    }
   ],
   "execution_count": 99
  },
  {
   "cell_type": "markdown",
   "id": "6d1c0f9c",
   "metadata": {},
   "source": [
    "If you need the index as well, use `enumerate()`"
   ]
  },
  {
   "cell_type": "code",
   "id": "7255bb8a",
   "metadata": {
    "ExecuteTime": {
     "end_time": "2025-10-21T16:32:22.164797Z",
     "start_time": "2025-10-21T16:32:22.160775Z"
    }
   },
   "source": [
    "for i, value in enumerate(sequence):\n",
    "    print(f'{i}: {value}')"
   ],
   "outputs": [
    {
     "name": "stdout",
     "output_type": "stream",
     "text": [
      "0: new\n",
      "1: a\n",
      "2: b\n",
      "3: c\n",
      "4: d\n"
     ]
    }
   ],
   "execution_count": 27
  },
  {
   "cell_type": "markdown",
   "id": "7c85b046-0c89-442a-a05b-3d97af044eb8",
   "metadata": {},
   "source": [
    "Other built-in functions you can use when looping are `sorted()` and `reversed()`."
   ]
  },
  {
   "cell_type": "code",
   "id": "437ca676",
   "metadata": {
    "ExecuteTime": {
     "end_time": "2025-10-21T16:32:43.552383Z",
     "start_time": "2025-10-21T16:32:43.550417Z"
    }
   },
   "source": [
    "for value in sorted(sequence):\n",
    "    print(value * 2)"
   ],
   "outputs": [
    {
     "name": "stdout",
     "output_type": "stream",
     "text": [
      "aa\n",
      "bb\n",
      "cc\n",
      "dd\n",
      "newnew\n"
     ]
    }
   ],
   "execution_count": 28
  },
  {
   "cell_type": "code",
   "id": "ef817b91",
   "metadata": {
    "lines_to_next_cell": 2,
    "ExecuteTime": {
     "end_time": "2025-10-21T16:32:48.278945Z",
     "start_time": "2025-10-21T16:32:48.276319Z"
    }
   },
   "source": [
    "for value in reversed(sequence):\n",
    "    print(value * 2)"
   ],
   "outputs": [
    {
     "name": "stdout",
     "output_type": "stream",
     "text": [
      "dd\n",
      "cc\n",
      "bb\n",
      "aa\n",
      "newnew\n"
     ]
    }
   ],
   "execution_count": 29
  },
  {
   "cell_type": "markdown",
   "id": "565b6a72",
   "metadata": {},
   "source": [
    "### Some methods change the object, and some return a new object\n",
    "`list.sort()` returns `None` but changes the list.\n",
    "\n",
    "`sorted(list)` returns a new sorted iterable, leaving the list unchanged."
   ]
  },
  {
   "cell_type": "code",
   "id": "846f4417",
   "metadata": {
    "lines_to_next_cell": 2,
    "ExecuteTime": {
     "end_time": "2025-10-21T16:33:33.530012Z",
     "start_time": "2025-10-21T16:33:33.526509Z"
    }
   },
   "source": [
    "for item in sorted(sequence, reverse=True):\n",
    "    print(item)\n",
    "sequence"
   ],
   "outputs": [
    {
     "name": "stdout",
     "output_type": "stream",
     "text": [
      "new\n",
      "d\n",
      "c\n",
      "b\n",
      "a\n"
     ]
    },
    {
     "data": {
      "text/plain": [
       "['new', 'a', 'b', 'c', 'd']"
      ]
     },
     "execution_count": 31,
     "metadata": {},
     "output_type": "execute_result"
    }
   ],
   "execution_count": 31
  },
  {
   "cell_type": "code",
   "id": "aff72da6",
   "metadata": {
    "ExecuteTime": {
     "end_time": "2025-10-21T16:33:54.296614Z",
     "start_time": "2025-10-21T16:33:54.293620Z"
    }
   },
   "source": [
    "print(sequence.sort())\n",
    "sequence"
   ],
   "outputs": [
    {
     "name": "stdout",
     "output_type": "stream",
     "text": [
      "None\n"
     ]
    },
    {
     "data": {
      "text/plain": [
       "['a', 'b', 'c', 'd', 'new']"
      ]
     },
     "execution_count": 32,
     "metadata": {},
     "output_type": "execute_result"
    }
   ],
   "execution_count": 32
  },
  {
   "cell_type": "code",
   "id": "1f525498",
   "metadata": {
    "ExecuteTime": {
     "end_time": "2025-10-21T16:34:18.491573Z",
     "start_time": "2025-10-21T16:34:18.487573Z"
    }
   },
   "source": [
    "print(sequence.reverse())  # Returns None, but changes users\n",
    "sequence"
   ],
   "outputs": [
    {
     "name": "stdout",
     "output_type": "stream",
     "text": [
      "None\n"
     ]
    },
    {
     "data": {
      "text/plain": [
       "['new', 'd', 'c', 'b', 'a']"
      ]
     },
     "execution_count": 33,
     "metadata": {},
     "output_type": "execute_result"
    }
   ],
   "execution_count": 33
  },
  {
   "cell_type": "code",
   "id": "8f5c1833",
   "metadata": {
    "ExecuteTime": {
     "end_time": "2025-10-21T16:34:28.561161Z",
     "start_time": "2025-10-21T16:34:28.558507Z"
    }
   },
   "source": [
    "sequence[::-1]  # Returns a new, reversed list, users is unchanged"
   ],
   "outputs": [
    {
     "data": {
      "text/plain": [
       "['a', 'b', 'c', 'd', 'new']"
      ]
     },
     "execution_count": 34,
     "metadata": {},
     "output_type": "execute_result"
    }
   ],
   "execution_count": 34
  },
  {
   "metadata": {
    "ExecuteTime": {
     "end_time": "2025-10-21T16:36:00.347534Z",
     "start_time": "2025-10-21T16:36:00.344365Z"
    }
   },
   "cell_type": "code",
   "source": "reversed(sequence)  # Returns an iterator that can be looped over",
   "id": "8828c368ad5ab187",
   "outputs": [
    {
     "data": {
      "text/plain": [
       "<list_reverseiterator at 0x103c9aef0>"
      ]
     },
     "execution_count": 35,
     "metadata": {},
     "output_type": "execute_result"
    }
   ],
   "execution_count": 35
  }
 ],
 "metadata": {
  "jupytext": {
   "cell_metadata_filter": "-all",
   "formats": "auto:light,ipynb",
   "main_language": "python",
   "notebook_metadata_filter": "-all"
  },
  "kernelspec": {
   "display_name": "Python 3 (ipykernel)",
   "language": "python",
   "name": "python3"
  },
  "language_info": {
   "codemirror_mode": {
    "name": "ipython",
    "version": 3
   },
   "file_extension": ".py",
   "mimetype": "text/x-python",
   "name": "python",
   "nbconvert_exporter": "python",
   "pygments_lexer": "ipython3",
   "version": "3.11.4"
  }
 },
 "nbformat": 4,
 "nbformat_minor": 5
}
