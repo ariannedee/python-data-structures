{
 "cells": [
  {
   "cell_type": "markdown",
   "id": "b5af1b7d",
   "metadata": {},
   "source": [
    "# Lists\n",
    "Ordered collection of objects, with easy access to items by position (index).\n",
    "## Creating lists"
   ]
  },
  {
   "cell_type": "code",
   "execution_count": 1,
   "id": "813d0f6d",
   "metadata": {},
   "outputs": [
    {
     "data": {
      "text/plain": [
       "[]"
      ]
     },
     "execution_count": 1,
     "metadata": {},
     "output_type": "execute_result"
    }
   ],
   "source": [
    "list()"
   ]
  },
  {
   "cell_type": "code",
   "execution_count": 2,
   "id": "53782a41",
   "metadata": {},
   "outputs": [
    {
     "data": {
      "text/plain": [
       "['a', 'b', 1, 2]"
      ]
     },
     "execution_count": 2,
     "metadata": {},
     "output_type": "execute_result"
    }
   ],
   "source": [
    "['a', 'b', 1, 2]"
   ]
  },
  {
   "cell_type": "code",
   "execution_count": 3,
   "id": "f60b74bd",
   "metadata": {},
   "outputs": [
    {
     "data": {
      "text/plain": [
       "['1', '2', '3', '4', '5']"
      ]
     },
     "execution_count": 3,
     "metadata": {},
     "output_type": "execute_result"
    }
   ],
   "source": [
    "list('12345')"
   ]
  },
  {
   "cell_type": "code",
   "execution_count": 4,
   "id": "a2f6a0dc",
   "metadata": {},
   "outputs": [
    {
     "data": {
      "text/plain": [
       "['hello', 'foo']"
      ]
     },
     "execution_count": 4,
     "metadata": {},
     "output_type": "execute_result"
    }
   ],
   "source": [
    "list({'hello': 'world', 'foo': 'bar'})  # Only takes keys"
   ]
  },
  {
   "cell_type": "markdown",
   "id": "91ecf66a",
   "metadata": {},
   "source": [
    "You can also build lists using **list comprehensions**"
   ]
  },
  {
   "cell_type": "code",
   "execution_count": 5,
   "id": "caaa5731",
   "metadata": {},
   "outputs": [
    {
     "data": {
      "text/plain": [
       "[1, 2, 4, 8, 16, 32, 64, 128, 256, 512, 1024, 2048]"
      ]
     },
     "execution_count": 5,
     "metadata": {},
     "output_type": "execute_result"
    }
   ],
   "source": [
    "[2 ** i for i in range(12)]"
   ]
  },
  {
   "cell_type": "markdown",
   "id": "8ac8bc70",
   "metadata": {},
   "source": [
    "We will look more at list comprehensions in the second hour of the class."
   ]
  },
  {
   "cell_type": "markdown",
   "id": "6cfd2d3d",
   "metadata": {},
   "source": [
    "## Slicing and indexing lists\n",
    "These also work on any sequence (tuple, string, bytearray, etc)\n",
    "\n",
    "### Getting an item via index (indexing)\n",
    "The format is `sequence[index]`\n",
    "\n",
    "Indices start at `0` and go to `len(sequence) - 1`."
   ]
  },
  {
   "cell_type": "code",
   "execution_count": 6,
   "id": "12d90ab5",
   "metadata": {},
   "outputs": [
    {
     "data": {
      "text/plain": [
       "['a', 'b', 'c', 'd', 'e']"
      ]
     },
     "execution_count": 6,
     "metadata": {},
     "output_type": "execute_result"
    }
   ],
   "source": [
    "sequence = list('abcde')\n",
    "sequence"
   ]
  },
  {
   "cell_type": "code",
   "execution_count": 7,
   "id": "cabe7c4c",
   "metadata": {},
   "outputs": [
    {
     "data": {
      "text/plain": [
       "'a'"
      ]
     },
     "execution_count": 7,
     "metadata": {},
     "output_type": "execute_result"
    }
   ],
   "source": [
    "sequence[0]"
   ]
  },
  {
   "cell_type": "code",
   "execution_count": 8,
   "id": "30de1190",
   "metadata": {},
   "outputs": [
    {
     "data": {
      "text/plain": [
       "'e'"
      ]
     },
     "execution_count": 8,
     "metadata": {},
     "output_type": "execute_result"
    }
   ],
   "source": [
    "end = len(sequence) - 1\n",
    "sequence[end]"
   ]
  },
  {
   "cell_type": "code",
   "execution_count": 9,
   "id": "af6d5571",
   "metadata": {},
   "outputs": [
    {
     "name": "stdout",
     "output_type": "stream",
     "text": [
      "IndexError('list index out of range')\n"
     ]
    }
   ],
   "source": [
    "try:\n",
    "    sequence[100]\n",
    "except Exception as e:\n",
    "    print(repr(e))"
   ]
  },
  {
   "cell_type": "markdown",
   "id": "e313c4d4",
   "metadata": {},
   "source": [
    "You can also go from the end of the list at `-1` to the beginning at `-len(sequence)`"
   ]
  },
  {
   "cell_type": "code",
   "execution_count": 10,
   "id": "e42960d9",
   "metadata": {},
   "outputs": [
    {
     "data": {
      "text/plain": [
       "'e'"
      ]
     },
     "execution_count": 10,
     "metadata": {},
     "output_type": "execute_result"
    }
   ],
   "source": [
    "sequence[-1]"
   ]
  },
  {
   "cell_type": "code",
   "execution_count": 11,
   "id": "a257edec",
   "metadata": {},
   "outputs": [
    {
     "data": {
      "text/plain": [
       "'a'"
      ]
     },
     "execution_count": 11,
     "metadata": {},
     "output_type": "execute_result"
    }
   ],
   "source": [
    "beginning = -len(sequence)\n",
    "sequence[beginning]"
   ]
  },
  {
   "cell_type": "markdown",
   "id": "ae19f520",
   "metadata": {},
   "source": [
    "### Getting a sublist (slicing)\n",
    "\n",
    "The format is `sequence[start:stop:step]`\n",
    "\n",
    "This will return a new sequence with items starting at `start`, ending at `stop - 1`, and skipping `step` each time.\n",
    "\n",
    "`step` is optional, and the default is `1`.\n",
    "\n",
    "If a number is missing, its value is assumed to be either beginning or end of the list, depending on the context."
   ]
  },
  {
   "cell_type": "code",
   "execution_count": 12,
   "id": "5d0ada2f",
   "metadata": {},
   "outputs": [
    {
     "data": {
      "text/plain": [
       "['b', 'c']"
      ]
     },
     "execution_count": 12,
     "metadata": {},
     "output_type": "execute_result"
    }
   ],
   "source": [
    "sequence[1:3]  # indices 1 and 2"
   ]
  },
  {
   "cell_type": "code",
   "execution_count": 13,
   "id": "175b71c9",
   "metadata": {},
   "outputs": [
    {
     "data": {
      "text/plain": [
       "['a', 'b', 'c', 'd']"
      ]
     },
     "execution_count": 13,
     "metadata": {},
     "output_type": "execute_result"
    }
   ],
   "source": [
    "sequence[:4]  # beginning (0 to 3)"
   ]
  },
  {
   "cell_type": "code",
   "execution_count": 14,
   "id": "4a8c22d3",
   "metadata": {},
   "outputs": [
    {
     "data": {
      "text/plain": [
       "['c', 'd', 'e']"
      ]
     },
     "execution_count": 14,
     "metadata": {},
     "output_type": "execute_result"
    }
   ],
   "source": [
    "sequence[2:]  # 2 to end (2 to 4)"
   ]
  },
  {
   "cell_type": "code",
   "execution_count": 15,
   "id": "8e809727",
   "metadata": {},
   "outputs": [
    {
     "data": {
      "text/plain": [
       "['a', 'b', 'c', 'd', 'e']"
      ]
     },
     "execution_count": 15,
     "metadata": {},
     "output_type": "execute_result"
    }
   ],
   "source": [
    "sequence[:]  # full list"
   ]
  },
  {
   "cell_type": "code",
   "execution_count": 16,
   "id": "0974ef13",
   "metadata": {},
   "outputs": [
    {
     "data": {
      "text/plain": [
       "['a', 'c', 'e']"
      ]
     },
     "execution_count": 16,
     "metadata": {},
     "output_type": "execute_result"
    }
   ],
   "source": [
    "sequence[::2]  # every second item"
   ]
  },
  {
   "cell_type": "code",
   "execution_count": 17,
   "id": "160d2077",
   "metadata": {},
   "outputs": [
    {
     "data": {
      "text/plain": [
       "['c', 'b', 'a']"
      ]
     },
     "execution_count": 17,
     "metadata": {},
     "output_type": "execute_result"
    }
   ],
   "source": [
    "sequence[2::-1]  # 2, 1, 0"
   ]
  },
  {
   "cell_type": "code",
   "execution_count": 18,
   "id": "ddd077e8",
   "metadata": {},
   "outputs": [
    {
     "data": {
      "text/plain": [
       "['e', 'd', 'c', 'b', 'a']"
      ]
     },
     "execution_count": 18,
     "metadata": {},
     "output_type": "execute_result"
    }
   ],
   "source": [
    "sequence[::-1]  # reversed"
   ]
  },
  {
   "cell_type": "markdown",
   "id": "57cfb3c4",
   "metadata": {},
   "source": [
    "## Updating contents"
   ]
  },
  {
   "cell_type": "code",
   "execution_count": 19,
   "id": "c230d50a",
   "metadata": {},
   "outputs": [
    {
     "data": {
      "text/plain": [
       "['new', 'b', 'c', 'd', 'e']"
      ]
     },
     "execution_count": 19,
     "metadata": {},
     "output_type": "execute_result"
    }
   ],
   "source": [
    "sequence[0] = 'new'  # update existing item\n",
    "sequence"
   ]
  },
  {
   "cell_type": "code",
   "execution_count": 20,
   "id": "5bfd0bd4",
   "metadata": {},
   "outputs": [
    {
     "data": {
      "text/plain": [
       "['new', 'b', 'c', 'd']"
      ]
     },
     "execution_count": 20,
     "metadata": {},
     "output_type": "execute_result"
    }
   ],
   "source": [
    "del sequence[-1]  # deleting by index\n",
    "sequence"
   ]
  },
  {
   "cell_type": "code",
   "execution_count": 21,
   "id": "7aec7dc9",
   "metadata": {},
   "outputs": [
    {
     "data": {
      "text/plain": [
       "['new', 'b', 'c', 'd', 'end']"
      ]
     },
     "execution_count": 21,
     "metadata": {},
     "output_type": "execute_result"
    }
   ],
   "source": [
    "sequence.append('end')  # add item to the end\n",
    "sequence"
   ]
  },
  {
   "cell_type": "code",
   "execution_count": 22,
   "id": "577666d1",
   "metadata": {},
   "outputs": [
    {
     "data": {
      "text/plain": [
       "['new', 'a', 'b', 'c', 'd', 'end']"
      ]
     },
     "execution_count": 22,
     "metadata": {},
     "output_type": "execute_result"
    }
   ],
   "source": [
    "sequence.insert(1, 'a')  # add item at index\n",
    "sequence"
   ]
  },
  {
   "cell_type": "markdown",
   "id": "2f6c445f",
   "metadata": {},
   "source": [
    "## Checking containment"
   ]
  },
  {
   "cell_type": "code",
   "execution_count": 23,
   "id": "28256417",
   "metadata": {},
   "outputs": [
    {
     "data": {
      "text/plain": [
       "False"
      ]
     },
     "execution_count": 23,
     "metadata": {},
     "output_type": "execute_result"
    }
   ],
   "source": [
    "'e' in sequence"
   ]
  },
  {
   "cell_type": "code",
   "execution_count": 24,
   "id": "b8121f98",
   "metadata": {},
   "outputs": [
    {
     "data": {
      "text/plain": [
       "True"
      ]
     },
     "execution_count": 24,
     "metadata": {},
     "output_type": "execute_result"
    }
   ],
   "source": [
    "'a' in sequence"
   ]
  },
  {
   "cell_type": "markdown",
   "id": "6334ad7e",
   "metadata": {},
   "source": [
    "## Looping"
   ]
  },
  {
   "cell_type": "code",
   "execution_count": 25,
   "id": "b34a006c",
   "metadata": {},
   "outputs": [
    {
     "name": "stdout",
     "output_type": "stream",
     "text": [
      "newnew\n",
      "aa\n",
      "bb\n",
      "cc\n",
      "dd\n",
      "endend\n"
     ]
    }
   ],
   "source": [
    "for value in sequence:\n",
    "    print(value * 2)"
   ]
  },
  {
   "cell_type": "markdown",
   "id": "6d1c0f9c",
   "metadata": {},
   "source": [
    "If you need the index as well, use `enumerate()`"
   ]
  },
  {
   "cell_type": "code",
   "execution_count": 26,
   "id": "7255bb8a",
   "metadata": {},
   "outputs": [
    {
     "name": "stdout",
     "output_type": "stream",
     "text": [
      "0: new\n",
      "1: a\n",
      "2: b\n",
      "3: c\n",
      "4: d\n",
      "5: end\n"
     ]
    }
   ],
   "source": [
    "for i, value in enumerate(sequence):\n",
    "    print(f'{i}: {value}')"
   ]
  },
  {
   "cell_type": "markdown",
   "id": "7c85b046-0c89-442a-a05b-3d97af044eb8",
   "metadata": {},
   "source": [
    "Other built-in functions you can use when looping are `sorted()` and `reversed()`."
   ]
  },
  {
   "cell_type": "code",
   "execution_count": 27,
   "id": "437ca676",
   "metadata": {},
   "outputs": [
    {
     "name": "stdout",
     "output_type": "stream",
     "text": [
      "aa\n",
      "bb\n",
      "cc\n",
      "dd\n",
      "endend\n",
      "newnew\n"
     ]
    }
   ],
   "source": [
    "for value in sorted(sequence):\n",
    "    print(value * 2)"
   ]
  },
  {
   "cell_type": "code",
   "execution_count": 28,
   "id": "ef817b91",
   "metadata": {
    "lines_to_next_cell": 2
   },
   "outputs": [
    {
     "name": "stdout",
     "output_type": "stream",
     "text": [
      "endend\n",
      "dd\n",
      "cc\n",
      "bb\n",
      "aa\n",
      "newnew\n"
     ]
    }
   ],
   "source": [
    "for value in reversed(sequence):\n",
    "    print(value * 2)"
   ]
  },
  {
   "cell_type": "markdown",
   "id": "565b6a72",
   "metadata": {},
   "source": [
    "### Some methods change the object, and some return a new object\n",
    "`list.sort()` returns `None` but changes the list.\n",
    "\n",
    "`sorted(list)` returns a new sorted iterable, leaving the list unchanged."
   ]
  },
  {
   "cell_type": "code",
   "execution_count": 29,
   "id": "846f4417",
   "metadata": {
    "lines_to_next_cell": 2
   },
   "outputs": [
    {
     "name": "stdout",
     "output_type": "stream",
     "text": [
      "new\n",
      "end\n",
      "d\n",
      "c\n",
      "b\n",
      "a\n"
     ]
    }
   ],
   "source": [
    "for item in sorted(sequence, reverse=True):\n",
    "    print(item)"
   ]
  },
  {
   "cell_type": "code",
   "execution_count": 30,
   "id": "aff72da6",
   "metadata": {},
   "outputs": [
    {
     "name": "stdout",
     "output_type": "stream",
     "text": [
      "None\n"
     ]
    },
    {
     "data": {
      "text/plain": [
       "['a', 'b', 'c', 'd', 'end', 'new']"
      ]
     },
     "execution_count": 30,
     "metadata": {},
     "output_type": "execute_result"
    }
   ],
   "source": [
    "print(sequence.sort())\n",
    "sequence"
   ]
  },
  {
   "cell_type": "code",
   "execution_count": 31,
   "id": "1f525498",
   "metadata": {},
   "outputs": [
    {
     "name": "stdout",
     "output_type": "stream",
     "text": [
      "None\n"
     ]
    },
    {
     "data": {
      "text/plain": [
       "['new', 'end', 'd', 'c', 'b', 'a']"
      ]
     },
     "execution_count": 31,
     "metadata": {},
     "output_type": "execute_result"
    }
   ],
   "source": [
    "print(sequence.reverse())  # Returns None, but changes users\n",
    "sequence"
   ]
  },
  {
   "cell_type": "code",
   "execution_count": 32,
   "id": "8f5c1833",
   "metadata": {},
   "outputs": [
    {
     "data": {
      "text/plain": [
       "['a', 'b', 'c', 'd', 'end', 'new']"
      ]
     },
     "execution_count": 32,
     "metadata": {},
     "output_type": "execute_result"
    }
   ],
   "source": [
    "sequence[::-1]  # Returns a new, reversed list, users is unchanged"
   ]
  }
 ],
 "metadata": {
  "jupytext": {
   "cell_metadata_filter": "-all",
   "formats": "auto:light,ipynb",
   "main_language": "python",
   "notebook_metadata_filter": "-all"
  },
  "kernelspec": {
   "display_name": "Python 3 (ipykernel)",
   "language": "python",
   "name": "python3"
  },
  "language_info": {
   "codemirror_mode": {
    "name": "ipython",
    "version": 3
   },
   "file_extension": ".py",
   "mimetype": "text/x-python",
   "name": "python",
   "nbconvert_exporter": "python",
   "pygments_lexer": "ipython3",
   "version": "3.11.4"
  }
 },
 "nbformat": 4,
 "nbformat_minor": 5
}
