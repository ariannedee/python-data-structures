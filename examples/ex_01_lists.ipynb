{
 "cells": [
  {
   "cell_type": "markdown",
   "id": "b5af1b7d",
   "metadata": {},
   "source": [
    "# Lists\n",
    "Ordered collection of objects, with easy access to items by position (index).\n",
    "## Creating lists"
   ]
  },
  {
   "cell_type": "code",
   "execution_count": null,
   "id": "813d0f6d",
   "metadata": {},
   "outputs": [],
   "source": [
    "list()"
   ]
  },
  {
   "cell_type": "code",
   "execution_count": null,
   "id": "53782a41",
   "metadata": {},
   "outputs": [],
   "source": [
    "['a', 'b', 1, 2]"
   ]
  },
  {
   "cell_type": "code",
   "execution_count": null,
   "id": "f60b74bd",
   "metadata": {},
   "outputs": [],
   "source": [
    "list('12345')"
   ]
  },
  {
   "cell_type": "code",
   "execution_count": null,
   "id": "a2f6a0dc",
   "metadata": {},
   "outputs": [],
   "source": [
    "list({'hello': 'world', 'foo': 'bar'})  # Only takes keys"
   ]
  },
  {
   "cell_type": "markdown",
   "id": "91ecf66a",
   "metadata": {},
   "source": [
    "You can also build lists using **list comprehensions**"
   ]
  },
  {
   "cell_type": "code",
   "execution_count": null,
   "id": "caaa5731",
   "metadata": {},
   "outputs": [],
   "source": [
    "[2 ** i for i in range(12)]"
   ]
  },
  {
   "cell_type": "markdown",
   "id": "8ac8bc70",
   "metadata": {},
   "source": [
    "We will look more at list comprehensions in the second hour of the class."
   ]
  },
  {
   "cell_type": "markdown",
   "id": "6cfd2d3d",
   "metadata": {},
   "source": [
    "## Slicing and indexing lists\n",
    "These also work on any sequence (tuple, string, bytearray, etc)\n",
    "\n",
    "### Getting an item via index (indexing)\n",
    "The format is `sequence[index]`\n",
    "\n",
    "Indices start at `0` and go to `len(sequence) - 1`."
   ]
  },
  {
   "cell_type": "code",
   "execution_count": null,
   "id": "12d90ab5",
   "metadata": {},
   "outputs": [],
   "source": [
    "sequence = list('abcde')\n",
    "sequence"
   ]
  },
  {
   "cell_type": "code",
   "execution_count": null,
   "id": "cabe7c4c",
   "metadata": {},
   "outputs": [],
   "source": [
    "sequence[0]"
   ]
  },
  {
   "cell_type": "code",
   "execution_count": null,
   "id": "30de1190",
   "metadata": {},
   "outputs": [],
   "source": [
    "end = len(sequence) - 1\n",
    "sequence[end]"
   ]
  },
  {
   "cell_type": "code",
   "execution_count": null,
   "id": "af6d5571",
   "metadata": {},
   "outputs": [],
   "source": [
    "try:\n",
    "    sequence[100]\n",
    "except Exception as e:\n",
    "    print(repr(e))"
   ]
  },
  {
   "cell_type": "markdown",
   "id": "e313c4d4",
   "metadata": {},
   "source": [
    "You can also go from the end of the list at `-1` to the beginning at `-len(sequence)`"
   ]
  },
  {
   "cell_type": "code",
   "execution_count": null,
   "id": "e42960d9",
   "metadata": {},
   "outputs": [],
   "source": [
    "sequence[-1]"
   ]
  },
  {
   "cell_type": "code",
   "execution_count": null,
   "id": "a257edec",
   "metadata": {},
   "outputs": [],
   "source": [
    "beginning = -len(sequence)\n",
    "sequence[beginning]"
   ]
  },
  {
   "cell_type": "markdown",
   "id": "ae19f520",
   "metadata": {},
   "source": [
    "### Getting a sublist (slicing)\n",
    "\n",
    "The format is `sequence[start:stop:step]`\n",
    "\n",
    "This will return a new sequence with items starting at `start`, ending at `stop - 1`, and skipping `step` each time.\n",
    "\n",
    "`step` is optional, and the default is `1`.\n",
    "\n",
    "If a number is missing, its value is assumed to be either beginning or end of the list, depending on the context."
   ]
  },
  {
   "cell_type": "code",
   "execution_count": null,
   "id": "5d0ada2f",
   "metadata": {},
   "outputs": [],
   "source": [
    "sequence[1:3]  # indices 1 and 2"
   ]
  },
  {
   "cell_type": "code",
   "execution_count": null,
   "id": "175b71c9",
   "metadata": {},
   "outputs": [],
   "source": [
    "sequence[:4]  # beginning (0 to 3)"
   ]
  },
  {
   "cell_type": "code",
   "execution_count": null,
   "id": "4a8c22d3",
   "metadata": {},
   "outputs": [],
   "source": [
    "sequence[2:]  # 2 to end (2 to 4)"
   ]
  },
  {
   "cell_type": "code",
   "execution_count": null,
   "id": "8e809727",
   "metadata": {},
   "outputs": [],
   "source": [
    "sequence[:]  # full list"
   ]
  },
  {
   "cell_type": "code",
   "execution_count": null,
   "id": "0974ef13",
   "metadata": {},
   "outputs": [],
   "source": [
    "sequence[::2]  # every second item"
   ]
  },
  {
   "cell_type": "code",
   "execution_count": null,
   "id": "160d2077",
   "metadata": {},
   "outputs": [],
   "source": [
    "sequence[2::-1]  # 2, 1, 0"
   ]
  },
  {
   "cell_type": "code",
   "execution_count": null,
   "id": "ddd077e8",
   "metadata": {},
   "outputs": [],
   "source": [
    "sequence[::-1]  # reversed"
   ]
  },
  {
   "cell_type": "markdown",
   "id": "57cfb3c4",
   "metadata": {},
   "source": [
    "## Updating contents"
   ]
  },
  {
   "cell_type": "code",
   "execution_count": null,
   "id": "c230d50a",
   "metadata": {},
   "outputs": [],
   "source": [
    "sequence[0] = 'new'  # update existing item\n",
    "sequence"
   ]
  },
  {
   "cell_type": "code",
   "execution_count": null,
   "id": "5bfd0bd4",
   "metadata": {},
   "outputs": [],
   "source": [
    "del sequence[-1]  # deleting by index\n",
    "sequence"
   ]
  },
  {
   "cell_type": "code",
   "execution_count": null,
   "id": "7aec7dc9",
   "metadata": {},
   "outputs": [],
   "source": [
    "sequence.append('end')  # add item to the end\n",
    "sequence"
   ]
  },
  {
   "cell_type": "code",
   "execution_count": null,
   "id": "577666d1",
   "metadata": {},
   "outputs": [],
   "source": [
    "sequence.insert(1, 'a')  # add item at index\n",
    "sequence"
   ]
  },
  {
   "cell_type": "markdown",
   "id": "2f6c445f",
   "metadata": {},
   "source": [
    "## Checking containment"
   ]
  },
  {
   "cell_type": "code",
   "execution_count": null,
   "id": "28256417",
   "metadata": {},
   "outputs": [],
   "source": [
    "'e' in sequence"
   ]
  },
  {
   "cell_type": "code",
   "execution_count": null,
   "id": "b8121f98",
   "metadata": {},
   "outputs": [],
   "source": [
    "'a' in sequence"
   ]
  },
  {
   "cell_type": "markdown",
   "id": "6334ad7e",
   "metadata": {},
   "source": [
    "## Looping"
   ]
  },
  {
   "cell_type": "code",
   "execution_count": null,
   "id": "b34a006c",
   "metadata": {},
   "outputs": [],
   "source": [
    "for value in sequence:\n",
    "    print(value * 2)"
   ]
  },
  {
   "cell_type": "markdown",
   "id": "6d1c0f9c",
   "metadata": {},
   "source": [
    "If you need the index as well, use `enumerate()`"
   ]
  },
  {
   "cell_type": "code",
   "execution_count": null,
   "id": "7255bb8a",
   "metadata": {},
   "outputs": [],
   "source": [
    "for i, value in enumerate(sequence):\n",
    "    print(f'{i}: {value}')"
   ]
  },
  {
   "cell_type": "code",
   "execution_count": null,
   "id": "437ca676",
   "metadata": {},
   "outputs": [],
   "source": [
    "for value in sorted(sequence):\n",
    "    print(value * 2)"
   ]
  },
  {
   "cell_type": "code",
   "execution_count": null,
   "id": "ef817b91",
   "metadata": {},
   "outputs": [],
   "source": [
    "for value in reversed(sequence):\n",
    "    print(value * 2)"
   ]
  },
  {
   "cell_type": "code",
   "execution_count": null,
   "id": "846f4417",
   "metadata": {},
   "outputs": [],
   "source": [
    "sequence.reverse()"
   ]
  },
  {
   "cell_type": "code",
   "execution_count": null,
   "id": "aff72da6",
   "metadata": {},
   "outputs": [],
   "source": [
    "sequence"
   ]
  },
  {
   "cell_type": "code",
   "execution_count": null,
   "id": "1f525498",
   "metadata": {},
   "outputs": [],
   "source": [
    "sequence.sort()"
   ]
  },
  {
   "cell_type": "code",
   "execution_count": null,
   "id": "8f5c1833",
   "metadata": {},
   "outputs": [],
   "source": [
    "sequence"
   ]
  },
  {
   "cell_type": "code",
   "execution_count": null,
   "id": "2cf3c766",
   "metadata": {},
   "outputs": [],
   "source": []
  }
 ],
 "metadata": {
  "jupytext": {
   "cell_metadata_filter": "-all",
   "formats": "auto:light,ipynb",
   "main_language": "python",
   "notebook_metadata_filter": "-all"
  },
  "kernelspec": {
   "display_name": "Python 3 (ipykernel)",
   "language": "python",
   "name": "python3"
  },
  "language_info": {
   "codemirror_mode": {
    "name": "ipython",
    "version": 3
   },
   "file_extension": ".py",
   "mimetype": "text/x-python",
   "name": "python",
   "nbconvert_exporter": "python",
   "pygments_lexer": "ipython3",
   "version": "3.11.4"
  }
 },
 "nbformat": 4,
 "nbformat_minor": 5
}
