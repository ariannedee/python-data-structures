{
 "cells": [
  {
   "cell_type": "markdown",
   "id": "b5af1b7d",
   "metadata": {},
   "source": [
    "# Lists\n",
    "Ordered collection of objects, with easy access to items by position (index).\n",
    "## Creating lists"
   ]
  },
  {
   "cell_type": "code",
   "id": "53782a41",
   "metadata": {
    "ExecuteTime": {
     "end_time": "2025-06-11T20:16:44.682668Z",
     "start_time": "2025-06-11T20:16:44.679456Z"
    }
   },
   "source": [
    "['a', 'b', 1, 2]"
   ],
   "outputs": [
    {
     "data": {
      "text/plain": [
       "['a', 'b', 1, 2]"
      ]
     },
     "execution_count": 77,
     "metadata": {},
     "output_type": "execute_result"
    }
   ],
   "execution_count": 77
  },
  {
   "cell_type": "code",
   "id": "f60b74bd",
   "metadata": {
    "ExecuteTime": {
     "end_time": "2025-06-11T20:16:44.703933Z",
     "start_time": "2025-06-11T20:16:44.701237Z"
    }
   },
   "source": "list('12345')",
   "outputs": [
    {
     "data": {
      "text/plain": [
       "['1', '2', '3', '4', '5']"
      ]
     },
     "execution_count": 78,
     "metadata": {},
     "output_type": "execute_result"
    }
   ],
   "execution_count": 78
  },
  {
   "cell_type": "code",
   "id": "a2f6a0dc",
   "metadata": {
    "ExecuteTime": {
     "end_time": "2025-06-11T20:16:44.726796Z",
     "start_time": "2025-06-11T20:16:44.724633Z"
    }
   },
   "source": [
    "list({'hello': 'world', 'foo': 'bar'})  # Only takes keys"
   ],
   "outputs": [
    {
     "data": {
      "text/plain": [
       "['hello', 'foo']"
      ]
     },
     "execution_count": 79,
     "metadata": {},
     "output_type": "execute_result"
    }
   ],
   "execution_count": 79
  },
  {
   "cell_type": "markdown",
   "id": "91ecf66a",
   "metadata": {},
   "source": [
    "You can also build lists using **list comprehensions**"
   ]
  },
  {
   "cell_type": "code",
   "id": "caaa5731",
   "metadata": {
    "ExecuteTime": {
     "end_time": "2025-06-11T20:16:44.750137Z",
     "start_time": "2025-06-11T20:16:44.747562Z"
    }
   },
   "source": [
    "[2 ** i for i in range(12)]"
   ],
   "outputs": [
    {
     "data": {
      "text/plain": [
       "[1, 2, 4, 8, 16, 32, 64, 128, 256, 512, 1024, 2048]"
      ]
     },
     "execution_count": 80,
     "metadata": {},
     "output_type": "execute_result"
    }
   ],
   "execution_count": 80
  },
  {
   "cell_type": "markdown",
   "id": "8ac8bc70",
   "metadata": {},
   "source": [
    "We will look more at list comprehensions in the second hour of the class."
   ]
  },
  {
   "cell_type": "markdown",
   "id": "6cfd2d3d",
   "metadata": {},
   "source": [
    "## Slicing and indexing lists\n",
    "These also work on any sequence (tuple, string, bytearray, etc)\n",
    "\n",
    "### Getting an item via index (indexing)\n",
    "The format is `sequence[index]`\n",
    "\n",
    "Indices start at `0` and go to `len(sequence) - 1`."
   ]
  },
  {
   "cell_type": "code",
   "id": "12d90ab5",
   "metadata": {
    "ExecuteTime": {
     "end_time": "2025-06-11T20:16:44.767919Z",
     "start_time": "2025-06-11T20:16:44.765630Z"
    }
   },
   "source": [
    "sequence = list('abcde')\n",
    "sequence"
   ],
   "outputs": [
    {
     "data": {
      "text/plain": [
       "['a', 'b', 'c', 'd', 'e']"
      ]
     },
     "execution_count": 81,
     "metadata": {},
     "output_type": "execute_result"
    }
   ],
   "execution_count": 81
  },
  {
   "cell_type": "code",
   "id": "cabe7c4c",
   "metadata": {
    "ExecuteTime": {
     "end_time": "2025-06-11T20:16:44.784917Z",
     "start_time": "2025-06-11T20:16:44.782384Z"
    }
   },
   "source": [
    "sequence[0]"
   ],
   "outputs": [
    {
     "data": {
      "text/plain": [
       "'a'"
      ]
     },
     "execution_count": 82,
     "metadata": {},
     "output_type": "execute_result"
    }
   ],
   "execution_count": 82
  },
  {
   "cell_type": "code",
   "id": "30de1190",
   "metadata": {
    "ExecuteTime": {
     "end_time": "2025-06-11T20:16:44.800936Z",
     "start_time": "2025-06-11T20:16:44.798744Z"
    }
   },
   "source": [
    "end = len(sequence) - 1\n",
    "sequence[end]"
   ],
   "outputs": [
    {
     "data": {
      "text/plain": [
       "'e'"
      ]
     },
     "execution_count": 83,
     "metadata": {},
     "output_type": "execute_result"
    }
   ],
   "execution_count": 83
  },
  {
   "cell_type": "code",
   "id": "af6d5571",
   "metadata": {
    "ExecuteTime": {
     "end_time": "2025-06-11T20:16:44.816582Z",
     "start_time": "2025-06-11T20:16:44.814455Z"
    }
   },
   "source": [
    "try:\n",
    "    sequence[100]\n",
    "except Exception as e:\n",
    "    print(repr(e))"
   ],
   "outputs": [
    {
     "name": "stdout",
     "output_type": "stream",
     "text": [
      "IndexError('list index out of range')\n"
     ]
    }
   ],
   "execution_count": 84
  },
  {
   "cell_type": "markdown",
   "id": "e313c4d4",
   "metadata": {},
   "source": [
    "You can also go from the end of the list at `-1` to the beginning at `-len(sequence)`"
   ]
  },
  {
   "cell_type": "code",
   "id": "e42960d9",
   "metadata": {
    "ExecuteTime": {
     "end_time": "2025-06-11T20:16:44.829416Z",
     "start_time": "2025-06-11T20:16:44.827368Z"
    }
   },
   "source": [
    "sequence[-1]"
   ],
   "outputs": [
    {
     "data": {
      "text/plain": [
       "'e'"
      ]
     },
     "execution_count": 85,
     "metadata": {},
     "output_type": "execute_result"
    }
   ],
   "execution_count": 85
  },
  {
   "cell_type": "code",
   "id": "a257edec",
   "metadata": {
    "ExecuteTime": {
     "end_time": "2025-06-11T20:16:44.843869Z",
     "start_time": "2025-06-11T20:16:44.841602Z"
    }
   },
   "source": [
    "beginning = -len(sequence)\n",
    "sequence[beginning]"
   ],
   "outputs": [
    {
     "data": {
      "text/plain": [
       "'a'"
      ]
     },
     "execution_count": 86,
     "metadata": {},
     "output_type": "execute_result"
    }
   ],
   "execution_count": 86
  },
  {
   "cell_type": "markdown",
   "id": "ae19f520",
   "metadata": {},
   "source": [
    "### Getting a sublist (slicing)\n",
    "\n",
    "The format is `sequence[start:stop:step]`\n",
    "\n",
    "This will return a new sequence with items starting at `start`, ending at `stop - 1`, and skipping `step` each time.\n",
    "\n",
    "`step` is optional, and the default is `1`.\n",
    "\n",
    "If a number is missing, its value is assumed to be either beginning or end of the list, depending on the context."
   ]
  },
  {
   "cell_type": "code",
   "id": "5d0ada2f",
   "metadata": {
    "ExecuteTime": {
     "end_time": "2025-06-11T20:16:44.858794Z",
     "start_time": "2025-06-11T20:16:44.856584Z"
    }
   },
   "source": "sequence[1:3]  # indices 1 and 2",
   "outputs": [
    {
     "data": {
      "text/plain": [
       "['b', 'c']"
      ]
     },
     "execution_count": 87,
     "metadata": {},
     "output_type": "execute_result"
    }
   ],
   "execution_count": 87
  },
  {
   "cell_type": "code",
   "id": "175b71c9",
   "metadata": {
    "ExecuteTime": {
     "end_time": "2025-06-11T20:16:44.873362Z",
     "start_time": "2025-06-11T20:16:44.871201Z"
    }
   },
   "source": [
    "sequence[:4]  # beginning (0 to 3)"
   ],
   "outputs": [
    {
     "data": {
      "text/plain": [
       "['a', 'b', 'c', 'd']"
      ]
     },
     "execution_count": 88,
     "metadata": {},
     "output_type": "execute_result"
    }
   ],
   "execution_count": 88
  },
  {
   "cell_type": "code",
   "id": "4a8c22d3",
   "metadata": {
    "ExecuteTime": {
     "end_time": "2025-06-11T20:16:44.888219Z",
     "start_time": "2025-06-11T20:16:44.886038Z"
    }
   },
   "source": [
    "sequence[2:]  # 2 to end (2 to 4)"
   ],
   "outputs": [
    {
     "data": {
      "text/plain": [
       "['c', 'd', 'e']"
      ]
     },
     "execution_count": 89,
     "metadata": {},
     "output_type": "execute_result"
    }
   ],
   "execution_count": 89
  },
  {
   "cell_type": "code",
   "id": "8e809727",
   "metadata": {
    "ExecuteTime": {
     "end_time": "2025-06-11T20:16:44.904648Z",
     "start_time": "2025-06-11T20:16:44.902533Z"
    }
   },
   "source": [
    "sequence[:]  # full list"
   ],
   "outputs": [
    {
     "data": {
      "text/plain": [
       "['a', 'b', 'c', 'd', 'e']"
      ]
     },
     "execution_count": 90,
     "metadata": {},
     "output_type": "execute_result"
    }
   ],
   "execution_count": 90
  },
  {
   "cell_type": "code",
   "id": "0974ef13",
   "metadata": {
    "ExecuteTime": {
     "end_time": "2025-06-11T20:16:44.919590Z",
     "start_time": "2025-06-11T20:16:44.917315Z"
    }
   },
   "source": [
    "sequence[::2]  # every second item"
   ],
   "outputs": [
    {
     "data": {
      "text/plain": [
       "['a', 'c', 'e']"
      ]
     },
     "execution_count": 91,
     "metadata": {},
     "output_type": "execute_result"
    }
   ],
   "execution_count": 91
  },
  {
   "cell_type": "code",
   "id": "ddd077e8",
   "metadata": {
    "ExecuteTime": {
     "end_time": "2025-06-11T20:16:44.938943Z",
     "start_time": "2025-06-11T20:16:44.936517Z"
    }
   },
   "source": [
    "sequence[::-1]  # reversed"
   ],
   "outputs": [
    {
     "data": {
      "text/plain": [
       "['e', 'd', 'c', 'b', 'a']"
      ]
     },
     "execution_count": 92,
     "metadata": {},
     "output_type": "execute_result"
    }
   ],
   "execution_count": 92
  },
  {
   "cell_type": "markdown",
   "id": "57cfb3c4",
   "metadata": {},
   "source": [
    "## Updating contents"
   ]
  },
  {
   "cell_type": "code",
   "id": "c230d50a",
   "metadata": {
    "ExecuteTime": {
     "end_time": "2025-06-11T20:16:44.953565Z",
     "start_time": "2025-06-11T20:16:44.951580Z"
    }
   },
   "source": [
    "sequence[0] = 'new'  # update existing item\n",
    "sequence"
   ],
   "outputs": [
    {
     "data": {
      "text/plain": [
       "['new', 'b', 'c', 'd', 'e']"
      ]
     },
     "execution_count": 93,
     "metadata": {},
     "output_type": "execute_result"
    }
   ],
   "execution_count": 93
  },
  {
   "cell_type": "code",
   "id": "5bfd0bd4",
   "metadata": {
    "ExecuteTime": {
     "end_time": "2025-06-11T20:16:44.969463Z",
     "start_time": "2025-06-11T20:16:44.966759Z"
    }
   },
   "source": [
    "del sequence[-1]  # deleting by index\n",
    "sequence"
   ],
   "outputs": [
    {
     "data": {
      "text/plain": [
       "['new', 'b', 'c', 'd']"
      ]
     },
     "execution_count": 94,
     "metadata": {},
     "output_type": "execute_result"
    }
   ],
   "execution_count": 94
  },
  {
   "cell_type": "code",
   "id": "7aec7dc9",
   "metadata": {
    "ExecuteTime": {
     "end_time": "2025-06-11T20:16:44.985851Z",
     "start_time": "2025-06-11T20:16:44.983016Z"
    }
   },
   "source": [
    "sequence.append('end')  # add item to the end\n",
    "sequence"
   ],
   "outputs": [
    {
     "data": {
      "text/plain": [
       "['new', 'b', 'c', 'd', 'end']"
      ]
     },
     "execution_count": 95,
     "metadata": {},
     "output_type": "execute_result"
    }
   ],
   "execution_count": 95
  },
  {
   "cell_type": "code",
   "id": "577666d1",
   "metadata": {
    "ExecuteTime": {
     "end_time": "2025-06-11T20:16:44.997547Z",
     "start_time": "2025-06-11T20:16:44.994677Z"
    }
   },
   "source": [
    "sequence.insert(1, 'a')  # add item at index\n",
    "sequence"
   ],
   "outputs": [
    {
     "data": {
      "text/plain": [
       "['new', 'a', 'b', 'c', 'd', 'end']"
      ]
     },
     "execution_count": 96,
     "metadata": {},
     "output_type": "execute_result"
    }
   ],
   "execution_count": 96
  },
  {
   "cell_type": "markdown",
   "id": "2f6c445f",
   "metadata": {},
   "source": [
    "## Checking containment"
   ]
  },
  {
   "cell_type": "code",
   "id": "28256417",
   "metadata": {
    "ExecuteTime": {
     "end_time": "2025-06-11T20:16:45.016011Z",
     "start_time": "2025-06-11T20:16:45.012998Z"
    }
   },
   "source": [
    "'e' in sequence"
   ],
   "outputs": [
    {
     "data": {
      "text/plain": [
       "False"
      ]
     },
     "execution_count": 97,
     "metadata": {},
     "output_type": "execute_result"
    }
   ],
   "execution_count": 97
  },
  {
   "cell_type": "code",
   "id": "b8121f98",
   "metadata": {
    "ExecuteTime": {
     "end_time": "2025-06-11T20:16:45.031832Z",
     "start_time": "2025-06-11T20:16:45.029142Z"
    }
   },
   "source": [
    "'a' in sequence"
   ],
   "outputs": [
    {
     "data": {
      "text/plain": [
       "True"
      ]
     },
     "execution_count": 98,
     "metadata": {},
     "output_type": "execute_result"
    }
   ],
   "execution_count": 98
  },
  {
   "cell_type": "markdown",
   "id": "6334ad7e",
   "metadata": {},
   "source": [
    "## Looping"
   ]
  },
  {
   "cell_type": "code",
   "id": "b34a006c",
   "metadata": {
    "ExecuteTime": {
     "end_time": "2025-06-11T20:16:45.051581Z",
     "start_time": "2025-06-11T20:16:45.049974Z"
    }
   },
   "source": [
    "for value in sequence:\n",
    "    print(value * 2)"
   ],
   "outputs": [
    {
     "name": "stdout",
     "output_type": "stream",
     "text": [
      "newnew\n",
      "aa\n",
      "bb\n",
      "cc\n",
      "dd\n",
      "endend\n"
     ]
    }
   ],
   "execution_count": 99
  },
  {
   "cell_type": "markdown",
   "id": "6d1c0f9c",
   "metadata": {},
   "source": [
    "If you need the index as well, use `enumerate()`"
   ]
  },
  {
   "cell_type": "code",
   "id": "7255bb8a",
   "metadata": {
    "ExecuteTime": {
     "end_time": "2025-06-11T20:16:45.071584Z",
     "start_time": "2025-06-11T20:16:45.069804Z"
    }
   },
   "source": [
    "for i, value in enumerate(sequence):\n",
    "    print(f'{i}: {value}')"
   ],
   "outputs": [
    {
     "name": "stdout",
     "output_type": "stream",
     "text": [
      "0: new\n",
      "1: a\n",
      "2: b\n",
      "3: c\n",
      "4: d\n",
      "5: end\n"
     ]
    }
   ],
   "execution_count": 100
  },
  {
   "cell_type": "markdown",
   "id": "7c85b046-0c89-442a-a05b-3d97af044eb8",
   "metadata": {},
   "source": [
    "Other built-in functions you can use when looping are `sorted()` and `reversed()`."
   ]
  },
  {
   "cell_type": "code",
   "id": "437ca676",
   "metadata": {
    "ExecuteTime": {
     "end_time": "2025-06-11T20:16:45.089567Z",
     "start_time": "2025-06-11T20:16:45.087622Z"
    }
   },
   "source": [
    "for value in sorted(sequence):\n",
    "    print(value * 2)"
   ],
   "outputs": [
    {
     "name": "stdout",
     "output_type": "stream",
     "text": [
      "aa\n",
      "bb\n",
      "cc\n",
      "dd\n",
      "endend\n",
      "newnew\n"
     ]
    }
   ],
   "execution_count": 101
  },
  {
   "cell_type": "code",
   "id": "ef817b91",
   "metadata": {
    "lines_to_next_cell": 2,
    "ExecuteTime": {
     "end_time": "2025-06-11T20:16:45.107401Z",
     "start_time": "2025-06-11T20:16:45.105495Z"
    }
   },
   "source": [
    "for value in reversed(sequence):\n",
    "    print(value * 2)"
   ],
   "outputs": [
    {
     "name": "stdout",
     "output_type": "stream",
     "text": [
      "endend\n",
      "dd\n",
      "cc\n",
      "bb\n",
      "aa\n",
      "newnew\n"
     ]
    }
   ],
   "execution_count": 102
  },
  {
   "cell_type": "markdown",
   "id": "565b6a72",
   "metadata": {},
   "source": [
    "### Some methods change the object, and some return a new object\n",
    "`list.sort()` returns `None` but changes the list.\n",
    "\n",
    "`sorted(list)` returns a new sorted iterable, leaving the list unchanged."
   ]
  },
  {
   "cell_type": "code",
   "id": "846f4417",
   "metadata": {
    "lines_to_next_cell": 2,
    "ExecuteTime": {
     "end_time": "2025-06-11T20:16:45.123172Z",
     "start_time": "2025-06-11T20:16:45.121160Z"
    }
   },
   "source": [
    "for item in sorted(sequence, reverse=True):\n",
    "    print(item)"
   ],
   "outputs": [
    {
     "name": "stdout",
     "output_type": "stream",
     "text": [
      "new\n",
      "end\n",
      "d\n",
      "c\n",
      "b\n",
      "a\n"
     ]
    }
   ],
   "execution_count": 103
  },
  {
   "cell_type": "code",
   "id": "aff72da6",
   "metadata": {
    "ExecuteTime": {
     "end_time": "2025-06-11T20:16:45.136222Z",
     "start_time": "2025-06-11T20:16:45.133812Z"
    }
   },
   "source": [
    "print(sequence.sort())\n",
    "sequence"
   ],
   "outputs": [
    {
     "name": "stdout",
     "output_type": "stream",
     "text": [
      "None\n"
     ]
    },
    {
     "data": {
      "text/plain": [
       "['a', 'b', 'c', 'd', 'end', 'new']"
      ]
     },
     "execution_count": 104,
     "metadata": {},
     "output_type": "execute_result"
    }
   ],
   "execution_count": 104
  },
  {
   "cell_type": "code",
   "id": "1f525498",
   "metadata": {
    "ExecuteTime": {
     "end_time": "2025-06-11T20:16:45.151637Z",
     "start_time": "2025-06-11T20:16:45.149625Z"
    }
   },
   "source": [
    "print(sequence.reverse())  # Returns None, but changes users\n",
    "sequence"
   ],
   "outputs": [
    {
     "name": "stdout",
     "output_type": "stream",
     "text": [
      "None\n"
     ]
    },
    {
     "data": {
      "text/plain": [
       "['new', 'end', 'd', 'c', 'b', 'a']"
      ]
     },
     "execution_count": 105,
     "metadata": {},
     "output_type": "execute_result"
    }
   ],
   "execution_count": 105
  },
  {
   "cell_type": "code",
   "id": "8f5c1833",
   "metadata": {
    "ExecuteTime": {
     "end_time": "2025-06-11T20:16:45.171640Z",
     "start_time": "2025-06-11T20:16:45.169575Z"
    }
   },
   "source": [
    "sequence[::-1]  # Returns a new, reversed list, users is unchanged"
   ],
   "outputs": [
    {
     "data": {
      "text/plain": [
       "['a', 'b', 'c', 'd', 'end', 'new']"
      ]
     },
     "execution_count": 106,
     "metadata": {},
     "output_type": "execute_result"
    }
   ],
   "execution_count": 106
  },
  {
   "metadata": {
    "ExecuteTime": {
     "end_time": "2025-06-11T20:16:45.192405Z",
     "start_time": "2025-06-11T20:16:45.187873Z"
    }
   },
   "cell_type": "code",
   "source": "reversed(sequence)  # Returns an iterator that can be looped over",
   "id": "8828c368ad5ab187",
   "outputs": [
    {
     "data": {
      "text/plain": [
       "<list_reverseiterator at 0x106bff250>"
      ]
     },
     "execution_count": 107,
     "metadata": {},
     "output_type": "execute_result"
    }
   ],
   "execution_count": 107
  }
 ],
 "metadata": {
  "jupytext": {
   "cell_metadata_filter": "-all",
   "formats": "auto:light,ipynb",
   "main_language": "python",
   "notebook_metadata_filter": "-all"
  },
  "kernelspec": {
   "display_name": "Python 3 (ipykernel)",
   "language": "python",
   "name": "python3"
  },
  "language_info": {
   "codemirror_mode": {
    "name": "ipython",
    "version": 3
   },
   "file_extension": ".py",
   "mimetype": "text/x-python",
   "name": "python",
   "nbconvert_exporter": "python",
   "pygments_lexer": "ipython3",
   "version": "3.11.4"
  }
 },
 "nbformat": 4,
 "nbformat_minor": 5
}
