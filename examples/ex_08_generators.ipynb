{
 "cells": [
  {
   "cell_type": "markdown",
   "id": "6856b48d",
   "metadata": {},
   "source": [
    "# Generator comprehensions\n",
    "If your main purpose is looping over a sequence and you don't need a list object, using a generator will save memory and can be a lot faster to run."
   ]
  },
  {
   "cell_type": "code",
   "id": "cc3fe503",
   "metadata": {
    "ExecuteTime": {
     "end_time": "2025-06-11T20:24:16.666367Z",
     "start_time": "2025-06-11T20:24:16.663801Z"
    }
   },
   "source": [
    "squares = (i ** 2 for i in range(10))\n",
    "print(squares)"
   ],
   "outputs": [
    {
     "name": "stdout",
     "output_type": "stream",
     "text": [
      "<generator object <genexpr> at 0x104562f60>\n"
     ]
    }
   ],
   "execution_count": 78
  },
  {
   "metadata": {
    "ExecuteTime": {
     "end_time": "2025-06-11T20:24:16.685973Z",
     "start_time": "2025-06-11T20:24:16.683275Z"
    }
   },
   "cell_type": "code",
   "source": "next(squares)",
   "id": "5fcb217b80b40f79",
   "outputs": [
    {
     "data": {
      "text/plain": [
       "0"
      ]
     },
     "execution_count": 79,
     "metadata": {},
     "output_type": "execute_result"
    }
   ],
   "execution_count": 79
  },
  {
   "cell_type": "code",
   "id": "9a5b63f1",
   "metadata": {
    "ExecuteTime": {
     "end_time": "2025-06-11T20:24:16.705138Z",
     "start_time": "2025-06-11T20:24:16.703252Z"
    }
   },
   "source": [
    "for num in squares:\n",
    "    print(num)"
   ],
   "outputs": [
    {
     "name": "stdout",
     "output_type": "stream",
     "text": [
      "1\n",
      "4\n",
      "9\n",
      "16\n",
      "25\n",
      "36\n",
      "49\n",
      "64\n",
      "81\n"
     ]
    }
   ],
   "execution_count": 80
  },
  {
   "cell_type": "markdown",
   "id": "7c6bacb0",
   "metadata": {},
   "source": [
    "Generators can only be looped over once"
   ]
  },
  {
   "cell_type": "code",
   "id": "0bea45b5",
   "metadata": {
    "ExecuteTime": {
     "end_time": "2025-06-11T20:24:16.720560Z",
     "start_time": "2025-06-11T20:24:16.719127Z"
    }
   },
   "source": [
    "for num in squares:\n",
    "    print(num)"
   ],
   "outputs": [],
   "execution_count": 81
  },
  {
   "cell_type": "markdown",
   "id": "39bc0e12",
   "metadata": {},
   "source": [
    "## Comparing speed"
   ]
  },
  {
   "cell_type": "code",
   "id": "3eedf5e2",
   "metadata": {
    "ExecuteTime": {
     "end_time": "2025-06-11T20:24:16.738572Z",
     "start_time": "2025-06-11T20:24:16.737142Z"
    }
   },
   "source": [
    "from time import time"
   ],
   "outputs": [],
   "execution_count": 82
  },
  {
   "cell_type": "code",
   "id": "c704b3b5",
   "metadata": {
    "ExecuteTime": {
     "end_time": "2025-06-11T20:24:16.751974Z",
     "start_time": "2025-06-11T20:24:16.749780Z"
    }
   },
   "source": [
    "start = time()\n",
    "big_gen = (i for i in range(10**10))\n",
    "end = time()\n",
    "f'Took {round(end - start, 4)}s'"
   ],
   "outputs": [
    {
     "data": {
      "text/plain": [
       "'Took 0.0s'"
      ]
     },
     "execution_count": 83,
     "metadata": {},
     "output_type": "execute_result"
    }
   ],
   "execution_count": 83
  },
  {
   "cell_type": "code",
   "id": "e4b4e5e7",
   "metadata": {
    "ExecuteTime": {
     "end_time": "2025-06-11T20:24:19.295394Z",
     "start_time": "2025-06-11T20:24:16.768598Z"
    }
   },
   "source": [
    "start = time()\n",
    "big_list = [i for i in range(10**8)]  # Initializing can take a long time and use a lot of memory\n",
    "end = time()\n",
    "f'Took {round(end - start, 4)}s'"
   ],
   "outputs": [
    {
     "data": {
      "text/plain": [
       "'Took 2.524s'"
      ]
     },
     "execution_count": 84,
     "metadata": {},
     "output_type": "execute_result"
    }
   ],
   "execution_count": 84
  },
  {
   "cell_type": "markdown",
   "id": "1d32ad19",
   "metadata": {},
   "source": [
    "They can be used in certain functions without creating a list.\n",
    "\n",
    "`any()`, `all()`, `min()`, `max()` and `sum()` can all accept generators."
   ]
  },
  {
   "cell_type": "code",
   "id": "546033ae",
   "metadata": {
    "ExecuteTime": {
     "end_time": "2025-06-11T20:24:20.061223Z",
     "start_time": "2025-06-11T20:24:19.303764Z"
    }
   },
   "source": [
    "from random import random\n",
    "\n",
    "print(min((random() for i in range(10**7))))\n",
    "print(max((random() for i in range(10**7))))"
   ],
   "outputs": [
    {
     "name": "stdout",
     "output_type": "stream",
     "text": [
      "3.186830310752953e-08\n",
      "0.9999999929300746\n"
     ]
    }
   ],
   "execution_count": 85
  },
  {
   "cell_type": "markdown",
   "id": "3b1c15fe",
   "metadata": {},
   "source": [
    "To create a tuple, cast a generator using the `tuple()`."
   ]
  },
  {
   "cell_type": "code",
   "id": "6a96a5ac",
   "metadata": {
    "ExecuteTime": {
     "end_time": "2025-06-11T20:24:20.072782Z",
     "start_time": "2025-06-11T20:24:20.070232Z"
    }
   },
   "source": [
    "tuple(i for i in range(1, 30) if i % 3 == 0 or i % 5 == 0)"
   ],
   "outputs": [
    {
     "data": {
      "text/plain": [
       "(3, 5, 6, 9, 10, 12, 15, 18, 20, 21, 24, 25, 27)"
      ]
     },
     "execution_count": 86,
     "metadata": {},
     "output_type": "execute_result"
    }
   ],
   "execution_count": 86
  },
  {
   "cell_type": "code",
   "id": "ebeed49e",
   "metadata": {
    "ExecuteTime": {
     "end_time": "2025-06-11T20:24:20.085054Z",
     "start_time": "2025-06-11T20:24:20.083643Z"
    }
   },
   "source": [],
   "outputs": [],
   "execution_count": null
  }
 ],
 "metadata": {
  "jupytext": {
   "cell_metadata_filter": "-all",
   "formats": "auto:light,ipynb",
   "main_language": "python",
   "notebook_metadata_filter": "-all"
  },
  "kernelspec": {
   "display_name": "Python 3 (ipykernel)",
   "language": "python",
   "name": "python3"
  },
  "language_info": {
   "codemirror_mode": {
    "name": "ipython",
    "version": 3
   },
   "file_extension": ".py",
   "mimetype": "text/x-python",
   "name": "python",
   "nbconvert_exporter": "python",
   "pygments_lexer": "ipython3",
   "version": "3.11.4"
  }
 },
 "nbformat": 4,
 "nbformat_minor": 5
}
