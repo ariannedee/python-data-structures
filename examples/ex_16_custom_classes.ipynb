{
 "cells": [
  {
   "cell_type": "markdown",
   "id": "58d5cbde",
   "metadata": {},
   "source": [
    "# Creating custom classes\n",
    "Any custom class should:\n",
    "- Override the default `.__init__()`, `.__str__()` and `.__repr__()` methods\n",
    "- Use PascalCase for its name unless you have a good reason not to\n",
    "- Use the appropriate dunder methods, like `.__len__()`, instead of a custom `.get_length()` or `.length` attribute"
   ]
  },
  {
   "cell_type": "code",
   "execution_count": 1,
   "id": "58af9ed3",
   "metadata": {},
   "outputs": [],
   "source": [
    "class MyClass:\n",
    "    def __init__(self, data):\n",
    "        self.data = data\n",
    "        \n",
    "    def __len__(self):\n",
    "        if hasattr(self.data, '__len__'):  # Does self.data.__len__() exist?\n",
    "            return len(self.data)\n",
    "        return 1\n",
    "    \n",
    "    def times_2(self):\n",
    "        if hasattr(self.data, '__mul__'):\n",
    "            return self.data * 2\n",
    "        return self.data, self.data\n",
    "    \n",
    "    def __str__(self):\n",
    "        return str(self.data)\n",
    "        \n",
    "    def __repr__(self):\n",
    "        return f'MyClass({repr(self.data)})'"
   ]
  },
  {
   "cell_type": "code",
   "execution_count": 2,
   "id": "a4821eb2",
   "metadata": {
    "lines_to_end_of_cell_marker": 0,
    "lines_to_next_cell": 1
   },
   "outputs": [
    {
     "name": "stdout",
     "output_type": "stream",
     "text": [
      "[1, 2]\n",
      "[MyClass([1, 2])]\n",
      "2\n",
      "[1, 2, 1, 2]\n"
     ]
    }
   ],
   "source": [
    "data = [1, 2]       # Try different data \n",
    "\n",
    "mc = MyClass(data)  # Calls __init__\n",
    "print(mc)           # Calls __str__\n",
    "print([mc])         # Calls __repr__\n",
    "print(len(mc))      # Calls __len__\n",
    "print(mc.times_2()) # Calls __mul__"
   ]
  },
  {
   "cell_type": "markdown",
   "id": "f9775a8f",
   "metadata": {},
   "source": [
    "### Example: Custom Linked List"
   ]
  },
  {
   "cell_type": "code",
   "execution_count": 3,
   "id": "eafaf9eb",
   "metadata": {
    "lines_to_end_of_cell_marker": 0,
    "lines_to_next_cell": 1
   },
   "outputs": [],
   "source": [
    "class LinkedList:\n",
    "    def __init__(self, iterable=None):\n",
    "        self.head = None\n",
    "        if iterable:\n",
    "            for i in iterable:\n",
    "                self.append(i)\n",
    "\n",
    "    def append(self, value):\n",
    "        node = Node(value, self.head)\n",
    "        self.head = node\n",
    "\n",
    "    def pop(self):\n",
    "        if self.head:\n",
    "            node = self.head\n",
    "            self.head = self.head.next\n",
    "            return node.value\n",
    "        return None\n",
    "\n",
    "    def __iter__(self):\n",
    "        node = self.head\n",
    "        while node is not None:\n",
    "            yield node\n",
    "            node = node.next\n",
    "            \n",
    "    def __repr__(self):\n",
    "        aslist = [val for val in self]\n",
    "        return f\"LinkedList{repr(aslist)}\"\n",
    "\n",
    "\n",
    "class Node:\n",
    "    def __init__(self, value, next_node):\n",
    "        self.value = value\n",
    "        self.next = next_node\n",
    "    \n",
    "    def __repr__(self):\n",
    "        return repr(self.value)"
   ]
  },
  {
   "cell_type": "code",
   "execution_count": 4,
   "id": "140882a2",
   "metadata": {},
   "outputs": [
    {
     "data": {
      "text/plain": [
       "LinkedList['c', 'b', 'a']"
      ]
     },
     "execution_count": 4,
     "metadata": {},
     "output_type": "execute_result"
    }
   ],
   "source": [
    "ll = LinkedList('abc')\n",
    "ll"
   ]
  },
  {
   "cell_type": "code",
   "execution_count": 5,
   "id": "c7b4f822",
   "metadata": {},
   "outputs": [
    {
     "data": {
      "text/plain": [
       "LinkedList['d', 'c', 'b', 'a']"
      ]
     },
     "execution_count": 5,
     "metadata": {},
     "output_type": "execute_result"
    }
   ],
   "source": [
    "ll.append('d')\n",
    "ll"
   ]
  },
  {
   "cell_type": "code",
   "execution_count": 6,
   "id": "2378ba34",
   "metadata": {},
   "outputs": [
    {
     "data": {
      "text/plain": [
       "'d'"
      ]
     },
     "execution_count": 6,
     "metadata": {},
     "output_type": "execute_result"
    }
   ],
   "source": [
    "ll.pop()"
   ]
  },
  {
   "cell_type": "code",
   "execution_count": 7,
   "id": "e6c5a6e9",
   "metadata": {},
   "outputs": [
    {
     "data": {
      "text/plain": [
       "LinkedList['c', 'b', 'a']"
      ]
     },
     "execution_count": 7,
     "metadata": {},
     "output_type": "execute_result"
    }
   ],
   "source": [
    "ll"
   ]
  },
  {
   "cell_type": "code",
   "execution_count": 8,
   "id": "e790ca86",
   "metadata": {},
   "outputs": [
    {
     "name": "stdout",
     "output_type": "stream",
     "text": [
      "'c'\n",
      "'b'\n",
      "'a'\n"
     ]
    }
   ],
   "source": [
    "for val in ll:\n",
    "    print(val)"
   ]
  },
  {
   "cell_type": "markdown",
   "id": "345b0c42",
   "metadata": {},
   "source": [
    "## Inheriting from a class\n",
    "Say we want to be able to subtract one string for another. The `-` operator currently throws `TypeError`."
   ]
  },
  {
   "cell_type": "code",
   "execution_count": 9,
   "id": "85d4a007",
   "metadata": {},
   "outputs": [
    {
     "name": "stdout",
     "output_type": "stream",
     "text": [
      "TypeError(\"unsupported operand type(s) for -: 'str' and 'str'\")\n"
     ]
    }
   ],
   "source": [
    "try:\n",
    "    'abc' - 'b'\n",
    "except Exception as e:\n",
    "    print(repr(e))"
   ]
  },
  {
   "cell_type": "markdown",
   "id": "71d51d07",
   "metadata": {},
   "source": [
    "We can inherit from `str`, use `self` to access the string, and add/override any methods we want."
   ]
  },
  {
   "cell_type": "code",
   "execution_count": 10,
   "id": "17fe527f",
   "metadata": {},
   "outputs": [],
   "source": [
    "class mystr(str):\n",
    "    def __sub__(self, other):\n",
    "        result_list = [char for char in self if char not in other]\n",
    "        return ''.join(result_list)"
   ]
  },
  {
   "cell_type": "markdown",
   "id": "a5831511",
   "metadata": {},
   "source": [
    "To use it, wrap your string in the new class (create an instance of it)."
   ]
  },
  {
   "cell_type": "code",
   "execution_count": 11,
   "id": "1ff20a3d",
   "metadata": {},
   "outputs": [
    {
     "data": {
      "text/plain": [
       "'abc'"
      ]
     },
     "execution_count": 11,
     "metadata": {},
     "output_type": "execute_result"
    }
   ],
   "source": [
    "test = mystr('abc')\n",
    "test"
   ]
  },
  {
   "cell_type": "code",
   "execution_count": 12,
   "id": "a5a1936b",
   "metadata": {},
   "outputs": [
    {
     "data": {
      "text/plain": [
       "'ac'"
      ]
     },
     "execution_count": 12,
     "metadata": {},
     "output_type": "execute_result"
    }
   ],
   "source": [
    "test - 'b'"
   ]
  },
  {
   "cell_type": "code",
   "execution_count": 13,
   "id": "b6f67efb",
   "metadata": {},
   "outputs": [
    {
     "data": {
      "text/plain": [
       "'ABC'"
      ]
     },
     "execution_count": 13,
     "metadata": {},
     "output_type": "execute_result"
    }
   ],
   "source": [
    "test.upper()"
   ]
  },
  {
   "cell_type": "markdown",
   "id": "61cf51d6",
   "metadata": {},
   "source": [
    "## Inheriting from a collection class\n",
    "The `collections` module has `UserDict`, `UserList` and `UserString` to inherit from."
   ]
  },
  {
   "cell_type": "code",
   "execution_count": 14,
   "id": "834448e6",
   "metadata": {
    "lines_to_end_of_cell_marker": 0,
    "lines_to_next_cell": 1
   },
   "outputs": [],
   "source": [
    "from collections import UserList\n",
    "\n",
    "class MyList(UserList):\n",
    "    def upper(self):\n",
    "        new_data = []\n",
    "        for val in self.data:\n",
    "            if isinstance(val, str):\n",
    "                new_data.append(val.upper())\n",
    "            else:\n",
    "                new_data.append(val)\n",
    "        return MyList(new_data)"
   ]
  },
  {
   "cell_type": "code",
   "execution_count": 15,
   "id": "3b30f1fd",
   "metadata": {},
   "outputs": [
    {
     "data": {
      "text/plain": [
       "MyList([1, 'a', 2, 'b'])"
      ]
     },
     "execution_count": 15,
     "metadata": {},
     "output_type": "execute_result"
    }
   ],
   "source": [
    "l = MyList([1, 'a', 2, 'b'])\n",
    "l"
   ]
  },
  {
   "cell_type": "code",
   "execution_count": 16,
   "id": "786221d8",
   "metadata": {},
   "outputs": [
    {
     "data": {
      "text/plain": [
       "MyList([1, 'A', 2, 'B'])"
      ]
     },
     "execution_count": 16,
     "metadata": {},
     "output_type": "execute_result"
    }
   ],
   "source": [
    "l.upper()"
   ]
  },
  {
   "cell_type": "code",
   "execution_count": 17,
   "id": "096ec1d5",
   "metadata": {},
   "outputs": [
    {
     "data": {
      "text/plain": [
       "'a'"
      ]
     },
     "execution_count": 17,
     "metadata": {},
     "output_type": "execute_result"
    }
   ],
   "source": [
    "l[1]"
   ]
  },
  {
   "cell_type": "markdown",
   "id": "24d28910-e51d-4176-977b-bc0e7370c6c2",
   "metadata": {},
   "source": [
    "## Dataclasses\n",
    "\n",
    "You can use these for quick class creation that mostly stores data.\n",
    "\n",
    "Instead of defining instance attributes in `__init__()`, you define them on a class and provide the type."
   ]
  },
  {
   "cell_type": "code",
   "execution_count": 18,
   "id": "3a2b9eb3-7f72-4486-a4ad-d5dc5717bf9c",
   "metadata": {},
   "outputs": [],
   "source": [
    "from dataclasses import dataclass\n",
    "\n",
    "@dataclass\n",
    "class Location:\n",
    "    name: str\n",
    "    latitude: float\n",
    "    longitude: float"
   ]
  },
  {
   "cell_type": "code",
   "execution_count": 19,
   "id": "d115e1ba-ed5b-465c-b39c-7870e4572067",
   "metadata": {},
   "outputs": [
    {
     "data": {
      "text/plain": [
       "'London'"
      ]
     },
     "execution_count": 19,
     "metadata": {},
     "output_type": "execute_result"
    }
   ],
   "source": [
    "london = Location('London', 42.99, -81.243)\n",
    "london.name"
   ]
  },
  {
   "cell_type": "code",
   "execution_count": 20,
   "id": "34e56858-7b98-4d14-abe7-44c5cb674e24",
   "metadata": {},
   "outputs": [
    {
     "data": {
      "text/plain": [
       "42.99"
      ]
     },
     "execution_count": 20,
     "metadata": {},
     "output_type": "execute_result"
    }
   ],
   "source": [
    "london.latitude"
   ]
  },
  {
   "cell_type": "code",
   "execution_count": 21,
   "id": "acb00994-e146-40e5-a8df-b65a0c086e9e",
   "metadata": {},
   "outputs": [
    {
     "data": {
      "text/plain": [
       "-81.243"
      ]
     },
     "execution_count": 21,
     "metadata": {},
     "output_type": "execute_result"
    }
   ],
   "source": [
    "london.longitude"
   ]
  },
  {
   "cell_type": "markdown",
   "id": "2ce9a200-cf89-4721-8b4d-de9615e0c2a0",
   "metadata": {},
   "source": [
    "Dataclasses provide some default behaviour for `__str__()`, `__repr__()` and `__eq__()`."
   ]
  },
  {
   "cell_type": "code",
   "execution_count": 22,
   "id": "4a621ef9-16c1-456a-916d-52cda9c9b0a6",
   "metadata": {},
   "outputs": [
    {
     "data": {
      "text/plain": [
       "Location(name='London', latitude=42.99, longitude=-81.243)"
      ]
     },
     "execution_count": 22,
     "metadata": {},
     "output_type": "execute_result"
    }
   ],
   "source": [
    "london"
   ]
  },
  {
   "cell_type": "code",
   "execution_count": 23,
   "id": "da8c93d1-2a74-437b-bbe0-31b0d3eabbbb",
   "metadata": {},
   "outputs": [
    {
     "name": "stdout",
     "output_type": "stream",
     "text": [
      "Location(name='London', latitude=42.99, longitude=-81.243)\n"
     ]
    }
   ],
   "source": [
    "print(london)"
   ]
  },
  {
   "cell_type": "code",
   "execution_count": 24,
   "id": "41fec277-835e-44db-9226-87b5aada662c",
   "metadata": {},
   "outputs": [
    {
     "data": {
      "text/plain": [
       "True"
      ]
     },
     "execution_count": 24,
     "metadata": {},
     "output_type": "execute_result"
    }
   ],
   "source": [
    "london == Location('London', 42.99, -81.243)"
   ]
  }
 ],
 "metadata": {
  "jupytext": {
   "cell_metadata_filter": "-all",
   "formats": "auto:light,ipynb",
   "main_language": "python",
   "notebook_metadata_filter": "-all"
  },
  "kernelspec": {
   "display_name": "Python 3 (ipykernel)",
   "language": "python",
   "name": "python3"
  },
  "language_info": {
   "codemirror_mode": {
    "name": "ipython",
    "version": 3
   },
   "file_extension": ".py",
   "mimetype": "text/x-python",
   "name": "python",
   "nbconvert_exporter": "python",
   "pygments_lexer": "ipython3",
   "version": "3.11.4"
  }
 },
 "nbformat": 4,
 "nbformat_minor": 5
}
